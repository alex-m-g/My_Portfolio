{
 "cells": [
  {
   "cell_type": "markdown",
   "metadata": {},
   "source": [
    "## Loading the data"
   ]
  },
  {
   "cell_type": "markdown",
   "metadata": {},
   "source": [
    "The data came from https://www.ncbi.nlm.nih.gov/geo/query/acc.cgi?acc=GSE171524 --> GSE171524_RAW.tar file"
   ]
  },
  {
   "cell_type": "code",
   "execution_count": 2,
   "metadata": {},
   "outputs": [
    {
     "name": "stdout",
     "output_type": "stream",
     "text": [
      "   Unnamed: 0  TAGGTACCATGGCCAC-1_1  ATTCACTGTAACAGGC-1_1  \\\n",
      "0  AL627309.1                     0                     0   \n",
      "1  AL627309.5                     0                     0   \n",
      "2  AL627309.4                     0                     0   \n",
      "3  AL669831.2                     0                     0   \n",
      "4   LINC01409                     1                     0   \n",
      "\n",
      "   TAACTTCCAACCACGC-1_1  TTGGGTACACGACAAG-1_1  AGGCCACAGAGTCACG-1_1  \\\n",
      "0                     0                     0                     0   \n",
      "1                     0                     0                     0   \n",
      "2                     0                     0                     0   \n",
      "3                     0                     0                     0   \n",
      "4                     2                     0                     0   \n",
      "\n",
      "   CACTGAAGTCGAAGCA-1_1  ACTGATGTCTGCACCT-1_1  TTACCGCCACTCAGAT-1_1  \\\n",
      "0                     0                     0                     0   \n",
      "1                     0                     0                     1   \n",
      "2                     0                     0                     0   \n",
      "3                     0                     0                     0   \n",
      "4                     1                     0                     1   \n",
      "\n",
      "   TTGGTTTTCCTAGCTC-1_1  ...  AAGTCGTGTGTGAATA-1_1  GTCGTTCTCCAAGGGA-1_1  \\\n",
      "0                     0  ...                     0                     0   \n",
      "1                     0  ...                     0                     0   \n",
      "2                     0  ...                     0                     0   \n",
      "3                     0  ...                     0                     0   \n",
      "4                     0  ...                     0                     0   \n",
      "\n",
      "   GTTTGGATCGGCCTTT-1_1  GTACAGTCACGTATAC-1_1  TCATGCCCAAGAGGTC-1_1  \\\n",
      "0                     0                     0                     0   \n",
      "1                     0                     0                     0   \n",
      "2                     0                     0                     0   \n",
      "3                     0                     0                     0   \n",
      "4                     0                     0                     0   \n",
      "\n",
      "   CGCCATTGTTTGCCGG-1_1  CACTGGGGTCTACGTA-1_1  CATACTTGTAGAGGAA-1_1  \\\n",
      "0                     0                     0                     0   \n",
      "1                     0                     0                     0   \n",
      "2                     0                     0                     0   \n",
      "3                     0                     0                     0   \n",
      "4                     0                     0                     0   \n",
      "\n",
      "   TTTGGTTTCCACGGAC-1_1  ATGCATGAGTCATGAA-1_1  \n",
      "0                     0                     0  \n",
      "1                     0                     0  \n",
      "2                     0                     0  \n",
      "3                     0                     0  \n",
      "4                     0                     0  \n",
      "\n",
      "[5 rows x 6100 columns]\n"
     ]
    }
   ],
   "source": [
    "import pandas as pd\n",
    "\n",
    "file_path = r\"GSM5226574_C51ctr_raw_counts.csv.gz\"\n",
    "\n",
    "# Read the compressed CSV file\n",
    "df = pd.read_csv(file_path, compression='gzip')\n",
    "\n",
    "# Display the first few rows of the DataFrame\n",
    "print(df.head())  # This will take 55 sec to load"
   ]
  },
  {
   "cell_type": "code",
   "execution_count": 3,
   "metadata": {},
   "outputs": [
    {
     "name": "stdout",
     "output_type": "stream",
     "text": [
      "Requirement already satisfied: scanpy in c:\\users\\agarc\\anaconda3\\envs\\bioenv\\lib\\site-packages (1.10.2)\n",
      "Requirement already satisfied: anndata>=0.8 in c:\\users\\agarc\\anaconda3\\envs\\bioenv\\lib\\site-packages (from scanpy) (0.10.8)\n",
      "Requirement already satisfied: h5py>=3.1 in c:\\users\\agarc\\anaconda3\\envs\\bioenv\\lib\\site-packages (from scanpy) (3.11.0)\n",
      "Requirement already satisfied: joblib in c:\\users\\agarc\\anaconda3\\envs\\bioenv\\lib\\site-packages (from scanpy) (1.4.2)\n",
      "Requirement already satisfied: legacy-api-wrap>=1.4 in c:\\users\\agarc\\anaconda3\\envs\\bioenv\\lib\\site-packages (from scanpy) (1.4)\n",
      "Requirement already satisfied: matplotlib>=3.6 in c:\\users\\agarc\\anaconda3\\envs\\bioenv\\lib\\site-packages (from scanpy) (3.9.2)\n",
      "Requirement already satisfied: natsort in c:\\users\\agarc\\anaconda3\\envs\\bioenv\\lib\\site-packages (from scanpy) (8.4.0)\n",
      "Requirement already satisfied: networkx>=2.7 in c:\\users\\agarc\\anaconda3\\envs\\bioenv\\lib\\site-packages (from scanpy) (3.3)\n",
      "Requirement already satisfied: numba>=0.56 in c:\\users\\agarc\\anaconda3\\envs\\bioenv\\lib\\site-packages (from scanpy) (0.60.0)\n",
      "Requirement already satisfied: numpy<2,>=1.23 in c:\\users\\agarc\\anaconda3\\envs\\bioenv\\lib\\site-packages (from scanpy) (1.26.4)\n",
      "Requirement already satisfied: packaging>=21.3 in c:\\users\\agarc\\anaconda3\\envs\\bioenv\\lib\\site-packages (from scanpy) (24.1)\n",
      "Requirement already satisfied: pandas>=1.5 in c:\\users\\agarc\\anaconda3\\envs\\bioenv\\lib\\site-packages (from scanpy) (2.2.2)\n",
      "Requirement already satisfied: patsy in c:\\users\\agarc\\anaconda3\\envs\\bioenv\\lib\\site-packages (from scanpy) (0.5.6)\n",
      "Requirement already satisfied: pynndescent>=0.5 in c:\\users\\agarc\\anaconda3\\envs\\bioenv\\lib\\site-packages (from scanpy) (0.5.13)\n",
      "Requirement already satisfied: scikit-learn>=0.24 in c:\\users\\agarc\\anaconda3\\envs\\bioenv\\lib\\site-packages (from scanpy) (1.5.1)\n",
      "Requirement already satisfied: scipy>=1.8 in c:\\users\\agarc\\anaconda3\\envs\\bioenv\\lib\\site-packages (from scanpy) (1.14.0)\n",
      "Requirement already satisfied: seaborn>=0.13 in c:\\users\\agarc\\anaconda3\\envs\\bioenv\\lib\\site-packages (from scanpy) (0.13.2)\n",
      "Requirement already satisfied: session-info in c:\\users\\agarc\\anaconda3\\envs\\bioenv\\lib\\site-packages (from scanpy) (1.0.0)\n",
      "Requirement already satisfied: statsmodels>=0.13 in c:\\users\\agarc\\anaconda3\\envs\\bioenv\\lib\\site-packages (from scanpy) (0.14.2)\n",
      "Requirement already satisfied: tqdm in c:\\users\\agarc\\anaconda3\\envs\\bioenv\\lib\\site-packages (from scanpy) (4.66.5)\n",
      "Requirement already satisfied: umap-learn!=0.5.0,>=0.5 in c:\\users\\agarc\\anaconda3\\envs\\bioenv\\lib\\site-packages (from scanpy) (0.5.6)\n",
      "Requirement already satisfied: array-api-compat!=1.5,>1.4 in c:\\users\\agarc\\anaconda3\\envs\\bioenv\\lib\\site-packages (from anndata>=0.8->scanpy) (1.8)\n",
      "Requirement already satisfied: contourpy>=1.0.1 in c:\\users\\agarc\\anaconda3\\envs\\bioenv\\lib\\site-packages (from matplotlib>=3.6->scanpy) (1.2.1)\n",
      "Requirement already satisfied: cycler>=0.10 in c:\\users\\agarc\\anaconda3\\envs\\bioenv\\lib\\site-packages (from matplotlib>=3.6->scanpy) (0.12.1)\n",
      "Requirement already satisfied: fonttools>=4.22.0 in c:\\users\\agarc\\anaconda3\\envs\\bioenv\\lib\\site-packages (from matplotlib>=3.6->scanpy) (4.53.1)\n",
      "Requirement already satisfied: kiwisolver>=1.3.1 in c:\\users\\agarc\\anaconda3\\envs\\bioenv\\lib\\site-packages (from matplotlib>=3.6->scanpy) (1.4.5)\n",
      "Requirement already satisfied: pillow>=8 in c:\\users\\agarc\\anaconda3\\envs\\bioenv\\lib\\site-packages (from matplotlib>=3.6->scanpy) (10.4.0)\n",
      "Requirement already satisfied: pyparsing>=2.3.1 in c:\\users\\agarc\\anaconda3\\envs\\bioenv\\lib\\site-packages (from matplotlib>=3.6->scanpy) (3.1.2)\n",
      "Requirement already satisfied: python-dateutil>=2.7 in c:\\users\\agarc\\anaconda3\\envs\\bioenv\\lib\\site-packages (from matplotlib>=3.6->scanpy) (2.9.0)\n",
      "Requirement already satisfied: llvmlite<0.44,>=0.43.0dev0 in c:\\users\\agarc\\anaconda3\\envs\\bioenv\\lib\\site-packages (from numba>=0.56->scanpy) (0.43.0)\n",
      "Requirement already satisfied: pytz>=2020.1 in c:\\users\\agarc\\anaconda3\\envs\\bioenv\\lib\\site-packages (from pandas>=1.5->scanpy) (2024.1)\n",
      "Requirement already satisfied: tzdata>=2022.7 in c:\\users\\agarc\\anaconda3\\envs\\bioenv\\lib\\site-packages (from pandas>=1.5->scanpy) (2024.1)\n",
      "Requirement already satisfied: threadpoolctl>=3.1.0 in c:\\users\\agarc\\anaconda3\\envs\\bioenv\\lib\\site-packages (from scikit-learn>=0.24->scanpy) (3.5.0)\n",
      "Requirement already satisfied: six in c:\\users\\agarc\\anaconda3\\envs\\bioenv\\lib\\site-packages (from patsy->scanpy) (1.16.0)\n",
      "Requirement already satisfied: stdlib-list in c:\\users\\agarc\\anaconda3\\envs\\bioenv\\lib\\site-packages (from session-info->scanpy) (0.10.0)\n",
      "Requirement already satisfied: colorama in c:\\users\\agarc\\anaconda3\\envs\\bioenv\\lib\\site-packages (from tqdm->scanpy) (0.4.6)\n"
     ]
    }
   ],
   "source": [
    "!pip install scanpy"
   ]
  },
  {
   "cell_type": "code",
   "execution_count": 4,
   "metadata": {},
   "outputs": [
    {
     "name": "stdout",
     "output_type": "stream",
     "text": [
      "AnnData object with n_obs × n_vars = 6099 × 34546\n"
     ]
    }
   ],
   "source": [
    "import scanpy as sc\n",
    "\n",
    "file_path = r\"GSM5226574_C51ctr_raw_counts.csv.gz\"\n",
    "\n",
    "# Read the compressed CSV file into an AnnData object\n",
    "adata = sc.read_csv(file_path)\n",
    "\n",
    "# Transpose the data to have cells as rows and genes as columns\n",
    "adata = adata.T\n",
    "\n",
    "# Display the contents of the AnnData object\n",
    "print(adata)  # This will take about 60 sec to load"
   ]
  },
  {
   "cell_type": "code",
   "execution_count": 5,
   "metadata": {},
   "outputs": [
    {
     "data": {
      "text/html": [
       "<div>\n",
       "<style scoped>\n",
       "    .dataframe tbody tr th:only-of-type {\n",
       "        vertical-align: middle;\n",
       "    }\n",
       "\n",
       "    .dataframe tbody tr th {\n",
       "        vertical-align: top;\n",
       "    }\n",
       "\n",
       "    .dataframe thead th {\n",
       "        text-align: right;\n",
       "    }\n",
       "</style>\n",
       "<table border=\"1\" class=\"dataframe\">\n",
       "  <thead>\n",
       "    <tr style=\"text-align: right;\">\n",
       "      <th></th>\n",
       "    </tr>\n",
       "  </thead>\n",
       "  <tbody>\n",
       "    <tr>\n",
       "      <th>TAGGTACCATGGCCAC-1_1</th>\n",
       "    </tr>\n",
       "    <tr>\n",
       "      <th>ATTCACTGTAACAGGC-1_1</th>\n",
       "    </tr>\n",
       "    <tr>\n",
       "      <th>TAACTTCCAACCACGC-1_1</th>\n",
       "    </tr>\n",
       "    <tr>\n",
       "      <th>TTGGGTACACGACAAG-1_1</th>\n",
       "    </tr>\n",
       "    <tr>\n",
       "      <th>AGGCCACAGAGTCACG-1_1</th>\n",
       "    </tr>\n",
       "    <tr>\n",
       "      <th>...</th>\n",
       "    </tr>\n",
       "    <tr>\n",
       "      <th>CGCCATTGTTTGCCGG-1_1</th>\n",
       "    </tr>\n",
       "    <tr>\n",
       "      <th>CACTGGGGTCTACGTA-1_1</th>\n",
       "    </tr>\n",
       "    <tr>\n",
       "      <th>CATACTTGTAGAGGAA-1_1</th>\n",
       "    </tr>\n",
       "    <tr>\n",
       "      <th>TTTGGTTTCCACGGAC-1_1</th>\n",
       "    </tr>\n",
       "    <tr>\n",
       "      <th>ATGCATGAGTCATGAA-1_1</th>\n",
       "    </tr>\n",
       "  </tbody>\n",
       "</table>\n",
       "<p>6099 rows × 0 columns</p>\n",
       "</div>"
      ],
      "text/plain": [
       "Empty DataFrame\n",
       "Columns: []\n",
       "Index: [TAGGTACCATGGCCAC-1_1, ATTCACTGTAACAGGC-1_1, TAACTTCCAACCACGC-1_1, TTGGGTACACGACAAG-1_1, AGGCCACAGAGTCACG-1_1, CACTGAAGTCGAAGCA-1_1, ACTGATGTCTGCACCT-1_1, TTACCGCCACTCAGAT-1_1, TTGGTTTTCCTAGCTC-1_1, TGGGAAGTCAGTGATC-1_1, CCACGAGTCTCTTAAC-1_1, ACTTCCGCACAACGCC-1_1, GGGAAGTAGCGACCCT-1_1, TGGTAGTTCCCGTGTT-1_1, CGCATAACATGCCGGT-1_1, TCTATCACAAGGCTTT-1_1, ATCCACCAGAGGTATT-1_1, TAACGACAGATGACCG-1_1, TCTTAGTGTATGAGGC-1_1, CACTTCGCAGTACTAC-1_1, GTCAAACAGAACGTGC-1_1, GCAACCGAGGGCAGGA-1_1, CATACTTTCATCACTT-1_1, AAGAACATCGGATTAC-1_1, GGGTATTGTACGATGG-1_1, CTGTAGATCAACGTGT-1_1, GTCATTTGTATCTCGA-1_1, CCTTGTGCAGAGGGTT-1_1, AAGTTCGCAACACGTT-1_1, TCATTCACAAATCAAG-1_1, TCCATGCCAACGACTT-1_1, TCCTTCTCAGTTTCAG-1_1, TGTGAGTCAAATGATG-1_1, AAACGAAGTACAGAGC-1_1, CAACCAAAGTATTCCG-1_1, CTTCTCTCAGAGACTG-1_1, TACAACGGTGGCTGAA-1_1, AACGGGACATGCCGGT-1_1, AACCAACGTTGGGAAC-1_1, TATATCCAGCGTCAGA-1_1, AGACAAACATCCCGTT-1_1, ATGACCAGTCTTCATT-1_1, CTTACCGTCAGACATC-1_1, CGGGACTGTTAGTTCG-1_1, ATTCATCCACTGAGTT-1_1, TCATGAGAGAGGCGGA-1_1, TCCCACATCTAGTACG-1_1, CTTCCTTCATATCTCT-1_1, CCGGACACACTCGATA-1_1, ACACGCGCACCTGTCT-1_1, GAATCGTCAGAAGTGC-1_1, GGTGGCTCAAGCTCTA-1_1, CCTGCATCACATATGC-1_1, GTGGGAAGTTAAAGTG-1_1, CGTTCTGGTACTAGCT-1_1, ACCCTCACAATAGTCC-1_1, GCCCGAACAAACTAAG-1_1, GTGGAAGCACATGACT-1_1, GTTGTGACATCGATAC-1_1, GACAGCCCAGGTCCGT-1_1, TAAGCACGTTGGCTAT-1_1, GGGACAAGTCACCACG-1_1, CTGGCAGGTTCGGTAT-1_1, GACTCAACACTGTGAT-1_1, GCCAGTGGTGTGGTCC-1_1, TCTAACTGTAGGCAGT-1_1, GAAGAATGTAGCTTGT-1_1, TCACTCGCAATCTCTT-1_1, CAAGACTTCCCACAGG-1_1, CAGATACGTGACTCTA-1_1, TGGGATTAGAGGGTCT-1_1, ACCTGAACACTCCTTG-1_1, GACACGCCACTCGATA-1_1, CTCATCGTCACCGCTT-1_1, AGGTAGGGTCCCTGTT-1_1, TACCCGTCAACACTAC-1_1, TGCTGAAAGACGGATC-1_1, ACACCAACACAACGCC-1_1, AAGATAGCAAATGGAT-1_1, CTTCAATGTGACAGGT-1_1, GAAGCGAAGAGTTGAT-1_1, GCCGTGACACAAGCCC-1_1, CCTCAACCATACAGGG-1_1, ACAAAGATCCACAGGC-1_1, CAGATACAGTCCCAGC-1_1, GGCAGTCTCCGGTTCT-1_1, TAAGTCGAGCTGAGCA-1_1, GAGACCCGTCTGTGCG-1_1, TAACACGCATGTGTCA-1_1, TCAATTCGTTCTCGCT-1_1, GCTTTCGCACAGTGTT-1_1, AACCAACAGATAACAC-1_1, ATCGGCGCACATCATG-1_1, TCATCCGCACGAGGAT-1_1, CTGATCCTCTTTACAC-1_1, TCACACCCAACTTCTT-1_1, TGAGGGACACCGTACG-1_1, GTGCACGTCATCTGTT-1_1, GGTAATCAGTTGCATC-1_1, ATACTTCCAAGGTCTT-1_1, ...]\n",
       "\n",
       "[6099 rows x 0 columns]"
      ]
     },
     "execution_count": 5,
     "metadata": {},
     "output_type": "execute_result"
    }
   ],
   "source": [
    "# Cell Barcodes\n",
    "adata.obs"
   ]
  },
  {
   "cell_type": "code",
   "execution_count": 6,
   "metadata": {},
   "outputs": [
    {
     "data": {
      "text/html": [
       "<div>\n",
       "<style scoped>\n",
       "    .dataframe tbody tr th:only-of-type {\n",
       "        vertical-align: middle;\n",
       "    }\n",
       "\n",
       "    .dataframe tbody tr th {\n",
       "        vertical-align: top;\n",
       "    }\n",
       "\n",
       "    .dataframe thead th {\n",
       "        text-align: right;\n",
       "    }\n",
       "</style>\n",
       "<table border=\"1\" class=\"dataframe\">\n",
       "  <thead>\n",
       "    <tr style=\"text-align: right;\">\n",
       "      <th></th>\n",
       "    </tr>\n",
       "  </thead>\n",
       "  <tbody>\n",
       "    <tr>\n",
       "      <th>AL627309.1</th>\n",
       "    </tr>\n",
       "    <tr>\n",
       "      <th>AL627309.5</th>\n",
       "    </tr>\n",
       "    <tr>\n",
       "      <th>AL627309.4</th>\n",
       "    </tr>\n",
       "    <tr>\n",
       "      <th>AL669831.2</th>\n",
       "    </tr>\n",
       "    <tr>\n",
       "      <th>LINC01409</th>\n",
       "    </tr>\n",
       "    <tr>\n",
       "      <th>...</th>\n",
       "    </tr>\n",
       "    <tr>\n",
       "      <th>VN1R2</th>\n",
       "    </tr>\n",
       "    <tr>\n",
       "      <th>AL031676.1</th>\n",
       "    </tr>\n",
       "    <tr>\n",
       "      <th>SMIM34A</th>\n",
       "    </tr>\n",
       "    <tr>\n",
       "      <th>AL050402.1</th>\n",
       "    </tr>\n",
       "    <tr>\n",
       "      <th>AL445072.1</th>\n",
       "    </tr>\n",
       "  </tbody>\n",
       "</table>\n",
       "<p>34546 rows × 0 columns</p>\n",
       "</div>"
      ],
      "text/plain": [
       "Empty DataFrame\n",
       "Columns: []\n",
       "Index: [AL627309.1, AL627309.5, AL627309.4, AL669831.2, LINC01409, FAM87B, LINC01128, LINC00115, FAM41C, AL645608.6, AL645608.2, LINC02593, SAMD11, NOC2L, KLHL17, PLEKHN1, PERM1, AL645608.7, HES4, ISG15, AL645608.1, AGRN, C1orf159, AL390719.3, LINC01342, AL390719.2, TTLL10-AS1, TTLL10, TNFRSF18, TNFRSF4, SDF4, B3GALT6, C1QTNF12, UBE2J2, LINC01786, SCNN1D, ACAP3, PUSL1, INTS11, AL139287.1, CPTP, DVL1, MXRA8, AURKAIP1, CCNL2, MRPL20-AS1, MRPL20, AL391244.2, ANKRD65, AL391244.1, LINC01770, VWA1, ATAD3C, ATAD3B, ATAD3A, TMEM240, SSU72, AL645728.1, FNDC10, AL691432.4, AL691432.2, MIB2, MMP23B, CDK11B, FO704657.1, SLC35E2B, CDK11A, SLC35E2A, NADK, GNB1, AL109917.1, CALML6, TMEM52, CFAP74, GABRD, AL391845.1, PRKCZ, AL590822.2, PRKCZ-AS1, FAAP20, AL590822.1, SKI, AL590822.3, MORN1, AL589739.1, AL513477.2, RER1, PEX10, PLCH2, AL139246.4, PANK4, HES5, AL139246.5, TNFRSF14-AS1, TNFRSF14, AL139246.3, PRXL2B, MMEL1, TTC34, AC242022.2, ...]\n",
       "\n",
       "[34546 rows x 0 columns]"
      ]
     },
     "execution_count": 6,
     "metadata": {},
     "output_type": "execute_result"
    }
   ],
   "source": [
    "# genes\n",
    "adata.var"
   ]
  },
  {
   "cell_type": "code",
   "execution_count": 7,
   "metadata": {},
   "outputs": [
    {
     "data": {
      "text/plain": [
       "(6099, 34546)"
      ]
     },
     "execution_count": 7,
     "metadata": {},
     "output_type": "execute_result"
    }
   ],
   "source": [
    "adata.X.shape # Number of cells by the number of genes"
   ]
  },
  {
   "cell_type": "markdown",
   "metadata": {},
   "source": [
    "## Doublet Removal"
   ]
  },
  {
   "cell_type": "markdown",
   "metadata": {},
   "source": [
    "When you are making single cell libaries, somteimes two or more cells can end up in the same drop."
   ]
  },
  {
   "cell_type": "code",
   "execution_count": 8,
   "metadata": {},
   "outputs": [
    {
     "name": "stdout",
     "output_type": "stream",
     "text": [
      "Requirement already satisfied: scvi-tools in c:\\users\\agarc\\anaconda3\\envs\\bioenv\\lib\\site-packages (1.1.5)\n",
      "Requirement already satisfied: anndata>=0.7.5 in c:\\users\\agarc\\anaconda3\\envs\\bioenv\\lib\\site-packages (from scvi-tools) (0.10.8)\n",
      "Requirement already satisfied: docrep>=0.3.2 in c:\\users\\agarc\\anaconda3\\envs\\bioenv\\lib\\site-packages (from scvi-tools) (0.3.2)\n",
      "Requirement already satisfied: flax in c:\\users\\agarc\\anaconda3\\envs\\bioenv\\lib\\site-packages (from scvi-tools) (0.8.5)\n",
      "Requirement already satisfied: h5py>=2.9.0 in c:\\users\\agarc\\anaconda3\\envs\\bioenv\\lib\\site-packages (from scvi-tools) (3.11.0)\n",
      "Requirement already satisfied: jax>=0.4.4 in c:\\users\\agarc\\anaconda3\\envs\\bioenv\\lib\\site-packages (from scvi-tools) (0.4.31)\n",
      "Requirement already satisfied: jaxlib>=0.4.3 in c:\\users\\agarc\\anaconda3\\envs\\bioenv\\lib\\site-packages (from scvi-tools) (0.4.31)\n",
      "Requirement already satisfied: lightning<2.2,>=2.0 in c:\\users\\agarc\\anaconda3\\envs\\bioenv\\lib\\site-packages (from scvi-tools) (2.1.4)\n",
      "Requirement already satisfied: ml-collections>=0.1.1 in c:\\users\\agarc\\anaconda3\\envs\\bioenv\\lib\\site-packages (from scvi-tools) (0.1.1)\n",
      "Requirement already satisfied: mudata>=0.1.2 in c:\\users\\agarc\\anaconda3\\envs\\bioenv\\lib\\site-packages (from scvi-tools) (0.3.0)\n",
      "Requirement already satisfied: numpy<2.0,>=1.21.0 in c:\\users\\agarc\\anaconda3\\envs\\bioenv\\lib\\site-packages (from scvi-tools) (1.26.4)\n",
      "Requirement already satisfied: numpyro>=0.12.1 in c:\\users\\agarc\\anaconda3\\envs\\bioenv\\lib\\site-packages (from scvi-tools) (0.15.2)\n",
      "Requirement already satisfied: optax in c:\\users\\agarc\\anaconda3\\envs\\bioenv\\lib\\site-packages (from scvi-tools) (0.2.3)\n",
      "Requirement already satisfied: pandas>=1.0 in c:\\users\\agarc\\anaconda3\\envs\\bioenv\\lib\\site-packages (from scvi-tools) (2.2.2)\n",
      "Requirement already satisfied: pyro-ppl>=1.6.0 in c:\\users\\agarc\\anaconda3\\envs\\bioenv\\lib\\site-packages (from scvi-tools) (1.9.1)\n",
      "Requirement already satisfied: rich>=12.0.0 in c:\\users\\agarc\\anaconda3\\envs\\bioenv\\lib\\site-packages (from scvi-tools) (13.7.1)\n",
      "Requirement already satisfied: scikit-learn>=0.21.2 in c:\\users\\agarc\\anaconda3\\envs\\bioenv\\lib\\site-packages (from scvi-tools) (1.5.1)\n",
      "Requirement already satisfied: scipy in c:\\users\\agarc\\anaconda3\\envs\\bioenv\\lib\\site-packages (from scvi-tools) (1.14.0)\n",
      "Requirement already satisfied: torch>=1.8.0 in c:\\users\\agarc\\anaconda3\\envs\\bioenv\\lib\\site-packages (from scvi-tools) (2.4.0)\n",
      "Requirement already satisfied: torchmetrics>=0.11.0 in c:\\users\\agarc\\anaconda3\\envs\\bioenv\\lib\\site-packages (from scvi-tools) (1.4.1)\n",
      "Requirement already satisfied: tqdm>=4.56.0 in c:\\users\\agarc\\anaconda3\\envs\\bioenv\\lib\\site-packages (from scvi-tools) (4.66.5)\n",
      "Requirement already satisfied: array-api-compat!=1.5,>1.4 in c:\\users\\agarc\\anaconda3\\envs\\bioenv\\lib\\site-packages (from anndata>=0.7.5->scvi-tools) (1.8)\n",
      "Requirement already satisfied: natsort in c:\\users\\agarc\\anaconda3\\envs\\bioenv\\lib\\site-packages (from anndata>=0.7.5->scvi-tools) (8.4.0)\n",
      "Requirement already satisfied: packaging>=20.0 in c:\\users\\agarc\\anaconda3\\envs\\bioenv\\lib\\site-packages (from anndata>=0.7.5->scvi-tools) (24.1)\n",
      "Requirement already satisfied: six in c:\\users\\agarc\\anaconda3\\envs\\bioenv\\lib\\site-packages (from docrep>=0.3.2->scvi-tools) (1.16.0)\n",
      "Requirement already satisfied: ml-dtypes>=0.2.0 in c:\\users\\agarc\\anaconda3\\envs\\bioenv\\lib\\site-packages (from jax>=0.4.4->scvi-tools) (0.4.0)\n",
      "Requirement already satisfied: opt-einsum in c:\\users\\agarc\\anaconda3\\envs\\bioenv\\lib\\site-packages (from jax>=0.4.4->scvi-tools) (3.3.0)\n",
      "Requirement already satisfied: PyYAML<8.0,>=5.4 in c:\\users\\agarc\\anaconda3\\envs\\bioenv\\lib\\site-packages (from lightning<2.2,>=2.0->scvi-tools) (6.0.2)\n",
      "Requirement already satisfied: fsspec<2025.0,>=2022.5.0 in c:\\users\\agarc\\anaconda3\\envs\\bioenv\\lib\\site-packages (from fsspec[http]<2025.0,>=2022.5.0->lightning<2.2,>=2.0->scvi-tools) (2024.6.1)\n",
      "Requirement already satisfied: lightning-utilities<2.0,>=0.8.0 in c:\\users\\agarc\\anaconda3\\envs\\bioenv\\lib\\site-packages (from lightning<2.2,>=2.0->scvi-tools) (0.11.6)\n",
      "Requirement already satisfied: typing-extensions<6.0,>=4.0.0 in c:\\users\\agarc\\anaconda3\\envs\\bioenv\\lib\\site-packages (from lightning<2.2,>=2.0->scvi-tools) (4.12.2)\n",
      "Requirement already satisfied: pytorch-lightning in c:\\users\\agarc\\anaconda3\\envs\\bioenv\\lib\\site-packages (from lightning<2.2,>=2.0->scvi-tools) (2.4.0)\n",
      "Requirement already satisfied: absl-py in c:\\users\\agarc\\anaconda3\\envs\\bioenv\\lib\\site-packages (from ml-collections>=0.1.1->scvi-tools) (2.1.0)\n",
      "Requirement already satisfied: contextlib2 in c:\\users\\agarc\\anaconda3\\envs\\bioenv\\lib\\site-packages (from ml-collections>=0.1.1->scvi-tools) (21.6.0)\n",
      "Requirement already satisfied: multipledispatch in c:\\users\\agarc\\anaconda3\\envs\\bioenv\\lib\\site-packages (from numpyro>=0.12.1->scvi-tools) (1.0.0)\n",
      "Requirement already satisfied: python-dateutil>=2.8.2 in c:\\users\\agarc\\anaconda3\\envs\\bioenv\\lib\\site-packages (from pandas>=1.0->scvi-tools) (2.9.0)\n",
      "Requirement already satisfied: pytz>=2020.1 in c:\\users\\agarc\\anaconda3\\envs\\bioenv\\lib\\site-packages (from pandas>=1.0->scvi-tools) (2024.1)\n",
      "Requirement already satisfied: tzdata>=2022.7 in c:\\users\\agarc\\anaconda3\\envs\\bioenv\\lib\\site-packages (from pandas>=1.0->scvi-tools) (2024.1)\n",
      "Requirement already satisfied: pyro-api>=0.1.1 in c:\\users\\agarc\\anaconda3\\envs\\bioenv\\lib\\site-packages (from pyro-ppl>=1.6.0->scvi-tools) (0.1.2)\n",
      "Requirement already satisfied: markdown-it-py>=2.2.0 in c:\\users\\agarc\\anaconda3\\envs\\bioenv\\lib\\site-packages (from rich>=12.0.0->scvi-tools) (3.0.0)\n",
      "Requirement already satisfied: pygments<3.0.0,>=2.13.0 in c:\\users\\agarc\\anaconda3\\envs\\bioenv\\lib\\site-packages (from rich>=12.0.0->scvi-tools) (2.18.0)\n",
      "Requirement already satisfied: joblib>=1.2.0 in c:\\users\\agarc\\anaconda3\\envs\\bioenv\\lib\\site-packages (from scikit-learn>=0.21.2->scvi-tools) (1.4.2)\n",
      "Requirement already satisfied: threadpoolctl>=3.1.0 in c:\\users\\agarc\\anaconda3\\envs\\bioenv\\lib\\site-packages (from scikit-learn>=0.21.2->scvi-tools) (3.5.0)\n",
      "Requirement already satisfied: filelock in c:\\users\\agarc\\anaconda3\\envs\\bioenv\\lib\\site-packages (from torch>=1.8.0->scvi-tools) (3.15.4)\n",
      "Requirement already satisfied: sympy in c:\\users\\agarc\\anaconda3\\envs\\bioenv\\lib\\site-packages (from torch>=1.8.0->scvi-tools) (1.13.2)\n",
      "Requirement already satisfied: networkx in c:\\users\\agarc\\anaconda3\\envs\\bioenv\\lib\\site-packages (from torch>=1.8.0->scvi-tools) (3.3)\n",
      "Requirement already satisfied: jinja2 in c:\\users\\agarc\\anaconda3\\envs\\bioenv\\lib\\site-packages (from torch>=1.8.0->scvi-tools) (3.1.4)\n",
      "Requirement already satisfied: setuptools in c:\\users\\agarc\\anaconda3\\envs\\bioenv\\lib\\site-packages (from torch>=1.8.0->scvi-tools) (72.1.0)\n",
      "Requirement already satisfied: colorama in c:\\users\\agarc\\anaconda3\\envs\\bioenv\\lib\\site-packages (from tqdm>=4.56.0->scvi-tools) (0.4.6)\n",
      "Requirement already satisfied: msgpack in c:\\users\\agarc\\anaconda3\\envs\\bioenv\\lib\\site-packages (from flax->scvi-tools) (1.0.8)\n",
      "Requirement already satisfied: orbax-checkpoint in c:\\users\\agarc\\anaconda3\\envs\\bioenv\\lib\\site-packages (from flax->scvi-tools) (0.5.23)\n",
      "Requirement already satisfied: tensorstore in c:\\users\\agarc\\anaconda3\\envs\\bioenv\\lib\\site-packages (from flax->scvi-tools) (0.1.64)\n",
      "Requirement already satisfied: chex>=0.1.86 in c:\\users\\agarc\\anaconda3\\envs\\bioenv\\lib\\site-packages (from optax->scvi-tools) (0.1.86)\n",
      "Requirement already satisfied: etils[epy] in c:\\users\\agarc\\anaconda3\\envs\\bioenv\\lib\\site-packages (from optax->scvi-tools) (1.9.2)\n",
      "Requirement already satisfied: toolz>=0.9.0 in c:\\users\\agarc\\anaconda3\\envs\\bioenv\\lib\\site-packages (from chex>=0.1.86->optax->scvi-tools) (0.12.1)\n",
      "Requirement already satisfied: aiohttp!=4.0.0a0,!=4.0.0a1 in c:\\users\\agarc\\anaconda3\\envs\\bioenv\\lib\\site-packages (from fsspec[http]<2025.0,>=2022.5.0->lightning<2.2,>=2.0->scvi-tools) (3.10.4)\n",
      "Requirement already satisfied: mdurl~=0.1 in c:\\users\\agarc\\anaconda3\\envs\\bioenv\\lib\\site-packages (from markdown-it-py>=2.2.0->rich>=12.0.0->scvi-tools) (0.1.2)\n",
      "Requirement already satisfied: MarkupSafe>=2.0 in c:\\users\\agarc\\anaconda3\\envs\\bioenv\\lib\\site-packages (from jinja2->torch>=1.8.0->scvi-tools) (2.1.5)\n",
      "Requirement already satisfied: nest_asyncio in c:\\users\\agarc\\anaconda3\\envs\\bioenv\\lib\\site-packages (from orbax-checkpoint->flax->scvi-tools) (1.6.0)\n",
      "Requirement already satisfied: protobuf in c:\\users\\agarc\\anaconda3\\envs\\bioenv\\lib\\site-packages (from orbax-checkpoint->flax->scvi-tools) (4.25.4)\n",
      "Requirement already satisfied: mpmath<1.4,>=1.1.0 in c:\\users\\agarc\\anaconda3\\envs\\bioenv\\lib\\site-packages (from sympy->torch>=1.8.0->scvi-tools) (1.3.0)\n",
      "Requirement already satisfied: aiohappyeyeballs>=2.3.0 in c:\\users\\agarc\\anaconda3\\envs\\bioenv\\lib\\site-packages (from aiohttp!=4.0.0a0,!=4.0.0a1->fsspec[http]<2025.0,>=2022.5.0->lightning<2.2,>=2.0->scvi-tools) (2.3.7)\n",
      "Requirement already satisfied: aiosignal>=1.1.2 in c:\\users\\agarc\\anaconda3\\envs\\bioenv\\lib\\site-packages (from aiohttp!=4.0.0a0,!=4.0.0a1->fsspec[http]<2025.0,>=2022.5.0->lightning<2.2,>=2.0->scvi-tools) (1.3.1)\n",
      "Requirement already satisfied: attrs>=17.3.0 in c:\\users\\agarc\\anaconda3\\envs\\bioenv\\lib\\site-packages (from aiohttp!=4.0.0a0,!=4.0.0a1->fsspec[http]<2025.0,>=2022.5.0->lightning<2.2,>=2.0->scvi-tools) (24.2.0)\n",
      "Requirement already satisfied: frozenlist>=1.1.1 in c:\\users\\agarc\\anaconda3\\envs\\bioenv\\lib\\site-packages (from aiohttp!=4.0.0a0,!=4.0.0a1->fsspec[http]<2025.0,>=2022.5.0->lightning<2.2,>=2.0->scvi-tools) (1.4.1)\n",
      "Requirement already satisfied: multidict<7.0,>=4.5 in c:\\users\\agarc\\anaconda3\\envs\\bioenv\\lib\\site-packages (from aiohttp!=4.0.0a0,!=4.0.0a1->fsspec[http]<2025.0,>=2022.5.0->lightning<2.2,>=2.0->scvi-tools) (6.0.5)\n",
      "Requirement already satisfied: yarl<2.0,>=1.0 in c:\\users\\agarc\\anaconda3\\envs\\bioenv\\lib\\site-packages (from aiohttp!=4.0.0a0,!=4.0.0a1->fsspec[http]<2025.0,>=2022.5.0->lightning<2.2,>=2.0->scvi-tools) (1.9.4)\n",
      "Requirement already satisfied: importlib_resources in c:\\users\\agarc\\anaconda3\\envs\\bioenv\\lib\\site-packages (from etils[epy]->optax->scvi-tools) (6.4.3)\n",
      "Requirement already satisfied: zipp in c:\\users\\agarc\\anaconda3\\envs\\bioenv\\lib\\site-packages (from etils[epy]->optax->scvi-tools) (3.20.0)\n",
      "Requirement already satisfied: idna>=2.0 in c:\\users\\agarc\\anaconda3\\envs\\bioenv\\lib\\site-packages (from yarl<2.0,>=1.0->aiohttp!=4.0.0a0,!=4.0.0a1->fsspec[http]<2025.0,>=2022.5.0->lightning<2.2,>=2.0->scvi-tools) (3.7)\n"
     ]
    }
   ],
   "source": [
    "!pip install scvi-tools"
   ]
  },
  {
   "cell_type": "code",
   "execution_count": 9,
   "metadata": {},
   "outputs": [
    {
     "name": "stderr",
     "output_type": "stream",
     "text": [
      "c:\\Users\\agarc\\anaconda3\\envs\\bioenv\\Lib\\site-packages\\tqdm\\auto.py:21: TqdmWarning: IProgress not found. Please update jupyter and ipywidgets. See https://ipywidgets.readthedocs.io/en/stable/user_install.html\n",
      "  from .autonotebook import tqdm as notebook_tqdm\n"
     ]
    }
   ],
   "source": [
    "import scvi"
   ]
  },
  {
   "cell_type": "code",
   "execution_count": 10,
   "metadata": {},
   "outputs": [
    {
     "data": {
      "text/plain": [
       "AnnData object with n_obs × n_vars = 6099 × 34546"
      ]
     },
     "execution_count": 10,
     "metadata": {},
     "output_type": "execute_result"
    }
   ],
   "source": [
    "adata # shows the dimmensions of the cells by genes\n",
    "# need to filter down the genes and test if a cell is a doublet or not, so lets narrow the 34546"
   ]
  },
  {
   "cell_type": "code",
   "execution_count": 11,
   "metadata": {},
   "outputs": [
    {
     "data": {
      "text/plain": [
       "AnnData object with n_obs × n_vars = 6099 × 19896\n",
       "    var: 'n_cells'"
      ]
     },
     "execution_count": 11,
     "metadata": {},
     "output_type": "execute_result"
    }
   ],
   "source": [
    "sc.pp.filter_genes(adata, min_cells= 10) # keep genes that are found in at least 10 cells\n",
    "adata # now we are at 19896 genes"
   ]
  },
  {
   "cell_type": "code",
   "execution_count": 12,
   "metadata": {},
   "outputs": [],
   "source": [
    "# Keep the top 2000 variable genes\n",
    "sc.pp.highly_variable_genes(adata, n_top_genes=2000, subset=True, flavor='seurat_v3')"
   ]
  },
  {
   "cell_type": "code",
   "execution_count": 13,
   "metadata": {},
   "outputs": [
    {
     "data": {
      "text/plain": [
       "AnnData object with n_obs × n_vars = 6099 × 2000\n",
       "    var: 'n_cells', 'highly_variable', 'highly_variable_rank', 'means', 'variances', 'variances_norm'\n",
       "    uns: 'hvg'"
      ]
     },
     "execution_count": 13,
     "metadata": {},
     "output_type": "execute_result"
    }
   ],
   "source": [
    "adata #observe how there are now only 2000 genes"
   ]
  },
  {
   "cell_type": "code",
   "execution_count": 14,
   "metadata": {},
   "outputs": [
    {
     "name": "stderr",
     "output_type": "stream",
     "text": [
      "GPU available: False, used: False\n",
      "TPU available: False, using: 0 TPU cores\n",
      "IPU available: False, using: 0 IPUs\n",
      "HPU available: False, using: 0 HPUs\n",
      "c:\\Users\\agarc\\anaconda3\\envs\\bioenv\\Lib\\site-packages\\lightning\\pytorch\\trainer\\connectors\\data_connector.py:441: The 'train_dataloader' does not have many workers which may be a bottleneck. Consider increasing the value of the `num_workers` argument` to `num_workers=3` in the `DataLoader` to improve performance.\n"
     ]
    },
    {
     "name": "stdout",
     "output_type": "stream",
     "text": [
      "Epoch 400/400: 100%|██████████| 400/400 [14:55<00:00,  2.19s/it, v_num=1, train_loss_step=294, train_loss_epoch=324]"
     ]
    },
    {
     "name": "stderr",
     "output_type": "stream",
     "text": [
      "`Trainer.fit` stopped: `max_epochs=400` reached.\n"
     ]
    },
    {
     "name": "stdout",
     "output_type": "stream",
     "text": [
      "Epoch 400/400: 100%|██████████| 400/400 [14:55<00:00,  2.24s/it, v_num=1, train_loss_step=294, train_loss_epoch=324]\n"
     ]
    }
   ],
   "source": [
    "# model setup\n",
    "scvi.model.SCVI.setup_anndata(adata)\n",
    "# train vae model\n",
    "vae = scvi.model.SCVI(adata)\n",
    "vae.train()"
   ]
  },
  {
   "cell_type": "code",
   "execution_count": 15,
   "metadata": {},
   "outputs": [
    {
     "name": "stdout",
     "output_type": "stream",
     "text": [
      "\u001b[34mINFO    \u001b[0m Creating doublets, preparing SOLO model.                                                                  \n"
     ]
    }
   ],
   "source": [
    "# train the solo model, which predicts doublets\n",
    "solo = scvi.external.SOLO.from_scvi_model(vae)"
   ]
  },
  {
   "cell_type": "code",
   "execution_count": 16,
   "metadata": {},
   "outputs": [
    {
     "name": "stderr",
     "output_type": "stream",
     "text": [
      "GPU available: False, used: False\n",
      "TPU available: False, using: 0 TPU cores\n",
      "IPU available: False, using: 0 IPUs\n",
      "HPU available: False, using: 0 HPUs\n",
      "c:\\Users\\agarc\\anaconda3\\envs\\bioenv\\Lib\\site-packages\\lightning\\pytorch\\trainer\\connectors\\data_connector.py:441: The 'train_dataloader' does not have many workers which may be a bottleneck. Consider increasing the value of the `num_workers` argument` to `num_workers=3` in the `DataLoader` to improve performance.\n",
      "c:\\Users\\agarc\\anaconda3\\envs\\bioenv\\Lib\\site-packages\\lightning\\pytorch\\trainer\\connectors\\data_connector.py:441: The 'val_dataloader' does not have many workers which may be a bottleneck. Consider increasing the value of the `num_workers` argument` to `num_workers=3` in the `DataLoader` to improve performance.\n"
     ]
    },
    {
     "name": "stdout",
     "output_type": "stream",
     "text": [
      "Epoch 221/400:  55%|█████▌    | 221/400 [01:20<01:05,  2.74it/s, v_num=1, train_loss_step=0.418, train_loss_epoch=0.294]\n",
      "Monitored metric validation_loss did not improve in the last 30 records. Best score: 0.274. Signaling Trainer to stop.\n"
     ]
    }
   ],
   "source": [
    "solo.train()"
   ]
  },
  {
   "cell_type": "code",
   "execution_count": 17,
   "metadata": {},
   "outputs": [
    {
     "name": "stderr",
     "output_type": "stream",
     "text": [
      "c:\\Users\\agarc\\anaconda3\\envs\\bioenv\\Lib\\site-packages\\torch\\utils\\_contextlib.py:116: UserWarning: Prior to scvi-tools 1.1.3, `SOLO.predict` with `soft=True` (the default option) returned logits instead of probabilities. This behavior has since been corrected to return probabiltiies. The previous behavior can be replicated by passing in `return_logits=True`.\n",
      "  return func(*args, **kwargs)\n"
     ]
    },
    {
     "data": {
      "text/html": [
       "<div>\n",
       "<style scoped>\n",
       "    .dataframe tbody tr th:only-of-type {\n",
       "        vertical-align: middle;\n",
       "    }\n",
       "\n",
       "    .dataframe tbody tr th {\n",
       "        vertical-align: top;\n",
       "    }\n",
       "\n",
       "    .dataframe thead th {\n",
       "        text-align: right;\n",
       "    }\n",
       "</style>\n",
       "<table border=\"1\" class=\"dataframe\">\n",
       "  <thead>\n",
       "    <tr style=\"text-align: right;\">\n",
       "      <th></th>\n",
       "      <th>doublet</th>\n",
       "      <th>singlet</th>\n",
       "    </tr>\n",
       "  </thead>\n",
       "  <tbody>\n",
       "    <tr>\n",
       "      <th>TAGGTACCATGGCCAC-1_1</th>\n",
       "      <td>0.911429</td>\n",
       "      <td>0.088571</td>\n",
       "    </tr>\n",
       "    <tr>\n",
       "      <th>ATTCACTGTAACAGGC-1_1</th>\n",
       "      <td>0.988659</td>\n",
       "      <td>0.011341</td>\n",
       "    </tr>\n",
       "    <tr>\n",
       "      <th>TAACTTCCAACCACGC-1_1</th>\n",
       "      <td>0.556910</td>\n",
       "      <td>0.443090</td>\n",
       "    </tr>\n",
       "    <tr>\n",
       "      <th>TTGGGTACACGACAAG-1_1</th>\n",
       "      <td>0.850929</td>\n",
       "      <td>0.149071</td>\n",
       "    </tr>\n",
       "    <tr>\n",
       "      <th>AGGCCACAGAGTCACG-1_1</th>\n",
       "      <td>0.887205</td>\n",
       "      <td>0.112795</td>\n",
       "    </tr>\n",
       "    <tr>\n",
       "      <th>...</th>\n",
       "      <td>...</td>\n",
       "      <td>...</td>\n",
       "    </tr>\n",
       "    <tr>\n",
       "      <th>CGCCATTGTTTGCCGG-1_1</th>\n",
       "      <td>0.081709</td>\n",
       "      <td>0.918291</td>\n",
       "    </tr>\n",
       "    <tr>\n",
       "      <th>CACTGGGGTCTACGTA-1_1</th>\n",
       "      <td>0.000768</td>\n",
       "      <td>0.999232</td>\n",
       "    </tr>\n",
       "    <tr>\n",
       "      <th>CATACTTGTAGAGGAA-1_1</th>\n",
       "      <td>0.004462</td>\n",
       "      <td>0.995538</td>\n",
       "    </tr>\n",
       "    <tr>\n",
       "      <th>TTTGGTTTCCACGGAC-1_1</th>\n",
       "      <td>0.006545</td>\n",
       "      <td>0.993455</td>\n",
       "    </tr>\n",
       "    <tr>\n",
       "      <th>ATGCATGAGTCATGAA-1_1</th>\n",
       "      <td>0.007761</td>\n",
       "      <td>0.992239</td>\n",
       "    </tr>\n",
       "  </tbody>\n",
       "</table>\n",
       "<p>6099 rows × 2 columns</p>\n",
       "</div>"
      ],
      "text/plain": [
       "                       doublet   singlet\n",
       "TAGGTACCATGGCCAC-1_1  0.911429  0.088571\n",
       "ATTCACTGTAACAGGC-1_1  0.988659  0.011341\n",
       "TAACTTCCAACCACGC-1_1  0.556910  0.443090\n",
       "TTGGGTACACGACAAG-1_1  0.850929  0.149071\n",
       "AGGCCACAGAGTCACG-1_1  0.887205  0.112795\n",
       "...                        ...       ...\n",
       "CGCCATTGTTTGCCGG-1_1  0.081709  0.918291\n",
       "CACTGGGGTCTACGTA-1_1  0.000768  0.999232\n",
       "CATACTTGTAGAGGAA-1_1  0.004462  0.995538\n",
       "TTTGGTTTCCACGGAC-1_1  0.006545  0.993455\n",
       "ATGCATGAGTCATGAA-1_1  0.007761  0.992239\n",
       "\n",
       "[6099 rows x 2 columns]"
      ]
     },
     "execution_count": 17,
     "metadata": {},
     "output_type": "execute_result"
    }
   ],
   "source": [
    "solo.predict()\n",
    "# cell barcode on the left\n",
    "# score for doublet and singlet (higher scores represent prediction)"
   ]
  },
  {
   "cell_type": "code",
   "execution_count": 18,
   "metadata": {},
   "outputs": [
    {
     "name": "stderr",
     "output_type": "stream",
     "text": [
      "c:\\Users\\agarc\\anaconda3\\envs\\bioenv\\Lib\\site-packages\\torch\\utils\\_contextlib.py:116: UserWarning: Prior to scvi-tools 1.1.3, `SOLO.predict` with `soft=True` (the default option) returned logits instead of probabilities. This behavior has since been corrected to return probabiltiies. The previous behavior can be replicated by passing in `return_logits=True`.\n",
      "  return func(*args, **kwargs)\n",
      "c:\\Users\\agarc\\anaconda3\\envs\\bioenv\\Lib\\site-packages\\torch\\utils\\_contextlib.py:116: UserWarning: Prior to scvi-tools 1.1.3, `SOLO.predict` with `soft=True` (the default option) returned logits instead of probabilities. This behavior has since been corrected to return probabiltiies. The previous behavior can be replicated by passing in `return_logits=True`.\n",
      "  return func(*args, **kwargs)\n"
     ]
    },
    {
     "data": {
      "text/html": [
       "<div>\n",
       "<style scoped>\n",
       "    .dataframe tbody tr th:only-of-type {\n",
       "        vertical-align: middle;\n",
       "    }\n",
       "\n",
       "    .dataframe tbody tr th {\n",
       "        vertical-align: top;\n",
       "    }\n",
       "\n",
       "    .dataframe thead th {\n",
       "        text-align: right;\n",
       "    }\n",
       "</style>\n",
       "<table border=\"1\" class=\"dataframe\">\n",
       "  <thead>\n",
       "    <tr style=\"text-align: right;\">\n",
       "      <th></th>\n",
       "      <th>doublet</th>\n",
       "      <th>singlet</th>\n",
       "      <th>prediction</th>\n",
       "    </tr>\n",
       "  </thead>\n",
       "  <tbody>\n",
       "    <tr>\n",
       "      <th>TAGGTACCATGGCCAC-1_1</th>\n",
       "      <td>0.911429</td>\n",
       "      <td>0.088571</td>\n",
       "      <td>doublet</td>\n",
       "    </tr>\n",
       "    <tr>\n",
       "      <th>ATTCACTGTAACAGGC-1_1</th>\n",
       "      <td>0.988659</td>\n",
       "      <td>0.011341</td>\n",
       "      <td>doublet</td>\n",
       "    </tr>\n",
       "    <tr>\n",
       "      <th>TAACTTCCAACCACGC-1_1</th>\n",
       "      <td>0.556910</td>\n",
       "      <td>0.443090</td>\n",
       "      <td>doublet</td>\n",
       "    </tr>\n",
       "    <tr>\n",
       "      <th>TTGGGTACACGACAAG-1_1</th>\n",
       "      <td>0.850929</td>\n",
       "      <td>0.149071</td>\n",
       "      <td>doublet</td>\n",
       "    </tr>\n",
       "    <tr>\n",
       "      <th>AGGCCACAGAGTCACG-1_1</th>\n",
       "      <td>0.887205</td>\n",
       "      <td>0.112795</td>\n",
       "      <td>doublet</td>\n",
       "    </tr>\n",
       "    <tr>\n",
       "      <th>...</th>\n",
       "      <td>...</td>\n",
       "      <td>...</td>\n",
       "      <td>...</td>\n",
       "    </tr>\n",
       "    <tr>\n",
       "      <th>CGCCATTGTTTGCCGG-1_1</th>\n",
       "      <td>0.081709</td>\n",
       "      <td>0.918291</td>\n",
       "      <td>singlet</td>\n",
       "    </tr>\n",
       "    <tr>\n",
       "      <th>CACTGGGGTCTACGTA-1_1</th>\n",
       "      <td>0.000768</td>\n",
       "      <td>0.999232</td>\n",
       "      <td>singlet</td>\n",
       "    </tr>\n",
       "    <tr>\n",
       "      <th>CATACTTGTAGAGGAA-1_1</th>\n",
       "      <td>0.004462</td>\n",
       "      <td>0.995538</td>\n",
       "      <td>singlet</td>\n",
       "    </tr>\n",
       "    <tr>\n",
       "      <th>TTTGGTTTCCACGGAC-1_1</th>\n",
       "      <td>0.006545</td>\n",
       "      <td>0.993455</td>\n",
       "      <td>singlet</td>\n",
       "    </tr>\n",
       "    <tr>\n",
       "      <th>ATGCATGAGTCATGAA-1_1</th>\n",
       "      <td>0.007761</td>\n",
       "      <td>0.992239</td>\n",
       "      <td>singlet</td>\n",
       "    </tr>\n",
       "  </tbody>\n",
       "</table>\n",
       "<p>6099 rows × 3 columns</p>\n",
       "</div>"
      ],
      "text/plain": [
       "                       doublet   singlet prediction\n",
       "TAGGTACCATGGCCAC-1_1  0.911429  0.088571    doublet\n",
       "ATTCACTGTAACAGGC-1_1  0.988659  0.011341    doublet\n",
       "TAACTTCCAACCACGC-1_1  0.556910  0.443090    doublet\n",
       "TTGGGTACACGACAAG-1_1  0.850929  0.149071    doublet\n",
       "AGGCCACAGAGTCACG-1_1  0.887205  0.112795    doublet\n",
       "...                        ...       ...        ...\n",
       "CGCCATTGTTTGCCGG-1_1  0.081709  0.918291    singlet\n",
       "CACTGGGGTCTACGTA-1_1  0.000768  0.999232    singlet\n",
       "CATACTTGTAGAGGAA-1_1  0.004462  0.995538    singlet\n",
       "TTTGGTTTCCACGGAC-1_1  0.006545  0.993455    singlet\n",
       "ATGCATGAGTCATGAA-1_1  0.007761  0.992239    singlet\n",
       "\n",
       "[6099 rows x 3 columns]"
      ]
     },
     "execution_count": 18,
     "metadata": {},
     "output_type": "execute_result"
    }
   ],
   "source": [
    "# pass soft=False to make a new column that is the predicted label (doublet or singlet)\n",
    "df = solo.predict()\n",
    "df['prediction'] = solo.predict(soft=False)\n",
    "\n",
    "df"
   ]
  },
  {
   "cell_type": "code",
   "execution_count": 19,
   "metadata": {},
   "outputs": [
    {
     "data": {
      "text/html": [
       "<div>\n",
       "<style scoped>\n",
       "    .dataframe tbody tr th:only-of-type {\n",
       "        vertical-align: middle;\n",
       "    }\n",
       "\n",
       "    .dataframe tbody tr th {\n",
       "        vertical-align: top;\n",
       "    }\n",
       "\n",
       "    .dataframe thead th {\n",
       "        text-align: right;\n",
       "    }\n",
       "</style>\n",
       "<table border=\"1\" class=\"dataframe\">\n",
       "  <thead>\n",
       "    <tr style=\"text-align: right;\">\n",
       "      <th></th>\n",
       "      <th>doublet</th>\n",
       "      <th>singlet</th>\n",
       "    </tr>\n",
       "    <tr>\n",
       "      <th>prediction</th>\n",
       "      <th></th>\n",
       "      <th></th>\n",
       "    </tr>\n",
       "  </thead>\n",
       "  <tbody>\n",
       "    <tr>\n",
       "      <th>doublet</th>\n",
       "      <td>1119</td>\n",
       "      <td>1119</td>\n",
       "    </tr>\n",
       "    <tr>\n",
       "      <th>singlet</th>\n",
       "      <td>4980</td>\n",
       "      <td>4980</td>\n",
       "    </tr>\n",
       "  </tbody>\n",
       "</table>\n",
       "</div>"
      ],
      "text/plain": [
       "            doublet  singlet\n",
       "prediction                  \n",
       "doublet        1119     1119\n",
       "singlet        4980     4980"
      ]
     },
     "execution_count": 19,
     "metadata": {},
     "output_type": "execute_result"
    }
   ],
   "source": [
    "# count how many doublets and singlets we have\n",
    "df.groupby('prediction').count()"
   ]
  },
  {
   "cell_type": "code",
   "execution_count": 20,
   "metadata": {},
   "outputs": [
    {
     "data": {
      "text/html": [
       "<div>\n",
       "<style scoped>\n",
       "    .dataframe tbody tr th:only-of-type {\n",
       "        vertical-align: middle;\n",
       "    }\n",
       "\n",
       "    .dataframe tbody tr th {\n",
       "        vertical-align: top;\n",
       "    }\n",
       "\n",
       "    .dataframe thead th {\n",
       "        text-align: right;\n",
       "    }\n",
       "</style>\n",
       "<table border=\"1\" class=\"dataframe\">\n",
       "  <thead>\n",
       "    <tr style=\"text-align: right;\">\n",
       "      <th></th>\n",
       "      <th>doublet</th>\n",
       "      <th>singlet</th>\n",
       "      <th>prediction</th>\n",
       "      <th>dif</th>\n",
       "    </tr>\n",
       "  </thead>\n",
       "  <tbody>\n",
       "    <tr>\n",
       "      <th>TAGGTACCATGGCCAC-1_1</th>\n",
       "      <td>0.911429</td>\n",
       "      <td>0.088571</td>\n",
       "      <td>doublet</td>\n",
       "      <td>0.822857</td>\n",
       "    </tr>\n",
       "    <tr>\n",
       "      <th>ATTCACTGTAACAGGC-1_1</th>\n",
       "      <td>0.988659</td>\n",
       "      <td>0.011341</td>\n",
       "      <td>doublet</td>\n",
       "      <td>0.977318</td>\n",
       "    </tr>\n",
       "    <tr>\n",
       "      <th>TAACTTCCAACCACGC-1_1</th>\n",
       "      <td>0.556910</td>\n",
       "      <td>0.443090</td>\n",
       "      <td>doublet</td>\n",
       "      <td>0.113821</td>\n",
       "    </tr>\n",
       "    <tr>\n",
       "      <th>TTGGGTACACGACAAG-1_1</th>\n",
       "      <td>0.850929</td>\n",
       "      <td>0.149071</td>\n",
       "      <td>doublet</td>\n",
       "      <td>0.701859</td>\n",
       "    </tr>\n",
       "    <tr>\n",
       "      <th>AGGCCACAGAGTCACG-1_1</th>\n",
       "      <td>0.887205</td>\n",
       "      <td>0.112795</td>\n",
       "      <td>doublet</td>\n",
       "      <td>0.774410</td>\n",
       "    </tr>\n",
       "    <tr>\n",
       "      <th>...</th>\n",
       "      <td>...</td>\n",
       "      <td>...</td>\n",
       "      <td>...</td>\n",
       "      <td>...</td>\n",
       "    </tr>\n",
       "    <tr>\n",
       "      <th>CGCCATTGTTTGCCGG-1_1</th>\n",
       "      <td>0.081709</td>\n",
       "      <td>0.918291</td>\n",
       "      <td>singlet</td>\n",
       "      <td>-0.836582</td>\n",
       "    </tr>\n",
       "    <tr>\n",
       "      <th>CACTGGGGTCTACGTA-1_1</th>\n",
       "      <td>0.000768</td>\n",
       "      <td>0.999232</td>\n",
       "      <td>singlet</td>\n",
       "      <td>-0.998463</td>\n",
       "    </tr>\n",
       "    <tr>\n",
       "      <th>CATACTTGTAGAGGAA-1_1</th>\n",
       "      <td>0.004462</td>\n",
       "      <td>0.995538</td>\n",
       "      <td>singlet</td>\n",
       "      <td>-0.991076</td>\n",
       "    </tr>\n",
       "    <tr>\n",
       "      <th>TTTGGTTTCCACGGAC-1_1</th>\n",
       "      <td>0.006545</td>\n",
       "      <td>0.993455</td>\n",
       "      <td>singlet</td>\n",
       "      <td>-0.986910</td>\n",
       "    </tr>\n",
       "    <tr>\n",
       "      <th>ATGCATGAGTCATGAA-1_1</th>\n",
       "      <td>0.007761</td>\n",
       "      <td>0.992239</td>\n",
       "      <td>singlet</td>\n",
       "      <td>-0.984479</td>\n",
       "    </tr>\n",
       "  </tbody>\n",
       "</table>\n",
       "<p>6099 rows × 4 columns</p>\n",
       "</div>"
      ],
      "text/plain": [
       "                       doublet   singlet prediction       dif\n",
       "TAGGTACCATGGCCAC-1_1  0.911429  0.088571    doublet  0.822857\n",
       "ATTCACTGTAACAGGC-1_1  0.988659  0.011341    doublet  0.977318\n",
       "TAACTTCCAACCACGC-1_1  0.556910  0.443090    doublet  0.113821\n",
       "TTGGGTACACGACAAG-1_1  0.850929  0.149071    doublet  0.701859\n",
       "AGGCCACAGAGTCACG-1_1  0.887205  0.112795    doublet  0.774410\n",
       "...                        ...       ...        ...       ...\n",
       "CGCCATTGTTTGCCGG-1_1  0.081709  0.918291    singlet -0.836582\n",
       "CACTGGGGTCTACGTA-1_1  0.000768  0.999232    singlet -0.998463\n",
       "CATACTTGTAGAGGAA-1_1  0.004462  0.995538    singlet -0.991076\n",
       "TTTGGTTTCCACGGAC-1_1  0.006545  0.993455    singlet -0.986910\n",
       "ATGCATGAGTCATGAA-1_1  0.007761  0.992239    singlet -0.984479\n",
       "\n",
       "[6099 rows x 4 columns]"
      ]
     },
     "execution_count": 20,
     "metadata": {},
     "output_type": "execute_result"
    }
   ],
   "source": [
    "# make a new column that is the difference in probability of doublet and singlet columns\n",
    "df['dif'] = df.doublet - df.singlet\n",
    "df"
   ]
  },
  {
   "cell_type": "code",
   "execution_count": 21,
   "metadata": {},
   "outputs": [],
   "source": [
    "import seaborn as sns"
   ]
  },
  {
   "cell_type": "code",
   "execution_count": 22,
   "metadata": {},
   "outputs": [
    {
     "data": {
      "text/plain": [
       "<seaborn.axisgrid.FacetGrid at 0x1c7655d8830>"
      ]
     },
     "execution_count": 22,
     "metadata": {},
     "output_type": "execute_result"
    },
    {
     "data": {
      "image/png": "[encoded data removed]",
      "text/plain": [
       "<Figure size 500x500 with 1 Axes>"
      ]
     },
     "metadata": {},
     "output_type": "display_data"
    }
   ],
   "source": [
    "sns.displot(df[df.prediction == 'doublet'], x='dif')"
   ]
  },
  {
   "cell_type": "markdown",
   "metadata": {},
   "source": [
    "The histogram shown presents x-axis as the difference in prediction (doublet probability - singlet probability).\n",
    "The y-axis is the count of cell barcodes in that bin (difference).\n",
    "The histogram overall seems to be leveled, however, the distribution begins to drop dramatically than taper off at x = 0.25\n",
    "This suggests that the cell barcodes at x < 0.25 can still likely be singlets, which we do not want to remove.\n",
    "So we will make the cutoff at x = 0.25 keeping 1 < x > 0.25; these are the doublets, with a new dataframe reload the raw cell barcode file and label the matching cell barcodes (from the processed dataframe) as doublets and eliminate them... thus keeping only singlets in the new dataframe."
   ]
  },
  {
   "cell_type": "code",
   "execution_count": 23,
   "metadata": {},
   "outputs": [
    {
     "data": {
      "text/html": [
       "<div>\n",
       "<style scoped>\n",
       "    .dataframe tbody tr th:only-of-type {\n",
       "        vertical-align: middle;\n",
       "    }\n",
       "\n",
       "    .dataframe tbody tr th {\n",
       "        vertical-align: top;\n",
       "    }\n",
       "\n",
       "    .dataframe thead th {\n",
       "        text-align: right;\n",
       "    }\n",
       "</style>\n",
       "<table border=\"1\" class=\"dataframe\">\n",
       "  <thead>\n",
       "    <tr style=\"text-align: right;\">\n",
       "      <th></th>\n",
       "      <th>doublet</th>\n",
       "      <th>singlet</th>\n",
       "      <th>prediction</th>\n",
       "      <th>dif</th>\n",
       "    </tr>\n",
       "  </thead>\n",
       "  <tbody>\n",
       "    <tr>\n",
       "      <th>TAGGTACCATGGCCAC-1_1</th>\n",
       "      <td>0.911429</td>\n",
       "      <td>0.088571</td>\n",
       "      <td>doublet</td>\n",
       "      <td>0.822857</td>\n",
       "    </tr>\n",
       "    <tr>\n",
       "      <th>ATTCACTGTAACAGGC-1_1</th>\n",
       "      <td>0.988659</td>\n",
       "      <td>0.011341</td>\n",
       "      <td>doublet</td>\n",
       "      <td>0.977318</td>\n",
       "    </tr>\n",
       "    <tr>\n",
       "      <th>TTGGGTACACGACAAG-1_1</th>\n",
       "      <td>0.850929</td>\n",
       "      <td>0.149071</td>\n",
       "      <td>doublet</td>\n",
       "      <td>0.701859</td>\n",
       "    </tr>\n",
       "    <tr>\n",
       "      <th>AGGCCACAGAGTCACG-1_1</th>\n",
       "      <td>0.887205</td>\n",
       "      <td>0.112795</td>\n",
       "      <td>doublet</td>\n",
       "      <td>0.774410</td>\n",
       "    </tr>\n",
       "    <tr>\n",
       "      <th>CACTGAAGTCGAAGCA-1_1</th>\n",
       "      <td>0.897011</td>\n",
       "      <td>0.102990</td>\n",
       "      <td>doublet</td>\n",
       "      <td>0.794021</td>\n",
       "    </tr>\n",
       "    <tr>\n",
       "      <th>...</th>\n",
       "      <td>...</td>\n",
       "      <td>...</td>\n",
       "      <td>...</td>\n",
       "      <td>...</td>\n",
       "    </tr>\n",
       "    <tr>\n",
       "      <th>TACCTCGCATCGGAGA-1_1</th>\n",
       "      <td>0.781253</td>\n",
       "      <td>0.218747</td>\n",
       "      <td>doublet</td>\n",
       "      <td>0.562507</td>\n",
       "    </tr>\n",
       "    <tr>\n",
       "      <th>AACCCAATCTCGACCT-1_1</th>\n",
       "      <td>0.965013</td>\n",
       "      <td>0.034987</td>\n",
       "      <td>doublet</td>\n",
       "      <td>0.930026</td>\n",
       "    </tr>\n",
       "    <tr>\n",
       "      <th>GTTAGTGGTTCGGTTA-1_1</th>\n",
       "      <td>0.770881</td>\n",
       "      <td>0.229119</td>\n",
       "      <td>doublet</td>\n",
       "      <td>0.541763</td>\n",
       "    </tr>\n",
       "    <tr>\n",
       "      <th>TGGTACACACTGTCCT-1_1</th>\n",
       "      <td>0.844115</td>\n",
       "      <td>0.155885</td>\n",
       "      <td>doublet</td>\n",
       "      <td>0.688230</td>\n",
       "    </tr>\n",
       "    <tr>\n",
       "      <th>GACGCTGTCATCAGTG-1_1</th>\n",
       "      <td>0.825856</td>\n",
       "      <td>0.174144</td>\n",
       "      <td>doublet</td>\n",
       "      <td>0.651711</td>\n",
       "    </tr>\n",
       "  </tbody>\n",
       "</table>\n",
       "<p>713 rows × 4 columns</p>\n",
       "</div>"
      ],
      "text/plain": [
       "                       doublet   singlet prediction       dif\n",
       "TAGGTACCATGGCCAC-1_1  0.911429  0.088571    doublet  0.822857\n",
       "ATTCACTGTAACAGGC-1_1  0.988659  0.011341    doublet  0.977318\n",
       "TTGGGTACACGACAAG-1_1  0.850929  0.149071    doublet  0.701859\n",
       "AGGCCACAGAGTCACG-1_1  0.887205  0.112795    doublet  0.774410\n",
       "CACTGAAGTCGAAGCA-1_1  0.897011  0.102990    doublet  0.794021\n",
       "...                        ...       ...        ...       ...\n",
       "TACCTCGCATCGGAGA-1_1  0.781253  0.218747    doublet  0.562507\n",
       "AACCCAATCTCGACCT-1_1  0.965013  0.034987    doublet  0.930026\n",
       "GTTAGTGGTTCGGTTA-1_1  0.770881  0.229119    doublet  0.541763\n",
       "TGGTACACACTGTCCT-1_1  0.844115  0.155885    doublet  0.688230\n",
       "GACGCTGTCATCAGTG-1_1  0.825856  0.174144    doublet  0.651711\n",
       "\n",
       "[713 rows x 4 columns]"
      ]
     },
     "execution_count": 23,
     "metadata": {},
     "output_type": "execute_result"
    }
   ],
   "source": [
    "doublets = df[(df.prediction == 'doublet') & (df.dif > 0.24)]\n",
    "doublets"
   ]
  },
  {
   "cell_type": "code",
   "execution_count": 24,
   "metadata": {},
   "outputs": [],
   "source": [
    "# Read the compressed CSV file into an AnnData object\n",
    "adata = sc.read_csv(file_path)\n",
    "\n",
    "# Transpose the data to have cells as rows and genes as columns\n",
    "adata = adata.T"
   ]
  },
  {
   "cell_type": "code",
   "execution_count": 25,
   "metadata": {},
   "outputs": [],
   "source": [
    "adata.obs['doublet'] = adata.obs.index.isin(doublets.index)"
   ]
  },
  {
   "cell_type": "code",
   "execution_count": 26,
   "metadata": {},
   "outputs": [
    {
     "data": {
      "text/html": [
       "<div>\n",
       "<style scoped>\n",
       "    .dataframe tbody tr th:only-of-type {\n",
       "        vertical-align: middle;\n",
       "    }\n",
       "\n",
       "    .dataframe tbody tr th {\n",
       "        vertical-align: top;\n",
       "    }\n",
       "\n",
       "    .dataframe thead th {\n",
       "        text-align: right;\n",
       "    }\n",
       "</style>\n",
       "<table border=\"1\" class=\"dataframe\">\n",
       "  <thead>\n",
       "    <tr style=\"text-align: right;\">\n",
       "      <th></th>\n",
       "      <th>doublet</th>\n",
       "    </tr>\n",
       "  </thead>\n",
       "  <tbody>\n",
       "    <tr>\n",
       "      <th>TAGGTACCATGGCCAC-1_1</th>\n",
       "      <td>True</td>\n",
       "    </tr>\n",
       "    <tr>\n",
       "      <th>ATTCACTGTAACAGGC-1_1</th>\n",
       "      <td>True</td>\n",
       "    </tr>\n",
       "    <tr>\n",
       "      <th>TAACTTCCAACCACGC-1_1</th>\n",
       "      <td>False</td>\n",
       "    </tr>\n",
       "    <tr>\n",
       "      <th>TTGGGTACACGACAAG-1_1</th>\n",
       "      <td>True</td>\n",
       "    </tr>\n",
       "    <tr>\n",
       "      <th>AGGCCACAGAGTCACG-1_1</th>\n",
       "      <td>True</td>\n",
       "    </tr>\n",
       "    <tr>\n",
       "      <th>...</th>\n",
       "      <td>...</td>\n",
       "    </tr>\n",
       "    <tr>\n",
       "      <th>CGCCATTGTTTGCCGG-1_1</th>\n",
       "      <td>False</td>\n",
       "    </tr>\n",
       "    <tr>\n",
       "      <th>CACTGGGGTCTACGTA-1_1</th>\n",
       "      <td>False</td>\n",
       "    </tr>\n",
       "    <tr>\n",
       "      <th>CATACTTGTAGAGGAA-1_1</th>\n",
       "      <td>False</td>\n",
       "    </tr>\n",
       "    <tr>\n",
       "      <th>TTTGGTTTCCACGGAC-1_1</th>\n",
       "      <td>False</td>\n",
       "    </tr>\n",
       "    <tr>\n",
       "      <th>ATGCATGAGTCATGAA-1_1</th>\n",
       "      <td>False</td>\n",
       "    </tr>\n",
       "  </tbody>\n",
       "</table>\n",
       "<p>6099 rows × 1 columns</p>\n",
       "</div>"
      ],
      "text/plain": [
       "                      doublet\n",
       "TAGGTACCATGGCCAC-1_1     True\n",
       "ATTCACTGTAACAGGC-1_1     True\n",
       "TAACTTCCAACCACGC-1_1    False\n",
       "TTGGGTACACGACAAG-1_1     True\n",
       "AGGCCACAGAGTCACG-1_1     True\n",
       "...                       ...\n",
       "CGCCATTGTTTGCCGG-1_1    False\n",
       "CACTGGGGTCTACGTA-1_1    False\n",
       "CATACTTGTAGAGGAA-1_1    False\n",
       "TTTGGTTTCCACGGAC-1_1    False\n",
       "ATGCATGAGTCATGAA-1_1    False\n",
       "\n",
       "[6099 rows x 1 columns]"
      ]
     },
     "execution_count": 26,
     "metadata": {},
     "output_type": "execute_result"
    }
   ],
   "source": [
    "adata.obs"
   ]
  },
  {
   "cell_type": "code",
   "execution_count": 27,
   "metadata": {},
   "outputs": [],
   "source": [
    "# ~ means you keep the \"False\"\n",
    "adata = adata[~adata.obs.doublet]"
   ]
  },
  {
   "cell_type": "code",
   "execution_count": 28,
   "metadata": {},
   "outputs": [
    {
     "data": {
      "text/plain": [
       "View of AnnData object with n_obs × n_vars = 5386 × 34546\n",
       "    obs: 'doublet'"
      ]
     },
     "execution_count": 28,
     "metadata": {},
     "output_type": "execute_result"
    }
   ],
   "source": [
    "adata # 5424 cell barcodes that are now only singlets\n",
    "# this makes sense as the doublet list was 675 cell barcodes, the raw data was 6099 cell barcodes. (6099-675=5424) "
   ]
  },
  {
   "cell_type": "markdown",
   "metadata": {},
   "source": [
    "Congrats, the doublets are now removed."
   ]
  },
  {
   "cell_type": "markdown",
   "metadata": {},
   "source": [
    "## Preprocessing"
   ]
  },
  {
   "cell_type": "code",
   "execution_count": 29,
   "metadata": {},
   "outputs": [
    {
     "data": {
      "text/plain": [
       "View of AnnData object with n_obs × n_vars = 5386 × 34546\n",
       "    obs: 'doublet'"
      ]
     },
     "execution_count": 29,
     "metadata": {},
     "output_type": "execute_result"
    }
   ],
   "source": [
    "adata"
   ]
  },
  {
   "cell_type": "code",
   "execution_count": 30,
   "metadata": {},
   "outputs": [
    {
     "data": {
      "text/html": [
       "<div>\n",
       "<style scoped>\n",
       "    .dataframe tbody tr th:only-of-type {\n",
       "        vertical-align: middle;\n",
       "    }\n",
       "\n",
       "    .dataframe tbody tr th {\n",
       "        vertical-align: top;\n",
       "    }\n",
       "\n",
       "    .dataframe thead th {\n",
       "        text-align: right;\n",
       "    }\n",
       "</style>\n",
       "<table border=\"1\" class=\"dataframe\">\n",
       "  <thead>\n",
       "    <tr style=\"text-align: right;\">\n",
       "      <th></th>\n",
       "    </tr>\n",
       "  </thead>\n",
       "  <tbody>\n",
       "    <tr>\n",
       "      <th>AL627309.1</th>\n",
       "    </tr>\n",
       "    <tr>\n",
       "      <th>AL627309.5</th>\n",
       "    </tr>\n",
       "    <tr>\n",
       "      <th>AL627309.4</th>\n",
       "    </tr>\n",
       "    <tr>\n",
       "      <th>AL669831.2</th>\n",
       "    </tr>\n",
       "    <tr>\n",
       "      <th>LINC01409</th>\n",
       "    </tr>\n",
       "    <tr>\n",
       "      <th>...</th>\n",
       "    </tr>\n",
       "    <tr>\n",
       "      <th>VN1R2</th>\n",
       "    </tr>\n",
       "    <tr>\n",
       "      <th>AL031676.1</th>\n",
       "    </tr>\n",
       "    <tr>\n",
       "      <th>SMIM34A</th>\n",
       "    </tr>\n",
       "    <tr>\n",
       "      <th>AL050402.1</th>\n",
       "    </tr>\n",
       "    <tr>\n",
       "      <th>AL445072.1</th>\n",
       "    </tr>\n",
       "  </tbody>\n",
       "</table>\n",
       "<p>34546 rows × 0 columns</p>\n",
       "</div>"
      ],
      "text/plain": [
       "Empty DataFrameView\n",
       "Columns: []\n",
       "Index: [AL627309.1, AL627309.5, AL627309.4, AL669831.2, LINC01409, FAM87B, LINC01128, LINC00115, FAM41C, AL645608.6, AL645608.2, LINC02593, SAMD11, NOC2L, KLHL17, PLEKHN1, PERM1, AL645608.7, HES4, ISG15, AL645608.1, AGRN, C1orf159, AL390719.3, LINC01342, AL390719.2, TTLL10-AS1, TTLL10, TNFRSF18, TNFRSF4, SDF4, B3GALT6, C1QTNF12, UBE2J2, LINC01786, SCNN1D, ACAP3, PUSL1, INTS11, AL139287.1, CPTP, DVL1, MXRA8, AURKAIP1, CCNL2, MRPL20-AS1, MRPL20, AL391244.2, ANKRD65, AL391244.1, LINC01770, VWA1, ATAD3C, ATAD3B, ATAD3A, TMEM240, SSU72, AL645728.1, FNDC10, AL691432.4, AL691432.2, MIB2, MMP23B, CDK11B, FO704657.1, SLC35E2B, CDK11A, SLC35E2A, NADK, GNB1, AL109917.1, CALML6, TMEM52, CFAP74, GABRD, AL391845.1, PRKCZ, AL590822.2, PRKCZ-AS1, FAAP20, AL590822.1, SKI, AL590822.3, MORN1, AL589739.1, AL513477.2, RER1, PEX10, PLCH2, AL139246.4, PANK4, HES5, AL139246.5, TNFRSF14-AS1, TNFRSF14, AL139246.3, PRXL2B, MMEL1, TTC34, AC242022.2, ...]\n",
       "\n",
       "[34546 rows x 0 columns]"
      ]
     },
     "execution_count": 30,
     "metadata": {},
     "output_type": "execute_result"
    }
   ],
   "source": [
    "# gene names\n",
    "adata.var"
   ]
  },
  {
   "cell_type": "code",
   "execution_count": 31,
   "metadata": {},
   "outputs": [
    {
     "name": "stderr",
     "output_type": "stream",
     "text": [
      "C:\\Users\\agarc\\AppData\\Local\\Temp\\ipykernel_17328\\2748145746.py:2: ImplicitModificationWarning: Trying to modify attribute `.var` of view, initializing view as actual.\n",
      "  adata.var['mt'] = adata.var.index.str.startswith('MT-')\n"
     ]
    }
   ],
   "source": [
    "# mitochondrial genes are annotated as \"MT-\" in the gene names, lets filter that.\n",
    "adata.var['mt'] = adata.var.index.str.startswith('MT-')"
   ]
  },
  {
   "cell_type": "code",
   "execution_count": 32,
   "metadata": {},
   "outputs": [
    {
     "data": {
      "text/html": [
       "<div>\n",
       "<style scoped>\n",
       "    .dataframe tbody tr th:only-of-type {\n",
       "        vertical-align: middle;\n",
       "    }\n",
       "\n",
       "    .dataframe tbody tr th {\n",
       "        vertical-align: top;\n",
       "    }\n",
       "\n",
       "    .dataframe thead th {\n",
       "        text-align: right;\n",
       "    }\n",
       "</style>\n",
       "<table border=\"1\" class=\"dataframe\">\n",
       "  <thead>\n",
       "    <tr style=\"text-align: right;\">\n",
       "      <th></th>\n",
       "      <th>mt</th>\n",
       "    </tr>\n",
       "  </thead>\n",
       "  <tbody>\n",
       "    <tr>\n",
       "      <th>AL627309.1</th>\n",
       "      <td>False</td>\n",
       "    </tr>\n",
       "    <tr>\n",
       "      <th>AL627309.5</th>\n",
       "      <td>False</td>\n",
       "    </tr>\n",
       "    <tr>\n",
       "      <th>AL627309.4</th>\n",
       "      <td>False</td>\n",
       "    </tr>\n",
       "    <tr>\n",
       "      <th>AL669831.2</th>\n",
       "      <td>False</td>\n",
       "    </tr>\n",
       "    <tr>\n",
       "      <th>LINC01409</th>\n",
       "      <td>False</td>\n",
       "    </tr>\n",
       "    <tr>\n",
       "      <th>...</th>\n",
       "      <td>...</td>\n",
       "    </tr>\n",
       "    <tr>\n",
       "      <th>VN1R2</th>\n",
       "      <td>False</td>\n",
       "    </tr>\n",
       "    <tr>\n",
       "      <th>AL031676.1</th>\n",
       "      <td>False</td>\n",
       "    </tr>\n",
       "    <tr>\n",
       "      <th>SMIM34A</th>\n",
       "      <td>False</td>\n",
       "    </tr>\n",
       "    <tr>\n",
       "      <th>AL050402.1</th>\n",
       "      <td>False</td>\n",
       "    </tr>\n",
       "    <tr>\n",
       "      <th>AL445072.1</th>\n",
       "      <td>False</td>\n",
       "    </tr>\n",
       "  </tbody>\n",
       "</table>\n",
       "<p>34546 rows × 1 columns</p>\n",
       "</div>"
      ],
      "text/plain": [
       "               mt\n",
       "AL627309.1  False\n",
       "AL627309.5  False\n",
       "AL627309.4  False\n",
       "AL669831.2  False\n",
       "LINC01409   False\n",
       "...           ...\n",
       "VN1R2       False\n",
       "AL031676.1  False\n",
       "SMIM34A     False\n",
       "AL050402.1  False\n",
       "AL445072.1  False\n",
       "\n",
       "[34546 rows x 1 columns]"
      ]
     },
     "execution_count": 32,
     "metadata": {},
     "output_type": "execute_result"
    }
   ],
   "source": [
    "adata.var"
   ]
  },
  {
   "cell_type": "code",
   "execution_count": 33,
   "metadata": {},
   "outputs": [],
   "source": [
    "# we need to now label ribosomal genes\n",
    "# we need to import a list of known ribosomal genes (import from the Broad Institute) can import into pandas\n",
    "import pandas as pd"
   ]
  },
  {
   "cell_type": "code",
   "execution_count": 34,
   "metadata": {},
   "outputs": [],
   "source": [
    "ribo_url = \"http://software.broadinstitute.org/gsea/msigdb/download_geneset.jsp?geneSetName=KEGG_RIBOSOME&fileType=txt\""
   ]
  },
  {
   "cell_type": "code",
   "execution_count": 35,
   "metadata": {},
   "outputs": [],
   "source": [
    "ribo_url = \"http://software.broadinstitute.org/gsea/msigdb/download_geneset.jsp?geneSetName=KEGG_RIBOSOME&fileType=txt\"\n",
    "ribo_genes = pd.read_table(ribo_url, skiprows=2, header=None)"
   ]
  },
  {
   "cell_type": "code",
   "execution_count": 36,
   "metadata": {},
   "outputs": [
    {
     "data": {
      "text/html": [
       "<div>\n",
       "<style scoped>\n",
       "    .dataframe tbody tr th:only-of-type {\n",
       "        vertical-align: middle;\n",
       "    }\n",
       "\n",
       "    .dataframe tbody tr th {\n",
       "        vertical-align: top;\n",
       "    }\n",
       "\n",
       "    .dataframe thead th {\n",
       "        text-align: right;\n",
       "    }\n",
       "</style>\n",
       "<table border=\"1\" class=\"dataframe\">\n",
       "  <thead>\n",
       "    <tr style=\"text-align: right;\">\n",
       "      <th></th>\n",
       "      <th>0</th>\n",
       "    </tr>\n",
       "  </thead>\n",
       "  <tbody>\n",
       "    <tr>\n",
       "      <th>0</th>\n",
       "      <td>FAU</td>\n",
       "    </tr>\n",
       "    <tr>\n",
       "      <th>1</th>\n",
       "      <td>MRPL13</td>\n",
       "    </tr>\n",
       "    <tr>\n",
       "      <th>2</th>\n",
       "      <td>RPL10</td>\n",
       "    </tr>\n",
       "    <tr>\n",
       "      <th>3</th>\n",
       "      <td>RPL10A</td>\n",
       "    </tr>\n",
       "    <tr>\n",
       "      <th>4</th>\n",
       "      <td>RPL10L</td>\n",
       "    </tr>\n",
       "    <tr>\n",
       "      <th>...</th>\n",
       "      <td>...</td>\n",
       "    </tr>\n",
       "    <tr>\n",
       "      <th>83</th>\n",
       "      <td>RPS9</td>\n",
       "    </tr>\n",
       "    <tr>\n",
       "      <th>84</th>\n",
       "      <td>RPSA</td>\n",
       "    </tr>\n",
       "    <tr>\n",
       "      <th>85</th>\n",
       "      <td>RSL24D1</td>\n",
       "    </tr>\n",
       "    <tr>\n",
       "      <th>86</th>\n",
       "      <td>RSL24D1P11</td>\n",
       "    </tr>\n",
       "    <tr>\n",
       "      <th>87</th>\n",
       "      <td>UBA52</td>\n",
       "    </tr>\n",
       "  </tbody>\n",
       "</table>\n",
       "<p>88 rows × 1 columns</p>\n",
       "</div>"
      ],
      "text/plain": [
       "             0\n",
       "0          FAU\n",
       "1       MRPL13\n",
       "2        RPL10\n",
       "3       RPL10A\n",
       "4       RPL10L\n",
       "..         ...\n",
       "83        RPS9\n",
       "84        RPSA\n",
       "85     RSL24D1\n",
       "86  RSL24D1P11\n",
       "87       UBA52\n",
       "\n",
       "[88 rows x 1 columns]"
      ]
     },
     "execution_count": 36,
     "metadata": {},
     "output_type": "execute_result"
    }
   ],
   "source": [
    "ribo_genes"
   ]
  },
  {
   "cell_type": "code",
   "execution_count": 37,
   "metadata": {},
   "outputs": [
    {
     "data": {
      "text/plain": [
       "array(['FAU', 'MRPL13', 'RPL10', 'RPL10A', 'RPL10L', 'RPL11', 'RPL12',\n",
       "       'RPL13', 'RPL13A', 'RPL14', 'RPL15', 'RPL17', 'RPL18', 'RPL18A',\n",
       "       'RPL19', 'RPL21', 'RPL22', 'RPL22L1', 'RPL23', 'RPL23A', 'RPL24',\n",
       "       'RPL26', 'RPL26L1', 'RPL27', 'RPL27A', 'RPL28', 'RPL29', 'RPL3',\n",
       "       'RPL30', 'RPL31', 'RPL32', 'RPL34', 'RPL35', 'RPL35A', 'RPL36',\n",
       "       'RPL36A', 'RPL36AL', 'RPL37', 'RPL37A', 'RPL38', 'RPL39', 'RPL3L',\n",
       "       'RPL4', 'RPL41', 'RPL5', 'RPL6', 'RPL7', 'RPL7A', 'RPL8', 'RPL9',\n",
       "       'RPLP0', 'RPLP1', 'RPLP2', 'RPS10', 'RPS11', 'RPS12', 'RPS13',\n",
       "       'RPS15', 'RPS15A', 'RPS16', 'RPS17', 'RPS18', 'RPS19', 'RPS2',\n",
       "       'RPS20', 'RPS21', 'RPS23', 'RPS24', 'RPS25', 'RPS26', 'RPS27',\n",
       "       'RPS27A', 'RPS27L', 'RPS28', 'RPS29', 'RPS3', 'RPS3A', 'RPS4X',\n",
       "       'RPS4Y1', 'RPS5', 'RPS6', 'RPS7', 'RPS8', 'RPS9', 'RPSA',\n",
       "       'RSL24D1', 'RSL24D1P11', 'UBA52'], dtype=object)"
      ]
     },
     "execution_count": 37,
     "metadata": {},
     "output_type": "execute_result"
    }
   ],
   "source": [
    "ribo_genes[0].values"
   ]
  },
  {
   "cell_type": "code",
   "execution_count": 38,
   "metadata": {},
   "outputs": [],
   "source": [
    "# same as we did with mitochondrial genes, we label it to our main dataframe\n",
    "adata.var['ribo'] = adata.var_names.isin(ribo_genes[0].values)"
   ]
  },
  {
   "cell_type": "code",
   "execution_count": 39,
   "metadata": {},
   "outputs": [
    {
     "data": {
      "text/html": [
       "<div>\n",
       "<style scoped>\n",
       "    .dataframe tbody tr th:only-of-type {\n",
       "        vertical-align: middle;\n",
       "    }\n",
       "\n",
       "    .dataframe tbody tr th {\n",
       "        vertical-align: top;\n",
       "    }\n",
       "\n",
       "    .dataframe thead th {\n",
       "        text-align: right;\n",
       "    }\n",
       "</style>\n",
       "<table border=\"1\" class=\"dataframe\">\n",
       "  <thead>\n",
       "    <tr style=\"text-align: right;\">\n",
       "      <th></th>\n",
       "      <th>mt</th>\n",
       "      <th>ribo</th>\n",
       "    </tr>\n",
       "  </thead>\n",
       "  <tbody>\n",
       "    <tr>\n",
       "      <th>AL627309.1</th>\n",
       "      <td>False</td>\n",
       "      <td>False</td>\n",
       "    </tr>\n",
       "    <tr>\n",
       "      <th>AL627309.5</th>\n",
       "      <td>False</td>\n",
       "      <td>False</td>\n",
       "    </tr>\n",
       "    <tr>\n",
       "      <th>AL627309.4</th>\n",
       "      <td>False</td>\n",
       "      <td>False</td>\n",
       "    </tr>\n",
       "    <tr>\n",
       "      <th>AL669831.2</th>\n",
       "      <td>False</td>\n",
       "      <td>False</td>\n",
       "    </tr>\n",
       "    <tr>\n",
       "      <th>LINC01409</th>\n",
       "      <td>False</td>\n",
       "      <td>False</td>\n",
       "    </tr>\n",
       "    <tr>\n",
       "      <th>...</th>\n",
       "      <td>...</td>\n",
       "      <td>...</td>\n",
       "    </tr>\n",
       "    <tr>\n",
       "      <th>VN1R2</th>\n",
       "      <td>False</td>\n",
       "      <td>False</td>\n",
       "    </tr>\n",
       "    <tr>\n",
       "      <th>AL031676.1</th>\n",
       "      <td>False</td>\n",
       "      <td>False</td>\n",
       "    </tr>\n",
       "    <tr>\n",
       "      <th>SMIM34A</th>\n",
       "      <td>False</td>\n",
       "      <td>False</td>\n",
       "    </tr>\n",
       "    <tr>\n",
       "      <th>AL050402.1</th>\n",
       "      <td>False</td>\n",
       "      <td>False</td>\n",
       "    </tr>\n",
       "    <tr>\n",
       "      <th>AL445072.1</th>\n",
       "      <td>False</td>\n",
       "      <td>False</td>\n",
       "    </tr>\n",
       "  </tbody>\n",
       "</table>\n",
       "<p>34546 rows × 2 columns</p>\n",
       "</div>"
      ],
      "text/plain": [
       "               mt   ribo\n",
       "AL627309.1  False  False\n",
       "AL627309.5  False  False\n",
       "AL627309.4  False  False\n",
       "AL669831.2  False  False\n",
       "LINC01409   False  False\n",
       "...           ...    ...\n",
       "VN1R2       False  False\n",
       "AL031676.1  False  False\n",
       "SMIM34A     False  False\n",
       "AL050402.1  False  False\n",
       "AL445072.1  False  False\n",
       "\n",
       "[34546 rows x 2 columns]"
      ]
     },
     "execution_count": 39,
     "metadata": {},
     "output_type": "execute_result"
    }
   ],
   "source": [
    "adata.var"
   ]
  },
  {
   "cell_type": "code",
   "execution_count": 40,
   "metadata": {},
   "outputs": [
    {
     "data": {
      "text/html": [
       "<div>\n",
       "<style scoped>\n",
       "    .dataframe tbody tr th:only-of-type {\n",
       "        vertical-align: middle;\n",
       "    }\n",
       "\n",
       "    .dataframe tbody tr th {\n",
       "        vertical-align: top;\n",
       "    }\n",
       "\n",
       "    .dataframe thead th {\n",
       "        text-align: right;\n",
       "    }\n",
       "</style>\n",
       "<table border=\"1\" class=\"dataframe\">\n",
       "  <thead>\n",
       "    <tr style=\"text-align: right;\">\n",
       "      <th></th>\n",
       "      <th>doublet</th>\n",
       "    </tr>\n",
       "  </thead>\n",
       "  <tbody>\n",
       "    <tr>\n",
       "      <th>TAACTTCCAACCACGC-1_1</th>\n",
       "      <td>False</td>\n",
       "    </tr>\n",
       "    <tr>\n",
       "      <th>TTACCGCCACTCAGAT-1_1</th>\n",
       "      <td>False</td>\n",
       "    </tr>\n",
       "    <tr>\n",
       "      <th>TTGGTTTTCCTAGCTC-1_1</th>\n",
       "      <td>False</td>\n",
       "    </tr>\n",
       "    <tr>\n",
       "      <th>CGCATAACATGCCGGT-1_1</th>\n",
       "      <td>False</td>\n",
       "    </tr>\n",
       "    <tr>\n",
       "      <th>CTGTAGATCAACGTGT-1_1</th>\n",
       "      <td>False</td>\n",
       "    </tr>\n",
       "    <tr>\n",
       "      <th>...</th>\n",
       "      <td>...</td>\n",
       "    </tr>\n",
       "    <tr>\n",
       "      <th>CGCCATTGTTTGCCGG-1_1</th>\n",
       "      <td>False</td>\n",
       "    </tr>\n",
       "    <tr>\n",
       "      <th>CACTGGGGTCTACGTA-1_1</th>\n",
       "      <td>False</td>\n",
       "    </tr>\n",
       "    <tr>\n",
       "      <th>CATACTTGTAGAGGAA-1_1</th>\n",
       "      <td>False</td>\n",
       "    </tr>\n",
       "    <tr>\n",
       "      <th>TTTGGTTTCCACGGAC-1_1</th>\n",
       "      <td>False</td>\n",
       "    </tr>\n",
       "    <tr>\n",
       "      <th>ATGCATGAGTCATGAA-1_1</th>\n",
       "      <td>False</td>\n",
       "    </tr>\n",
       "  </tbody>\n",
       "</table>\n",
       "<p>5386 rows × 1 columns</p>\n",
       "</div>"
      ],
      "text/plain": [
       "                      doublet\n",
       "TAACTTCCAACCACGC-1_1    False\n",
       "TTACCGCCACTCAGAT-1_1    False\n",
       "TTGGTTTTCCTAGCTC-1_1    False\n",
       "CGCATAACATGCCGGT-1_1    False\n",
       "CTGTAGATCAACGTGT-1_1    False\n",
       "...                       ...\n",
       "CGCCATTGTTTGCCGG-1_1    False\n",
       "CACTGGGGTCTACGTA-1_1    False\n",
       "CATACTTGTAGAGGAA-1_1    False\n",
       "TTTGGTTTCCACGGAC-1_1    False\n",
       "ATGCATGAGTCATGAA-1_1    False\n",
       "\n",
       "[5386 rows x 1 columns]"
      ]
     },
     "execution_count": 40,
     "metadata": {},
     "output_type": "execute_result"
    }
   ],
   "source": [
    "adata.obs"
   ]
  },
  {
   "cell_type": "code",
   "execution_count": 41,
   "metadata": {},
   "outputs": [],
   "source": [
    "# calculate qc metrics\n",
    "sc.pp.calculate_qc_metrics(adata, qc_vars=['mt', 'ribo'], percent_top=None, log1p=False, inplace=True)"
   ]
  },
  {
   "cell_type": "code",
   "execution_count": 42,
   "metadata": {},
   "outputs": [
    {
     "data": {
      "text/html": [
       "<div>\n",
       "<style scoped>\n",
       "    .dataframe tbody tr th:only-of-type {\n",
       "        vertical-align: middle;\n",
       "    }\n",
       "\n",
       "    .dataframe tbody tr th {\n",
       "        vertical-align: top;\n",
       "    }\n",
       "\n",
       "    .dataframe thead th {\n",
       "        text-align: right;\n",
       "    }\n",
       "</style>\n",
       "<table border=\"1\" class=\"dataframe\">\n",
       "  <thead>\n",
       "    <tr style=\"text-align: right;\">\n",
       "      <th></th>\n",
       "      <th>mt</th>\n",
       "      <th>ribo</th>\n",
       "      <th>n_cells_by_counts</th>\n",
       "      <th>mean_counts</th>\n",
       "      <th>pct_dropout_by_counts</th>\n",
       "      <th>total_counts</th>\n",
       "    </tr>\n",
       "  </thead>\n",
       "  <tbody>\n",
       "    <tr>\n",
       "      <th>AL627309.1</th>\n",
       "      <td>False</td>\n",
       "      <td>False</td>\n",
       "      <td>5</td>\n",
       "      <td>0.000928</td>\n",
       "      <td>99.907167</td>\n",
       "      <td>5.0</td>\n",
       "    </tr>\n",
       "    <tr>\n",
       "      <th>AL627309.5</th>\n",
       "      <td>False</td>\n",
       "      <td>False</td>\n",
       "      <td>23</td>\n",
       "      <td>0.004270</td>\n",
       "      <td>99.572967</td>\n",
       "      <td>23.0</td>\n",
       "    </tr>\n",
       "    <tr>\n",
       "      <th>AL627309.4</th>\n",
       "      <td>False</td>\n",
       "      <td>False</td>\n",
       "      <td>3</td>\n",
       "      <td>0.000557</td>\n",
       "      <td>99.944300</td>\n",
       "      <td>3.0</td>\n",
       "    </tr>\n",
       "    <tr>\n",
       "      <th>AL669831.2</th>\n",
       "      <td>False</td>\n",
       "      <td>False</td>\n",
       "      <td>1</td>\n",
       "      <td>0.000186</td>\n",
       "      <td>99.981433</td>\n",
       "      <td>1.0</td>\n",
       "    </tr>\n",
       "    <tr>\n",
       "      <th>LINC01409</th>\n",
       "      <td>False</td>\n",
       "      <td>False</td>\n",
       "      <td>218</td>\n",
       "      <td>0.043446</td>\n",
       "      <td>95.952469</td>\n",
       "      <td>234.0</td>\n",
       "    </tr>\n",
       "    <tr>\n",
       "      <th>...</th>\n",
       "      <td>...</td>\n",
       "      <td>...</td>\n",
       "      <td>...</td>\n",
       "      <td>...</td>\n",
       "      <td>...</td>\n",
       "      <td>...</td>\n",
       "    </tr>\n",
       "    <tr>\n",
       "      <th>VN1R2</th>\n",
       "      <td>False</td>\n",
       "      <td>False</td>\n",
       "      <td>0</td>\n",
       "      <td>0.000000</td>\n",
       "      <td>100.000000</td>\n",
       "      <td>0.0</td>\n",
       "    </tr>\n",
       "    <tr>\n",
       "      <th>AL031676.1</th>\n",
       "      <td>False</td>\n",
       "      <td>False</td>\n",
       "      <td>0</td>\n",
       "      <td>0.000000</td>\n",
       "      <td>100.000000</td>\n",
       "      <td>0.0</td>\n",
       "    </tr>\n",
       "    <tr>\n",
       "      <th>SMIM34A</th>\n",
       "      <td>False</td>\n",
       "      <td>False</td>\n",
       "      <td>0</td>\n",
       "      <td>0.000000</td>\n",
       "      <td>100.000000</td>\n",
       "      <td>0.0</td>\n",
       "    </tr>\n",
       "    <tr>\n",
       "      <th>AL050402.1</th>\n",
       "      <td>False</td>\n",
       "      <td>False</td>\n",
       "      <td>0</td>\n",
       "      <td>0.000000</td>\n",
       "      <td>100.000000</td>\n",
       "      <td>0.0</td>\n",
       "    </tr>\n",
       "    <tr>\n",
       "      <th>AL445072.1</th>\n",
       "      <td>False</td>\n",
       "      <td>False</td>\n",
       "      <td>0</td>\n",
       "      <td>0.000000</td>\n",
       "      <td>100.000000</td>\n",
       "      <td>0.0</td>\n",
       "    </tr>\n",
       "  </tbody>\n",
       "</table>\n",
       "<p>34546 rows × 6 columns</p>\n",
       "</div>"
      ],
      "text/plain": [
       "               mt   ribo  n_cells_by_counts  mean_counts  \\\n",
       "AL627309.1  False  False                  5     0.000928   \n",
       "AL627309.5  False  False                 23     0.004270   \n",
       "AL627309.4  False  False                  3     0.000557   \n",
       "AL669831.2  False  False                  1     0.000186   \n",
       "LINC01409   False  False                218     0.043446   \n",
       "...           ...    ...                ...          ...   \n",
       "VN1R2       False  False                  0     0.000000   \n",
       "AL031676.1  False  False                  0     0.000000   \n",
       "SMIM34A     False  False                  0     0.000000   \n",
       "AL050402.1  False  False                  0     0.000000   \n",
       "AL445072.1  False  False                  0     0.000000   \n",
       "\n",
       "            pct_dropout_by_counts  total_counts  \n",
       "AL627309.1              99.907167           5.0  \n",
       "AL627309.5              99.572967          23.0  \n",
       "AL627309.4              99.944300           3.0  \n",
       "AL669831.2              99.981433           1.0  \n",
       "LINC01409               95.952469         234.0  \n",
       "...                           ...           ...  \n",
       "VN1R2                  100.000000           0.0  \n",
       "AL031676.1             100.000000           0.0  \n",
       "SMIM34A                100.000000           0.0  \n",
       "AL050402.1             100.000000           0.0  \n",
       "AL445072.1             100.000000           0.0  \n",
       "\n",
       "[34546 rows x 6 columns]"
      ]
     },
     "execution_count": 42,
     "metadata": {},
     "output_type": "execute_result"
    }
   ],
   "source": [
    "adata.var"
   ]
  },
  {
   "cell_type": "markdown",
   "metadata": {},
   "source": [
    "pct_dropout_by_counts: percent dropout by counts\n",
    "n_cells_by_counts = gene was found in ___ many cells"
   ]
  },
  {
   "cell_type": "code",
   "execution_count": 43,
   "metadata": {},
   "outputs": [
    {
     "data": {
      "text/html": [
       "<div>\n",
       "<style scoped>\n",
       "    .dataframe tbody tr th:only-of-type {\n",
       "        vertical-align: middle;\n",
       "    }\n",
       "\n",
       "    .dataframe tbody tr th {\n",
       "        vertical-align: top;\n",
       "    }\n",
       "\n",
       "    .dataframe thead th {\n",
       "        text-align: right;\n",
       "    }\n",
       "</style>\n",
       "<table border=\"1\" class=\"dataframe\">\n",
       "  <thead>\n",
       "    <tr style=\"text-align: right;\">\n",
       "      <th></th>\n",
       "      <th>doublet</th>\n",
       "      <th>n_genes_by_counts</th>\n",
       "      <th>total_counts</th>\n",
       "      <th>total_counts_mt</th>\n",
       "      <th>pct_counts_mt</th>\n",
       "      <th>total_counts_ribo</th>\n",
       "      <th>pct_counts_ribo</th>\n",
       "    </tr>\n",
       "  </thead>\n",
       "  <tbody>\n",
       "    <tr>\n",
       "      <th>TAACTTCCAACCACGC-1_1</th>\n",
       "      <td>False</td>\n",
       "      <td>5158</td>\n",
       "      <td>15645.0</td>\n",
       "      <td>221.0</td>\n",
       "      <td>1.412592</td>\n",
       "      <td>211.0</td>\n",
       "      <td>1.348674</td>\n",
       "    </tr>\n",
       "    <tr>\n",
       "      <th>TTACCGCCACTCAGAT-1_1</th>\n",
       "      <td>False</td>\n",
       "      <td>4144</td>\n",
       "      <td>11369.0</td>\n",
       "      <td>39.0</td>\n",
       "      <td>0.343038</td>\n",
       "      <td>5.0</td>\n",
       "      <td>0.043979</td>\n",
       "    </tr>\n",
       "    <tr>\n",
       "      <th>TTGGTTTTCCTAGCTC-1_1</th>\n",
       "      <td>False</td>\n",
       "      <td>3902</td>\n",
       "      <td>11472.0</td>\n",
       "      <td>463.0</td>\n",
       "      <td>4.035913</td>\n",
       "      <td>13.0</td>\n",
       "      <td>0.113319</td>\n",
       "    </tr>\n",
       "    <tr>\n",
       "      <th>CGCATAACATGCCGGT-1_1</th>\n",
       "      <td>False</td>\n",
       "      <td>3745</td>\n",
       "      <td>8617.0</td>\n",
       "      <td>119.0</td>\n",
       "      <td>1.380991</td>\n",
       "      <td>25.0</td>\n",
       "      <td>0.290124</td>\n",
       "    </tr>\n",
       "    <tr>\n",
       "      <th>CTGTAGATCAACGTGT-1_1</th>\n",
       "      <td>False</td>\n",
       "      <td>3108</td>\n",
       "      <td>7602.0</td>\n",
       "      <td>1.0</td>\n",
       "      <td>0.013154</td>\n",
       "      <td>1.0</td>\n",
       "      <td>0.013154</td>\n",
       "    </tr>\n",
       "    <tr>\n",
       "      <th>...</th>\n",
       "      <td>...</td>\n",
       "      <td>...</td>\n",
       "      <td>...</td>\n",
       "      <td>...</td>\n",
       "      <td>...</td>\n",
       "      <td>...</td>\n",
       "      <td>...</td>\n",
       "    </tr>\n",
       "    <tr>\n",
       "      <th>CGCCATTGTTTGCCGG-1_1</th>\n",
       "      <td>False</td>\n",
       "      <td>355</td>\n",
       "      <td>410.0</td>\n",
       "      <td>3.0</td>\n",
       "      <td>0.731707</td>\n",
       "      <td>0.0</td>\n",
       "      <td>0.000000</td>\n",
       "    </tr>\n",
       "    <tr>\n",
       "      <th>CACTGGGGTCTACGTA-1_1</th>\n",
       "      <td>False</td>\n",
       "      <td>346</td>\n",
       "      <td>403.0</td>\n",
       "      <td>0.0</td>\n",
       "      <td>0.000000</td>\n",
       "      <td>0.0</td>\n",
       "      <td>0.000000</td>\n",
       "    </tr>\n",
       "    <tr>\n",
       "      <th>CATACTTGTAGAGGAA-1_1</th>\n",
       "      <td>False</td>\n",
       "      <td>360</td>\n",
       "      <td>410.0</td>\n",
       "      <td>2.0</td>\n",
       "      <td>0.487805</td>\n",
       "      <td>0.0</td>\n",
       "      <td>0.000000</td>\n",
       "    </tr>\n",
       "    <tr>\n",
       "      <th>TTTGGTTTCCACGGAC-1_1</th>\n",
       "      <td>False</td>\n",
       "      <td>299</td>\n",
       "      <td>405.0</td>\n",
       "      <td>0.0</td>\n",
       "      <td>0.000000</td>\n",
       "      <td>2.0</td>\n",
       "      <td>0.493827</td>\n",
       "    </tr>\n",
       "    <tr>\n",
       "      <th>ATGCATGAGTCATGAA-1_1</th>\n",
       "      <td>False</td>\n",
       "      <td>351</td>\n",
       "      <td>411.0</td>\n",
       "      <td>0.0</td>\n",
       "      <td>0.000000</td>\n",
       "      <td>0.0</td>\n",
       "      <td>0.000000</td>\n",
       "    </tr>\n",
       "  </tbody>\n",
       "</table>\n",
       "<p>5386 rows × 7 columns</p>\n",
       "</div>"
      ],
      "text/plain": [
       "                      doublet  n_genes_by_counts  total_counts  \\\n",
       "TAACTTCCAACCACGC-1_1    False               5158       15645.0   \n",
       "TTACCGCCACTCAGAT-1_1    False               4144       11369.0   \n",
       "TTGGTTTTCCTAGCTC-1_1    False               3902       11472.0   \n",
       "CGCATAACATGCCGGT-1_1    False               3745        8617.0   \n",
       "CTGTAGATCAACGTGT-1_1    False               3108        7602.0   \n",
       "...                       ...                ...           ...   \n",
       "CGCCATTGTTTGCCGG-1_1    False                355         410.0   \n",
       "CACTGGGGTCTACGTA-1_1    False                346         403.0   \n",
       "CATACTTGTAGAGGAA-1_1    False                360         410.0   \n",
       "TTTGGTTTCCACGGAC-1_1    False                299         405.0   \n",
       "ATGCATGAGTCATGAA-1_1    False                351         411.0   \n",
       "\n",
       "                      total_counts_mt  pct_counts_mt  total_counts_ribo  \\\n",
       "TAACTTCCAACCACGC-1_1            221.0       1.412592              211.0   \n",
       "TTACCGCCACTCAGAT-1_1             39.0       0.343038                5.0   \n",
       "TTGGTTTTCCTAGCTC-1_1            463.0       4.035913               13.0   \n",
       "CGCATAACATGCCGGT-1_1            119.0       1.380991               25.0   \n",
       "CTGTAGATCAACGTGT-1_1              1.0       0.013154                1.0   \n",
       "...                               ...            ...                ...   \n",
       "CGCCATTGTTTGCCGG-1_1              3.0       0.731707                0.0   \n",
       "CACTGGGGTCTACGTA-1_1              0.0       0.000000                0.0   \n",
       "CATACTTGTAGAGGAA-1_1              2.0       0.487805                0.0   \n",
       "TTTGGTTTCCACGGAC-1_1              0.0       0.000000                2.0   \n",
       "ATGCATGAGTCATGAA-1_1              0.0       0.000000                0.0   \n",
       "\n",
       "                      pct_counts_ribo  \n",
       "TAACTTCCAACCACGC-1_1         1.348674  \n",
       "TTACCGCCACTCAGAT-1_1         0.043979  \n",
       "TTGGTTTTCCTAGCTC-1_1         0.113319  \n",
       "CGCATAACATGCCGGT-1_1         0.290124  \n",
       "CTGTAGATCAACGTGT-1_1         0.013154  \n",
       "...                               ...  \n",
       "CGCCATTGTTTGCCGG-1_1         0.000000  \n",
       "CACTGGGGTCTACGTA-1_1         0.000000  \n",
       "CATACTTGTAGAGGAA-1_1         0.000000  \n",
       "TTTGGTTTCCACGGAC-1_1         0.493827  \n",
       "ATGCATGAGTCATGAA-1_1         0.000000  \n",
       "\n",
       "[5386 rows x 7 columns]"
      ]
     },
     "execution_count": 43,
     "metadata": {},
     "output_type": "execute_result"
    }
   ],
   "source": [
    "adata.obs"
   ]
  },
  {
   "cell_type": "markdown",
   "metadata": {},
   "source": [
    "total_counts_mt = mitochondrial counts\n",
    "pct_counts_mt = percent of the mitochondrial reads for that given cell\n",
    "pct_counts_ribo = percent counts of the ribosomal reads for that given cell\n",
    "n_genes_by_counts = number of genes positive in that cell\n",
    "total_counts = total number of umis "
   ]
  },
  {
   "cell_type": "code",
   "execution_count": 44,
   "metadata": {},
   "outputs": [
    {
     "data": {
      "text/html": [
       "<div>\n",
       "<style scoped>\n",
       "    .dataframe tbody tr th:only-of-type {\n",
       "        vertical-align: middle;\n",
       "    }\n",
       "\n",
       "    .dataframe tbody tr th {\n",
       "        vertical-align: top;\n",
       "    }\n",
       "\n",
       "    .dataframe thead th {\n",
       "        text-align: right;\n",
       "    }\n",
       "</style>\n",
       "<table border=\"1\" class=\"dataframe\">\n",
       "  <thead>\n",
       "    <tr style=\"text-align: right;\">\n",
       "      <th></th>\n",
       "      <th>mt</th>\n",
       "      <th>ribo</th>\n",
       "      <th>n_cells_by_counts</th>\n",
       "      <th>mean_counts</th>\n",
       "      <th>pct_dropout_by_counts</th>\n",
       "      <th>total_counts</th>\n",
       "    </tr>\n",
       "  </thead>\n",
       "  <tbody>\n",
       "    <tr>\n",
       "      <th>AL445072.1</th>\n",
       "      <td>False</td>\n",
       "      <td>False</td>\n",
       "      <td>0</td>\n",
       "      <td>0.000000</td>\n",
       "      <td>100.000000</td>\n",
       "      <td>0.0</td>\n",
       "    </tr>\n",
       "    <tr>\n",
       "      <th>AC116035.1</th>\n",
       "      <td>False</td>\n",
       "      <td>False</td>\n",
       "      <td>0</td>\n",
       "      <td>0.000000</td>\n",
       "      <td>100.000000</td>\n",
       "      <td>0.0</td>\n",
       "    </tr>\n",
       "    <tr>\n",
       "      <th>AC025614.2</th>\n",
       "      <td>False</td>\n",
       "      <td>False</td>\n",
       "      <td>0</td>\n",
       "      <td>0.000000</td>\n",
       "      <td>100.000000</td>\n",
       "      <td>0.0</td>\n",
       "    </tr>\n",
       "    <tr>\n",
       "      <th>AL360006.1</th>\n",
       "      <td>False</td>\n",
       "      <td>False</td>\n",
       "      <td>0</td>\n",
       "      <td>0.000000</td>\n",
       "      <td>100.000000</td>\n",
       "      <td>0.0</td>\n",
       "    </tr>\n",
       "    <tr>\n",
       "      <th>AL122008.4</th>\n",
       "      <td>False</td>\n",
       "      <td>False</td>\n",
       "      <td>0</td>\n",
       "      <td>0.000000</td>\n",
       "      <td>100.000000</td>\n",
       "      <td>0.0</td>\n",
       "    </tr>\n",
       "    <tr>\n",
       "      <th>...</th>\n",
       "      <td>...</td>\n",
       "      <td>...</td>\n",
       "      <td>...</td>\n",
       "      <td>...</td>\n",
       "      <td>...</td>\n",
       "      <td>...</td>\n",
       "    </tr>\n",
       "    <tr>\n",
       "      <th>AKAP13</th>\n",
       "      <td>False</td>\n",
       "      <td>False</td>\n",
       "      <td>3831</td>\n",
       "      <td>2.797066</td>\n",
       "      <td>28.871147</td>\n",
       "      <td>15065.0</td>\n",
       "    </tr>\n",
       "    <tr>\n",
       "      <th>MBNL1</th>\n",
       "      <td>False</td>\n",
       "      <td>False</td>\n",
       "      <td>3915</td>\n",
       "      <td>2.600446</td>\n",
       "      <td>27.311548</td>\n",
       "      <td>14006.0</td>\n",
       "    </tr>\n",
       "    <tr>\n",
       "      <th>NEAT1</th>\n",
       "      <td>False</td>\n",
       "      <td>False</td>\n",
       "      <td>3915</td>\n",
       "      <td>4.878945</td>\n",
       "      <td>27.311548</td>\n",
       "      <td>26278.0</td>\n",
       "    </tr>\n",
       "    <tr>\n",
       "      <th>ZBTB20</th>\n",
       "      <td>False</td>\n",
       "      <td>False</td>\n",
       "      <td>4046</td>\n",
       "      <td>2.339584</td>\n",
       "      <td>24.879317</td>\n",
       "      <td>12601.0</td>\n",
       "    </tr>\n",
       "    <tr>\n",
       "      <th>MALAT1</th>\n",
       "      <td>False</td>\n",
       "      <td>False</td>\n",
       "      <td>5377</td>\n",
       "      <td>62.770332</td>\n",
       "      <td>0.167100</td>\n",
       "      <td>338081.0</td>\n",
       "    </tr>\n",
       "  </tbody>\n",
       "</table>\n",
       "<p>34546 rows × 6 columns</p>\n",
       "</div>"
      ],
      "text/plain": [
       "               mt   ribo  n_cells_by_counts  mean_counts  \\\n",
       "AL445072.1  False  False                  0     0.000000   \n",
       "AC116035.1  False  False                  0     0.000000   \n",
       "AC025614.2  False  False                  0     0.000000   \n",
       "AL360006.1  False  False                  0     0.000000   \n",
       "AL122008.4  False  False                  0     0.000000   \n",
       "...           ...    ...                ...          ...   \n",
       "AKAP13      False  False               3831     2.797066   \n",
       "MBNL1       False  False               3915     2.600446   \n",
       "NEAT1       False  False               3915     4.878945   \n",
       "ZBTB20      False  False               4046     2.339584   \n",
       "MALAT1      False  False               5377    62.770332   \n",
       "\n",
       "            pct_dropout_by_counts  total_counts  \n",
       "AL445072.1             100.000000           0.0  \n",
       "AC116035.1             100.000000           0.0  \n",
       "AC025614.2             100.000000           0.0  \n",
       "AL360006.1             100.000000           0.0  \n",
       "AL122008.4             100.000000           0.0  \n",
       "...                           ...           ...  \n",
       "AKAP13                  28.871147       15065.0  \n",
       "MBNL1                   27.311548       14006.0  \n",
       "NEAT1                   27.311548       26278.0  \n",
       "ZBTB20                  24.879317       12601.0  \n",
       "MALAT1                   0.167100      338081.0  \n",
       "\n",
       "[34546 rows x 6 columns]"
      ]
     },
     "execution_count": 44,
     "metadata": {},
     "output_type": "execute_result"
    }
   ],
   "source": [
    "adata.var.sort_values('n_cells_by_counts')"
   ]
  },
  {
   "cell_type": "markdown",
   "metadata": {},
   "source": [
    "In [n_cells_by_counts], you can see some genes like MALAT1 is found in nearly every cell, and other genes like AL445072.1 are found in no cells.\n",
    "We are gonna filter out genes that were not found in at least 3 cells."
   ]
  },
  {
   "cell_type": "code",
   "execution_count": 45,
   "metadata": {},
   "outputs": [],
   "source": [
    "sc.pp.filter_genes(adata, min_cells=3)"
   ]
  },
  {
   "cell_type": "code",
   "execution_count": 46,
   "metadata": {},
   "outputs": [
    {
     "data": {
      "text/html": [
       "<div>\n",
       "<style scoped>\n",
       "    .dataframe tbody tr th:only-of-type {\n",
       "        vertical-align: middle;\n",
       "    }\n",
       "\n",
       "    .dataframe tbody tr th {\n",
       "        vertical-align: top;\n",
       "    }\n",
       "\n",
       "    .dataframe thead th {\n",
       "        text-align: right;\n",
       "    }\n",
       "</style>\n",
       "<table border=\"1\" class=\"dataframe\">\n",
       "  <thead>\n",
       "    <tr style=\"text-align: right;\">\n",
       "      <th></th>\n",
       "      <th>mt</th>\n",
       "      <th>ribo</th>\n",
       "      <th>n_cells_by_counts</th>\n",
       "      <th>mean_counts</th>\n",
       "      <th>pct_dropout_by_counts</th>\n",
       "      <th>total_counts</th>\n",
       "      <th>n_cells</th>\n",
       "    </tr>\n",
       "  </thead>\n",
       "  <tbody>\n",
       "    <tr>\n",
       "      <th>PRSS2</th>\n",
       "      <td>False</td>\n",
       "      <td>False</td>\n",
       "      <td>3</td>\n",
       "      <td>0.000557</td>\n",
       "      <td>99.944300</td>\n",
       "      <td>3.0</td>\n",
       "      <td>3</td>\n",
       "    </tr>\n",
       "    <tr>\n",
       "      <th>AL391988.1</th>\n",
       "      <td>False</td>\n",
       "      <td>False</td>\n",
       "      <td>3</td>\n",
       "      <td>0.000557</td>\n",
       "      <td>99.944300</td>\n",
       "      <td>3.0</td>\n",
       "      <td>3</td>\n",
       "    </tr>\n",
       "    <tr>\n",
       "      <th>CTRB1</th>\n",
       "      <td>False</td>\n",
       "      <td>False</td>\n",
       "      <td>3</td>\n",
       "      <td>0.000557</td>\n",
       "      <td>99.944300</td>\n",
       "      <td>3.0</td>\n",
       "      <td>3</td>\n",
       "    </tr>\n",
       "    <tr>\n",
       "      <th>SNHG27</th>\n",
       "      <td>False</td>\n",
       "      <td>False</td>\n",
       "      <td>3</td>\n",
       "      <td>0.000557</td>\n",
       "      <td>99.944300</td>\n",
       "      <td>3.0</td>\n",
       "      <td>3</td>\n",
       "    </tr>\n",
       "    <tr>\n",
       "      <th>LINC02377</th>\n",
       "      <td>False</td>\n",
       "      <td>False</td>\n",
       "      <td>3</td>\n",
       "      <td>0.000557</td>\n",
       "      <td>99.944300</td>\n",
       "      <td>3.0</td>\n",
       "      <td>3</td>\n",
       "    </tr>\n",
       "    <tr>\n",
       "      <th>...</th>\n",
       "      <td>...</td>\n",
       "      <td>...</td>\n",
       "      <td>...</td>\n",
       "      <td>...</td>\n",
       "      <td>...</td>\n",
       "      <td>...</td>\n",
       "      <td>...</td>\n",
       "    </tr>\n",
       "    <tr>\n",
       "      <th>AKAP13</th>\n",
       "      <td>False</td>\n",
       "      <td>False</td>\n",
       "      <td>3831</td>\n",
       "      <td>2.797066</td>\n",
       "      <td>28.871147</td>\n",
       "      <td>15065.0</td>\n",
       "      <td>3831</td>\n",
       "    </tr>\n",
       "    <tr>\n",
       "      <th>MBNL1</th>\n",
       "      <td>False</td>\n",
       "      <td>False</td>\n",
       "      <td>3915</td>\n",
       "      <td>2.600446</td>\n",
       "      <td>27.311548</td>\n",
       "      <td>14006.0</td>\n",
       "      <td>3915</td>\n",
       "    </tr>\n",
       "    <tr>\n",
       "      <th>NEAT1</th>\n",
       "      <td>False</td>\n",
       "      <td>False</td>\n",
       "      <td>3915</td>\n",
       "      <td>4.878945</td>\n",
       "      <td>27.311548</td>\n",
       "      <td>26278.0</td>\n",
       "      <td>3915</td>\n",
       "    </tr>\n",
       "    <tr>\n",
       "      <th>ZBTB20</th>\n",
       "      <td>False</td>\n",
       "      <td>False</td>\n",
       "      <td>4046</td>\n",
       "      <td>2.339584</td>\n",
       "      <td>24.879317</td>\n",
       "      <td>12601.0</td>\n",
       "      <td>4046</td>\n",
       "    </tr>\n",
       "    <tr>\n",
       "      <th>MALAT1</th>\n",
       "      <td>False</td>\n",
       "      <td>False</td>\n",
       "      <td>5377</td>\n",
       "      <td>62.770332</td>\n",
       "      <td>0.167100</td>\n",
       "      <td>338081.0</td>\n",
       "      <td>5377</td>\n",
       "    </tr>\n",
       "  </tbody>\n",
       "</table>\n",
       "<p>23834 rows × 7 columns</p>\n",
       "</div>"
      ],
      "text/plain": [
       "               mt   ribo  n_cells_by_counts  mean_counts  \\\n",
       "PRSS2       False  False                  3     0.000557   \n",
       "AL391988.1  False  False                  3     0.000557   \n",
       "CTRB1       False  False                  3     0.000557   \n",
       "SNHG27      False  False                  3     0.000557   \n",
       "LINC02377   False  False                  3     0.000557   \n",
       "...           ...    ...                ...          ...   \n",
       "AKAP13      False  False               3831     2.797066   \n",
       "MBNL1       False  False               3915     2.600446   \n",
       "NEAT1       False  False               3915     4.878945   \n",
       "ZBTB20      False  False               4046     2.339584   \n",
       "MALAT1      False  False               5377    62.770332   \n",
       "\n",
       "            pct_dropout_by_counts  total_counts  n_cells  \n",
       "PRSS2                   99.944300           3.0        3  \n",
       "AL391988.1              99.944300           3.0        3  \n",
       "CTRB1                   99.944300           3.0        3  \n",
       "SNHG27                  99.944300           3.0        3  \n",
       "LINC02377               99.944300           3.0        3  \n",
       "...                           ...           ...      ...  \n",
       "AKAP13                  28.871147       15065.0     3831  \n",
       "MBNL1                   27.311548       14006.0     3915  \n",
       "NEAT1                   27.311548       26278.0     3915  \n",
       "ZBTB20                  24.879317       12601.0     4046  \n",
       "MALAT1                   0.167100      338081.0     5377  \n",
       "\n",
       "[23834 rows x 7 columns]"
      ]
     },
     "execution_count": 46,
     "metadata": {},
     "output_type": "execute_result"
    }
   ],
   "source": [
    "adata.var.sort_values('n_cells_by_counts')\n",
    "# now every gene listed is in at least 3 cells"
   ]
  },
  {
   "cell_type": "code",
   "execution_count": 47,
   "metadata": {},
   "outputs": [
    {
     "data": {
      "text/html": [
       "<div>\n",
       "<style scoped>\n",
       "    .dataframe tbody tr th:only-of-type {\n",
       "        vertical-align: middle;\n",
       "    }\n",
       "\n",
       "    .dataframe tbody tr th {\n",
       "        vertical-align: top;\n",
       "    }\n",
       "\n",
       "    .dataframe thead th {\n",
       "        text-align: right;\n",
       "    }\n",
       "</style>\n",
       "<table border=\"1\" class=\"dataframe\">\n",
       "  <thead>\n",
       "    <tr style=\"text-align: right;\">\n",
       "      <th></th>\n",
       "      <th>doublet</th>\n",
       "      <th>n_genes_by_counts</th>\n",
       "      <th>total_counts</th>\n",
       "      <th>total_counts_mt</th>\n",
       "      <th>pct_counts_mt</th>\n",
       "      <th>total_counts_ribo</th>\n",
       "      <th>pct_counts_ribo</th>\n",
       "    </tr>\n",
       "  </thead>\n",
       "  <tbody>\n",
       "    <tr>\n",
       "      <th>TAACTTCCAACCACGC-1_1</th>\n",
       "      <td>False</td>\n",
       "      <td>5158</td>\n",
       "      <td>15645.0</td>\n",
       "      <td>221.0</td>\n",
       "      <td>1.412592</td>\n",
       "      <td>211.0</td>\n",
       "      <td>1.348674</td>\n",
       "    </tr>\n",
       "    <tr>\n",
       "      <th>TTACCGCCACTCAGAT-1_1</th>\n",
       "      <td>False</td>\n",
       "      <td>4144</td>\n",
       "      <td>11369.0</td>\n",
       "      <td>39.0</td>\n",
       "      <td>0.343038</td>\n",
       "      <td>5.0</td>\n",
       "      <td>0.043979</td>\n",
       "    </tr>\n",
       "    <tr>\n",
       "      <th>TTGGTTTTCCTAGCTC-1_1</th>\n",
       "      <td>False</td>\n",
       "      <td>3902</td>\n",
       "      <td>11472.0</td>\n",
       "      <td>463.0</td>\n",
       "      <td>4.035913</td>\n",
       "      <td>13.0</td>\n",
       "      <td>0.113319</td>\n",
       "    </tr>\n",
       "    <tr>\n",
       "      <th>CGCATAACATGCCGGT-1_1</th>\n",
       "      <td>False</td>\n",
       "      <td>3745</td>\n",
       "      <td>8617.0</td>\n",
       "      <td>119.0</td>\n",
       "      <td>1.380991</td>\n",
       "      <td>25.0</td>\n",
       "      <td>0.290124</td>\n",
       "    </tr>\n",
       "    <tr>\n",
       "      <th>CTGTAGATCAACGTGT-1_1</th>\n",
       "      <td>False</td>\n",
       "      <td>3108</td>\n",
       "      <td>7602.0</td>\n",
       "      <td>1.0</td>\n",
       "      <td>0.013154</td>\n",
       "      <td>1.0</td>\n",
       "      <td>0.013154</td>\n",
       "    </tr>\n",
       "    <tr>\n",
       "      <th>...</th>\n",
       "      <td>...</td>\n",
       "      <td>...</td>\n",
       "      <td>...</td>\n",
       "      <td>...</td>\n",
       "      <td>...</td>\n",
       "      <td>...</td>\n",
       "      <td>...</td>\n",
       "    </tr>\n",
       "    <tr>\n",
       "      <th>CGCCATTGTTTGCCGG-1_1</th>\n",
       "      <td>False</td>\n",
       "      <td>355</td>\n",
       "      <td>410.0</td>\n",
       "      <td>3.0</td>\n",
       "      <td>0.731707</td>\n",
       "      <td>0.0</td>\n",
       "      <td>0.000000</td>\n",
       "    </tr>\n",
       "    <tr>\n",
       "      <th>CACTGGGGTCTACGTA-1_1</th>\n",
       "      <td>False</td>\n",
       "      <td>346</td>\n",
       "      <td>403.0</td>\n",
       "      <td>0.0</td>\n",
       "      <td>0.000000</td>\n",
       "      <td>0.0</td>\n",
       "      <td>0.000000</td>\n",
       "    </tr>\n",
       "    <tr>\n",
       "      <th>CATACTTGTAGAGGAA-1_1</th>\n",
       "      <td>False</td>\n",
       "      <td>360</td>\n",
       "      <td>410.0</td>\n",
       "      <td>2.0</td>\n",
       "      <td>0.487805</td>\n",
       "      <td>0.0</td>\n",
       "      <td>0.000000</td>\n",
       "    </tr>\n",
       "    <tr>\n",
       "      <th>TTTGGTTTCCACGGAC-1_1</th>\n",
       "      <td>False</td>\n",
       "      <td>299</td>\n",
       "      <td>405.0</td>\n",
       "      <td>0.0</td>\n",
       "      <td>0.000000</td>\n",
       "      <td>2.0</td>\n",
       "      <td>0.493827</td>\n",
       "    </tr>\n",
       "    <tr>\n",
       "      <th>ATGCATGAGTCATGAA-1_1</th>\n",
       "      <td>False</td>\n",
       "      <td>351</td>\n",
       "      <td>411.0</td>\n",
       "      <td>0.0</td>\n",
       "      <td>0.000000</td>\n",
       "      <td>0.0</td>\n",
       "      <td>0.000000</td>\n",
       "    </tr>\n",
       "  </tbody>\n",
       "</table>\n",
       "<p>5386 rows × 7 columns</p>\n",
       "</div>"
      ],
      "text/plain": [
       "                      doublet  n_genes_by_counts  total_counts  \\\n",
       "TAACTTCCAACCACGC-1_1    False               5158       15645.0   \n",
       "TTACCGCCACTCAGAT-1_1    False               4144       11369.0   \n",
       "TTGGTTTTCCTAGCTC-1_1    False               3902       11472.0   \n",
       "CGCATAACATGCCGGT-1_1    False               3745        8617.0   \n",
       "CTGTAGATCAACGTGT-1_1    False               3108        7602.0   \n",
       "...                       ...                ...           ...   \n",
       "CGCCATTGTTTGCCGG-1_1    False                355         410.0   \n",
       "CACTGGGGTCTACGTA-1_1    False                346         403.0   \n",
       "CATACTTGTAGAGGAA-1_1    False                360         410.0   \n",
       "TTTGGTTTCCACGGAC-1_1    False                299         405.0   \n",
       "ATGCATGAGTCATGAA-1_1    False                351         411.0   \n",
       "\n",
       "                      total_counts_mt  pct_counts_mt  total_counts_ribo  \\\n",
       "TAACTTCCAACCACGC-1_1            221.0       1.412592              211.0   \n",
       "TTACCGCCACTCAGAT-1_1             39.0       0.343038                5.0   \n",
       "TTGGTTTTCCTAGCTC-1_1            463.0       4.035913               13.0   \n",
       "CGCATAACATGCCGGT-1_1            119.0       1.380991               25.0   \n",
       "CTGTAGATCAACGTGT-1_1              1.0       0.013154                1.0   \n",
       "...                               ...            ...                ...   \n",
       "CGCCATTGTTTGCCGG-1_1              3.0       0.731707                0.0   \n",
       "CACTGGGGTCTACGTA-1_1              0.0       0.000000                0.0   \n",
       "CATACTTGTAGAGGAA-1_1              2.0       0.487805                0.0   \n",
       "TTTGGTTTCCACGGAC-1_1              0.0       0.000000                2.0   \n",
       "ATGCATGAGTCATGAA-1_1              0.0       0.000000                0.0   \n",
       "\n",
       "                      pct_counts_ribo  \n",
       "TAACTTCCAACCACGC-1_1         1.348674  \n",
       "TTACCGCCACTCAGAT-1_1         0.043979  \n",
       "TTGGTTTTCCTAGCTC-1_1         0.113319  \n",
       "CGCATAACATGCCGGT-1_1         0.290124  \n",
       "CTGTAGATCAACGTGT-1_1         0.013154  \n",
       "...                               ...  \n",
       "CGCCATTGTTTGCCGG-1_1         0.000000  \n",
       "CACTGGGGTCTACGTA-1_1         0.000000  \n",
       "CATACTTGTAGAGGAA-1_1         0.000000  \n",
       "TTTGGTTTCCACGGAC-1_1         0.493827  \n",
       "ATGCATGAGTCATGAA-1_1         0.000000  \n",
       "\n",
       "[5386 rows x 7 columns]"
      ]
     },
     "execution_count": 47,
     "metadata": {},
     "output_type": "execute_result"
    }
   ],
   "source": [
    "# lets now pre-process adata.obs\n",
    "adata.obs # look at total_counts"
   ]
  },
  {
   "cell_type": "code",
   "execution_count": 48,
   "metadata": {},
   "outputs": [
    {
     "data": {
      "text/html": [
       "<div>\n",
       "<style scoped>\n",
       "    .dataframe tbody tr th:only-of-type {\n",
       "        vertical-align: middle;\n",
       "    }\n",
       "\n",
       "    .dataframe tbody tr th {\n",
       "        vertical-align: top;\n",
       "    }\n",
       "\n",
       "    .dataframe thead th {\n",
       "        text-align: right;\n",
       "    }\n",
       "</style>\n",
       "<table border=\"1\" class=\"dataframe\">\n",
       "  <thead>\n",
       "    <tr style=\"text-align: right;\">\n",
       "      <th></th>\n",
       "      <th>doublet</th>\n",
       "      <th>n_genes_by_counts</th>\n",
       "      <th>total_counts</th>\n",
       "      <th>total_counts_mt</th>\n",
       "      <th>pct_counts_mt</th>\n",
       "      <th>total_counts_ribo</th>\n",
       "      <th>pct_counts_ribo</th>\n",
       "    </tr>\n",
       "  </thead>\n",
       "  <tbody>\n",
       "    <tr>\n",
       "      <th>AGGCATTCATCCGTTC-1_1</th>\n",
       "      <td>False</td>\n",
       "      <td>290</td>\n",
       "      <td>401.0</td>\n",
       "      <td>1.0</td>\n",
       "      <td>0.249377</td>\n",
       "      <td>0.0</td>\n",
       "      <td>0.000000</td>\n",
       "    </tr>\n",
       "    <tr>\n",
       "      <th>CAGGGCTTCATGCGGC-1_1</th>\n",
       "      <td>False</td>\n",
       "      <td>330</td>\n",
       "      <td>401.0</td>\n",
       "      <td>7.0</td>\n",
       "      <td>1.745636</td>\n",
       "      <td>1.0</td>\n",
       "      <td>0.249377</td>\n",
       "    </tr>\n",
       "    <tr>\n",
       "      <th>CTCAACCGTTTGGGAG-1_1</th>\n",
       "      <td>False</td>\n",
       "      <td>325</td>\n",
       "      <td>401.0</td>\n",
       "      <td>0.0</td>\n",
       "      <td>0.000000</td>\n",
       "      <td>0.0</td>\n",
       "      <td>0.000000</td>\n",
       "    </tr>\n",
       "    <tr>\n",
       "      <th>GTCGTTCTCCAAGGGA-1_1</th>\n",
       "      <td>False</td>\n",
       "      <td>300</td>\n",
       "      <td>401.0</td>\n",
       "      <td>0.0</td>\n",
       "      <td>0.000000</td>\n",
       "      <td>0.0</td>\n",
       "      <td>0.000000</td>\n",
       "    </tr>\n",
       "    <tr>\n",
       "      <th>TGGTACAGTTGGTGTT-1_1</th>\n",
       "      <td>False</td>\n",
       "      <td>323</td>\n",
       "      <td>401.0</td>\n",
       "      <td>0.0</td>\n",
       "      <td>0.000000</td>\n",
       "      <td>0.0</td>\n",
       "      <td>0.000000</td>\n",
       "    </tr>\n",
       "    <tr>\n",
       "      <th>...</th>\n",
       "      <td>...</td>\n",
       "      <td>...</td>\n",
       "      <td>...</td>\n",
       "      <td>...</td>\n",
       "      <td>...</td>\n",
       "      <td>...</td>\n",
       "      <td>...</td>\n",
       "    </tr>\n",
       "    <tr>\n",
       "      <th>CCTTGTGCAGAGGGTT-1_1</th>\n",
       "      <td>False</td>\n",
       "      <td>3101</td>\n",
       "      <td>7654.0</td>\n",
       "      <td>575.0</td>\n",
       "      <td>7.512412</td>\n",
       "      <td>9.0</td>\n",
       "      <td>0.117586</td>\n",
       "    </tr>\n",
       "    <tr>\n",
       "      <th>CGCATAACATGCCGGT-1_1</th>\n",
       "      <td>False</td>\n",
       "      <td>3745</td>\n",
       "      <td>8617.0</td>\n",
       "      <td>119.0</td>\n",
       "      <td>1.380991</td>\n",
       "      <td>25.0</td>\n",
       "      <td>0.290124</td>\n",
       "    </tr>\n",
       "    <tr>\n",
       "      <th>TTACCGCCACTCAGAT-1_1</th>\n",
       "      <td>False</td>\n",
       "      <td>4144</td>\n",
       "      <td>11369.0</td>\n",
       "      <td>39.0</td>\n",
       "      <td>0.343038</td>\n",
       "      <td>5.0</td>\n",
       "      <td>0.043979</td>\n",
       "    </tr>\n",
       "    <tr>\n",
       "      <th>TTGGTTTTCCTAGCTC-1_1</th>\n",
       "      <td>False</td>\n",
       "      <td>3902</td>\n",
       "      <td>11472.0</td>\n",
       "      <td>463.0</td>\n",
       "      <td>4.035913</td>\n",
       "      <td>13.0</td>\n",
       "      <td>0.113319</td>\n",
       "    </tr>\n",
       "    <tr>\n",
       "      <th>TAACTTCCAACCACGC-1_1</th>\n",
       "      <td>False</td>\n",
       "      <td>5158</td>\n",
       "      <td>15645.0</td>\n",
       "      <td>221.0</td>\n",
       "      <td>1.412592</td>\n",
       "      <td>211.0</td>\n",
       "      <td>1.348674</td>\n",
       "    </tr>\n",
       "  </tbody>\n",
       "</table>\n",
       "<p>5386 rows × 7 columns</p>\n",
       "</div>"
      ],
      "text/plain": [
       "                      doublet  n_genes_by_counts  total_counts  \\\n",
       "AGGCATTCATCCGTTC-1_1    False                290         401.0   \n",
       "CAGGGCTTCATGCGGC-1_1    False                330         401.0   \n",
       "CTCAACCGTTTGGGAG-1_1    False                325         401.0   \n",
       "GTCGTTCTCCAAGGGA-1_1    False                300         401.0   \n",
       "TGGTACAGTTGGTGTT-1_1    False                323         401.0   \n",
       "...                       ...                ...           ...   \n",
       "CCTTGTGCAGAGGGTT-1_1    False               3101        7654.0   \n",
       "CGCATAACATGCCGGT-1_1    False               3745        8617.0   \n",
       "TTACCGCCACTCAGAT-1_1    False               4144       11369.0   \n",
       "TTGGTTTTCCTAGCTC-1_1    False               3902       11472.0   \n",
       "TAACTTCCAACCACGC-1_1    False               5158       15645.0   \n",
       "\n",
       "                      total_counts_mt  pct_counts_mt  total_counts_ribo  \\\n",
       "AGGCATTCATCCGTTC-1_1              1.0       0.249377                0.0   \n",
       "CAGGGCTTCATGCGGC-1_1              7.0       1.745636                1.0   \n",
       "CTCAACCGTTTGGGAG-1_1              0.0       0.000000                0.0   \n",
       "GTCGTTCTCCAAGGGA-1_1              0.0       0.000000                0.0   \n",
       "TGGTACAGTTGGTGTT-1_1              0.0       0.000000                0.0   \n",
       "...                               ...            ...                ...   \n",
       "CCTTGTGCAGAGGGTT-1_1            575.0       7.512412                9.0   \n",
       "CGCATAACATGCCGGT-1_1            119.0       1.380991               25.0   \n",
       "TTACCGCCACTCAGAT-1_1             39.0       0.343038                5.0   \n",
       "TTGGTTTTCCTAGCTC-1_1            463.0       4.035913               13.0   \n",
       "TAACTTCCAACCACGC-1_1            221.0       1.412592              211.0   \n",
       "\n",
       "                      pct_counts_ribo  \n",
       "AGGCATTCATCCGTTC-1_1         0.000000  \n",
       "CAGGGCTTCATGCGGC-1_1         0.249377  \n",
       "CTCAACCGTTTGGGAG-1_1         0.000000  \n",
       "GTCGTTCTCCAAGGGA-1_1         0.000000  \n",
       "TGGTACAGTTGGTGTT-1_1         0.000000  \n",
       "...                               ...  \n",
       "CCTTGTGCAGAGGGTT-1_1         0.117586  \n",
       "CGCATAACATGCCGGT-1_1         0.290124  \n",
       "TTACCGCCACTCAGAT-1_1         0.043979  \n",
       "TTGGTTTTCCTAGCTC-1_1         0.113319  \n",
       "TAACTTCCAACCACGC-1_1         1.348674  \n",
       "\n",
       "[5386 rows x 7 columns]"
      ]
     },
     "execution_count": 48,
     "metadata": {},
     "output_type": "execute_result"
    }
   ],
   "source": [
    "adata.obs.sort_values('total_counts')"
   ]
  },
  {
   "cell_type": "markdown",
   "metadata": {},
   "source": [
    "Lowest total_counts is 401, it seems as if the authers who published these cell barcodes already processed the data to filter out cells that 400 count or fewer. Thus the data is already processed and will not need to filter it ourselves."
   ]
  },
  {
   "cell_type": "markdown",
   "metadata": {},
   "source": [
    "However, if the data didnt processed or filter out the cell barcodes we would do the following: sc.pp.filter_cells(adata, min_genes=401)"
   ]
  },
  {
   "cell_type": "code",
   "execution_count": 49,
   "metadata": {},
   "outputs": [
    {
     "data": {
      "image/png": "[encoded data removed]",
      "text/plain": [
       "<Figure size 2011.11x500 with 4 Axes>"
      ]
     },
     "metadata": {},
     "output_type": "display_data"
    }
   ],
   "source": [
    "sc.pl.violin(adata, ['n_genes_by_counts', 'total_counts', 'pct_counts_mt', 'pct_counts_ribo'],\n",
    "             jitter=0.4, multi_panel=True)"
   ]
  },
  {
   "cell_type": "markdown",
   "metadata": {},
   "source": [
    "We want to use these QC metrics to eliminate outliers. In 'n_genes_by_counts', if a cell has significantly higher counts of genes than the average, there's a chance that its some artifact, likewise with 'total_counts'. If there is a high mitochondrial percentage, then it could be a sequencing artifact or the cell could have been dying."
   ]
  },
  {
   "cell_type": "markdown",
   "metadata": {},
   "source": [
    "'pct_counts_mt': there is no percent counts above 10 detected.\n",
    "'pct_counts_ribo': there are most percent counts near 0, some at most percent count is 6."
   ]
  },
  {
   "cell_type": "markdown",
   "metadata": {},
   "source": [
    "We will use numpy to filter genes by the 98 percentile of 'value'."
   ]
  },
  {
   "cell_type": "code",
   "execution_count": 51,
   "metadata": {},
   "outputs": [],
   "source": [
    "import numpy as np\n",
    "upper_lim = np.quantile(adata.obs.n_genes_by_counts.values, 0.98)"
   ]
  },
  {
   "cell_type": "code",
   "execution_count": 52,
   "metadata": {},
   "outputs": [
    {
     "data": {
      "text/plain": [
       "2147.0"
      ]
     },
     "execution_count": 52,
     "metadata": {},
     "output_type": "execute_result"
    }
   ],
   "source": [
    "upper_lim # 'value' or the y-axis cutoff for filtering\n",
    "# you can also do \"upper_lim = 3000\""
   ]
  },
  {
   "cell_type": "code",
   "execution_count": 53,
   "metadata": {},
   "outputs": [],
   "source": [
    "adata = adata[adata.obs.n_genes_by_counts < upper_lim]"
   ]
  },
  {
   "cell_type": "code",
   "execution_count": 54,
   "metadata": {},
   "outputs": [
    {
     "data": {
      "text/html": [
       "<div>\n",
       "<style scoped>\n",
       "    .dataframe tbody tr th:only-of-type {\n",
       "        vertical-align: middle;\n",
       "    }\n",
       "\n",
       "    .dataframe tbody tr th {\n",
       "        vertical-align: top;\n",
       "    }\n",
       "\n",
       "    .dataframe thead th {\n",
       "        text-align: right;\n",
       "    }\n",
       "</style>\n",
       "<table border=\"1\" class=\"dataframe\">\n",
       "  <thead>\n",
       "    <tr style=\"text-align: right;\">\n",
       "      <th></th>\n",
       "      <th>doublet</th>\n",
       "      <th>n_genes_by_counts</th>\n",
       "      <th>total_counts</th>\n",
       "      <th>total_counts_mt</th>\n",
       "      <th>pct_counts_mt</th>\n",
       "      <th>total_counts_ribo</th>\n",
       "      <th>pct_counts_ribo</th>\n",
       "    </tr>\n",
       "  </thead>\n",
       "  <tbody>\n",
       "    <tr>\n",
       "      <th>ATACTTCCAAGGTCTT-1_1</th>\n",
       "      <td>False</td>\n",
       "      <td>2122</td>\n",
       "      <td>5252.0</td>\n",
       "      <td>1.0</td>\n",
       "      <td>0.019040</td>\n",
       "      <td>4.0</td>\n",
       "      <td>0.076161</td>\n",
       "    </tr>\n",
       "    <tr>\n",
       "      <th>CATAAGCCACCCAACG-1_1</th>\n",
       "      <td>False</td>\n",
       "      <td>2126</td>\n",
       "      <td>4728.0</td>\n",
       "      <td>1.0</td>\n",
       "      <td>0.021151</td>\n",
       "      <td>2.0</td>\n",
       "      <td>0.042301</td>\n",
       "    </tr>\n",
       "    <tr>\n",
       "      <th>GATGACTGTACCCAGC-1_1</th>\n",
       "      <td>False</td>\n",
       "      <td>2007</td>\n",
       "      <td>4598.0</td>\n",
       "      <td>6.0</td>\n",
       "      <td>0.130492</td>\n",
       "      <td>3.0</td>\n",
       "      <td>0.065246</td>\n",
       "    </tr>\n",
       "    <tr>\n",
       "      <th>AGGGCCTGTTGCTTGA-1_1</th>\n",
       "      <td>False</td>\n",
       "      <td>1876</td>\n",
       "      <td>4493.0</td>\n",
       "      <td>2.0</td>\n",
       "      <td>0.044514</td>\n",
       "      <td>2.0</td>\n",
       "      <td>0.044514</td>\n",
       "    </tr>\n",
       "    <tr>\n",
       "      <th>TCCGAAACAGGTACGA-1_1</th>\n",
       "      <td>False</td>\n",
       "      <td>2123</td>\n",
       "      <td>4481.0</td>\n",
       "      <td>18.0</td>\n",
       "      <td>0.401696</td>\n",
       "      <td>4.0</td>\n",
       "      <td>0.089266</td>\n",
       "    </tr>\n",
       "    <tr>\n",
       "      <th>...</th>\n",
       "      <td>...</td>\n",
       "      <td>...</td>\n",
       "      <td>...</td>\n",
       "      <td>...</td>\n",
       "      <td>...</td>\n",
       "      <td>...</td>\n",
       "      <td>...</td>\n",
       "    </tr>\n",
       "    <tr>\n",
       "      <th>CGCCATTGTTTGCCGG-1_1</th>\n",
       "      <td>False</td>\n",
       "      <td>355</td>\n",
       "      <td>410.0</td>\n",
       "      <td>3.0</td>\n",
       "      <td>0.731707</td>\n",
       "      <td>0.0</td>\n",
       "      <td>0.000000</td>\n",
       "    </tr>\n",
       "    <tr>\n",
       "      <th>CACTGGGGTCTACGTA-1_1</th>\n",
       "      <td>False</td>\n",
       "      <td>346</td>\n",
       "      <td>403.0</td>\n",
       "      <td>0.0</td>\n",
       "      <td>0.000000</td>\n",
       "      <td>0.0</td>\n",
       "      <td>0.000000</td>\n",
       "    </tr>\n",
       "    <tr>\n",
       "      <th>CATACTTGTAGAGGAA-1_1</th>\n",
       "      <td>False</td>\n",
       "      <td>360</td>\n",
       "      <td>410.0</td>\n",
       "      <td>2.0</td>\n",
       "      <td>0.487805</td>\n",
       "      <td>0.0</td>\n",
       "      <td>0.000000</td>\n",
       "    </tr>\n",
       "    <tr>\n",
       "      <th>TTTGGTTTCCACGGAC-1_1</th>\n",
       "      <td>False</td>\n",
       "      <td>299</td>\n",
       "      <td>405.0</td>\n",
       "      <td>0.0</td>\n",
       "      <td>0.000000</td>\n",
       "      <td>2.0</td>\n",
       "      <td>0.493827</td>\n",
       "    </tr>\n",
       "    <tr>\n",
       "      <th>ATGCATGAGTCATGAA-1_1</th>\n",
       "      <td>False</td>\n",
       "      <td>351</td>\n",
       "      <td>411.0</td>\n",
       "      <td>0.0</td>\n",
       "      <td>0.000000</td>\n",
       "      <td>0.0</td>\n",
       "      <td>0.000000</td>\n",
       "    </tr>\n",
       "  </tbody>\n",
       "</table>\n",
       "<p>5277 rows × 7 columns</p>\n",
       "</div>"
      ],
      "text/plain": [
       "                      doublet  n_genes_by_counts  total_counts  \\\n",
       "ATACTTCCAAGGTCTT-1_1    False               2122        5252.0   \n",
       "CATAAGCCACCCAACG-1_1    False               2126        4728.0   \n",
       "GATGACTGTACCCAGC-1_1    False               2007        4598.0   \n",
       "AGGGCCTGTTGCTTGA-1_1    False               1876        4493.0   \n",
       "TCCGAAACAGGTACGA-1_1    False               2123        4481.0   \n",
       "...                       ...                ...           ...   \n",
       "CGCCATTGTTTGCCGG-1_1    False                355         410.0   \n",
       "CACTGGGGTCTACGTA-1_1    False                346         403.0   \n",
       "CATACTTGTAGAGGAA-1_1    False                360         410.0   \n",
       "TTTGGTTTCCACGGAC-1_1    False                299         405.0   \n",
       "ATGCATGAGTCATGAA-1_1    False                351         411.0   \n",
       "\n",
       "                      total_counts_mt  pct_counts_mt  total_counts_ribo  \\\n",
       "ATACTTCCAAGGTCTT-1_1              1.0       0.019040                4.0   \n",
       "CATAAGCCACCCAACG-1_1              1.0       0.021151                2.0   \n",
       "GATGACTGTACCCAGC-1_1              6.0       0.130492                3.0   \n",
       "AGGGCCTGTTGCTTGA-1_1              2.0       0.044514                2.0   \n",
       "TCCGAAACAGGTACGA-1_1             18.0       0.401696                4.0   \n",
       "...                               ...            ...                ...   \n",
       "CGCCATTGTTTGCCGG-1_1              3.0       0.731707                0.0   \n",
       "CACTGGGGTCTACGTA-1_1              0.0       0.000000                0.0   \n",
       "CATACTTGTAGAGGAA-1_1              2.0       0.487805                0.0   \n",
       "TTTGGTTTCCACGGAC-1_1              0.0       0.000000                2.0   \n",
       "ATGCATGAGTCATGAA-1_1              0.0       0.000000                0.0   \n",
       "\n",
       "                      pct_counts_ribo  \n",
       "ATACTTCCAAGGTCTT-1_1         0.076161  \n",
       "CATAAGCCACCCAACG-1_1         0.042301  \n",
       "GATGACTGTACCCAGC-1_1         0.065246  \n",
       "AGGGCCTGTTGCTTGA-1_1         0.044514  \n",
       "TCCGAAACAGGTACGA-1_1         0.089266  \n",
       "...                               ...  \n",
       "CGCCATTGTTTGCCGG-1_1         0.000000  \n",
       "CACTGGGGTCTACGTA-1_1         0.000000  \n",
       "CATACTTGTAGAGGAA-1_1         0.000000  \n",
       "TTTGGTTTCCACGGAC-1_1         0.493827  \n",
       "ATGCATGAGTCATGAA-1_1         0.000000  \n",
       "\n",
       "[5277 rows x 7 columns]"
      ]
     },
     "execution_count": 54,
     "metadata": {},
     "output_type": "execute_result"
    }
   ],
   "source": [
    "adata.obs # n_genes_by_counts should all be less than 2216.24"
   ]
  },
  {
   "cell_type": "code",
   "execution_count": 55,
   "metadata": {},
   "outputs": [],
   "source": [
    "adata = adata[adata.obs.pct_counts_mt < 20] # 20 percent cutoff, will not get rid of any mitochondrial cells but good practice"
   ]
  },
  {
   "cell_type": "code",
   "execution_count": 56,
   "metadata": {},
   "outputs": [],
   "source": [
    "adata = adata[adata.obs.pct_counts_ribo < 2]"
   ]
  },
  {
   "cell_type": "code",
   "execution_count": 57,
   "metadata": {},
   "outputs": [
    {
     "data": {
      "text/plain": [
       "View of AnnData object with n_obs × n_vars = 5262 × 23834\n",
       "    obs: 'doublet', 'n_genes_by_counts', 'total_counts', 'total_counts_mt', 'pct_counts_mt', 'total_counts_ribo', 'pct_counts_ribo'\n",
       "    var: 'mt', 'ribo', 'n_cells_by_counts', 'mean_counts', 'pct_dropout_by_counts', 'total_counts', 'n_cells'"
      ]
     },
     "execution_count": 57,
     "metadata": {},
     "output_type": "execute_result"
    }
   ],
   "source": [
    "adata"
   ]
  },
  {
   "cell_type": "markdown",
   "metadata": {},
   "source": [
    "## Normalization"
   ]
  },
  {
   "cell_type": "markdown",
   "metadata": {},
   "source": [
    "In single-cell RNA sequencing, there is alot of variation between cells, even between the same cell type due to sequencing biases, etc. Normaliztion will help compare cells and compare genes appropriately without the wide variations."
   ]
  },
  {
   "cell_type": "code",
   "execution_count": 58,
   "metadata": {},
   "outputs": [
    {
     "data": {
      "text/plain": [
       "array([5250., 4727., 4597., ...,  410.,  405.,  410.], dtype=float32)"
      ]
     },
     "execution_count": 58,
     "metadata": {},
     "output_type": "execute_result"
    }
   ],
   "source": [
    "adata.X.sum(axis=1) #total counts of cells, we need to normalize the counts for each cells so that their total counts adds up to the same value."
   ]
  },
  {
   "cell_type": "code",
   "execution_count": 59,
   "metadata": {},
   "outputs": [
    {
     "name": "stderr",
     "output_type": "stream",
     "text": [
      "c:\\Users\\agarc\\anaconda3\\envs\\bioenv\\Lib\\site-packages\\scanpy\\preprocessing\\_normalization.py:207: UserWarning: Received a view of an AnnData. Making a copy.\n",
      "  view_to_actual(adata)\n"
     ]
    }
   ],
   "source": [
    "sc.pp.normalize_total(adata, target_sum=1e4) # normalize every cell to 10,000 UMI"
   ]
  },
  {
   "cell_type": "code",
   "execution_count": 60,
   "metadata": {},
   "outputs": [
    {
     "data": {
      "text/plain": [
       "array([10000.   , 10000.   , 10000.001, ..., 10000.   , 10000.   ,\n",
       "       10000.   ], dtype=float32)"
      ]
     },
     "execution_count": 60,
     "metadata": {},
     "output_type": "execute_result"
    }
   ],
   "source": [
    "adata.X.sum(axis=1) # each value (cell) got modified based on the starting number of counts for that cell."
   ]
  },
  {
   "cell_type": "code",
   "execution_count": 61,
   "metadata": {},
   "outputs": [],
   "source": [
    "sc.pp.log1p(adata) #change to log counts"
   ]
  },
  {
   "cell_type": "code",
   "execution_count": 62,
   "metadata": {},
   "outputs": [
    {
     "data": {
      "text/plain": [
       "array([2858.1602, 3120.9375, 2950.642 , ..., 1191.2706, 1022.7511,\n",
       "       1162.8784], dtype=float32)"
      ]
     },
     "execution_count": 62,
     "metadata": {},
     "output_type": "execute_result"
    }
   ],
   "source": [
    "adata.X.sum(axis=1)"
   ]
  },
  {
   "cell_type": "markdown",
   "metadata": {},
   "source": [
    "We will now need to freeze the data as it is now before we begin filtering based on variable genes and regressing and scaling out data."
   ]
  },
  {
   "cell_type": "code",
   "execution_count": 63,
   "metadata": {},
   "outputs": [],
   "source": [
    "adata.raw = adata"
   ]
  },
  {
   "cell_type": "markdown",
   "metadata": {},
   "source": [
    "## Clustering"
   ]
  },
  {
   "cell_type": "code",
   "execution_count": 64,
   "metadata": {},
   "outputs": [],
   "source": [
    "sc.pp.highly_variable_genes(adata, n_top_genes=2000)"
   ]
  },
  {
   "cell_type": "code",
   "execution_count": 65,
   "metadata": {},
   "outputs": [
    {
     "data": {
      "text/html": [
       "<div>\n",
       "<style scoped>\n",
       "    .dataframe tbody tr th:only-of-type {\n",
       "        vertical-align: middle;\n",
       "    }\n",
       "\n",
       "    .dataframe tbody tr th {\n",
       "        vertical-align: top;\n",
       "    }\n",
       "\n",
       "    .dataframe thead th {\n",
       "        text-align: right;\n",
       "    }\n",
       "</style>\n",
       "<table border=\"1\" class=\"dataframe\">\n",
       "  <thead>\n",
       "    <tr style=\"text-align: right;\">\n",
       "      <th></th>\n",
       "      <th>mt</th>\n",
       "      <th>ribo</th>\n",
       "      <th>n_cells_by_counts</th>\n",
       "      <th>mean_counts</th>\n",
       "      <th>pct_dropout_by_counts</th>\n",
       "      <th>total_counts</th>\n",
       "      <th>n_cells</th>\n",
       "      <th>highly_variable</th>\n",
       "      <th>means</th>\n",
       "      <th>dispersions</th>\n",
       "      <th>dispersions_norm</th>\n",
       "    </tr>\n",
       "  </thead>\n",
       "  <tbody>\n",
       "    <tr>\n",
       "      <th>AL627309.1</th>\n",
       "      <td>False</td>\n",
       "      <td>False</td>\n",
       "      <td>5</td>\n",
       "      <td>0.000928</td>\n",
       "      <td>99.907167</td>\n",
       "      <td>5.0</td>\n",
       "      <td>5</td>\n",
       "      <td>True</td>\n",
       "      <td>0.010851</td>\n",
       "      <td>2.815570</td>\n",
       "      <td>1.354717</td>\n",
       "    </tr>\n",
       "    <tr>\n",
       "      <th>AL627309.5</th>\n",
       "      <td>False</td>\n",
       "      <td>False</td>\n",
       "      <td>23</td>\n",
       "      <td>0.004270</td>\n",
       "      <td>99.572967</td>\n",
       "      <td>23.0</td>\n",
       "      <td>23</td>\n",
       "      <td>False</td>\n",
       "      <td>0.027841</td>\n",
       "      <td>2.372997</td>\n",
       "      <td>-0.019383</td>\n",
       "    </tr>\n",
       "    <tr>\n",
       "      <th>AL627309.4</th>\n",
       "      <td>False</td>\n",
       "      <td>False</td>\n",
       "      <td>3</td>\n",
       "      <td>0.000557</td>\n",
       "      <td>99.944300</td>\n",
       "      <td>3.0</td>\n",
       "      <td>3</td>\n",
       "      <td>False</td>\n",
       "      <td>0.002639</td>\n",
       "      <td>1.702813</td>\n",
       "      <td>-2.100165</td>\n",
       "    </tr>\n",
       "    <tr>\n",
       "      <th>LINC01409</th>\n",
       "      <td>False</td>\n",
       "      <td>False</td>\n",
       "      <td>218</td>\n",
       "      <td>0.043446</td>\n",
       "      <td>95.952469</td>\n",
       "      <td>234.0</td>\n",
       "      <td>218</td>\n",
       "      <td>False</td>\n",
       "      <td>0.267619</td>\n",
       "      <td>2.349634</td>\n",
       "      <td>-0.091917</td>\n",
       "    </tr>\n",
       "    <tr>\n",
       "      <th>FAM87B</th>\n",
       "      <td>False</td>\n",
       "      <td>False</td>\n",
       "      <td>3</td>\n",
       "      <td>0.000557</td>\n",
       "      <td>99.944300</td>\n",
       "      <td>3.0</td>\n",
       "      <td>3</td>\n",
       "      <td>False</td>\n",
       "      <td>0.004336</td>\n",
       "      <td>2.043844</td>\n",
       "      <td>-1.041334</td>\n",
       "    </tr>\n",
       "    <tr>\n",
       "      <th>...</th>\n",
       "      <td>...</td>\n",
       "      <td>...</td>\n",
       "      <td>...</td>\n",
       "      <td>...</td>\n",
       "      <td>...</td>\n",
       "      <td>...</td>\n",
       "      <td>...</td>\n",
       "      <td>...</td>\n",
       "      <td>...</td>\n",
       "      <td>...</td>\n",
       "      <td>...</td>\n",
       "    </tr>\n",
       "    <tr>\n",
       "      <th>AL354822.1</th>\n",
       "      <td>False</td>\n",
       "      <td>False</td>\n",
       "      <td>111</td>\n",
       "      <td>0.020980</td>\n",
       "      <td>97.939101</td>\n",
       "      <td>113.0</td>\n",
       "      <td>111</td>\n",
       "      <td>False</td>\n",
       "      <td>0.156362</td>\n",
       "      <td>2.440125</td>\n",
       "      <td>0.189037</td>\n",
       "    </tr>\n",
       "    <tr>\n",
       "      <th>AL592183.1</th>\n",
       "      <td>False</td>\n",
       "      <td>False</td>\n",
       "      <td>802</td>\n",
       "      <td>0.175455</td>\n",
       "      <td>85.109543</td>\n",
       "      <td>945.0</td>\n",
       "      <td>802</td>\n",
       "      <td>False</td>\n",
       "      <td>0.874523</td>\n",
       "      <td>2.531958</td>\n",
       "      <td>-0.392134</td>\n",
       "    </tr>\n",
       "    <tr>\n",
       "      <th>AC240274.1</th>\n",
       "      <td>False</td>\n",
       "      <td>False</td>\n",
       "      <td>129</td>\n",
       "      <td>0.024322</td>\n",
       "      <td>97.604902</td>\n",
       "      <td>131.0</td>\n",
       "      <td>129</td>\n",
       "      <td>False</td>\n",
       "      <td>0.150280</td>\n",
       "      <td>2.332450</td>\n",
       "      <td>-0.145272</td>\n",
       "    </tr>\n",
       "    <tr>\n",
       "      <th>AC007325.4</th>\n",
       "      <td>False</td>\n",
       "      <td>False</td>\n",
       "      <td>4</td>\n",
       "      <td>0.000743</td>\n",
       "      <td>99.925733</td>\n",
       "      <td>4.0</td>\n",
       "      <td>4</td>\n",
       "      <td>False</td>\n",
       "      <td>0.002673</td>\n",
       "      <td>1.662116</td>\n",
       "      <td>-2.226520</td>\n",
       "    </tr>\n",
       "    <tr>\n",
       "      <th>AC007325.2</th>\n",
       "      <td>False</td>\n",
       "      <td>False</td>\n",
       "      <td>6</td>\n",
       "      <td>0.001114</td>\n",
       "      <td>99.888600</td>\n",
       "      <td>6.0</td>\n",
       "      <td>6</td>\n",
       "      <td>False</td>\n",
       "      <td>0.006688</td>\n",
       "      <td>1.995899</td>\n",
       "      <td>-1.190192</td>\n",
       "    </tr>\n",
       "  </tbody>\n",
       "</table>\n",
       "<p>23834 rows × 11 columns</p>\n",
       "</div>"
      ],
      "text/plain": [
       "               mt   ribo  n_cells_by_counts  mean_counts  \\\n",
       "AL627309.1  False  False                  5     0.000928   \n",
       "AL627309.5  False  False                 23     0.004270   \n",
       "AL627309.4  False  False                  3     0.000557   \n",
       "LINC01409   False  False                218     0.043446   \n",
       "FAM87B      False  False                  3     0.000557   \n",
       "...           ...    ...                ...          ...   \n",
       "AL354822.1  False  False                111     0.020980   \n",
       "AL592183.1  False  False                802     0.175455   \n",
       "AC240274.1  False  False                129     0.024322   \n",
       "AC007325.4  False  False                  4     0.000743   \n",
       "AC007325.2  False  False                  6     0.001114   \n",
       "\n",
       "            pct_dropout_by_counts  total_counts  n_cells  highly_variable  \\\n",
       "AL627309.1              99.907167           5.0        5             True   \n",
       "AL627309.5              99.572967          23.0       23            False   \n",
       "AL627309.4              99.944300           3.0        3            False   \n",
       "LINC01409               95.952469         234.0      218            False   \n",
       "FAM87B                  99.944300           3.0        3            False   \n",
       "...                           ...           ...      ...              ...   \n",
       "AL354822.1              97.939101         113.0      111            False   \n",
       "AL592183.1              85.109543         945.0      802            False   \n",
       "AC240274.1              97.604902         131.0      129            False   \n",
       "AC007325.4              99.925733           4.0        4            False   \n",
       "AC007325.2              99.888600           6.0        6            False   \n",
       "\n",
       "               means  dispersions  dispersions_norm  \n",
       "AL627309.1  0.010851     2.815570          1.354717  \n",
       "AL627309.5  0.027841     2.372997         -0.019383  \n",
       "AL627309.4  0.002639     1.702813         -2.100165  \n",
       "LINC01409   0.267619     2.349634         -0.091917  \n",
       "FAM87B      0.004336     2.043844         -1.041334  \n",
       "...              ...          ...               ...  \n",
       "AL354822.1  0.156362     2.440125          0.189037  \n",
       "AL592183.1  0.874523     2.531958         -0.392134  \n",
       "AC240274.1  0.150280     2.332450         -0.145272  \n",
       "AC007325.4  0.002673     1.662116         -2.226520  \n",
       "AC007325.2  0.006688     1.995899         -1.190192  \n",
       "\n",
       "[23834 rows x 11 columns]"
      ]
     },
     "execution_count": 65,
     "metadata": {},
     "output_type": "execute_result"
    }
   ],
   "source": [
    "adata.var"
   ]
  },
  {
   "cell_type": "code",
   "execution_count": 66,
   "metadata": {},
   "outputs": [
    {
     "data": {
      "image/png": "[encoded data removed]",
      "text/plain": [
       "<Figure size 1280x480 with 2 Axes>"
      ]
     },
     "metadata": {},
     "output_type": "display_data"
    }
   ],
   "source": [
    "sc.pl.highly_variable_genes(adata)"
   ]
  },
  {
   "cell_type": "code",
   "execution_count": 67,
   "metadata": {},
   "outputs": [],
   "source": [
    "# Filter out the non-highly variable genes\n",
    "adata = adata[:, adata.var.highly_variable]"
   ]
  },
  {
   "cell_type": "code",
   "execution_count": 68,
   "metadata": {},
   "outputs": [
    {
     "data": {
      "text/plain": [
       "View of AnnData object with n_obs × n_vars = 5262 × 2000\n",
       "    obs: 'doublet', 'n_genes_by_counts', 'total_counts', 'total_counts_mt', 'pct_counts_mt', 'total_counts_ribo', 'pct_counts_ribo'\n",
       "    var: 'mt', 'ribo', 'n_cells_by_counts', 'mean_counts', 'pct_dropout_by_counts', 'total_counts', 'n_cells', 'highly_variable', 'means', 'dispersions', 'dispersions_norm'\n",
       "    uns: 'log1p', 'hvg'"
      ]
     },
     "execution_count": 68,
     "metadata": {},
     "output_type": "execute_result"
    }
   ],
   "source": [
    "adata #we now have only the top 2000 genes that are highly variable"
   ]
  },
  {
   "cell_type": "code",
   "execution_count": 69,
   "metadata": {},
   "outputs": [
    {
     "name": "stderr",
     "output_type": "stream",
     "text": [
      "c:\\Users\\agarc\\anaconda3\\envs\\bioenv\\Lib\\site-packages\\scanpy\\preprocessing\\_simple.py:657: UserWarning: Received a view of an AnnData. Making a copy.\n",
      "  view_to_actual(adata)\n"
     ]
    }
   ],
   "source": [
    "# we're going to regress out the differences that arise due to the total number of counts mitochondrial counts and the ribosomal counts\n",
    "#  this will filter out some data that are due to processing and just sample quality, sequencing artifact, etc.\n",
    "sc.pp.regress_out(adata, ['total_counts', 'pct_counts_mt', 'pct_counts_ribo'])"
   ]
  },
  {
   "cell_type": "code",
   "execution_count": 70,
   "metadata": {},
   "outputs": [],
   "source": [
    "#normalize each gene to the unit variance of that gene\n",
    "sc.pp.scale(adata, max_value=10)"
   ]
  },
  {
   "cell_type": "code",
   "execution_count": 71,
   "metadata": {},
   "outputs": [],
   "source": [
    "#Run component analysis to further reduce the dimensions of the data\n",
    "sc.tl.pca(adata, svd_solver='arpack') # this calculates 50 pcs"
   ]
  },
  {
   "cell_type": "code",
   "execution_count": 72,
   "metadata": {},
   "outputs": [
    {
     "data": {
      "image/png": "[encoded data removed]",
      "text/plain": [
       "<Figure size 640x480 with 1 Axes>"
      ]
     },
     "metadata": {},
     "output_type": "display_data"
    }
   ],
   "source": [
    "sc.pl.pca_variance_ratio(adata, log=True, n_pcs=50)"
   ]
  },
  {
   "cell_type": "markdown",
   "metadata": {},
   "source": [
    "Plot of how much these pcs contribute. \n",
    "We want to look for where the data points tapers off to where values dont make a y-value difference anymore as you increase pcs value; this is at x = 30"
   ]
  },
  {
   "cell_type": "code",
   "execution_count": 73,
   "metadata": {},
   "outputs": [
    {
     "name": "stderr",
     "output_type": "stream",
     "text": [
      "c:\\Users\\agarc\\anaconda3\\envs\\bioenv\\Lib\\site-packages\\threadpoolctl.py:1214: RuntimeWarning: \n",
      "Found Intel OpenMP ('libiomp') and LLVM OpenMP ('libomp') loaded at\n",
      "the same time. Both libraries are known to be incompatible and this\n",
      "can cause random crashes or deadlocks on Linux when loaded in the\n",
      "same Python program.\n",
      "Using threadpoolctl may cause crashes or deadlocks. For more\n",
      "information and possible workarounds, please see\n",
      "    https://github.com/joblib/threadpoolctl/blob/master/multiple_openmp.md\n",
      "\n",
      "  warnings.warn(msg, RuntimeWarning)\n"
     ]
    }
   ],
   "source": [
    "sc.pp.neighbors(adata, n_pcs= 30)"
   ]
  },
  {
   "cell_type": "code",
   "execution_count": 74,
   "metadata": {},
   "outputs": [],
   "source": [
    "sc.tl.umap(adata)"
   ]
  },
  {
   "cell_type": "code",
   "execution_count": 75,
   "metadata": {},
   "outputs": [
    {
     "data": {
      "image/png": "[encoded data removed]",
      "text/plain": [
       "<Figure size 640x480 with 1 Axes>"
      ]
     },
     "metadata": {},
     "output_type": "display_data"
    }
   ],
   "source": [
    "sc.pl.umap(adata)"
   ]
  },
  {
   "cell_type": "markdown",
   "metadata": {},
   "source": [
    "This map are single cells but they haven't been assigned clusters yet."
   ]
  },
  {
   "cell_type": "code",
   "execution_count": 76,
   "metadata": {},
   "outputs": [
    {
     "name": "stdout",
     "output_type": "stream",
     "text": [
      "Requirement already satisfied: leidenalg in c:\\users\\agarc\\anaconda3\\envs\\bioenv\\lib\\site-packages (0.10.2)\n",
      "Requirement already satisfied: igraph<0.12,>=0.10.0 in c:\\users\\agarc\\anaconda3\\envs\\bioenv\\lib\\site-packages (from leidenalg) (0.11.6)\n",
      "Requirement already satisfied: texttable>=1.6.2 in c:\\users\\agarc\\anaconda3\\envs\\bioenv\\lib\\site-packages (from igraph<0.12,>=0.10.0->leidenalg) (1.7.0)\n"
     ]
    }
   ],
   "source": [
    "# leiden algorithm\n",
    "!pip install leidenalg"
   ]
  },
  {
   "cell_type": "code",
   "execution_count": 77,
   "metadata": {},
   "outputs": [
    {
     "name": "stderr",
     "output_type": "stream",
     "text": [
      "C:\\Users\\agarc\\AppData\\Local\\Temp\\ipykernel_17328\\3246266323.py:1: FutureWarning: In the future, the default backend for leiden will be igraph instead of leidenalg.\n",
      "\n",
      " To achieve the future defaults please pass: flavor=\"igraph\" and n_iterations=2.  directed must also be False to work with igraph's implementation.\n",
      "  sc.tl.leiden(adata, resolution = 0.5)\n"
     ]
    }
   ],
   "source": [
    "sc.tl.leiden(adata, resolution = 0.5)"
   ]
  },
  {
   "cell_type": "code",
   "execution_count": 78,
   "metadata": {},
   "outputs": [
    {
     "data": {
      "text/html": [
       "<div>\n",
       "<style scoped>\n",
       "    .dataframe tbody tr th:only-of-type {\n",
       "        vertical-align: middle;\n",
       "    }\n",
       "\n",
       "    .dataframe tbody tr th {\n",
       "        vertical-align: top;\n",
       "    }\n",
       "\n",
       "    .dataframe thead th {\n",
       "        text-align: right;\n",
       "    }\n",
       "</style>\n",
       "<table border=\"1\" class=\"dataframe\">\n",
       "  <thead>\n",
       "    <tr style=\"text-align: right;\">\n",
       "      <th></th>\n",
       "      <th>doublet</th>\n",
       "      <th>n_genes_by_counts</th>\n",
       "      <th>total_counts</th>\n",
       "      <th>total_counts_mt</th>\n",
       "      <th>pct_counts_mt</th>\n",
       "      <th>total_counts_ribo</th>\n",
       "      <th>pct_counts_ribo</th>\n",
       "      <th>leiden</th>\n",
       "    </tr>\n",
       "  </thead>\n",
       "  <tbody>\n",
       "    <tr>\n",
       "      <th>ATACTTCCAAGGTCTT-1_1</th>\n",
       "      <td>False</td>\n",
       "      <td>2122</td>\n",
       "      <td>5252.0</td>\n",
       "      <td>1.0</td>\n",
       "      <td>0.019040</td>\n",
       "      <td>4.0</td>\n",
       "      <td>0.076161</td>\n",
       "      <td>2</td>\n",
       "    </tr>\n",
       "    <tr>\n",
       "      <th>CATAAGCCACCCAACG-1_1</th>\n",
       "      <td>False</td>\n",
       "      <td>2126</td>\n",
       "      <td>4728.0</td>\n",
       "      <td>1.0</td>\n",
       "      <td>0.021151</td>\n",
       "      <td>2.0</td>\n",
       "      <td>0.042301</td>\n",
       "      <td>1</td>\n",
       "    </tr>\n",
       "    <tr>\n",
       "      <th>GATGACTGTACCCAGC-1_1</th>\n",
       "      <td>False</td>\n",
       "      <td>2007</td>\n",
       "      <td>4598.0</td>\n",
       "      <td>6.0</td>\n",
       "      <td>0.130492</td>\n",
       "      <td>3.0</td>\n",
       "      <td>0.065246</td>\n",
       "      <td>2</td>\n",
       "    </tr>\n",
       "    <tr>\n",
       "      <th>AGGGCCTGTTGCTTGA-1_1</th>\n",
       "      <td>False</td>\n",
       "      <td>1876</td>\n",
       "      <td>4493.0</td>\n",
       "      <td>2.0</td>\n",
       "      <td>0.044514</td>\n",
       "      <td>2.0</td>\n",
       "      <td>0.044514</td>\n",
       "      <td>2</td>\n",
       "    </tr>\n",
       "    <tr>\n",
       "      <th>TCCGAAACAGGTACGA-1_1</th>\n",
       "      <td>False</td>\n",
       "      <td>2123</td>\n",
       "      <td>4481.0</td>\n",
       "      <td>18.0</td>\n",
       "      <td>0.401696</td>\n",
       "      <td>4.0</td>\n",
       "      <td>0.089266</td>\n",
       "      <td>10</td>\n",
       "    </tr>\n",
       "    <tr>\n",
       "      <th>...</th>\n",
       "      <td>...</td>\n",
       "      <td>...</td>\n",
       "      <td>...</td>\n",
       "      <td>...</td>\n",
       "      <td>...</td>\n",
       "      <td>...</td>\n",
       "      <td>...</td>\n",
       "      <td>...</td>\n",
       "    </tr>\n",
       "    <tr>\n",
       "      <th>CGCCATTGTTTGCCGG-1_1</th>\n",
       "      <td>False</td>\n",
       "      <td>355</td>\n",
       "      <td>410.0</td>\n",
       "      <td>3.0</td>\n",
       "      <td>0.731707</td>\n",
       "      <td>0.0</td>\n",
       "      <td>0.000000</td>\n",
       "      <td>7</td>\n",
       "    </tr>\n",
       "    <tr>\n",
       "      <th>CACTGGGGTCTACGTA-1_1</th>\n",
       "      <td>False</td>\n",
       "      <td>346</td>\n",
       "      <td>403.0</td>\n",
       "      <td>0.0</td>\n",
       "      <td>0.000000</td>\n",
       "      <td>0.0</td>\n",
       "      <td>0.000000</td>\n",
       "      <td>1</td>\n",
       "    </tr>\n",
       "    <tr>\n",
       "      <th>CATACTTGTAGAGGAA-1_1</th>\n",
       "      <td>False</td>\n",
       "      <td>360</td>\n",
       "      <td>410.0</td>\n",
       "      <td>2.0</td>\n",
       "      <td>0.487805</td>\n",
       "      <td>0.0</td>\n",
       "      <td>0.000000</td>\n",
       "      <td>0</td>\n",
       "    </tr>\n",
       "    <tr>\n",
       "      <th>TTTGGTTTCCACGGAC-1_1</th>\n",
       "      <td>False</td>\n",
       "      <td>299</td>\n",
       "      <td>405.0</td>\n",
       "      <td>0.0</td>\n",
       "      <td>0.000000</td>\n",
       "      <td>2.0</td>\n",
       "      <td>0.493827</td>\n",
       "      <td>5</td>\n",
       "    </tr>\n",
       "    <tr>\n",
       "      <th>ATGCATGAGTCATGAA-1_1</th>\n",
       "      <td>False</td>\n",
       "      <td>351</td>\n",
       "      <td>411.0</td>\n",
       "      <td>0.0</td>\n",
       "      <td>0.000000</td>\n",
       "      <td>0.0</td>\n",
       "      <td>0.000000</td>\n",
       "      <td>1</td>\n",
       "    </tr>\n",
       "  </tbody>\n",
       "</table>\n",
       "<p>5262 rows × 8 columns</p>\n",
       "</div>"
      ],
      "text/plain": [
       "                      doublet  n_genes_by_counts  total_counts  \\\n",
       "ATACTTCCAAGGTCTT-1_1    False               2122        5252.0   \n",
       "CATAAGCCACCCAACG-1_1    False               2126        4728.0   \n",
       "GATGACTGTACCCAGC-1_1    False               2007        4598.0   \n",
       "AGGGCCTGTTGCTTGA-1_1    False               1876        4493.0   \n",
       "TCCGAAACAGGTACGA-1_1    False               2123        4481.0   \n",
       "...                       ...                ...           ...   \n",
       "CGCCATTGTTTGCCGG-1_1    False                355         410.0   \n",
       "CACTGGGGTCTACGTA-1_1    False                346         403.0   \n",
       "CATACTTGTAGAGGAA-1_1    False                360         410.0   \n",
       "TTTGGTTTCCACGGAC-1_1    False                299         405.0   \n",
       "ATGCATGAGTCATGAA-1_1    False                351         411.0   \n",
       "\n",
       "                      total_counts_mt  pct_counts_mt  total_counts_ribo  \\\n",
       "ATACTTCCAAGGTCTT-1_1              1.0       0.019040                4.0   \n",
       "CATAAGCCACCCAACG-1_1              1.0       0.021151                2.0   \n",
       "GATGACTGTACCCAGC-1_1              6.0       0.130492                3.0   \n",
       "AGGGCCTGTTGCTTGA-1_1              2.0       0.044514                2.0   \n",
       "TCCGAAACAGGTACGA-1_1             18.0       0.401696                4.0   \n",
       "...                               ...            ...                ...   \n",
       "CGCCATTGTTTGCCGG-1_1              3.0       0.731707                0.0   \n",
       "CACTGGGGTCTACGTA-1_1              0.0       0.000000                0.0   \n",
       "CATACTTGTAGAGGAA-1_1              2.0       0.487805                0.0   \n",
       "TTTGGTTTCCACGGAC-1_1              0.0       0.000000                2.0   \n",
       "ATGCATGAGTCATGAA-1_1              0.0       0.000000                0.0   \n",
       "\n",
       "                      pct_counts_ribo leiden  \n",
       "ATACTTCCAAGGTCTT-1_1         0.076161      2  \n",
       "CATAAGCCACCCAACG-1_1         0.042301      1  \n",
       "GATGACTGTACCCAGC-1_1         0.065246      2  \n",
       "AGGGCCTGTTGCTTGA-1_1         0.044514      2  \n",
       "TCCGAAACAGGTACGA-1_1         0.089266     10  \n",
       "...                               ...    ...  \n",
       "CGCCATTGTTTGCCGG-1_1         0.000000      7  \n",
       "CACTGGGGTCTACGTA-1_1         0.000000      1  \n",
       "CATACTTGTAGAGGAA-1_1         0.000000      0  \n",
       "TTTGGTTTCCACGGAC-1_1         0.493827      5  \n",
       "ATGCATGAGTCATGAA-1_1         0.000000      1  \n",
       "\n",
       "[5262 rows x 8 columns]"
      ]
     },
     "execution_count": 78,
     "metadata": {},
     "output_type": "execute_result"
    }
   ],
   "source": [
    "adata.obs"
   ]
  },
  {
   "cell_type": "code",
   "execution_count": 79,
   "metadata": {},
   "outputs": [
    {
     "data": {
      "image/png": "[encoded data removed]",
      "text/plain": [
       "<Figure size 640x480 with 1 Axes>"
      ]
     },
     "metadata": {},
     "output_type": "display_data"
    }
   ],
   "source": [
    "sc.pl.umap(adata, color = ['leiden'])"
   ]
  },
  {
   "cell_type": "markdown",
   "metadata": {},
   "source": [
    "We have now plotted our single cells and labeled them by their clusters using the leiden algorithm."
   ]
  },
  {
   "cell_type": "markdown",
   "metadata": {},
   "source": [
    "## Integration"
   ]
  },
  {
   "cell_type": "markdown",
   "metadata": {},
   "source": [
    "Only necessary if you are runing an analysis with multiple samples. The experiment sampled 19 COVID-19 patients and 7 control patients. There are a total of 26 samples in this analysis, thus, integration is necessary."
   ]
  },
  {
   "cell_type": "markdown",
   "metadata": {},
   "source": [
    "We are essentially gonna now do the same thing as we did for (1) loading the data, (2) doublet removal, (3) preprocessing, and (4) Clustering.\n",
    "However, we will do this for all samples, to make this more efficient, we made this into a function and have the function iterate through each sample file."
   ]
  },
  {
   "cell_type": "code",
   "execution_count": 1,
   "metadata": {},
   "outputs": [
    {
     "name": "stderr",
     "output_type": "stream",
     "text": [
      "c:\\Users\\agarc\\anaconda3\\envs\\bioenv\\Lib\\site-packages\\tqdm\\auto.py:21: TqdmWarning: IProgress not found. Please update jupyter and ipywidgets. See https://ipywidgets.readthedocs.io/en/stable/user_install.html\n",
      "  from .autonotebook import tqdm as notebook_tqdm\n"
     ]
    }
   ],
   "source": [
    "from pyspark.sql import SparkSession\n",
    "from pyspark.sql.functions import col\n",
    "import scanpy as sc\n",
    "import scvi\n",
    "import pandas as pd\n",
    "import numpy as np\n",
    "\n",
    "def pp(csv_path):\n",
    "    \n",
    "    # Continue with your analysis using Scanpy\n",
    "    adata = sc.read_csv(csv_path).T\n",
    "    sc.pp.filter_genes(adata, min_cells = 10)\n",
    "    sc.pp.highly_variable_genes(adata, n_top_genes = 2000, subset = True, flavor = 'seurat_v3')\n",
    "    scvi.model.SCVI.setup_anndata(adata)\n",
    "    vae = scvi.model.SCVI(adata)\n",
    "    vae.train()\n",
    "    solo = scvi.external.SOLO.from_scvi_model(vae)\n",
    "    solo.train()\n",
    "    df = solo.predict()\n",
    "    df['prediction'] = solo.predict(soft = False)\n",
    "    df.index = df.index.map(lambda x: x[:-2])\n",
    "    df['dif'] = df.doublet - df.singlet\n",
    "    doublets = df[(df.prediction == 'doublet') & (df.dif > 0.25)]\n",
    "    \n",
    "    adata = sc.read_csv(csv_path).T\n",
    "    adata.obs['Sample'] = csv_path.split('_')[2] #'raw_counts/<sample_identifier>_raw_counts.csv'\n",
    "    \n",
    "    adata.obs['doublet'] = adata.obs.index.isin(doublets.index)\n",
    "    adata = adata[~adata.obs.doublet]\n",
    "    \n",
    "    \n",
    "    sc.pp.filter_cells(adata, min_genes=200) #get rid of cells with fewer than 200 genes\n",
    "    #sc.pp.filter_genes(adata, min_cells=3) #get rid of genes that are found in fewer than 3 cells\n",
    "    adata.var['mt'] = adata.var_names.str.startswith('mt-')  # annotate the group of mitochondrial genes as 'mt'\n",
    "    \n",
    "    ribo_url = \"http://software.broadinstitute.org/gsea/msigdb/download_geneset.jsp?geneSetName=KEGG_RIBOSOME&fileType=txt\"\n",
    "    ribo_genes = pd.read_table(ribo_url, skiprows=2, header=None)\n",
    "    \n",
    "    adata.var['ribo'] = adata.var_names.isin(ribo_genes[0].values)\n",
    "    sc.pp.calculate_qc_metrics(adata, qc_vars=['mt', 'ribo'], percent_top=None, log1p=False, inplace=True)\n",
    "    upper_lim = np.quantile(adata.obs.n_genes_by_counts.values, .98)\n",
    "    adata = adata[adata.obs.n_genes_by_counts < upper_lim]\n",
    "    adata = adata[adata.obs.pct_counts_mt < 20]\n",
    "    adata = adata[adata.obs.pct_counts_ribo < 2]\n",
    "    \n",
    "    return adata"
   ]
  },
  {
   "cell_type": "code",
   "execution_count": 38,
   "metadata": {},
   "outputs": [
    {
     "name": "stderr",
     "output_type": "stream",
     "text": [
      "GPU available: False, used: False\n",
      "TPU available: False, using: 0 TPU cores\n",
      "IPU available: False, using: 0 IPUs\n",
      "HPU available: False, using: 0 HPUs\n",
      "c:\\Users\\agarc\\anaconda3\\envs\\bioenv\\Lib\\site-packages\\lightning\\pytorch\\trainer\\connectors\\data_connector.py:441: The 'train_dataloader' does not have many workers which may be a bottleneck. Consider increasing the value of the `num_workers` argument` to `num_workers=3` in the `DataLoader` to improve performance.\n"
     ]
    },
    {
     "name": "stdout",
     "output_type": "stream",
     "text": [
      "Epoch 400/400: 100%|██████████| 400/400 [16:06<00:00,  2.32s/it, v_num=1, train_loss_step=316, train_loss_epoch=321]"
     ]
    },
    {
     "name": "stderr",
     "output_type": "stream",
     "text": [
      "`Trainer.fit` stopped: `max_epochs=400` reached.\n"
     ]
    },
    {
     "name": "stdout",
     "output_type": "stream",
     "text": [
      "Epoch 400/400: 100%|██████████| 400/400 [16:06<00:00,  2.42s/it, v_num=1, train_loss_step=316, train_loss_epoch=321]\n",
      "\u001b[34mINFO    \u001b[0m Creating doublets, preparing SOLO model.                                                                  \n"
     ]
    },
    {
     "name": "stderr",
     "output_type": "stream",
     "text": [
      "GPU available: False, used: False\n",
      "TPU available: False, using: 0 TPU cores\n",
      "IPU available: False, using: 0 IPUs\n",
      "HPU available: False, using: 0 HPUs\n",
      "c:\\Users\\agarc\\anaconda3\\envs\\bioenv\\Lib\\site-packages\\lightning\\pytorch\\trainer\\connectors\\data_connector.py:441: The 'train_dataloader' does not have many workers which may be a bottleneck. Consider increasing the value of the `num_workers` argument` to `num_workers=3` in the `DataLoader` to improve performance.\n",
      "c:\\Users\\agarc\\anaconda3\\envs\\bioenv\\Lib\\site-packages\\lightning\\pytorch\\trainer\\connectors\\data_connector.py:441: The 'val_dataloader' does not have many workers which may be a bottleneck. Consider increasing the value of the `num_workers` argument` to `num_workers=3` in the `DataLoader` to improve performance.\n"
     ]
    },
    {
     "name": "stdout",
     "output_type": "stream",
     "text": [
      "Epoch 315/400:  79%|███████▉  | 315/400 [02:04<00:33,  2.52it/s, v_num=1, train_loss_step=0.331, train_loss_epoch=0.295]\n",
      "Monitored metric validation_loss did not improve in the last 30 records. Best score: 0.263. Signaling Trainer to stop.\n"
     ]
    },
    {
     "name": "stderr",
     "output_type": "stream",
     "text": [
      "c:\\Users\\agarc\\anaconda3\\envs\\bioenv\\Lib\\site-packages\\torch\\utils\\_contextlib.py:116: UserWarning: Prior to scvi-tools 1.1.3, `SOLO.predict` with `soft=True` (the default option) returned logits instead of probabilities. This behavior has since been corrected to return probabiltiies. The previous behavior can be replicated by passing in `return_logits=True`.\n",
      "  return func(*args, **kwargs)\n",
      "c:\\Users\\agarc\\anaconda3\\envs\\bioenv\\Lib\\site-packages\\torch\\utils\\_contextlib.py:116: UserWarning: Prior to scvi-tools 1.1.3, `SOLO.predict` with `soft=True` (the default option) returned logits instead of probabilities. This behavior has since been corrected to return probabiltiies. The previous behavior can be replicated by passing in `return_logits=True`.\n",
      "  return func(*args, **kwargs)\n",
      "c:\\Users\\agarc\\anaconda3\\envs\\bioenv\\Lib\\site-packages\\scanpy\\preprocessing\\_simple.py:166: ImplicitModificationWarning: Trying to modify attribute `.obs` of view, initializing view as actual.\n",
      "  adata.obs[\"n_genes\"] = number\n",
      "GPU available: False, used: False\n",
      "TPU available: False, using: 0 TPU cores\n",
      "IPU available: False, using: 0 IPUs\n",
      "HPU available: False, using: 0 HPUs\n",
      "c:\\Users\\agarc\\anaconda3\\envs\\bioenv\\Lib\\site-packages\\lightning\\pytorch\\trainer\\connectors\\data_connector.py:441: The 'train_dataloader' does not have many workers which may be a bottleneck. Consider increasing the value of the `num_workers` argument` to `num_workers=3` in the `DataLoader` to improve performance.\n"
     ]
    },
    {
     "name": "stdout",
     "output_type": "stream",
     "text": [
      "Epoch 400/400: 100%|██████████| 400/400 [14:01<00:00,  1.97s/it, v_num=1, train_loss_step=398, train_loss_epoch=396]"
     ]
    },
    {
     "name": "stderr",
     "output_type": "stream",
     "text": [
      "`Trainer.fit` stopped: `max_epochs=400` reached.\n"
     ]
    },
    {
     "name": "stdout",
     "output_type": "stream",
     "text": [
      "Epoch 400/400: 100%|██████████| 400/400 [14:01<00:00,  2.10s/it, v_num=1, train_loss_step=398, train_loss_epoch=396]\n",
      "\u001b[34mINFO    \u001b[0m Creating doublets, preparing SOLO model.                                                                  \n"
     ]
    },
    {
     "name": "stderr",
     "output_type": "stream",
     "text": [
      "GPU available: False, used: False\n",
      "TPU available: False, using: 0 TPU cores\n",
      "IPU available: False, using: 0 IPUs\n",
      "HPU available: False, using: 0 HPUs\n",
      "c:\\Users\\agarc\\anaconda3\\envs\\bioenv\\Lib\\site-packages\\lightning\\pytorch\\trainer\\connectors\\data_connector.py:441: The 'train_dataloader' does not have many workers which may be a bottleneck. Consider increasing the value of the `num_workers` argument` to `num_workers=3` in the `DataLoader` to improve performance.\n",
      "c:\\Users\\agarc\\anaconda3\\envs\\bioenv\\Lib\\site-packages\\lightning\\pytorch\\trainer\\connectors\\data_connector.py:441: The 'val_dataloader' does not have many workers which may be a bottleneck. Consider increasing the value of the `num_workers` argument` to `num_workers=3` in the `DataLoader` to improve performance.\n"
     ]
    },
    {
     "name": "stdout",
     "output_type": "stream",
     "text": [
      "Epoch 301/400:  75%|███████▌  | 301/400 [01:46<00:34,  2.83it/s, v_num=1, train_loss_step=0.486, train_loss_epoch=0.294]\n",
      "Monitored metric validation_loss did not improve in the last 30 records. Best score: 0.305. Signaling Trainer to stop.\n"
     ]
    },
    {
     "name": "stderr",
     "output_type": "stream",
     "text": [
      "c:\\Users\\agarc\\anaconda3\\envs\\bioenv\\Lib\\site-packages\\torch\\utils\\_contextlib.py:116: UserWarning: Prior to scvi-tools 1.1.3, `SOLO.predict` with `soft=True` (the default option) returned logits instead of probabilities. This behavior has since been corrected to return probabiltiies. The previous behavior can be replicated by passing in `return_logits=True`.\n",
      "  return func(*args, **kwargs)\n",
      "c:\\Users\\agarc\\anaconda3\\envs\\bioenv\\Lib\\site-packages\\torch\\utils\\_contextlib.py:116: UserWarning: Prior to scvi-tools 1.1.3, `SOLO.predict` with `soft=True` (the default option) returned logits instead of probabilities. This behavior has since been corrected to return probabiltiies. The previous behavior can be replicated by passing in `return_logits=True`.\n",
      "  return func(*args, **kwargs)\n",
      "c:\\Users\\agarc\\anaconda3\\envs\\bioenv\\Lib\\site-packages\\scanpy\\preprocessing\\_simple.py:166: ImplicitModificationWarning: Trying to modify attribute `.obs` of view, initializing view as actual.\n",
      "  adata.obs[\"n_genes\"] = number\n"
     ]
    },
    {
     "ename": "MemoryError",
     "evalue": "Unable to allocate 1.10 GiB for an array with shape (7120, 20813) and data type float64",
     "output_type": "error",
     "traceback": [
      "\u001b[1;31m---------------------------------------------------------------------------\u001b[0m",
      "\u001b[1;31mMemoryError\u001b[0m                               Traceback (most recent call last)",
      "Cell \u001b[1;32mIn[38], line 6\u001b[0m\n\u001b[0;32m      4\u001b[0m \u001b[38;5;28;01mfor\u001b[39;00m file \u001b[38;5;129;01min\u001b[39;00m os\u001b[38;5;241m.\u001b[39mlistdir(\u001b[38;5;124m'\u001b[39m\u001b[38;5;124mGSE171524_RAW/\u001b[39m\u001b[38;5;124m'\u001b[39m):\n\u001b[0;32m      5\u001b[0m     file_path \u001b[38;5;241m=\u001b[39m os\u001b[38;5;241m.\u001b[39mpath\u001b[38;5;241m.\u001b[39mjoin(\u001b[38;5;124m'\u001b[39m\u001b[38;5;124mGSE171524_RAW\u001b[39m\u001b[38;5;124m'\u001b[39m, file)  \u001b[38;5;66;03m# Construct the full file path\u001b[39;00m\n\u001b[1;32m----> 6\u001b[0m     out\u001b[38;5;241m.\u001b[39mappend(\u001b[43mpp\u001b[49m\u001b[43m(\u001b[49m\u001b[43mfile_path\u001b[49m\u001b[43m)\u001b[49m)\n",
      "Cell \u001b[1;32mIn[37], line 13\u001b[0m, in \u001b[0;36mpp\u001b[1;34m(csv_path)\u001b[0m\n\u001b[0;32m     11\u001b[0m adata \u001b[38;5;241m=\u001b[39m sc\u001b[38;5;241m.\u001b[39mread_csv(csv_path)\u001b[38;5;241m.\u001b[39mT\n\u001b[0;32m     12\u001b[0m sc\u001b[38;5;241m.\u001b[39mpp\u001b[38;5;241m.\u001b[39mfilter_genes(adata, min_cells \u001b[38;5;241m=\u001b[39m \u001b[38;5;241m10\u001b[39m)\n\u001b[1;32m---> 13\u001b[0m \u001b[43msc\u001b[49m\u001b[38;5;241;43m.\u001b[39;49m\u001b[43mpp\u001b[49m\u001b[38;5;241;43m.\u001b[39;49m\u001b[43mhighly_variable_genes\u001b[49m\u001b[43m(\u001b[49m\u001b[43madata\u001b[49m\u001b[43m,\u001b[49m\u001b[43m \u001b[49m\u001b[43mn_top_genes\u001b[49m\u001b[43m \u001b[49m\u001b[38;5;241;43m=\u001b[39;49m\u001b[43m \u001b[49m\u001b[38;5;241;43m2000\u001b[39;49m\u001b[43m,\u001b[49m\u001b[43m \u001b[49m\u001b[43msubset\u001b[49m\u001b[43m \u001b[49m\u001b[38;5;241;43m=\u001b[39;49m\u001b[43m \u001b[49m\u001b[38;5;28;43;01mTrue\u001b[39;49;00m\u001b[43m,\u001b[49m\u001b[43m \u001b[49m\u001b[43mflavor\u001b[49m\u001b[43m \u001b[49m\u001b[38;5;241;43m=\u001b[39;49m\u001b[43m \u001b[49m\u001b[38;5;124;43m'\u001b[39;49m\u001b[38;5;124;43mseurat_v3\u001b[39;49m\u001b[38;5;124;43m'\u001b[39;49m\u001b[43m)\u001b[49m\n\u001b[0;32m     14\u001b[0m scvi\u001b[38;5;241m.\u001b[39mmodel\u001b[38;5;241m.\u001b[39mSCVI\u001b[38;5;241m.\u001b[39msetup_anndata(adata)\n\u001b[0;32m     15\u001b[0m vae \u001b[38;5;241m=\u001b[39m scvi\u001b[38;5;241m.\u001b[39mmodel\u001b[38;5;241m.\u001b[39mSCVI(adata)\n",
      "File \u001b[1;32mc:\\Users\\agarc\\anaconda3\\envs\\bioenv\\Lib\\site-packages\\legacy_api_wrap\\__init__.py:80\u001b[0m, in \u001b[0;36mlegacy_api.<locals>.wrapper.<locals>.fn_compatible\u001b[1;34m(*args_all, **kw)\u001b[0m\n\u001b[0;32m     77\u001b[0m \u001b[38;5;129m@wraps\u001b[39m(fn)\n\u001b[0;32m     78\u001b[0m \u001b[38;5;28;01mdef\u001b[39;00m \u001b[38;5;21mfn_compatible\u001b[39m(\u001b[38;5;241m*\u001b[39margs_all: P\u001b[38;5;241m.\u001b[39margs, \u001b[38;5;241m*\u001b[39m\u001b[38;5;241m*\u001b[39mkw: P\u001b[38;5;241m.\u001b[39mkwargs) \u001b[38;5;241m-\u001b[39m\u001b[38;5;241m>\u001b[39m R:\n\u001b[0;32m     79\u001b[0m     \u001b[38;5;28;01mif\u001b[39;00m \u001b[38;5;28mlen\u001b[39m(args_all) \u001b[38;5;241m<\u001b[39m\u001b[38;5;241m=\u001b[39m n_positional:\n\u001b[1;32m---> 80\u001b[0m         \u001b[38;5;28;01mreturn\u001b[39;00m \u001b[43mfn\u001b[49m\u001b[43m(\u001b[49m\u001b[38;5;241;43m*\u001b[39;49m\u001b[43margs_all\u001b[49m\u001b[43m,\u001b[49m\u001b[43m \u001b[49m\u001b[38;5;241;43m*\u001b[39;49m\u001b[38;5;241;43m*\u001b[39;49m\u001b[43mkw\u001b[49m\u001b[43m)\u001b[49m\n\u001b[0;32m     82\u001b[0m     args_pos: P\u001b[38;5;241m.\u001b[39margs\n\u001b[0;32m     83\u001b[0m     args_pos, args_rest \u001b[38;5;241m=\u001b[39m args_all[:n_positional], args_all[n_positional:]\n",
      "File \u001b[1;32mc:\\Users\\agarc\\anaconda3\\envs\\bioenv\\Lib\\site-packages\\scanpy\\preprocessing\\_highly_variable_genes.py:655\u001b[0m, in \u001b[0;36mhighly_variable_genes\u001b[1;34m(adata, layer, n_top_genes, min_disp, max_disp, min_mean, max_mean, span, n_bins, flavor, subset, inplace, batch_key, check_values)\u001b[0m\n\u001b[0;32m    653\u001b[0m         sig \u001b[38;5;241m=\u001b[39m signature(_highly_variable_genes_seurat_v3)\n\u001b[0;32m    654\u001b[0m         n_top_genes \u001b[38;5;241m=\u001b[39m cast(\u001b[38;5;28mint\u001b[39m, sig\u001b[38;5;241m.\u001b[39mparameters[\u001b[38;5;124m\"\u001b[39m\u001b[38;5;124mn_top_genes\u001b[39m\u001b[38;5;124m\"\u001b[39m]\u001b[38;5;241m.\u001b[39mdefault)\n\u001b[1;32m--> 655\u001b[0m     \u001b[38;5;28;01mreturn\u001b[39;00m \u001b[43m_highly_variable_genes_seurat_v3\u001b[49m\u001b[43m(\u001b[49m\n\u001b[0;32m    656\u001b[0m \u001b[43m        \u001b[49m\u001b[43madata\u001b[49m\u001b[43m,\u001b[49m\n\u001b[0;32m    657\u001b[0m \u001b[43m        \u001b[49m\u001b[43mflavor\u001b[49m\u001b[38;5;241;43m=\u001b[39;49m\u001b[43mflavor\u001b[49m\u001b[43m,\u001b[49m\n\u001b[0;32m    658\u001b[0m \u001b[43m        \u001b[49m\u001b[43mlayer\u001b[49m\u001b[38;5;241;43m=\u001b[39;49m\u001b[43mlayer\u001b[49m\u001b[43m,\u001b[49m\n\u001b[0;32m    659\u001b[0m \u001b[43m        \u001b[49m\u001b[43mn_top_genes\u001b[49m\u001b[38;5;241;43m=\u001b[39;49m\u001b[43mn_top_genes\u001b[49m\u001b[43m,\u001b[49m\n\u001b[0;32m    660\u001b[0m \u001b[43m        \u001b[49m\u001b[43mbatch_key\u001b[49m\u001b[38;5;241;43m=\u001b[39;49m\u001b[43mbatch_key\u001b[49m\u001b[43m,\u001b[49m\n\u001b[0;32m    661\u001b[0m \u001b[43m        \u001b[49m\u001b[43mcheck_values\u001b[49m\u001b[38;5;241;43m=\u001b[39;49m\u001b[43mcheck_values\u001b[49m\u001b[43m,\u001b[49m\n\u001b[0;32m    662\u001b[0m \u001b[43m        \u001b[49m\u001b[43mspan\u001b[49m\u001b[38;5;241;43m=\u001b[39;49m\u001b[43mspan\u001b[49m\u001b[43m,\u001b[49m\n\u001b[0;32m    663\u001b[0m \u001b[43m        \u001b[49m\u001b[43msubset\u001b[49m\u001b[38;5;241;43m=\u001b[39;49m\u001b[43msubset\u001b[49m\u001b[43m,\u001b[49m\n\u001b[0;32m    664\u001b[0m \u001b[43m        \u001b[49m\u001b[43minplace\u001b[49m\u001b[38;5;241;43m=\u001b[39;49m\u001b[43minplace\u001b[49m\u001b[43m,\u001b[49m\n\u001b[0;32m    665\u001b[0m \u001b[43m    \u001b[49m\u001b[43m)\u001b[49m\n\u001b[0;32m    667\u001b[0m cutoff \u001b[38;5;241m=\u001b[39m _Cutoffs\u001b[38;5;241m.\u001b[39mvalidate(\n\u001b[0;32m    668\u001b[0m     n_top_genes\u001b[38;5;241m=\u001b[39mn_top_genes,\n\u001b[0;32m    669\u001b[0m     min_disp\u001b[38;5;241m=\u001b[39mmin_disp,\n\u001b[1;32m   (...)\u001b[0m\n\u001b[0;32m    672\u001b[0m     max_mean\u001b[38;5;241m=\u001b[39mmax_mean,\n\u001b[0;32m    673\u001b[0m )\n\u001b[0;32m    674\u001b[0m \u001b[38;5;28;01mdel\u001b[39;00m min_disp, max_disp, min_mean, max_mean, n_top_genes\n",
      "File \u001b[1;32mc:\\Users\\agarc\\anaconda3\\envs\\bioenv\\Lib\\site-packages\\scanpy\\preprocessing\\_highly_variable_genes.py:120\u001b[0m, in \u001b[0;36m_highly_variable_genes_seurat_v3\u001b[1;34m(adata, flavor, layer, n_top_genes, batch_key, check_values, span, subset, inplace)\u001b[0m\n\u001b[0;32m    112\u001b[0m     squared_batch_counts_sum, batch_counts_sum \u001b[38;5;241m=\u001b[39m _sum_and_sum_squares_clipped(\n\u001b[0;32m    113\u001b[0m         batch_counts\u001b[38;5;241m.\u001b[39mindices,\n\u001b[0;32m    114\u001b[0m         batch_counts\u001b[38;5;241m.\u001b[39mdata,\n\u001b[1;32m   (...)\u001b[0m\n\u001b[0;32m    117\u001b[0m         nnz\u001b[38;5;241m=\u001b[39mbatch_counts\u001b[38;5;241m.\u001b[39mnnz,\n\u001b[0;32m    118\u001b[0m     )\n\u001b[0;32m    119\u001b[0m \u001b[38;5;28;01melse\u001b[39;00m:\n\u001b[1;32m--> 120\u001b[0m     batch_counts \u001b[38;5;241m=\u001b[39m \u001b[43mdata_batch\u001b[49m\u001b[38;5;241;43m.\u001b[39;49m\u001b[43mastype\u001b[49m\u001b[43m(\u001b[49m\u001b[43mnp\u001b[49m\u001b[38;5;241;43m.\u001b[39;49m\u001b[43mfloat64\u001b[49m\u001b[43m)\u001b[49m\u001b[38;5;241;43m.\u001b[39;49m\u001b[43mcopy\u001b[49m\u001b[43m(\u001b[49m\u001b[43m)\u001b[49m\n\u001b[0;32m    121\u001b[0m     clip_val_broad \u001b[38;5;241m=\u001b[39m np\u001b[38;5;241m.\u001b[39mbroadcast_to(clip_val, batch_counts\u001b[38;5;241m.\u001b[39mshape)\n\u001b[0;32m    122\u001b[0m     np\u001b[38;5;241m.\u001b[39mputmask(\n\u001b[0;32m    123\u001b[0m         batch_counts,\n\u001b[0;32m    124\u001b[0m         batch_counts \u001b[38;5;241m>\u001b[39m clip_val_broad,\n\u001b[0;32m    125\u001b[0m         clip_val_broad,\n\u001b[0;32m    126\u001b[0m     )\n",
      "\u001b[1;31mMemoryError\u001b[0m: Unable to allocate 1.10 GiB for an array with shape (7120, 20813) and data type float64"
     ]
    }
   ],
   "source": [
    "import os\n",
    "\n",
    "out = []\n",
    "for file in os.listdir('GSE171524_RAW/'):\n",
    "    file_path = os.path.join('GSE171524_RAW', file)  # Construct the full file path\n",
    "    out.append(pp(file_path))"
   ]
  }
 ],
 "metadata": {
  "kernelspec": {
   "display_name": "base",
   "language": "python",
   "name": "python3"
  },
  "language_info": {
   "codemirror_mode": {
    "name": "ipython",
    "version": 3
   },
   "file_extension": ".py",
   "mimetype": "text/x-python",
   "name": "python",
   "nbconvert_exporter": "python",
   "pygments_lexer": "ipython3",
   "version": "3.12.5"
  }
 },
 "nbformat": 4,
 "nbformat_minor": 2
}
