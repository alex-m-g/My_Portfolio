{
 "cells": [
  {
   "cell_type": "markdown",
   "metadata": {},
   "source": [
    "## Loading the data"
   ]
  },
  {
   "cell_type": "markdown",
   "metadata": {},
   "source": [
    "The data came from https://www.ncbi.nlm.nih.gov/geo/query/acc.cgi?acc=GSE171524 --> GSE171524_RAW.tar file"
   ]
  },
  {
   "cell_type": "code",
   "execution_count": 2,
   "metadata": {},
   "outputs": [
    {
     "name": "stdout",
     "output_type": "stream",
     "text": [
      "   Unnamed: 0  TAGGTACCATGGCCAC-1_1  ATTCACTGTAACAGGC-1_1  \\\n",
      "0  AL627309.1                     0                     0   \n",
      "1  AL627309.5                     0                     0   \n",
      "2  AL627309.4                     0                     0   \n",
      "3  AL669831.2                     0                     0   \n",
      "4   LINC01409                     1                     0   \n",
      "\n",
      "   TAACTTCCAACCACGC-1_1  TTGGGTACACGACAAG-1_1  AGGCCACAGAGTCACG-1_1  \\\n",
      "0                     0                     0                     0   \n",
      "1                     0                     0                     0   \n",
      "2                     0                     0                     0   \n",
      "3                     0                     0                     0   \n",
      "4                     2                     0                     0   \n",
      "\n",
      "   CACTGAAGTCGAAGCA-1_1  ACTGATGTCTGCACCT-1_1  TTACCGCCACTCAGAT-1_1  \\\n",
      "0                     0                     0                     0   \n",
      "1                     0                     0                     1   \n",
      "2                     0                     0                     0   \n",
      "3                     0                     0                     0   \n",
      "4                     1                     0                     1   \n",
      "\n",
      "   TTGGTTTTCCTAGCTC-1_1  ...  AAGTCGTGTGTGAATA-1_1  GTCGTTCTCCAAGGGA-1_1  \\\n",
      "0                     0  ...                     0                     0   \n",
      "1                     0  ...                     0                     0   \n",
      "2                     0  ...                     0                     0   \n",
      "3                     0  ...                     0                     0   \n",
      "4                     0  ...                     0                     0   \n",
      "\n",
      "   GTTTGGATCGGCCTTT-1_1  GTACAGTCACGTATAC-1_1  TCATGCCCAAGAGGTC-1_1  \\\n",
      "0                     0                     0                     0   \n",
      "1                     0                     0                     0   \n",
      "2                     0                     0                     0   \n",
      "3                     0                     0                     0   \n",
      "4                     0                     0                     0   \n",
      "\n",
      "   CGCCATTGTTTGCCGG-1_1  CACTGGGGTCTACGTA-1_1  CATACTTGTAGAGGAA-1_1  \\\n",
      "0                     0                     0                     0   \n",
      "1                     0                     0                     0   \n",
      "2                     0                     0                     0   \n",
      "3                     0                     0                     0   \n",
      "4                     0                     0                     0   \n",
      "\n",
      "   TTTGGTTTCCACGGAC-1_1  ATGCATGAGTCATGAA-1_1  \n",
      "0                     0                     0  \n",
      "1                     0                     0  \n",
      "2                     0                     0  \n",
      "3                     0                     0  \n",
      "4                     0                     0  \n",
      "\n",
      "[5 rows x 6100 columns]\n"
     ]
    }
   ],
   "source": [
    "import pandas as pd\n",
    "\n",
    "file_path = r\"GSM5226574_C51ctr_raw_counts.csv.gz\"\n",
    "\n",
    "# Read the compressed CSV file\n",
    "df = pd.read_csv(file_path, compression='gzip')\n",
    "\n",
    "# Display the first few rows of the DataFrame\n",
    "print(df.head())  # This will take 55 sec to load"
   ]
  },
  {
   "cell_type": "code",
   "execution_count": 6,
   "metadata": {},
   "outputs": [
    {
     "name": "stdout",
     "output_type": "stream",
     "text": [
      "Requirement already satisfied: scanpy in c:\\users\\agarc\\anaconda3\\envs\\bioenv\\lib\\site-packages (1.10.2)\n",
      "Requirement already satisfied: anndata>=0.8 in c:\\users\\agarc\\anaconda3\\envs\\bioenv\\lib\\site-packages (from scanpy) (0.10.8)\n",
      "Requirement already satisfied: h5py>=3.1 in c:\\users\\agarc\\anaconda3\\envs\\bioenv\\lib\\site-packages (from scanpy) (3.11.0)\n",
      "Requirement already satisfied: joblib in c:\\users\\agarc\\anaconda3\\envs\\bioenv\\lib\\site-packages (from scanpy) (1.4.2)\n",
      "Requirement already satisfied: legacy-api-wrap>=1.4 in c:\\users\\agarc\\anaconda3\\envs\\bioenv\\lib\\site-packages (from scanpy) (1.4)\n",
      "Requirement already satisfied: matplotlib>=3.6 in c:\\users\\agarc\\anaconda3\\envs\\bioenv\\lib\\site-packages (from scanpy) (3.9.2)\n",
      "Requirement already satisfied: natsort in c:\\users\\agarc\\anaconda3\\envs\\bioenv\\lib\\site-packages (from scanpy) (8.4.0)\n",
      "Requirement already satisfied: networkx>=2.7 in c:\\users\\agarc\\anaconda3\\envs\\bioenv\\lib\\site-packages (from scanpy) (3.3)\n",
      "Requirement already satisfied: numba>=0.56 in c:\\users\\agarc\\anaconda3\\envs\\bioenv\\lib\\site-packages (from scanpy) (0.60.0)\n",
      "Requirement already satisfied: numpy<2,>=1.23 in c:\\users\\agarc\\anaconda3\\envs\\bioenv\\lib\\site-packages (from scanpy) (1.26.4)\n",
      "Requirement already satisfied: packaging>=21.3 in c:\\users\\agarc\\anaconda3\\envs\\bioenv\\lib\\site-packages (from scanpy) (24.1)\n",
      "Requirement already satisfied: pandas>=1.5 in c:\\users\\agarc\\anaconda3\\envs\\bioenv\\lib\\site-packages (from scanpy) (2.2.2)\n",
      "Requirement already satisfied: patsy in c:\\users\\agarc\\anaconda3\\envs\\bioenv\\lib\\site-packages (from scanpy) (0.5.6)\n",
      "Requirement already satisfied: pynndescent>=0.5 in c:\\users\\agarc\\anaconda3\\envs\\bioenv\\lib\\site-packages (from scanpy) (0.5.13)\n",
      "Requirement already satisfied: scikit-learn>=0.24 in c:\\users\\agarc\\anaconda3\\envs\\bioenv\\lib\\site-packages (from scanpy) (1.5.1)\n",
      "Requirement already satisfied: scipy>=1.8 in c:\\users\\agarc\\anaconda3\\envs\\bioenv\\lib\\site-packages (from scanpy) (1.14.0)\n",
      "Requirement already satisfied: seaborn>=0.13 in c:\\users\\agarc\\anaconda3\\envs\\bioenv\\lib\\site-packages (from scanpy) (0.13.2)\n",
      "Requirement already satisfied: session-info in c:\\users\\agarc\\anaconda3\\envs\\bioenv\\lib\\site-packages (from scanpy) (1.0.0)\n",
      "Requirement already satisfied: statsmodels>=0.13 in c:\\users\\agarc\\anaconda3\\envs\\bioenv\\lib\\site-packages (from scanpy) (0.14.2)\n",
      "Requirement already satisfied: tqdm in c:\\users\\agarc\\anaconda3\\envs\\bioenv\\lib\\site-packages (from scanpy) (4.66.5)\n",
      "Requirement already satisfied: umap-learn!=0.5.0,>=0.5 in c:\\users\\agarc\\anaconda3\\envs\\bioenv\\lib\\site-packages (from scanpy) (0.5.6)\n",
      "Requirement already satisfied: array-api-compat!=1.5,>1.4 in c:\\users\\agarc\\anaconda3\\envs\\bioenv\\lib\\site-packages (from anndata>=0.8->scanpy) (1.8)\n",
      "Requirement already satisfied: contourpy>=1.0.1 in c:\\users\\agarc\\anaconda3\\envs\\bioenv\\lib\\site-packages (from matplotlib>=3.6->scanpy) (1.2.1)\n",
      "Requirement already satisfied: cycler>=0.10 in c:\\users\\agarc\\anaconda3\\envs\\bioenv\\lib\\site-packages (from matplotlib>=3.6->scanpy) (0.12.1)\n",
      "Requirement already satisfied: fonttools>=4.22.0 in c:\\users\\agarc\\anaconda3\\envs\\bioenv\\lib\\site-packages (from matplotlib>=3.6->scanpy) (4.53.1)\n",
      "Requirement already satisfied: kiwisolver>=1.3.1 in c:\\users\\agarc\\anaconda3\\envs\\bioenv\\lib\\site-packages (from matplotlib>=3.6->scanpy) (1.4.5)\n",
      "Requirement already satisfied: pillow>=8 in c:\\users\\agarc\\anaconda3\\envs\\bioenv\\lib\\site-packages (from matplotlib>=3.6->scanpy) (10.4.0)\n",
      "Requirement already satisfied: pyparsing>=2.3.1 in c:\\users\\agarc\\anaconda3\\envs\\bioenv\\lib\\site-packages (from matplotlib>=3.6->scanpy) (3.1.2)\n",
      "Requirement already satisfied: python-dateutil>=2.7 in c:\\users\\agarc\\anaconda3\\envs\\bioenv\\lib\\site-packages (from matplotlib>=3.6->scanpy) (2.9.0)\n",
      "Requirement already satisfied: llvmlite<0.44,>=0.43.0dev0 in c:\\users\\agarc\\anaconda3\\envs\\bioenv\\lib\\site-packages (from numba>=0.56->scanpy) (0.43.0)\n",
      "Requirement already satisfied: pytz>=2020.1 in c:\\users\\agarc\\anaconda3\\envs\\bioenv\\lib\\site-packages (from pandas>=1.5->scanpy) (2024.1)\n",
      "Requirement already satisfied: tzdata>=2022.7 in c:\\users\\agarc\\anaconda3\\envs\\bioenv\\lib\\site-packages (from pandas>=1.5->scanpy) (2024.1)\n",
      "Requirement already satisfied: threadpoolctl>=3.1.0 in c:\\users\\agarc\\anaconda3\\envs\\bioenv\\lib\\site-packages (from scikit-learn>=0.24->scanpy) (3.5.0)\n",
      "Requirement already satisfied: six in c:\\users\\agarc\\anaconda3\\envs\\bioenv\\lib\\site-packages (from patsy->scanpy) (1.16.0)\n",
      "Requirement already satisfied: stdlib-list in c:\\users\\agarc\\anaconda3\\envs\\bioenv\\lib\\site-packages (from session-info->scanpy) (0.10.0)\n",
      "Requirement already satisfied: colorama in c:\\users\\agarc\\anaconda3\\envs\\bioenv\\lib\\site-packages (from tqdm->scanpy) (0.4.6)\n"
     ]
    }
   ],
   "source": [
    "!pip install scanpy"
   ]
  },
  {
   "cell_type": "code",
   "execution_count": 4,
   "metadata": {},
   "outputs": [
    {
     "name": "stdout",
     "output_type": "stream",
     "text": [
      "AnnData object with n_obs × n_vars = 6099 × 34546\n"
     ]
    }
   ],
   "source": [
    "import scanpy as sc\n",
    "\n",
    "file_path = r\"GSM5226574_C51ctr_raw_counts.csv.gz\"\n",
    "\n",
    "# Read the compressed CSV file into an AnnData object\n",
    "adata = sc.read_csv(file_path)\n",
    "\n",
    "# Transpose the data to have cells as rows and genes as columns\n",
    "adata = adata.T\n",
    "\n",
    "# Display the contents of the AnnData object\n",
    "print(adata)  # This will take about 60 sec to load"
   ]
  },
  {
   "cell_type": "code",
   "execution_count": 5,
   "metadata": {},
   "outputs": [
    {
     "data": {
      "text/html": [
       "<div>\n",
       "<style scoped>\n",
       "    .dataframe tbody tr th:only-of-type {\n",
       "        vertical-align: middle;\n",
       "    }\n",
       "\n",
       "    .dataframe tbody tr th {\n",
       "        vertical-align: top;\n",
       "    }\n",
       "\n",
       "    .dataframe thead th {\n",
       "        text-align: right;\n",
       "    }\n",
       "</style>\n",
       "<table border=\"1\" class=\"dataframe\">\n",
       "  <thead>\n",
       "    <tr style=\"text-align: right;\">\n",
       "      <th></th>\n",
       "    </tr>\n",
       "  </thead>\n",
       "  <tbody>\n",
       "    <tr>\n",
       "      <th>TAGGTACCATGGCCAC-1_1</th>\n",
       "    </tr>\n",
       "    <tr>\n",
       "      <th>ATTCACTGTAACAGGC-1_1</th>\n",
       "    </tr>\n",
       "    <tr>\n",
       "      <th>TAACTTCCAACCACGC-1_1</th>\n",
       "    </tr>\n",
       "    <tr>\n",
       "      <th>TTGGGTACACGACAAG-1_1</th>\n",
       "    </tr>\n",
       "    <tr>\n",
       "      <th>AGGCCACAGAGTCACG-1_1</th>\n",
       "    </tr>\n",
       "    <tr>\n",
       "      <th>...</th>\n",
       "    </tr>\n",
       "    <tr>\n",
       "      <th>CGCCATTGTTTGCCGG-1_1</th>\n",
       "    </tr>\n",
       "    <tr>\n",
       "      <th>CACTGGGGTCTACGTA-1_1</th>\n",
       "    </tr>\n",
       "    <tr>\n",
       "      <th>CATACTTGTAGAGGAA-1_1</th>\n",
       "    </tr>\n",
       "    <tr>\n",
       "      <th>TTTGGTTTCCACGGAC-1_1</th>\n",
       "    </tr>\n",
       "    <tr>\n",
       "      <th>ATGCATGAGTCATGAA-1_1</th>\n",
       "    </tr>\n",
       "  </tbody>\n",
       "</table>\n",
       "<p>6099 rows × 0 columns</p>\n",
       "</div>"
      ],
      "text/plain": [
       "Empty DataFrame\n",
       "Columns: []\n",
       "Index: [TAGGTACCATGGCCAC-1_1, ATTCACTGTAACAGGC-1_1, TAACTTCCAACCACGC-1_1, TTGGGTACACGACAAG-1_1, AGGCCACAGAGTCACG-1_1, CACTGAAGTCGAAGCA-1_1, ACTGATGTCTGCACCT-1_1, TTACCGCCACTCAGAT-1_1, TTGGTTTTCCTAGCTC-1_1, TGGGAAGTCAGTGATC-1_1, CCACGAGTCTCTTAAC-1_1, ACTTCCGCACAACGCC-1_1, GGGAAGTAGCGACCCT-1_1, TGGTAGTTCCCGTGTT-1_1, CGCATAACATGCCGGT-1_1, TCTATCACAAGGCTTT-1_1, ATCCACCAGAGGTATT-1_1, TAACGACAGATGACCG-1_1, TCTTAGTGTATGAGGC-1_1, CACTTCGCAGTACTAC-1_1, GTCAAACAGAACGTGC-1_1, GCAACCGAGGGCAGGA-1_1, CATACTTTCATCACTT-1_1, AAGAACATCGGATTAC-1_1, GGGTATTGTACGATGG-1_1, CTGTAGATCAACGTGT-1_1, GTCATTTGTATCTCGA-1_1, CCTTGTGCAGAGGGTT-1_1, AAGTTCGCAACACGTT-1_1, TCATTCACAAATCAAG-1_1, TCCATGCCAACGACTT-1_1, TCCTTCTCAGTTTCAG-1_1, TGTGAGTCAAATGATG-1_1, AAACGAAGTACAGAGC-1_1, CAACCAAAGTATTCCG-1_1, CTTCTCTCAGAGACTG-1_1, TACAACGGTGGCTGAA-1_1, AACGGGACATGCCGGT-1_1, AACCAACGTTGGGAAC-1_1, TATATCCAGCGTCAGA-1_1, AGACAAACATCCCGTT-1_1, ATGACCAGTCTTCATT-1_1, CTTACCGTCAGACATC-1_1, CGGGACTGTTAGTTCG-1_1, ATTCATCCACTGAGTT-1_1, TCATGAGAGAGGCGGA-1_1, TCCCACATCTAGTACG-1_1, CTTCCTTCATATCTCT-1_1, CCGGACACACTCGATA-1_1, ACACGCGCACCTGTCT-1_1, GAATCGTCAGAAGTGC-1_1, GGTGGCTCAAGCTCTA-1_1, CCTGCATCACATATGC-1_1, GTGGGAAGTTAAAGTG-1_1, CGTTCTGGTACTAGCT-1_1, ACCCTCACAATAGTCC-1_1, GCCCGAACAAACTAAG-1_1, GTGGAAGCACATGACT-1_1, GTTGTGACATCGATAC-1_1, GACAGCCCAGGTCCGT-1_1, TAAGCACGTTGGCTAT-1_1, GGGACAAGTCACCACG-1_1, CTGGCAGGTTCGGTAT-1_1, GACTCAACACTGTGAT-1_1, GCCAGTGGTGTGGTCC-1_1, TCTAACTGTAGGCAGT-1_1, GAAGAATGTAGCTTGT-1_1, TCACTCGCAATCTCTT-1_1, CAAGACTTCCCACAGG-1_1, CAGATACGTGACTCTA-1_1, TGGGATTAGAGGGTCT-1_1, ACCTGAACACTCCTTG-1_1, GACACGCCACTCGATA-1_1, CTCATCGTCACCGCTT-1_1, AGGTAGGGTCCCTGTT-1_1, TACCCGTCAACACTAC-1_1, TGCTGAAAGACGGATC-1_1, ACACCAACACAACGCC-1_1, AAGATAGCAAATGGAT-1_1, CTTCAATGTGACAGGT-1_1, GAAGCGAAGAGTTGAT-1_1, GCCGTGACACAAGCCC-1_1, CCTCAACCATACAGGG-1_1, ACAAAGATCCACAGGC-1_1, CAGATACAGTCCCAGC-1_1, GGCAGTCTCCGGTTCT-1_1, TAAGTCGAGCTGAGCA-1_1, GAGACCCGTCTGTGCG-1_1, TAACACGCATGTGTCA-1_1, TCAATTCGTTCTCGCT-1_1, GCTTTCGCACAGTGTT-1_1, AACCAACAGATAACAC-1_1, ATCGGCGCACATCATG-1_1, TCATCCGCACGAGGAT-1_1, CTGATCCTCTTTACAC-1_1, TCACACCCAACTTCTT-1_1, TGAGGGACACCGTACG-1_1, GTGCACGTCATCTGTT-1_1, GGTAATCAGTTGCATC-1_1, ATACTTCCAAGGTCTT-1_1, ...]\n",
       "\n",
       "[6099 rows x 0 columns]"
      ]
     },
     "execution_count": 5,
     "metadata": {},
     "output_type": "execute_result"
    }
   ],
   "source": [
    "# Cell Barcodes\n",
    "adata.obs"
   ]
  },
  {
   "cell_type": "code",
   "execution_count": 6,
   "metadata": {},
   "outputs": [
    {
     "data": {
      "text/html": [
       "<div>\n",
       "<style scoped>\n",
       "    .dataframe tbody tr th:only-of-type {\n",
       "        vertical-align: middle;\n",
       "    }\n",
       "\n",
       "    .dataframe tbody tr th {\n",
       "        vertical-align: top;\n",
       "    }\n",
       "\n",
       "    .dataframe thead th {\n",
       "        text-align: right;\n",
       "    }\n",
       "</style>\n",
       "<table border=\"1\" class=\"dataframe\">\n",
       "  <thead>\n",
       "    <tr style=\"text-align: right;\">\n",
       "      <th></th>\n",
       "    </tr>\n",
       "  </thead>\n",
       "  <tbody>\n",
       "    <tr>\n",
       "      <th>AL627309.1</th>\n",
       "    </tr>\n",
       "    <tr>\n",
       "      <th>AL627309.5</th>\n",
       "    </tr>\n",
       "    <tr>\n",
       "      <th>AL627309.4</th>\n",
       "    </tr>\n",
       "    <tr>\n",
       "      <th>AL669831.2</th>\n",
       "    </tr>\n",
       "    <tr>\n",
       "      <th>LINC01409</th>\n",
       "    </tr>\n",
       "    <tr>\n",
       "      <th>...</th>\n",
       "    </tr>\n",
       "    <tr>\n",
       "      <th>VN1R2</th>\n",
       "    </tr>\n",
       "    <tr>\n",
       "      <th>AL031676.1</th>\n",
       "    </tr>\n",
       "    <tr>\n",
       "      <th>SMIM34A</th>\n",
       "    </tr>\n",
       "    <tr>\n",
       "      <th>AL050402.1</th>\n",
       "    </tr>\n",
       "    <tr>\n",
       "      <th>AL445072.1</th>\n",
       "    </tr>\n",
       "  </tbody>\n",
       "</table>\n",
       "<p>34546 rows × 0 columns</p>\n",
       "</div>"
      ],
      "text/plain": [
       "Empty DataFrame\n",
       "Columns: []\n",
       "Index: [AL627309.1, AL627309.5, AL627309.4, AL669831.2, LINC01409, FAM87B, LINC01128, LINC00115, FAM41C, AL645608.6, AL645608.2, LINC02593, SAMD11, NOC2L, KLHL17, PLEKHN1, PERM1, AL645608.7, HES4, ISG15, AL645608.1, AGRN, C1orf159, AL390719.3, LINC01342, AL390719.2, TTLL10-AS1, TTLL10, TNFRSF18, TNFRSF4, SDF4, B3GALT6, C1QTNF12, UBE2J2, LINC01786, SCNN1D, ACAP3, PUSL1, INTS11, AL139287.1, CPTP, DVL1, MXRA8, AURKAIP1, CCNL2, MRPL20-AS1, MRPL20, AL391244.2, ANKRD65, AL391244.1, LINC01770, VWA1, ATAD3C, ATAD3B, ATAD3A, TMEM240, SSU72, AL645728.1, FNDC10, AL691432.4, AL691432.2, MIB2, MMP23B, CDK11B, FO704657.1, SLC35E2B, CDK11A, SLC35E2A, NADK, GNB1, AL109917.1, CALML6, TMEM52, CFAP74, GABRD, AL391845.1, PRKCZ, AL590822.2, PRKCZ-AS1, FAAP20, AL590822.1, SKI, AL590822.3, MORN1, AL589739.1, AL513477.2, RER1, PEX10, PLCH2, AL139246.4, PANK4, HES5, AL139246.5, TNFRSF14-AS1, TNFRSF14, AL139246.3, PRXL2B, MMEL1, TTC34, AC242022.2, ...]\n",
       "\n",
       "[34546 rows x 0 columns]"
      ]
     },
     "execution_count": 6,
     "metadata": {},
     "output_type": "execute_result"
    }
   ],
   "source": [
    "# genes\n",
    "adata.var"
   ]
  },
  {
   "cell_type": "code",
   "execution_count": 7,
   "metadata": {},
   "outputs": [
    {
     "data": {
      "text/plain": [
       "(6099, 34546)"
      ]
     },
     "execution_count": 7,
     "metadata": {},
     "output_type": "execute_result"
    }
   ],
   "source": [
    "adata.X.shape # Number of cells by the number of genes"
   ]
  },
  {
   "cell_type": "markdown",
   "metadata": {},
   "source": [
    "## Doublet Removal"
   ]
  },
  {
   "cell_type": "markdown",
   "metadata": {},
   "source": [
    "When you are making single cell libaries, somteimes two or more cells can end up in the same drop."
   ]
  },
  {
   "cell_type": "code",
   "execution_count": 10,
   "metadata": {},
   "outputs": [
    {
     "name": "stdout",
     "output_type": "stream",
     "text": [
      "Requirement already satisfied: scvi-tools in c:\\users\\agarc\\anaconda3\\envs\\bioenv\\lib\\site-packages (1.1.5)\n",
      "Requirement already satisfied: anndata>=0.7.5 in c:\\users\\agarc\\anaconda3\\envs\\bioenv\\lib\\site-packages (from scvi-tools) (0.10.8)\n",
      "Requirement already satisfied: docrep>=0.3.2 in c:\\users\\agarc\\anaconda3\\envs\\bioenv\\lib\\site-packages (from scvi-tools) (0.3.2)\n",
      "Requirement already satisfied: flax in c:\\users\\agarc\\anaconda3\\envs\\bioenv\\lib\\site-packages (from scvi-tools) (0.8.5)\n",
      "Requirement already satisfied: h5py>=2.9.0 in c:\\users\\agarc\\anaconda3\\envs\\bioenv\\lib\\site-packages (from scvi-tools) (3.11.0)\n",
      "Requirement already satisfied: jax>=0.4.4 in c:\\users\\agarc\\anaconda3\\envs\\bioenv\\lib\\site-packages (from scvi-tools) (0.4.31)\n",
      "Requirement already satisfied: jaxlib>=0.4.3 in c:\\users\\agarc\\anaconda3\\envs\\bioenv\\lib\\site-packages (from scvi-tools) (0.4.31)\n",
      "Requirement already satisfied: lightning<2.2,>=2.0 in c:\\users\\agarc\\anaconda3\\envs\\bioenv\\lib\\site-packages (from scvi-tools) (2.1.4)\n",
      "Requirement already satisfied: ml-collections>=0.1.1 in c:\\users\\agarc\\anaconda3\\envs\\bioenv\\lib\\site-packages (from scvi-tools) (0.1.1)\n",
      "Requirement already satisfied: mudata>=0.1.2 in c:\\users\\agarc\\anaconda3\\envs\\bioenv\\lib\\site-packages (from scvi-tools) (0.3.0)\n",
      "Requirement already satisfied: numpy<2.0,>=1.21.0 in c:\\users\\agarc\\anaconda3\\envs\\bioenv\\lib\\site-packages (from scvi-tools) (1.26.4)\n",
      "Requirement already satisfied: numpyro>=0.12.1 in c:\\users\\agarc\\anaconda3\\envs\\bioenv\\lib\\site-packages (from scvi-tools) (0.15.2)\n",
      "Requirement already satisfied: optax in c:\\users\\agarc\\anaconda3\\envs\\bioenv\\lib\\site-packages (from scvi-tools) (0.2.3)\n",
      "Requirement already satisfied: pandas>=1.0 in c:\\users\\agarc\\anaconda3\\envs\\bioenv\\lib\\site-packages (from scvi-tools) (2.2.2)\n",
      "Requirement already satisfied: pyro-ppl>=1.6.0 in c:\\users\\agarc\\anaconda3\\envs\\bioenv\\lib\\site-packages (from scvi-tools) (1.9.1)\n",
      "Requirement already satisfied: rich>=12.0.0 in c:\\users\\agarc\\anaconda3\\envs\\bioenv\\lib\\site-packages (from scvi-tools) (13.7.1)\n",
      "Requirement already satisfied: scikit-learn>=0.21.2 in c:\\users\\agarc\\anaconda3\\envs\\bioenv\\lib\\site-packages (from scvi-tools) (1.5.1)\n",
      "Requirement already satisfied: scipy in c:\\users\\agarc\\anaconda3\\envs\\bioenv\\lib\\site-packages (from scvi-tools) (1.14.0)\n",
      "Requirement already satisfied: torch>=1.8.0 in c:\\users\\agarc\\anaconda3\\envs\\bioenv\\lib\\site-packages (from scvi-tools) (2.4.0)\n",
      "Requirement already satisfied: torchmetrics>=0.11.0 in c:\\users\\agarc\\anaconda3\\envs\\bioenv\\lib\\site-packages (from scvi-tools) (1.4.1)\n",
      "Requirement already satisfied: tqdm>=4.56.0 in c:\\users\\agarc\\anaconda3\\envs\\bioenv\\lib\\site-packages (from scvi-tools) (4.66.5)\n",
      "Requirement already satisfied: array-api-compat!=1.5,>1.4 in c:\\users\\agarc\\anaconda3\\envs\\bioenv\\lib\\site-packages (from anndata>=0.7.5->scvi-tools) (1.8)\n",
      "Requirement already satisfied: natsort in c:\\users\\agarc\\anaconda3\\envs\\bioenv\\lib\\site-packages (from anndata>=0.7.5->scvi-tools) (8.4.0)\n",
      "Requirement already satisfied: packaging>=20.0 in c:\\users\\agarc\\anaconda3\\envs\\bioenv\\lib\\site-packages (from anndata>=0.7.5->scvi-tools) (24.1)\n",
      "Requirement already satisfied: six in c:\\users\\agarc\\anaconda3\\envs\\bioenv\\lib\\site-packages (from docrep>=0.3.2->scvi-tools) (1.16.0)\n",
      "Requirement already satisfied: ml-dtypes>=0.2.0 in c:\\users\\agarc\\anaconda3\\envs\\bioenv\\lib\\site-packages (from jax>=0.4.4->scvi-tools) (0.4.0)\n",
      "Requirement already satisfied: opt-einsum in c:\\users\\agarc\\anaconda3\\envs\\bioenv\\lib\\site-packages (from jax>=0.4.4->scvi-tools) (3.3.0)\n",
      "Requirement already satisfied: PyYAML<8.0,>=5.4 in c:\\users\\agarc\\anaconda3\\envs\\bioenv\\lib\\site-packages (from lightning<2.2,>=2.0->scvi-tools) (6.0.2)\n",
      "Requirement already satisfied: fsspec<2025.0,>=2022.5.0 in c:\\users\\agarc\\anaconda3\\envs\\bioenv\\lib\\site-packages (from fsspec[http]<2025.0,>=2022.5.0->lightning<2.2,>=2.0->scvi-tools) (2024.6.1)\n",
      "Requirement already satisfied: lightning-utilities<2.0,>=0.8.0 in c:\\users\\agarc\\anaconda3\\envs\\bioenv\\lib\\site-packages (from lightning<2.2,>=2.0->scvi-tools) (0.11.6)\n",
      "Requirement already satisfied: typing-extensions<6.0,>=4.0.0 in c:\\users\\agarc\\anaconda3\\envs\\bioenv\\lib\\site-packages (from lightning<2.2,>=2.0->scvi-tools) (4.12.2)\n",
      "Requirement already satisfied: pytorch-lightning in c:\\users\\agarc\\anaconda3\\envs\\bioenv\\lib\\site-packages (from lightning<2.2,>=2.0->scvi-tools) (2.4.0)\n",
      "Requirement already satisfied: absl-py in c:\\users\\agarc\\anaconda3\\envs\\bioenv\\lib\\site-packages (from ml-collections>=0.1.1->scvi-tools) (2.1.0)\n",
      "Requirement already satisfied: contextlib2 in c:\\users\\agarc\\anaconda3\\envs\\bioenv\\lib\\site-packages (from ml-collections>=0.1.1->scvi-tools) (21.6.0)\n",
      "Requirement already satisfied: multipledispatch in c:\\users\\agarc\\anaconda3\\envs\\bioenv\\lib\\site-packages (from numpyro>=0.12.1->scvi-tools) (1.0.0)\n",
      "Requirement already satisfied: python-dateutil>=2.8.2 in c:\\users\\agarc\\anaconda3\\envs\\bioenv\\lib\\site-packages (from pandas>=1.0->scvi-tools) (2.9.0)\n",
      "Requirement already satisfied: pytz>=2020.1 in c:\\users\\agarc\\anaconda3\\envs\\bioenv\\lib\\site-packages (from pandas>=1.0->scvi-tools) (2024.1)\n",
      "Requirement already satisfied: tzdata>=2022.7 in c:\\users\\agarc\\anaconda3\\envs\\bioenv\\lib\\site-packages (from pandas>=1.0->scvi-tools) (2024.1)\n",
      "Requirement already satisfied: pyro-api>=0.1.1 in c:\\users\\agarc\\anaconda3\\envs\\bioenv\\lib\\site-packages (from pyro-ppl>=1.6.0->scvi-tools) (0.1.2)\n",
      "Requirement already satisfied: markdown-it-py>=2.2.0 in c:\\users\\agarc\\anaconda3\\envs\\bioenv\\lib\\site-packages (from rich>=12.0.0->scvi-tools) (3.0.0)\n",
      "Requirement already satisfied: pygments<3.0.0,>=2.13.0 in c:\\users\\agarc\\anaconda3\\envs\\bioenv\\lib\\site-packages (from rich>=12.0.0->scvi-tools) (2.18.0)\n",
      "Requirement already satisfied: joblib>=1.2.0 in c:\\users\\agarc\\anaconda3\\envs\\bioenv\\lib\\site-packages (from scikit-learn>=0.21.2->scvi-tools) (1.4.2)\n",
      "Requirement already satisfied: threadpoolctl>=3.1.0 in c:\\users\\agarc\\anaconda3\\envs\\bioenv\\lib\\site-packages (from scikit-learn>=0.21.2->scvi-tools) (3.5.0)\n",
      "Requirement already satisfied: filelock in c:\\users\\agarc\\anaconda3\\envs\\bioenv\\lib\\site-packages (from torch>=1.8.0->scvi-tools) (3.15.4)\n",
      "Requirement already satisfied: sympy in c:\\users\\agarc\\anaconda3\\envs\\bioenv\\lib\\site-packages (from torch>=1.8.0->scvi-tools) (1.13.2)\n",
      "Requirement already satisfied: networkx in c:\\users\\agarc\\anaconda3\\envs\\bioenv\\lib\\site-packages (from torch>=1.8.0->scvi-tools) (3.3)\n",
      "Requirement already satisfied: jinja2 in c:\\users\\agarc\\anaconda3\\envs\\bioenv\\lib\\site-packages (from torch>=1.8.0->scvi-tools) (3.1.4)\n",
      "Requirement already satisfied: setuptools in c:\\users\\agarc\\anaconda3\\envs\\bioenv\\lib\\site-packages (from torch>=1.8.0->scvi-tools) (72.1.0)\n",
      "Requirement already satisfied: colorama in c:\\users\\agarc\\anaconda3\\envs\\bioenv\\lib\\site-packages (from tqdm>=4.56.0->scvi-tools) (0.4.6)\n",
      "Requirement already satisfied: msgpack in c:\\users\\agarc\\anaconda3\\envs\\bioenv\\lib\\site-packages (from flax->scvi-tools) (1.0.8)\n",
      "Requirement already satisfied: orbax-checkpoint in c:\\users\\agarc\\anaconda3\\envs\\bioenv\\lib\\site-packages (from flax->scvi-tools) (0.5.23)\n",
      "Requirement already satisfied: tensorstore in c:\\users\\agarc\\anaconda3\\envs\\bioenv\\lib\\site-packages (from flax->scvi-tools) (0.1.64)\n",
      "Requirement already satisfied: chex>=0.1.86 in c:\\users\\agarc\\anaconda3\\envs\\bioenv\\lib\\site-packages (from optax->scvi-tools) (0.1.86)\n",
      "Requirement already satisfied: etils[epy] in c:\\users\\agarc\\anaconda3\\envs\\bioenv\\lib\\site-packages (from optax->scvi-tools) (1.9.2)\n",
      "Requirement already satisfied: toolz>=0.9.0 in c:\\users\\agarc\\anaconda3\\envs\\bioenv\\lib\\site-packages (from chex>=0.1.86->optax->scvi-tools) (0.12.1)\n",
      "Requirement already satisfied: aiohttp!=4.0.0a0,!=4.0.0a1 in c:\\users\\agarc\\anaconda3\\envs\\bioenv\\lib\\site-packages (from fsspec[http]<2025.0,>=2022.5.0->lightning<2.2,>=2.0->scvi-tools) (3.10.4)\n",
      "Requirement already satisfied: mdurl~=0.1 in c:\\users\\agarc\\anaconda3\\envs\\bioenv\\lib\\site-packages (from markdown-it-py>=2.2.0->rich>=12.0.0->scvi-tools) (0.1.2)\n",
      "Requirement already satisfied: MarkupSafe>=2.0 in c:\\users\\agarc\\anaconda3\\envs\\bioenv\\lib\\site-packages (from jinja2->torch>=1.8.0->scvi-tools) (2.1.5)\n",
      "Requirement already satisfied: nest_asyncio in c:\\users\\agarc\\anaconda3\\envs\\bioenv\\lib\\site-packages (from orbax-checkpoint->flax->scvi-tools) (1.6.0)\n",
      "Requirement already satisfied: protobuf in c:\\users\\agarc\\anaconda3\\envs\\bioenv\\lib\\site-packages (from orbax-checkpoint->flax->scvi-tools) (5.27.3)\n",
      "Requirement already satisfied: mpmath<1.4,>=1.1.0 in c:\\users\\agarc\\anaconda3\\envs\\bioenv\\lib\\site-packages (from sympy->torch>=1.8.0->scvi-tools) (1.3.0)\n",
      "Requirement already satisfied: aiohappyeyeballs>=2.3.0 in c:\\users\\agarc\\anaconda3\\envs\\bioenv\\lib\\site-packages (from aiohttp!=4.0.0a0,!=4.0.0a1->fsspec[http]<2025.0,>=2022.5.0->lightning<2.2,>=2.0->scvi-tools) (2.3.7)\n",
      "Requirement already satisfied: aiosignal>=1.1.2 in c:\\users\\agarc\\anaconda3\\envs\\bioenv\\lib\\site-packages (from aiohttp!=4.0.0a0,!=4.0.0a1->fsspec[http]<2025.0,>=2022.5.0->lightning<2.2,>=2.0->scvi-tools) (1.3.1)\n",
      "Requirement already satisfied: attrs>=17.3.0 in c:\\users\\agarc\\anaconda3\\envs\\bioenv\\lib\\site-packages (from aiohttp!=4.0.0a0,!=4.0.0a1->fsspec[http]<2025.0,>=2022.5.0->lightning<2.2,>=2.0->scvi-tools) (24.2.0)\n",
      "Requirement already satisfied: frozenlist>=1.1.1 in c:\\users\\agarc\\anaconda3\\envs\\bioenv\\lib\\site-packages (from aiohttp!=4.0.0a0,!=4.0.0a1->fsspec[http]<2025.0,>=2022.5.0->lightning<2.2,>=2.0->scvi-tools) (1.4.1)\n",
      "Requirement already satisfied: multidict<7.0,>=4.5 in c:\\users\\agarc\\anaconda3\\envs\\bioenv\\lib\\site-packages (from aiohttp!=4.0.0a0,!=4.0.0a1->fsspec[http]<2025.0,>=2022.5.0->lightning<2.2,>=2.0->scvi-tools) (6.0.5)\n",
      "Requirement already satisfied: yarl<2.0,>=1.0 in c:\\users\\agarc\\anaconda3\\envs\\bioenv\\lib\\site-packages (from aiohttp!=4.0.0a0,!=4.0.0a1->fsspec[http]<2025.0,>=2022.5.0->lightning<2.2,>=2.0->scvi-tools) (1.9.4)\n",
      "Requirement already satisfied: importlib_resources in c:\\users\\agarc\\anaconda3\\envs\\bioenv\\lib\\site-packages (from etils[epy]->optax->scvi-tools) (6.4.3)\n",
      "Requirement already satisfied: zipp in c:\\users\\agarc\\anaconda3\\envs\\bioenv\\lib\\site-packages (from etils[epy]->optax->scvi-tools) (3.20.0)\n",
      "Requirement already satisfied: idna>=2.0 in c:\\users\\agarc\\anaconda3\\envs\\bioenv\\lib\\site-packages (from yarl<2.0,>=1.0->aiohttp!=4.0.0a0,!=4.0.0a1->fsspec[http]<2025.0,>=2022.5.0->lightning<2.2,>=2.0->scvi-tools) (3.7)\n"
     ]
    }
   ],
   "source": [
    "!pip install scvi-tools"
   ]
  },
  {
   "cell_type": "code",
   "execution_count": 9,
   "metadata": {},
   "outputs": [],
   "source": [
    "import scvi"
   ]
  },
  {
   "cell_type": "code",
   "execution_count": 10,
   "metadata": {},
   "outputs": [
    {
     "data": {
      "text/plain": [
       "AnnData object with n_obs × n_vars = 6099 × 34546"
      ]
     },
     "execution_count": 10,
     "metadata": {},
     "output_type": "execute_result"
    }
   ],
   "source": [
    "adata # shows the dimmensions of the cells by genes\n",
    "# need to filter down the genes and test if a cell is a doublet or not, so lets narrow the 34546"
   ]
  },
  {
   "cell_type": "code",
   "execution_count": 11,
   "metadata": {},
   "outputs": [
    {
     "data": {
      "text/plain": [
       "AnnData object with n_obs × n_vars = 6099 × 19896\n",
       "    var: 'n_cells'"
      ]
     },
     "execution_count": 11,
     "metadata": {},
     "output_type": "execute_result"
    }
   ],
   "source": [
    "sc.pp.filter_genes(adata, min_cells= 10) # keep genes that are found in at least 10 cells\n",
    "adata # now we are at 19896 genes"
   ]
  },
  {
   "cell_type": "code",
   "execution_count": 12,
   "metadata": {},
   "outputs": [],
   "source": [
    "# Keep the top 2000 variable genes\n",
    "sc.pp.highly_variable_genes(adata, n_top_genes=2000, subset=True, flavor='seurat_v3')"
   ]
  },
  {
   "cell_type": "code",
   "execution_count": 14,
   "metadata": {},
   "outputs": [
    {
     "data": {
      "text/plain": [
       "AnnData object with n_obs × n_vars = 6099 × 2000\n",
       "    var: 'n_cells', 'highly_variable', 'highly_variable_rank', 'means', 'variances', 'variances_norm'\n",
       "    uns: 'hvg'"
      ]
     },
     "execution_count": 14,
     "metadata": {},
     "output_type": "execute_result"
    }
   ],
   "source": [
    "adata #observe how there are now only 2000 genes"
   ]
  },
  {
   "cell_type": "code",
   "execution_count": 15,
   "metadata": {},
   "outputs": [
    {
     "name": "stderr",
     "output_type": "stream",
     "text": [
      "GPU available: False, used: False\n",
      "TPU available: False, using: 0 TPU cores\n",
      "IPU available: False, using: 0 IPUs\n",
      "HPU available: False, using: 0 HPUs\n",
      "c:\\Users\\agarc\\anaconda3\\Lib\\site-packages\\lightning\\pytorch\\trainer\\connectors\\data_connector.py:441: The 'train_dataloader' does not have many workers which may be a bottleneck. Consider increasing the value of the `num_workers` argument` to `num_workers=3` in the `DataLoader` to improve performance.\n"
     ]
    },
    {
     "name": "stdout",
     "output_type": "stream",
     "text": [
      "Epoch 400/400: 100%|██████████| 400/400 [19:20<00:00,  2.79s/it, v_num=1, train_loss_step=329, train_loss_epoch=323]"
     ]
    },
    {
     "name": "stderr",
     "output_type": "stream",
     "text": [
      "`Trainer.fit` stopped: `max_epochs=400` reached.\n"
     ]
    },
    {
     "name": "stdout",
     "output_type": "stream",
     "text": [
      "Epoch 400/400: 100%|██████████| 400/400 [19:20<00:00,  2.90s/it, v_num=1, train_loss_step=329, train_loss_epoch=323]\n"
     ]
    }
   ],
   "source": [
    "# model setup\n",
    "scvi.model.SCVI.setup_anndata(adata)\n",
    "# train vae model\n",
    "vae = scvi.model.SCVI(adata)\n",
    "vae.train()"
   ]
  },
  {
   "cell_type": "code",
   "execution_count": 20,
   "metadata": {},
   "outputs": [
    {
     "name": "stdout",
     "output_type": "stream",
     "text": [
      "\u001b[34mINFO    \u001b[0m Creating doublets, preparing SOLO model.                                                                  \n"
     ]
    }
   ],
   "source": [
    "# train the solo model, which predicts doublets\n",
    "solo = scvi.external.SOLO.from_scvi_model(vae)"
   ]
  },
  {
   "cell_type": "code",
   "execution_count": 22,
   "metadata": {},
   "outputs": [
    {
     "name": "stderr",
     "output_type": "stream",
     "text": [
      "GPU available: False, used: False\n",
      "TPU available: False, using: 0 TPU cores\n",
      "IPU available: False, using: 0 IPUs\n",
      "HPU available: False, using: 0 HPUs\n",
      "c:\\Users\\agarc\\anaconda3\\Lib\\site-packages\\lightning\\pytorch\\trainer\\connectors\\data_connector.py:441: The 'train_dataloader' does not have many workers which may be a bottleneck. Consider increasing the value of the `num_workers` argument` to `num_workers=3` in the `DataLoader` to improve performance.\n",
      "c:\\Users\\agarc\\anaconda3\\Lib\\site-packages\\lightning\\pytorch\\trainer\\connectors\\data_connector.py:441: The 'val_dataloader' does not have many workers which may be a bottleneck. Consider increasing the value of the `num_workers` argument` to `num_workers=3` in the `DataLoader` to improve performance.\n"
     ]
    },
    {
     "name": "stdout",
     "output_type": "stream",
     "text": [
      "Epoch 216/400:  54%|█████▍    | 216/400 [01:28<01:15,  2.43it/s, v_num=1, train_loss_step=0.328, train_loss_epoch=0.295]\n",
      "Monitored metric validation_loss did not improve in the last 30 records. Best score: 0.277. Signaling Trainer to stop.\n"
     ]
    }
   ],
   "source": [
    "solo.train()"
   ]
  },
  {
   "cell_type": "code",
   "execution_count": 25,
   "metadata": {},
   "outputs": [
    {
     "name": "stderr",
     "output_type": "stream",
     "text": [
      "c:\\Users\\agarc\\anaconda3\\Lib\\site-packages\\torch\\utils\\_contextlib.py:116: UserWarning: Prior to scvi-tools 1.1.3, `SOLO.predict` with `soft=True` (the default option) returned logits instead of probabilities. This behavior has since been corrected to return probabiltiies. The previous behavior can be replicated by passing in `return_logits=True`.\n",
      "  return func(*args, **kwargs)\n"
     ]
    },
    {
     "data": {
      "text/html": [
       "<div>\n",
       "<style scoped>\n",
       "    .dataframe tbody tr th:only-of-type {\n",
       "        vertical-align: middle;\n",
       "    }\n",
       "\n",
       "    .dataframe tbody tr th {\n",
       "        vertical-align: top;\n",
       "    }\n",
       "\n",
       "    .dataframe thead th {\n",
       "        text-align: right;\n",
       "    }\n",
       "</style>\n",
       "<table border=\"1\" class=\"dataframe\">\n",
       "  <thead>\n",
       "    <tr style=\"text-align: right;\">\n",
       "      <th></th>\n",
       "      <th>doublet</th>\n",
       "      <th>singlet</th>\n",
       "    </tr>\n",
       "  </thead>\n",
       "  <tbody>\n",
       "    <tr>\n",
       "      <th>TAGGTACCATGGCCAC-1_1</th>\n",
       "      <td>0.914841</td>\n",
       "      <td>0.085159</td>\n",
       "    </tr>\n",
       "    <tr>\n",
       "      <th>ATTCACTGTAACAGGC-1_1</th>\n",
       "      <td>0.939524</td>\n",
       "      <td>0.060476</td>\n",
       "    </tr>\n",
       "    <tr>\n",
       "      <th>TAACTTCCAACCACGC-1_1</th>\n",
       "      <td>0.610505</td>\n",
       "      <td>0.389495</td>\n",
       "    </tr>\n",
       "    <tr>\n",
       "      <th>TTGGGTACACGACAAG-1_1</th>\n",
       "      <td>0.744205</td>\n",
       "      <td>0.255795</td>\n",
       "    </tr>\n",
       "    <tr>\n",
       "      <th>AGGCCACAGAGTCACG-1_1</th>\n",
       "      <td>0.867844</td>\n",
       "      <td>0.132156</td>\n",
       "    </tr>\n",
       "    <tr>\n",
       "      <th>...</th>\n",
       "      <td>...</td>\n",
       "      <td>...</td>\n",
       "    </tr>\n",
       "    <tr>\n",
       "      <th>CGCCATTGTTTGCCGG-1_1</th>\n",
       "      <td>0.015057</td>\n",
       "      <td>0.984943</td>\n",
       "    </tr>\n",
       "    <tr>\n",
       "      <th>CACTGGGGTCTACGTA-1_1</th>\n",
       "      <td>0.000809</td>\n",
       "      <td>0.999191</td>\n",
       "    </tr>\n",
       "    <tr>\n",
       "      <th>CATACTTGTAGAGGAA-1_1</th>\n",
       "      <td>0.003204</td>\n",
       "      <td>0.996796</td>\n",
       "    </tr>\n",
       "    <tr>\n",
       "      <th>TTTGGTTTCCACGGAC-1_1</th>\n",
       "      <td>0.000726</td>\n",
       "      <td>0.999274</td>\n",
       "    </tr>\n",
       "    <tr>\n",
       "      <th>ATGCATGAGTCATGAA-1_1</th>\n",
       "      <td>0.000758</td>\n",
       "      <td>0.999242</td>\n",
       "    </tr>\n",
       "  </tbody>\n",
       "</table>\n",
       "<p>6099 rows × 2 columns</p>\n",
       "</div>"
      ],
      "text/plain": [
       "                       doublet   singlet\n",
       "TAGGTACCATGGCCAC-1_1  0.914841  0.085159\n",
       "ATTCACTGTAACAGGC-1_1  0.939524  0.060476\n",
       "TAACTTCCAACCACGC-1_1  0.610505  0.389495\n",
       "TTGGGTACACGACAAG-1_1  0.744205  0.255795\n",
       "AGGCCACAGAGTCACG-1_1  0.867844  0.132156\n",
       "...                        ...       ...\n",
       "CGCCATTGTTTGCCGG-1_1  0.015057  0.984943\n",
       "CACTGGGGTCTACGTA-1_1  0.000809  0.999191\n",
       "CATACTTGTAGAGGAA-1_1  0.003204  0.996796\n",
       "TTTGGTTTCCACGGAC-1_1  0.000726  0.999274\n",
       "ATGCATGAGTCATGAA-1_1  0.000758  0.999242\n",
       "\n",
       "[6099 rows x 2 columns]"
      ]
     },
     "execution_count": 25,
     "metadata": {},
     "output_type": "execute_result"
    }
   ],
   "source": [
    "solo.predict()\n",
    "# cell barcode on the left\n",
    "# score for doublet and singlet (higher scores represent prediction)"
   ]
  },
  {
   "cell_type": "code",
   "execution_count": 26,
   "metadata": {},
   "outputs": [
    {
     "name": "stderr",
     "output_type": "stream",
     "text": [
      "c:\\Users\\agarc\\anaconda3\\Lib\\site-packages\\torch\\utils\\_contextlib.py:116: UserWarning: Prior to scvi-tools 1.1.3, `SOLO.predict` with `soft=True` (the default option) returned logits instead of probabilities. This behavior has since been corrected to return probabiltiies. The previous behavior can be replicated by passing in `return_logits=True`.\n",
      "  return func(*args, **kwargs)\n",
      "c:\\Users\\agarc\\anaconda3\\Lib\\site-packages\\torch\\utils\\_contextlib.py:116: UserWarning: Prior to scvi-tools 1.1.3, `SOLO.predict` with `soft=True` (the default option) returned logits instead of probabilities. This behavior has since been corrected to return probabiltiies. The previous behavior can be replicated by passing in `return_logits=True`.\n",
      "  return func(*args, **kwargs)\n"
     ]
    },
    {
     "data": {
      "text/html": [
       "<div>\n",
       "<style scoped>\n",
       "    .dataframe tbody tr th:only-of-type {\n",
       "        vertical-align: middle;\n",
       "    }\n",
       "\n",
       "    .dataframe tbody tr th {\n",
       "        vertical-align: top;\n",
       "    }\n",
       "\n",
       "    .dataframe thead th {\n",
       "        text-align: right;\n",
       "    }\n",
       "</style>\n",
       "<table border=\"1\" class=\"dataframe\">\n",
       "  <thead>\n",
       "    <tr style=\"text-align: right;\">\n",
       "      <th></th>\n",
       "      <th>doublet</th>\n",
       "      <th>singlet</th>\n",
       "      <th>prediction</th>\n",
       "    </tr>\n",
       "  </thead>\n",
       "  <tbody>\n",
       "    <tr>\n",
       "      <th>TAGGTACCATGGCCAC-1_1</th>\n",
       "      <td>0.914841</td>\n",
       "      <td>0.085159</td>\n",
       "      <td>doublet</td>\n",
       "    </tr>\n",
       "    <tr>\n",
       "      <th>ATTCACTGTAACAGGC-1_1</th>\n",
       "      <td>0.939524</td>\n",
       "      <td>0.060476</td>\n",
       "      <td>doublet</td>\n",
       "    </tr>\n",
       "    <tr>\n",
       "      <th>TAACTTCCAACCACGC-1_1</th>\n",
       "      <td>0.610505</td>\n",
       "      <td>0.389495</td>\n",
       "      <td>doublet</td>\n",
       "    </tr>\n",
       "    <tr>\n",
       "      <th>TTGGGTACACGACAAG-1_1</th>\n",
       "      <td>0.744205</td>\n",
       "      <td>0.255795</td>\n",
       "      <td>doublet</td>\n",
       "    </tr>\n",
       "    <tr>\n",
       "      <th>AGGCCACAGAGTCACG-1_1</th>\n",
       "      <td>0.867844</td>\n",
       "      <td>0.132156</td>\n",
       "      <td>doublet</td>\n",
       "    </tr>\n",
       "    <tr>\n",
       "      <th>...</th>\n",
       "      <td>...</td>\n",
       "      <td>...</td>\n",
       "      <td>...</td>\n",
       "    </tr>\n",
       "    <tr>\n",
       "      <th>CGCCATTGTTTGCCGG-1_1</th>\n",
       "      <td>0.015057</td>\n",
       "      <td>0.984943</td>\n",
       "      <td>singlet</td>\n",
       "    </tr>\n",
       "    <tr>\n",
       "      <th>CACTGGGGTCTACGTA-1_1</th>\n",
       "      <td>0.000809</td>\n",
       "      <td>0.999191</td>\n",
       "      <td>singlet</td>\n",
       "    </tr>\n",
       "    <tr>\n",
       "      <th>CATACTTGTAGAGGAA-1_1</th>\n",
       "      <td>0.003204</td>\n",
       "      <td>0.996796</td>\n",
       "      <td>singlet</td>\n",
       "    </tr>\n",
       "    <tr>\n",
       "      <th>TTTGGTTTCCACGGAC-1_1</th>\n",
       "      <td>0.000726</td>\n",
       "      <td>0.999274</td>\n",
       "      <td>singlet</td>\n",
       "    </tr>\n",
       "    <tr>\n",
       "      <th>ATGCATGAGTCATGAA-1_1</th>\n",
       "      <td>0.000758</td>\n",
       "      <td>0.999242</td>\n",
       "      <td>singlet</td>\n",
       "    </tr>\n",
       "  </tbody>\n",
       "</table>\n",
       "<p>6099 rows × 3 columns</p>\n",
       "</div>"
      ],
      "text/plain": [
       "                       doublet   singlet prediction\n",
       "TAGGTACCATGGCCAC-1_1  0.914841  0.085159    doublet\n",
       "ATTCACTGTAACAGGC-1_1  0.939524  0.060476    doublet\n",
       "TAACTTCCAACCACGC-1_1  0.610505  0.389495    doublet\n",
       "TTGGGTACACGACAAG-1_1  0.744205  0.255795    doublet\n",
       "AGGCCACAGAGTCACG-1_1  0.867844  0.132156    doublet\n",
       "...                        ...       ...        ...\n",
       "CGCCATTGTTTGCCGG-1_1  0.015057  0.984943    singlet\n",
       "CACTGGGGTCTACGTA-1_1  0.000809  0.999191    singlet\n",
       "CATACTTGTAGAGGAA-1_1  0.003204  0.996796    singlet\n",
       "TTTGGTTTCCACGGAC-1_1  0.000726  0.999274    singlet\n",
       "ATGCATGAGTCATGAA-1_1  0.000758  0.999242    singlet\n",
       "\n",
       "[6099 rows x 3 columns]"
      ]
     },
     "execution_count": 26,
     "metadata": {},
     "output_type": "execute_result"
    }
   ],
   "source": [
    "# pass soft=False to make a new column that is the predicted label (doublet or singlet)\n",
    "df = solo.predict()\n",
    "df['prediction'] = solo.predict(soft=False)\n",
    "\n",
    "df"
   ]
  },
  {
   "cell_type": "code",
   "execution_count": 27,
   "metadata": {},
   "outputs": [
    {
     "data": {
      "text/html": [
       "<div>\n",
       "<style scoped>\n",
       "    .dataframe tbody tr th:only-of-type {\n",
       "        vertical-align: middle;\n",
       "    }\n",
       "\n",
       "    .dataframe tbody tr th {\n",
       "        vertical-align: top;\n",
       "    }\n",
       "\n",
       "    .dataframe thead th {\n",
       "        text-align: right;\n",
       "    }\n",
       "</style>\n",
       "<table border=\"1\" class=\"dataframe\">\n",
       "  <thead>\n",
       "    <tr style=\"text-align: right;\">\n",
       "      <th></th>\n",
       "      <th>doublet</th>\n",
       "      <th>singlet</th>\n",
       "    </tr>\n",
       "    <tr>\n",
       "      <th>prediction</th>\n",
       "      <th></th>\n",
       "      <th></th>\n",
       "    </tr>\n",
       "  </thead>\n",
       "  <tbody>\n",
       "    <tr>\n",
       "      <th>doublet</th>\n",
       "      <td>1031</td>\n",
       "      <td>1031</td>\n",
       "    </tr>\n",
       "    <tr>\n",
       "      <th>singlet</th>\n",
       "      <td>5068</td>\n",
       "      <td>5068</td>\n",
       "    </tr>\n",
       "  </tbody>\n",
       "</table>\n",
       "</div>"
      ],
      "text/plain": [
       "            doublet  singlet\n",
       "prediction                  \n",
       "doublet        1031     1031\n",
       "singlet        5068     5068"
      ]
     },
     "execution_count": 27,
     "metadata": {},
     "output_type": "execute_result"
    }
   ],
   "source": [
    "# count how many doublets and singlets we have\n",
    "df.groupby('prediction').count()"
   ]
  },
  {
   "cell_type": "code",
   "execution_count": 28,
   "metadata": {},
   "outputs": [
    {
     "data": {
      "text/html": [
       "<div>\n",
       "<style scoped>\n",
       "    .dataframe tbody tr th:only-of-type {\n",
       "        vertical-align: middle;\n",
       "    }\n",
       "\n",
       "    .dataframe tbody tr th {\n",
       "        vertical-align: top;\n",
       "    }\n",
       "\n",
       "    .dataframe thead th {\n",
       "        text-align: right;\n",
       "    }\n",
       "</style>\n",
       "<table border=\"1\" class=\"dataframe\">\n",
       "  <thead>\n",
       "    <tr style=\"text-align: right;\">\n",
       "      <th></th>\n",
       "      <th>doublet</th>\n",
       "      <th>singlet</th>\n",
       "      <th>prediction</th>\n",
       "      <th>dif</th>\n",
       "    </tr>\n",
       "  </thead>\n",
       "  <tbody>\n",
       "    <tr>\n",
       "      <th>TAGGTACCATGGCCAC-1_1</th>\n",
       "      <td>0.914841</td>\n",
       "      <td>0.085159</td>\n",
       "      <td>doublet</td>\n",
       "      <td>0.829681</td>\n",
       "    </tr>\n",
       "    <tr>\n",
       "      <th>ATTCACTGTAACAGGC-1_1</th>\n",
       "      <td>0.939524</td>\n",
       "      <td>0.060476</td>\n",
       "      <td>doublet</td>\n",
       "      <td>0.879048</td>\n",
       "    </tr>\n",
       "    <tr>\n",
       "      <th>TAACTTCCAACCACGC-1_1</th>\n",
       "      <td>0.610505</td>\n",
       "      <td>0.389495</td>\n",
       "      <td>doublet</td>\n",
       "      <td>0.221010</td>\n",
       "    </tr>\n",
       "    <tr>\n",
       "      <th>TTGGGTACACGACAAG-1_1</th>\n",
       "      <td>0.744205</td>\n",
       "      <td>0.255795</td>\n",
       "      <td>doublet</td>\n",
       "      <td>0.488410</td>\n",
       "    </tr>\n",
       "    <tr>\n",
       "      <th>AGGCCACAGAGTCACG-1_1</th>\n",
       "      <td>0.867844</td>\n",
       "      <td>0.132156</td>\n",
       "      <td>doublet</td>\n",
       "      <td>0.735689</td>\n",
       "    </tr>\n",
       "    <tr>\n",
       "      <th>...</th>\n",
       "      <td>...</td>\n",
       "      <td>...</td>\n",
       "      <td>...</td>\n",
       "      <td>...</td>\n",
       "    </tr>\n",
       "    <tr>\n",
       "      <th>CGCCATTGTTTGCCGG-1_1</th>\n",
       "      <td>0.015057</td>\n",
       "      <td>0.984943</td>\n",
       "      <td>singlet</td>\n",
       "      <td>-0.969886</td>\n",
       "    </tr>\n",
       "    <tr>\n",
       "      <th>CACTGGGGTCTACGTA-1_1</th>\n",
       "      <td>0.000809</td>\n",
       "      <td>0.999191</td>\n",
       "      <td>singlet</td>\n",
       "      <td>-0.998381</td>\n",
       "    </tr>\n",
       "    <tr>\n",
       "      <th>CATACTTGTAGAGGAA-1_1</th>\n",
       "      <td>0.003204</td>\n",
       "      <td>0.996796</td>\n",
       "      <td>singlet</td>\n",
       "      <td>-0.993592</td>\n",
       "    </tr>\n",
       "    <tr>\n",
       "      <th>TTTGGTTTCCACGGAC-1_1</th>\n",
       "      <td>0.000726</td>\n",
       "      <td>0.999274</td>\n",
       "      <td>singlet</td>\n",
       "      <td>-0.998547</td>\n",
       "    </tr>\n",
       "    <tr>\n",
       "      <th>ATGCATGAGTCATGAA-1_1</th>\n",
       "      <td>0.000758</td>\n",
       "      <td>0.999242</td>\n",
       "      <td>singlet</td>\n",
       "      <td>-0.998483</td>\n",
       "    </tr>\n",
       "  </tbody>\n",
       "</table>\n",
       "<p>6099 rows × 4 columns</p>\n",
       "</div>"
      ],
      "text/plain": [
       "                       doublet   singlet prediction       dif\n",
       "TAGGTACCATGGCCAC-1_1  0.914841  0.085159    doublet  0.829681\n",
       "ATTCACTGTAACAGGC-1_1  0.939524  0.060476    doublet  0.879048\n",
       "TAACTTCCAACCACGC-1_1  0.610505  0.389495    doublet  0.221010\n",
       "TTGGGTACACGACAAG-1_1  0.744205  0.255795    doublet  0.488410\n",
       "AGGCCACAGAGTCACG-1_1  0.867844  0.132156    doublet  0.735689\n",
       "...                        ...       ...        ...       ...\n",
       "CGCCATTGTTTGCCGG-1_1  0.015057  0.984943    singlet -0.969886\n",
       "CACTGGGGTCTACGTA-1_1  0.000809  0.999191    singlet -0.998381\n",
       "CATACTTGTAGAGGAA-1_1  0.003204  0.996796    singlet -0.993592\n",
       "TTTGGTTTCCACGGAC-1_1  0.000726  0.999274    singlet -0.998547\n",
       "ATGCATGAGTCATGAA-1_1  0.000758  0.999242    singlet -0.998483\n",
       "\n",
       "[6099 rows x 4 columns]"
      ]
     },
     "execution_count": 28,
     "metadata": {},
     "output_type": "execute_result"
    }
   ],
   "source": [
    "# make a new column that is the difference in probability of doublet and singlet columns\n",
    "df['dif'] = df.doublet - df.singlet\n",
    "df"
   ]
  },
  {
   "cell_type": "code",
   "execution_count": 29,
   "metadata": {},
   "outputs": [],
   "source": [
    "import seaborn as sns"
   ]
  },
  {
   "cell_type": "code",
   "execution_count": 30,
   "metadata": {},
   "outputs": [
    {
     "data": {
      "text/plain": [
       "<seaborn.axisgrid.FacetGrid at 0x23fc3ed9820>"
      ]
     },
     "execution_count": 30,
     "metadata": {},
     "output_type": "execute_result"
    },
    {
     "data": {
      "image/png": "[encoded data removed]",
      "text/plain": [
       "<Figure size 500x500 with 1 Axes>"
      ]
     },
     "metadata": {},
     "output_type": "display_data"
    }
   ],
   "source": [
    "sns.displot(df[df.prediction == 'doublet'], x='dif')"
   ]
  },
  {
   "cell_type": "markdown",
   "metadata": {},
   "source": [
    "The histogram shown presents x-axis as the difference in prediction (doublet probability - singlet probability).\n",
    "The y-axis is the count of cell barcodes in that bin (difference).\n",
    "The histogram overall seems to be leveled, however, the distribution begins to drop dramatically than taper off at x = 0.25\n",
    "This suggests that the cell barcodes at x < 0.25 can still likely be singlets, which we do not want to remove.\n",
    "So we will make the cutoff at x = 0.25 keeping 1 < x > 0.25; these are the doublets, with a new dataframe reload the raw cell barcode file and label the matching cell barcodes (from the processed dataframe) as doublets and eliminate them... thus keeping only singlets in the new dataframe."
   ]
  },
  {
   "cell_type": "code",
   "execution_count": 31,
   "metadata": {},
   "outputs": [
    {
     "data": {
      "text/html": [
       "<div>\n",
       "<style scoped>\n",
       "    .dataframe tbody tr th:only-of-type {\n",
       "        vertical-align: middle;\n",
       "    }\n",
       "\n",
       "    .dataframe tbody tr th {\n",
       "        vertical-align: top;\n",
       "    }\n",
       "\n",
       "    .dataframe thead th {\n",
       "        text-align: right;\n",
       "    }\n",
       "</style>\n",
       "<table border=\"1\" class=\"dataframe\">\n",
       "  <thead>\n",
       "    <tr style=\"text-align: right;\">\n",
       "      <th></th>\n",
       "      <th>doublet</th>\n",
       "      <th>singlet</th>\n",
       "      <th>prediction</th>\n",
       "      <th>dif</th>\n",
       "    </tr>\n",
       "  </thead>\n",
       "  <tbody>\n",
       "    <tr>\n",
       "      <th>TAGGTACCATGGCCAC-1_1</th>\n",
       "      <td>0.914841</td>\n",
       "      <td>0.085159</td>\n",
       "      <td>doublet</td>\n",
       "      <td>0.829681</td>\n",
       "    </tr>\n",
       "    <tr>\n",
       "      <th>ATTCACTGTAACAGGC-1_1</th>\n",
       "      <td>0.939524</td>\n",
       "      <td>0.060476</td>\n",
       "      <td>doublet</td>\n",
       "      <td>0.879048</td>\n",
       "    </tr>\n",
       "    <tr>\n",
       "      <th>TTGGGTACACGACAAG-1_1</th>\n",
       "      <td>0.744205</td>\n",
       "      <td>0.255795</td>\n",
       "      <td>doublet</td>\n",
       "      <td>0.488410</td>\n",
       "    </tr>\n",
       "    <tr>\n",
       "      <th>AGGCCACAGAGTCACG-1_1</th>\n",
       "      <td>0.867844</td>\n",
       "      <td>0.132156</td>\n",
       "      <td>doublet</td>\n",
       "      <td>0.735689</td>\n",
       "    </tr>\n",
       "    <tr>\n",
       "      <th>CACTGAAGTCGAAGCA-1_1</th>\n",
       "      <td>0.805811</td>\n",
       "      <td>0.194189</td>\n",
       "      <td>doublet</td>\n",
       "      <td>0.611623</td>\n",
       "    </tr>\n",
       "    <tr>\n",
       "      <th>...</th>\n",
       "      <td>...</td>\n",
       "      <td>...</td>\n",
       "      <td>...</td>\n",
       "      <td>...</td>\n",
       "    </tr>\n",
       "    <tr>\n",
       "      <th>TACCTCGCATCGGAGA-1_1</th>\n",
       "      <td>0.943079</td>\n",
       "      <td>0.056921</td>\n",
       "      <td>doublet</td>\n",
       "      <td>0.886159</td>\n",
       "    </tr>\n",
       "    <tr>\n",
       "      <th>TCATTTGAGATTGTGA-1_1</th>\n",
       "      <td>0.773462</td>\n",
       "      <td>0.226538</td>\n",
       "      <td>doublet</td>\n",
       "      <td>0.546924</td>\n",
       "    </tr>\n",
       "    <tr>\n",
       "      <th>AACCCAATCTCGACCT-1_1</th>\n",
       "      <td>0.733504</td>\n",
       "      <td>0.266496</td>\n",
       "      <td>doublet</td>\n",
       "      <td>0.467008</td>\n",
       "    </tr>\n",
       "    <tr>\n",
       "      <th>ATCAGGTGTCGTCTCT-1_1</th>\n",
       "      <td>0.848237</td>\n",
       "      <td>0.151763</td>\n",
       "      <td>doublet</td>\n",
       "      <td>0.696474</td>\n",
       "    </tr>\n",
       "    <tr>\n",
       "      <th>CTCCACAGTCCCACGA-1_1</th>\n",
       "      <td>0.647922</td>\n",
       "      <td>0.352078</td>\n",
       "      <td>doublet</td>\n",
       "      <td>0.295844</td>\n",
       "    </tr>\n",
       "  </tbody>\n",
       "</table>\n",
       "<p>675 rows × 4 columns</p>\n",
       "</div>"
      ],
      "text/plain": [
       "                       doublet   singlet prediction       dif\n",
       "TAGGTACCATGGCCAC-1_1  0.914841  0.085159    doublet  0.829681\n",
       "ATTCACTGTAACAGGC-1_1  0.939524  0.060476    doublet  0.879048\n",
       "TTGGGTACACGACAAG-1_1  0.744205  0.255795    doublet  0.488410\n",
       "AGGCCACAGAGTCACG-1_1  0.867844  0.132156    doublet  0.735689\n",
       "CACTGAAGTCGAAGCA-1_1  0.805811  0.194189    doublet  0.611623\n",
       "...                        ...       ...        ...       ...\n",
       "TACCTCGCATCGGAGA-1_1  0.943079  0.056921    doublet  0.886159\n",
       "TCATTTGAGATTGTGA-1_1  0.773462  0.226538    doublet  0.546924\n",
       "AACCCAATCTCGACCT-1_1  0.733504  0.266496    doublet  0.467008\n",
       "ATCAGGTGTCGTCTCT-1_1  0.848237  0.151763    doublet  0.696474\n",
       "CTCCACAGTCCCACGA-1_1  0.647922  0.352078    doublet  0.295844\n",
       "\n",
       "[675 rows x 4 columns]"
      ]
     },
     "execution_count": 31,
     "metadata": {},
     "output_type": "execute_result"
    }
   ],
   "source": [
    "doublets = df[(df.prediction == 'doublet') & (df.dif > 0.24)]\n",
    "doublets"
   ]
  },
  {
   "cell_type": "code",
   "execution_count": 33,
   "metadata": {},
   "outputs": [],
   "source": [
    "# Read the compressed CSV file into an AnnData object\n",
    "adata = sc.read_csv(file_path)\n",
    "\n",
    "# Transpose the data to have cells as rows and genes as columns\n",
    "adata = adata.T"
   ]
  },
  {
   "cell_type": "code",
   "execution_count": 35,
   "metadata": {},
   "outputs": [],
   "source": [
    "adata.obs['doublet'] = adata.obs.index.isin(doublets.index)"
   ]
  },
  {
   "cell_type": "code",
   "execution_count": 36,
   "metadata": {},
   "outputs": [
    {
     "data": {
      "text/html": [
       "<div>\n",
       "<style scoped>\n",
       "    .dataframe tbody tr th:only-of-type {\n",
       "        vertical-align: middle;\n",
       "    }\n",
       "\n",
       "    .dataframe tbody tr th {\n",
       "        vertical-align: top;\n",
       "    }\n",
       "\n",
       "    .dataframe thead th {\n",
       "        text-align: right;\n",
       "    }\n",
       "</style>\n",
       "<table border=\"1\" class=\"dataframe\">\n",
       "  <thead>\n",
       "    <tr style=\"text-align: right;\">\n",
       "      <th></th>\n",
       "      <th>doublet</th>\n",
       "    </tr>\n",
       "  </thead>\n",
       "  <tbody>\n",
       "    <tr>\n",
       "      <th>TAGGTACCATGGCCAC-1_1</th>\n",
       "      <td>True</td>\n",
       "    </tr>\n",
       "    <tr>\n",
       "      <th>ATTCACTGTAACAGGC-1_1</th>\n",
       "      <td>True</td>\n",
       "    </tr>\n",
       "    <tr>\n",
       "      <th>TAACTTCCAACCACGC-1_1</th>\n",
       "      <td>False</td>\n",
       "    </tr>\n",
       "    <tr>\n",
       "      <th>TTGGGTACACGACAAG-1_1</th>\n",
       "      <td>True</td>\n",
       "    </tr>\n",
       "    <tr>\n",
       "      <th>AGGCCACAGAGTCACG-1_1</th>\n",
       "      <td>True</td>\n",
       "    </tr>\n",
       "    <tr>\n",
       "      <th>...</th>\n",
       "      <td>...</td>\n",
       "    </tr>\n",
       "    <tr>\n",
       "      <th>CGCCATTGTTTGCCGG-1_1</th>\n",
       "      <td>False</td>\n",
       "    </tr>\n",
       "    <tr>\n",
       "      <th>CACTGGGGTCTACGTA-1_1</th>\n",
       "      <td>False</td>\n",
       "    </tr>\n",
       "    <tr>\n",
       "      <th>CATACTTGTAGAGGAA-1_1</th>\n",
       "      <td>False</td>\n",
       "    </tr>\n",
       "    <tr>\n",
       "      <th>TTTGGTTTCCACGGAC-1_1</th>\n",
       "      <td>False</td>\n",
       "    </tr>\n",
       "    <tr>\n",
       "      <th>ATGCATGAGTCATGAA-1_1</th>\n",
       "      <td>False</td>\n",
       "    </tr>\n",
       "  </tbody>\n",
       "</table>\n",
       "<p>6099 rows × 1 columns</p>\n",
       "</div>"
      ],
      "text/plain": [
       "                      doublet\n",
       "TAGGTACCATGGCCAC-1_1     True\n",
       "ATTCACTGTAACAGGC-1_1     True\n",
       "TAACTTCCAACCACGC-1_1    False\n",
       "TTGGGTACACGACAAG-1_1     True\n",
       "AGGCCACAGAGTCACG-1_1     True\n",
       "...                       ...\n",
       "CGCCATTGTTTGCCGG-1_1    False\n",
       "CACTGGGGTCTACGTA-1_1    False\n",
       "CATACTTGTAGAGGAA-1_1    False\n",
       "TTTGGTTTCCACGGAC-1_1    False\n",
       "ATGCATGAGTCATGAA-1_1    False\n",
       "\n",
       "[6099 rows x 1 columns]"
      ]
     },
     "execution_count": 36,
     "metadata": {},
     "output_type": "execute_result"
    }
   ],
   "source": [
    "adata.obs"
   ]
  },
  {
   "cell_type": "code",
   "execution_count": 37,
   "metadata": {},
   "outputs": [],
   "source": [
    "# ~ means you keep the \"False\"\n",
    "adata = adata[~adata.obs.doublet]"
   ]
  },
  {
   "cell_type": "code",
   "execution_count": 39,
   "metadata": {},
   "outputs": [
    {
     "data": {
      "text/plain": [
       "View of AnnData object with n_obs × n_vars = 5424 × 34546\n",
       "    obs: 'doublet'"
      ]
     },
     "execution_count": 39,
     "metadata": {},
     "output_type": "execute_result"
    }
   ],
   "source": [
    "adata # 5424 cell barcodes that are now only singlets\n",
    "# this makes sense as the doublet list was 675 cell barcodes, the raw data was 6099 cell barcodes. (6099-675=5424) "
   ]
  },
  {
   "cell_type": "markdown",
   "metadata": {},
   "source": [
    "Congrats, the doublets are now removed."
   ]
  },
  {
   "cell_type": "markdown",
   "metadata": {},
   "source": [
    "## Preprocessing"
   ]
  },
  {
   "cell_type": "code",
   "execution_count": 40,
   "metadata": {},
   "outputs": [
    {
     "data": {
      "text/plain": [
       "View of AnnData object with n_obs × n_vars = 5424 × 34546\n",
       "    obs: 'doublet'"
      ]
     },
     "execution_count": 40,
     "metadata": {},
     "output_type": "execute_result"
    }
   ],
   "source": [
    "adata"
   ]
  },
  {
   "cell_type": "code",
   "execution_count": 41,
   "metadata": {},
   "outputs": [
    {
     "data": {
      "text/html": [
       "<div>\n",
       "<style scoped>\n",
       "    .dataframe tbody tr th:only-of-type {\n",
       "        vertical-align: middle;\n",
       "    }\n",
       "\n",
       "    .dataframe tbody tr th {\n",
       "        vertical-align: top;\n",
       "    }\n",
       "\n",
       "    .dataframe thead th {\n",
       "        text-align: right;\n",
       "    }\n",
       "</style>\n",
       "<table border=\"1\" class=\"dataframe\">\n",
       "  <thead>\n",
       "    <tr style=\"text-align: right;\">\n",
       "      <th></th>\n",
       "    </tr>\n",
       "  </thead>\n",
       "  <tbody>\n",
       "    <tr>\n",
       "      <th>AL627309.1</th>\n",
       "    </tr>\n",
       "    <tr>\n",
       "      <th>AL627309.5</th>\n",
       "    </tr>\n",
       "    <tr>\n",
       "      <th>AL627309.4</th>\n",
       "    </tr>\n",
       "    <tr>\n",
       "      <th>AL669831.2</th>\n",
       "    </tr>\n",
       "    <tr>\n",
       "      <th>LINC01409</th>\n",
       "    </tr>\n",
       "    <tr>\n",
       "      <th>...</th>\n",
       "    </tr>\n",
       "    <tr>\n",
       "      <th>VN1R2</th>\n",
       "    </tr>\n",
       "    <tr>\n",
       "      <th>AL031676.1</th>\n",
       "    </tr>\n",
       "    <tr>\n",
       "      <th>SMIM34A</th>\n",
       "    </tr>\n",
       "    <tr>\n",
       "      <th>AL050402.1</th>\n",
       "    </tr>\n",
       "    <tr>\n",
       "      <th>AL445072.1</th>\n",
       "    </tr>\n",
       "  </tbody>\n",
       "</table>\n",
       "<p>34546 rows × 0 columns</p>\n",
       "</div>"
      ],
      "text/plain": [
       "Empty DataFrameView\n",
       "Columns: []\n",
       "Index: [AL627309.1, AL627309.5, AL627309.4, AL669831.2, LINC01409, FAM87B, LINC01128, LINC00115, FAM41C, AL645608.6, AL645608.2, LINC02593, SAMD11, NOC2L, KLHL17, PLEKHN1, PERM1, AL645608.7, HES4, ISG15, AL645608.1, AGRN, C1orf159, AL390719.3, LINC01342, AL390719.2, TTLL10-AS1, TTLL10, TNFRSF18, TNFRSF4, SDF4, B3GALT6, C1QTNF12, UBE2J2, LINC01786, SCNN1D, ACAP3, PUSL1, INTS11, AL139287.1, CPTP, DVL1, MXRA8, AURKAIP1, CCNL2, MRPL20-AS1, MRPL20, AL391244.2, ANKRD65, AL391244.1, LINC01770, VWA1, ATAD3C, ATAD3B, ATAD3A, TMEM240, SSU72, AL645728.1, FNDC10, AL691432.4, AL691432.2, MIB2, MMP23B, CDK11B, FO704657.1, SLC35E2B, CDK11A, SLC35E2A, NADK, GNB1, AL109917.1, CALML6, TMEM52, CFAP74, GABRD, AL391845.1, PRKCZ, AL590822.2, PRKCZ-AS1, FAAP20, AL590822.1, SKI, AL590822.3, MORN1, AL589739.1, AL513477.2, RER1, PEX10, PLCH2, AL139246.4, PANK4, HES5, AL139246.5, TNFRSF14-AS1, TNFRSF14, AL139246.3, PRXL2B, MMEL1, TTC34, AC242022.2, ...]\n",
       "\n",
       "[34546 rows x 0 columns]"
      ]
     },
     "execution_count": 41,
     "metadata": {},
     "output_type": "execute_result"
    }
   ],
   "source": [
    "# gene names\n",
    "adata.var"
   ]
  },
  {
   "cell_type": "code",
   "execution_count": 44,
   "metadata": {},
   "outputs": [
    {
     "name": "stderr",
     "output_type": "stream",
     "text": [
      "C:\\Users\\agarc\\AppData\\Local\\Temp\\ipykernel_21788\\2748145746.py:2: ImplicitModificationWarning: Trying to modify attribute `.var` of view, initializing view as actual.\n",
      "  adata.var['mt'] = adata.var.index.str.startswith('MT-')\n"
     ]
    }
   ],
   "source": [
    "# mitochondrial genes are annotated as \"MT-\" in the gene names, lets filter that.\n",
    "adata.var['mt'] = adata.var.index.str.startswith('MT-')"
   ]
  },
  {
   "cell_type": "code",
   "execution_count": 45,
   "metadata": {},
   "outputs": [
    {
     "data": {
      "text/html": [
       "<div>\n",
       "<style scoped>\n",
       "    .dataframe tbody tr th:only-of-type {\n",
       "        vertical-align: middle;\n",
       "    }\n",
       "\n",
       "    .dataframe tbody tr th {\n",
       "        vertical-align: top;\n",
       "    }\n",
       "\n",
       "    .dataframe thead th {\n",
       "        text-align: right;\n",
       "    }\n",
       "</style>\n",
       "<table border=\"1\" class=\"dataframe\">\n",
       "  <thead>\n",
       "    <tr style=\"text-align: right;\">\n",
       "      <th></th>\n",
       "      <th>mt</th>\n",
       "    </tr>\n",
       "  </thead>\n",
       "  <tbody>\n",
       "    <tr>\n",
       "      <th>AL627309.1</th>\n",
       "      <td>False</td>\n",
       "    </tr>\n",
       "    <tr>\n",
       "      <th>AL627309.5</th>\n",
       "      <td>False</td>\n",
       "    </tr>\n",
       "    <tr>\n",
       "      <th>AL627309.4</th>\n",
       "      <td>False</td>\n",
       "    </tr>\n",
       "    <tr>\n",
       "      <th>AL669831.2</th>\n",
       "      <td>False</td>\n",
       "    </tr>\n",
       "    <tr>\n",
       "      <th>LINC01409</th>\n",
       "      <td>False</td>\n",
       "    </tr>\n",
       "    <tr>\n",
       "      <th>...</th>\n",
       "      <td>...</td>\n",
       "    </tr>\n",
       "    <tr>\n",
       "      <th>VN1R2</th>\n",
       "      <td>False</td>\n",
       "    </tr>\n",
       "    <tr>\n",
       "      <th>AL031676.1</th>\n",
       "      <td>False</td>\n",
       "    </tr>\n",
       "    <tr>\n",
       "      <th>SMIM34A</th>\n",
       "      <td>False</td>\n",
       "    </tr>\n",
       "    <tr>\n",
       "      <th>AL050402.1</th>\n",
       "      <td>False</td>\n",
       "    </tr>\n",
       "    <tr>\n",
       "      <th>AL445072.1</th>\n",
       "      <td>False</td>\n",
       "    </tr>\n",
       "  </tbody>\n",
       "</table>\n",
       "<p>34546 rows × 1 columns</p>\n",
       "</div>"
      ],
      "text/plain": [
       "               mt\n",
       "AL627309.1  False\n",
       "AL627309.5  False\n",
       "AL627309.4  False\n",
       "AL669831.2  False\n",
       "LINC01409   False\n",
       "...           ...\n",
       "VN1R2       False\n",
       "AL031676.1  False\n",
       "SMIM34A     False\n",
       "AL050402.1  False\n",
       "AL445072.1  False\n",
       "\n",
       "[34546 rows x 1 columns]"
      ]
     },
     "execution_count": 45,
     "metadata": {},
     "output_type": "execute_result"
    }
   ],
   "source": [
    "adata.var"
   ]
  },
  {
   "cell_type": "code",
   "execution_count": 46,
   "metadata": {},
   "outputs": [],
   "source": [
    "# we need to now label ribosomal genes\n",
    "# we need to import a list of known ribosomal genes (import from the Broad Institute) can import into pandas\n",
    "import pandas as pd"
   ]
  },
  {
   "cell_type": "code",
   "execution_count": 47,
   "metadata": {},
   "outputs": [],
   "source": [
    "ribo_url = \"http://software.broadinstitute.org/gsea/msigdb/download_geneset.jsp?geneSetName=KEGG_RIBOSOME&fileType=txt\""
   ]
  },
  {
   "cell_type": "code",
   "execution_count": 48,
   "metadata": {},
   "outputs": [],
   "source": [
    "ribo_url = \"http://software.broadinstitute.org/gsea/msigdb/download_geneset.jsp?geneSetName=KEGG_RIBOSOME&fileType=txt\"\n",
    "ribo_genes = pd.read_table(ribo_url, skiprows=2, header=None)"
   ]
  },
  {
   "cell_type": "code",
   "execution_count": 49,
   "metadata": {},
   "outputs": [
    {
     "data": {
      "text/html": [
       "<div>\n",
       "<style scoped>\n",
       "    .dataframe tbody tr th:only-of-type {\n",
       "        vertical-align: middle;\n",
       "    }\n",
       "\n",
       "    .dataframe tbody tr th {\n",
       "        vertical-align: top;\n",
       "    }\n",
       "\n",
       "    .dataframe thead th {\n",
       "        text-align: right;\n",
       "    }\n",
       "</style>\n",
       "<table border=\"1\" class=\"dataframe\">\n",
       "  <thead>\n",
       "    <tr style=\"text-align: right;\">\n",
       "      <th></th>\n",
       "      <th>0</th>\n",
       "    </tr>\n",
       "  </thead>\n",
       "  <tbody>\n",
       "    <tr>\n",
       "      <th>0</th>\n",
       "      <td>FAU</td>\n",
       "    </tr>\n",
       "    <tr>\n",
       "      <th>1</th>\n",
       "      <td>MRPL13</td>\n",
       "    </tr>\n",
       "    <tr>\n",
       "      <th>2</th>\n",
       "      <td>RPL10</td>\n",
       "    </tr>\n",
       "    <tr>\n",
       "      <th>3</th>\n",
       "      <td>RPL10A</td>\n",
       "    </tr>\n",
       "    <tr>\n",
       "      <th>4</th>\n",
       "      <td>RPL10L</td>\n",
       "    </tr>\n",
       "    <tr>\n",
       "      <th>...</th>\n",
       "      <td>...</td>\n",
       "    </tr>\n",
       "    <tr>\n",
       "      <th>83</th>\n",
       "      <td>RPS9</td>\n",
       "    </tr>\n",
       "    <tr>\n",
       "      <th>84</th>\n",
       "      <td>RPSA</td>\n",
       "    </tr>\n",
       "    <tr>\n",
       "      <th>85</th>\n",
       "      <td>RSL24D1</td>\n",
       "    </tr>\n",
       "    <tr>\n",
       "      <th>86</th>\n",
       "      <td>RSL24D1P11</td>\n",
       "    </tr>\n",
       "    <tr>\n",
       "      <th>87</th>\n",
       "      <td>UBA52</td>\n",
       "    </tr>\n",
       "  </tbody>\n",
       "</table>\n",
       "<p>88 rows × 1 columns</p>\n",
       "</div>"
      ],
      "text/plain": [
       "             0\n",
       "0          FAU\n",
       "1       MRPL13\n",
       "2        RPL10\n",
       "3       RPL10A\n",
       "4       RPL10L\n",
       "..         ...\n",
       "83        RPS9\n",
       "84        RPSA\n",
       "85     RSL24D1\n",
       "86  RSL24D1P11\n",
       "87       UBA52\n",
       "\n",
       "[88 rows x 1 columns]"
      ]
     },
     "execution_count": 49,
     "metadata": {},
     "output_type": "execute_result"
    }
   ],
   "source": [
    "ribo_genes"
   ]
  },
  {
   "cell_type": "code",
   "execution_count": 50,
   "metadata": {},
   "outputs": [
    {
     "data": {
      "text/plain": [
       "array(['FAU', 'MRPL13', 'RPL10', 'RPL10A', 'RPL10L', 'RPL11', 'RPL12',\n",
       "       'RPL13', 'RPL13A', 'RPL14', 'RPL15', 'RPL17', 'RPL18', 'RPL18A',\n",
       "       'RPL19', 'RPL21', 'RPL22', 'RPL22L1', 'RPL23', 'RPL23A', 'RPL24',\n",
       "       'RPL26', 'RPL26L1', 'RPL27', 'RPL27A', 'RPL28', 'RPL29', 'RPL3',\n",
       "       'RPL30', 'RPL31', 'RPL32', 'RPL34', 'RPL35', 'RPL35A', 'RPL36',\n",
       "       'RPL36A', 'RPL36AL', 'RPL37', 'RPL37A', 'RPL38', 'RPL39', 'RPL3L',\n",
       "       'RPL4', 'RPL41', 'RPL5', 'RPL6', 'RPL7', 'RPL7A', 'RPL8', 'RPL9',\n",
       "       'RPLP0', 'RPLP1', 'RPLP2', 'RPS10', 'RPS11', 'RPS12', 'RPS13',\n",
       "       'RPS15', 'RPS15A', 'RPS16', 'RPS17', 'RPS18', 'RPS19', 'RPS2',\n",
       "       'RPS20', 'RPS21', 'RPS23', 'RPS24', 'RPS25', 'RPS26', 'RPS27',\n",
       "       'RPS27A', 'RPS27L', 'RPS28', 'RPS29', 'RPS3', 'RPS3A', 'RPS4X',\n",
       "       'RPS4Y1', 'RPS5', 'RPS6', 'RPS7', 'RPS8', 'RPS9', 'RPSA',\n",
       "       'RSL24D1', 'RSL24D1P11', 'UBA52'], dtype=object)"
      ]
     },
     "execution_count": 50,
     "metadata": {},
     "output_type": "execute_result"
    }
   ],
   "source": [
    "ribo_genes[0].values"
   ]
  },
  {
   "cell_type": "code",
   "execution_count": 51,
   "metadata": {},
   "outputs": [],
   "source": [
    "# same as we did with mitochondrial genes, we label it to our main dataframe\n",
    "adata.var['ribo'] = adata.var_names.isin(ribo_genes[0].values)"
   ]
  },
  {
   "cell_type": "code",
   "execution_count": 52,
   "metadata": {},
   "outputs": [
    {
     "data": {
      "text/html": [
       "<div>\n",
       "<style scoped>\n",
       "    .dataframe tbody tr th:only-of-type {\n",
       "        vertical-align: middle;\n",
       "    }\n",
       "\n",
       "    .dataframe tbody tr th {\n",
       "        vertical-align: top;\n",
       "    }\n",
       "\n",
       "    .dataframe thead th {\n",
       "        text-align: right;\n",
       "    }\n",
       "</style>\n",
       "<table border=\"1\" class=\"dataframe\">\n",
       "  <thead>\n",
       "    <tr style=\"text-align: right;\">\n",
       "      <th></th>\n",
       "      <th>mt</th>\n",
       "      <th>ribo</th>\n",
       "    </tr>\n",
       "  </thead>\n",
       "  <tbody>\n",
       "    <tr>\n",
       "      <th>AL627309.1</th>\n",
       "      <td>False</td>\n",
       "      <td>False</td>\n",
       "    </tr>\n",
       "    <tr>\n",
       "      <th>AL627309.5</th>\n",
       "      <td>False</td>\n",
       "      <td>False</td>\n",
       "    </tr>\n",
       "    <tr>\n",
       "      <th>AL627309.4</th>\n",
       "      <td>False</td>\n",
       "      <td>False</td>\n",
       "    </tr>\n",
       "    <tr>\n",
       "      <th>AL669831.2</th>\n",
       "      <td>False</td>\n",
       "      <td>False</td>\n",
       "    </tr>\n",
       "    <tr>\n",
       "      <th>LINC01409</th>\n",
       "      <td>False</td>\n",
       "      <td>False</td>\n",
       "    </tr>\n",
       "    <tr>\n",
       "      <th>...</th>\n",
       "      <td>...</td>\n",
       "      <td>...</td>\n",
       "    </tr>\n",
       "    <tr>\n",
       "      <th>VN1R2</th>\n",
       "      <td>False</td>\n",
       "      <td>False</td>\n",
       "    </tr>\n",
       "    <tr>\n",
       "      <th>AL031676.1</th>\n",
       "      <td>False</td>\n",
       "      <td>False</td>\n",
       "    </tr>\n",
       "    <tr>\n",
       "      <th>SMIM34A</th>\n",
       "      <td>False</td>\n",
       "      <td>False</td>\n",
       "    </tr>\n",
       "    <tr>\n",
       "      <th>AL050402.1</th>\n",
       "      <td>False</td>\n",
       "      <td>False</td>\n",
       "    </tr>\n",
       "    <tr>\n",
       "      <th>AL445072.1</th>\n",
       "      <td>False</td>\n",
       "      <td>False</td>\n",
       "    </tr>\n",
       "  </tbody>\n",
       "</table>\n",
       "<p>34546 rows × 2 columns</p>\n",
       "</div>"
      ],
      "text/plain": [
       "               mt   ribo\n",
       "AL627309.1  False  False\n",
       "AL627309.5  False  False\n",
       "AL627309.4  False  False\n",
       "AL669831.2  False  False\n",
       "LINC01409   False  False\n",
       "...           ...    ...\n",
       "VN1R2       False  False\n",
       "AL031676.1  False  False\n",
       "SMIM34A     False  False\n",
       "AL050402.1  False  False\n",
       "AL445072.1  False  False\n",
       "\n",
       "[34546 rows x 2 columns]"
      ]
     },
     "execution_count": 52,
     "metadata": {},
     "output_type": "execute_result"
    }
   ],
   "source": [
    "adata.var"
   ]
  },
  {
   "cell_type": "code",
   "execution_count": 53,
   "metadata": {},
   "outputs": [
    {
     "data": {
      "text/html": [
       "<div>\n",
       "<style scoped>\n",
       "    .dataframe tbody tr th:only-of-type {\n",
       "        vertical-align: middle;\n",
       "    }\n",
       "\n",
       "    .dataframe tbody tr th {\n",
       "        vertical-align: top;\n",
       "    }\n",
       "\n",
       "    .dataframe thead th {\n",
       "        text-align: right;\n",
       "    }\n",
       "</style>\n",
       "<table border=\"1\" class=\"dataframe\">\n",
       "  <thead>\n",
       "    <tr style=\"text-align: right;\">\n",
       "      <th></th>\n",
       "      <th>doublet</th>\n",
       "    </tr>\n",
       "  </thead>\n",
       "  <tbody>\n",
       "    <tr>\n",
       "      <th>TAACTTCCAACCACGC-1_1</th>\n",
       "      <td>False</td>\n",
       "    </tr>\n",
       "    <tr>\n",
       "      <th>CGCATAACATGCCGGT-1_1</th>\n",
       "      <td>False</td>\n",
       "    </tr>\n",
       "    <tr>\n",
       "      <th>TCTATCACAAGGCTTT-1_1</th>\n",
       "      <td>False</td>\n",
       "    </tr>\n",
       "    <tr>\n",
       "      <th>TAACGACAGATGACCG-1_1</th>\n",
       "      <td>False</td>\n",
       "    </tr>\n",
       "    <tr>\n",
       "      <th>CACTTCGCAGTACTAC-1_1</th>\n",
       "      <td>False</td>\n",
       "    </tr>\n",
       "    <tr>\n",
       "      <th>...</th>\n",
       "      <td>...</td>\n",
       "    </tr>\n",
       "    <tr>\n",
       "      <th>CGCCATTGTTTGCCGG-1_1</th>\n",
       "      <td>False</td>\n",
       "    </tr>\n",
       "    <tr>\n",
       "      <th>CACTGGGGTCTACGTA-1_1</th>\n",
       "      <td>False</td>\n",
       "    </tr>\n",
       "    <tr>\n",
       "      <th>CATACTTGTAGAGGAA-1_1</th>\n",
       "      <td>False</td>\n",
       "    </tr>\n",
       "    <tr>\n",
       "      <th>TTTGGTTTCCACGGAC-1_1</th>\n",
       "      <td>False</td>\n",
       "    </tr>\n",
       "    <tr>\n",
       "      <th>ATGCATGAGTCATGAA-1_1</th>\n",
       "      <td>False</td>\n",
       "    </tr>\n",
       "  </tbody>\n",
       "</table>\n",
       "<p>5424 rows × 1 columns</p>\n",
       "</div>"
      ],
      "text/plain": [
       "                      doublet\n",
       "TAACTTCCAACCACGC-1_1    False\n",
       "CGCATAACATGCCGGT-1_1    False\n",
       "TCTATCACAAGGCTTT-1_1    False\n",
       "TAACGACAGATGACCG-1_1    False\n",
       "CACTTCGCAGTACTAC-1_1    False\n",
       "...                       ...\n",
       "CGCCATTGTTTGCCGG-1_1    False\n",
       "CACTGGGGTCTACGTA-1_1    False\n",
       "CATACTTGTAGAGGAA-1_1    False\n",
       "TTTGGTTTCCACGGAC-1_1    False\n",
       "ATGCATGAGTCATGAA-1_1    False\n",
       "\n",
       "[5424 rows x 1 columns]"
      ]
     },
     "execution_count": 53,
     "metadata": {},
     "output_type": "execute_result"
    }
   ],
   "source": [
    "adata.obs"
   ]
  },
  {
   "cell_type": "code",
   "execution_count": 54,
   "metadata": {},
   "outputs": [],
   "source": [
    "# calculate qc metrics\n",
    "sc.pp.calculate_qc_metrics(adata, qc_vars=['mt', 'ribo'], percent_top=None, log1p=False, inplace=True)"
   ]
  },
  {
   "cell_type": "code",
   "execution_count": 55,
   "metadata": {},
   "outputs": [
    {
     "data": {
      "text/html": [
       "<div>\n",
       "<style scoped>\n",
       "    .dataframe tbody tr th:only-of-type {\n",
       "        vertical-align: middle;\n",
       "    }\n",
       "\n",
       "    .dataframe tbody tr th {\n",
       "        vertical-align: top;\n",
       "    }\n",
       "\n",
       "    .dataframe thead th {\n",
       "        text-align: right;\n",
       "    }\n",
       "</style>\n",
       "<table border=\"1\" class=\"dataframe\">\n",
       "  <thead>\n",
       "    <tr style=\"text-align: right;\">\n",
       "      <th></th>\n",
       "      <th>mt</th>\n",
       "      <th>ribo</th>\n",
       "      <th>n_cells_by_counts</th>\n",
       "      <th>mean_counts</th>\n",
       "      <th>pct_dropout_by_counts</th>\n",
       "      <th>total_counts</th>\n",
       "    </tr>\n",
       "  </thead>\n",
       "  <tbody>\n",
       "    <tr>\n",
       "      <th>AL627309.1</th>\n",
       "      <td>False</td>\n",
       "      <td>False</td>\n",
       "      <td>6</td>\n",
       "      <td>0.001106</td>\n",
       "      <td>99.889381</td>\n",
       "      <td>6.0</td>\n",
       "    </tr>\n",
       "    <tr>\n",
       "      <th>AL627309.5</th>\n",
       "      <td>False</td>\n",
       "      <td>False</td>\n",
       "      <td>22</td>\n",
       "      <td>0.004056</td>\n",
       "      <td>99.594395</td>\n",
       "      <td>22.0</td>\n",
       "    </tr>\n",
       "    <tr>\n",
       "      <th>AL627309.4</th>\n",
       "      <td>False</td>\n",
       "      <td>False</td>\n",
       "      <td>2</td>\n",
       "      <td>0.000369</td>\n",
       "      <td>99.963127</td>\n",
       "      <td>2.0</td>\n",
       "    </tr>\n",
       "    <tr>\n",
       "      <th>AL669831.2</th>\n",
       "      <td>False</td>\n",
       "      <td>False</td>\n",
       "      <td>1</td>\n",
       "      <td>0.000184</td>\n",
       "      <td>99.981563</td>\n",
       "      <td>1.0</td>\n",
       "    </tr>\n",
       "    <tr>\n",
       "      <th>LINC01409</th>\n",
       "      <td>False</td>\n",
       "      <td>False</td>\n",
       "      <td>211</td>\n",
       "      <td>0.042220</td>\n",
       "      <td>96.109882</td>\n",
       "      <td>229.0</td>\n",
       "    </tr>\n",
       "    <tr>\n",
       "      <th>...</th>\n",
       "      <td>...</td>\n",
       "      <td>...</td>\n",
       "      <td>...</td>\n",
       "      <td>...</td>\n",
       "      <td>...</td>\n",
       "      <td>...</td>\n",
       "    </tr>\n",
       "    <tr>\n",
       "      <th>VN1R2</th>\n",
       "      <td>False</td>\n",
       "      <td>False</td>\n",
       "      <td>0</td>\n",
       "      <td>0.000000</td>\n",
       "      <td>100.000000</td>\n",
       "      <td>0.0</td>\n",
       "    </tr>\n",
       "    <tr>\n",
       "      <th>AL031676.1</th>\n",
       "      <td>False</td>\n",
       "      <td>False</td>\n",
       "      <td>0</td>\n",
       "      <td>0.000000</td>\n",
       "      <td>100.000000</td>\n",
       "      <td>0.0</td>\n",
       "    </tr>\n",
       "    <tr>\n",
       "      <th>SMIM34A</th>\n",
       "      <td>False</td>\n",
       "      <td>False</td>\n",
       "      <td>0</td>\n",
       "      <td>0.000000</td>\n",
       "      <td>100.000000</td>\n",
       "      <td>0.0</td>\n",
       "    </tr>\n",
       "    <tr>\n",
       "      <th>AL050402.1</th>\n",
       "      <td>False</td>\n",
       "      <td>False</td>\n",
       "      <td>0</td>\n",
       "      <td>0.000000</td>\n",
       "      <td>100.000000</td>\n",
       "      <td>0.0</td>\n",
       "    </tr>\n",
       "    <tr>\n",
       "      <th>AL445072.1</th>\n",
       "      <td>False</td>\n",
       "      <td>False</td>\n",
       "      <td>0</td>\n",
       "      <td>0.000000</td>\n",
       "      <td>100.000000</td>\n",
       "      <td>0.0</td>\n",
       "    </tr>\n",
       "  </tbody>\n",
       "</table>\n",
       "<p>34546 rows × 6 columns</p>\n",
       "</div>"
      ],
      "text/plain": [
       "               mt   ribo  n_cells_by_counts  mean_counts  \\\n",
       "AL627309.1  False  False                  6     0.001106   \n",
       "AL627309.5  False  False                 22     0.004056   \n",
       "AL627309.4  False  False                  2     0.000369   \n",
       "AL669831.2  False  False                  1     0.000184   \n",
       "LINC01409   False  False                211     0.042220   \n",
       "...           ...    ...                ...          ...   \n",
       "VN1R2       False  False                  0     0.000000   \n",
       "AL031676.1  False  False                  0     0.000000   \n",
       "SMIM34A     False  False                  0     0.000000   \n",
       "AL050402.1  False  False                  0     0.000000   \n",
       "AL445072.1  False  False                  0     0.000000   \n",
       "\n",
       "            pct_dropout_by_counts  total_counts  \n",
       "AL627309.1              99.889381           6.0  \n",
       "AL627309.5              99.594395          22.0  \n",
       "AL627309.4              99.963127           2.0  \n",
       "AL669831.2              99.981563           1.0  \n",
       "LINC01409               96.109882         229.0  \n",
       "...                           ...           ...  \n",
       "VN1R2                  100.000000           0.0  \n",
       "AL031676.1             100.000000           0.0  \n",
       "SMIM34A                100.000000           0.0  \n",
       "AL050402.1             100.000000           0.0  \n",
       "AL445072.1             100.000000           0.0  \n",
       "\n",
       "[34546 rows x 6 columns]"
      ]
     },
     "execution_count": 55,
     "metadata": {},
     "output_type": "execute_result"
    }
   ],
   "source": [
    "adata.var"
   ]
  },
  {
   "cell_type": "markdown",
   "metadata": {},
   "source": [
    "pct_dropout_by_counts: percent dropout by counts\n",
    "n_cells_by_counts = gene was found in ___ many cells"
   ]
  },
  {
   "cell_type": "code",
   "execution_count": 56,
   "metadata": {},
   "outputs": [
    {
     "data": {
      "text/html": [
       "<div>\n",
       "<style scoped>\n",
       "    .dataframe tbody tr th:only-of-type {\n",
       "        vertical-align: middle;\n",
       "    }\n",
       "\n",
       "    .dataframe tbody tr th {\n",
       "        vertical-align: top;\n",
       "    }\n",
       "\n",
       "    .dataframe thead th {\n",
       "        text-align: right;\n",
       "    }\n",
       "</style>\n",
       "<table border=\"1\" class=\"dataframe\">\n",
       "  <thead>\n",
       "    <tr style=\"text-align: right;\">\n",
       "      <th></th>\n",
       "      <th>doublet</th>\n",
       "      <th>n_genes_by_counts</th>\n",
       "      <th>total_counts</th>\n",
       "      <th>total_counts_mt</th>\n",
       "      <th>pct_counts_mt</th>\n",
       "      <th>total_counts_ribo</th>\n",
       "      <th>pct_counts_ribo</th>\n",
       "    </tr>\n",
       "  </thead>\n",
       "  <tbody>\n",
       "    <tr>\n",
       "      <th>TAACTTCCAACCACGC-1_1</th>\n",
       "      <td>False</td>\n",
       "      <td>5158</td>\n",
       "      <td>15645.0</td>\n",
       "      <td>221.0</td>\n",
       "      <td>1.412592</td>\n",
       "      <td>211.0</td>\n",
       "      <td>1.348674</td>\n",
       "    </tr>\n",
       "    <tr>\n",
       "      <th>CGCATAACATGCCGGT-1_1</th>\n",
       "      <td>False</td>\n",
       "      <td>3745</td>\n",
       "      <td>8617.0</td>\n",
       "      <td>119.0</td>\n",
       "      <td>1.380991</td>\n",
       "      <td>25.0</td>\n",
       "      <td>0.290124</td>\n",
       "    </tr>\n",
       "    <tr>\n",
       "      <th>TCTATCACAAGGCTTT-1_1</th>\n",
       "      <td>False</td>\n",
       "      <td>3582</td>\n",
       "      <td>8276.0</td>\n",
       "      <td>183.0</td>\n",
       "      <td>2.211213</td>\n",
       "      <td>5.0</td>\n",
       "      <td>0.060416</td>\n",
       "    </tr>\n",
       "    <tr>\n",
       "      <th>TAACGACAGATGACCG-1_1</th>\n",
       "      <td>False</td>\n",
       "      <td>3791</td>\n",
       "      <td>8187.0</td>\n",
       "      <td>94.0</td>\n",
       "      <td>1.148162</td>\n",
       "      <td>4.0</td>\n",
       "      <td>0.048858</td>\n",
       "    </tr>\n",
       "    <tr>\n",
       "      <th>CACTTCGCAGTACTAC-1_1</th>\n",
       "      <td>False</td>\n",
       "      <td>3244</td>\n",
       "      <td>8059.0</td>\n",
       "      <td>253.0</td>\n",
       "      <td>3.139347</td>\n",
       "      <td>14.0</td>\n",
       "      <td>0.173719</td>\n",
       "    </tr>\n",
       "    <tr>\n",
       "      <th>...</th>\n",
       "      <td>...</td>\n",
       "      <td>...</td>\n",
       "      <td>...</td>\n",
       "      <td>...</td>\n",
       "      <td>...</td>\n",
       "      <td>...</td>\n",
       "      <td>...</td>\n",
       "    </tr>\n",
       "    <tr>\n",
       "      <th>CGCCATTGTTTGCCGG-1_1</th>\n",
       "      <td>False</td>\n",
       "      <td>355</td>\n",
       "      <td>410.0</td>\n",
       "      <td>3.0</td>\n",
       "      <td>0.731707</td>\n",
       "      <td>0.0</td>\n",
       "      <td>0.000000</td>\n",
       "    </tr>\n",
       "    <tr>\n",
       "      <th>CACTGGGGTCTACGTA-1_1</th>\n",
       "      <td>False</td>\n",
       "      <td>346</td>\n",
       "      <td>403.0</td>\n",
       "      <td>0.0</td>\n",
       "      <td>0.000000</td>\n",
       "      <td>0.0</td>\n",
       "      <td>0.000000</td>\n",
       "    </tr>\n",
       "    <tr>\n",
       "      <th>CATACTTGTAGAGGAA-1_1</th>\n",
       "      <td>False</td>\n",
       "      <td>360</td>\n",
       "      <td>410.0</td>\n",
       "      <td>2.0</td>\n",
       "      <td>0.487805</td>\n",
       "      <td>0.0</td>\n",
       "      <td>0.000000</td>\n",
       "    </tr>\n",
       "    <tr>\n",
       "      <th>TTTGGTTTCCACGGAC-1_1</th>\n",
       "      <td>False</td>\n",
       "      <td>299</td>\n",
       "      <td>405.0</td>\n",
       "      <td>0.0</td>\n",
       "      <td>0.000000</td>\n",
       "      <td>2.0</td>\n",
       "      <td>0.493827</td>\n",
       "    </tr>\n",
       "    <tr>\n",
       "      <th>ATGCATGAGTCATGAA-1_1</th>\n",
       "      <td>False</td>\n",
       "      <td>351</td>\n",
       "      <td>411.0</td>\n",
       "      <td>0.0</td>\n",
       "      <td>0.000000</td>\n",
       "      <td>0.0</td>\n",
       "      <td>0.000000</td>\n",
       "    </tr>\n",
       "  </tbody>\n",
       "</table>\n",
       "<p>5424 rows × 7 columns</p>\n",
       "</div>"
      ],
      "text/plain": [
       "                      doublet  n_genes_by_counts  total_counts  \\\n",
       "TAACTTCCAACCACGC-1_1    False               5158       15645.0   \n",
       "CGCATAACATGCCGGT-1_1    False               3745        8617.0   \n",
       "TCTATCACAAGGCTTT-1_1    False               3582        8276.0   \n",
       "TAACGACAGATGACCG-1_1    False               3791        8187.0   \n",
       "CACTTCGCAGTACTAC-1_1    False               3244        8059.0   \n",
       "...                       ...                ...           ...   \n",
       "CGCCATTGTTTGCCGG-1_1    False                355         410.0   \n",
       "CACTGGGGTCTACGTA-1_1    False                346         403.0   \n",
       "CATACTTGTAGAGGAA-1_1    False                360         410.0   \n",
       "TTTGGTTTCCACGGAC-1_1    False                299         405.0   \n",
       "ATGCATGAGTCATGAA-1_1    False                351         411.0   \n",
       "\n",
       "                      total_counts_mt  pct_counts_mt  total_counts_ribo  \\\n",
       "TAACTTCCAACCACGC-1_1            221.0       1.412592              211.0   \n",
       "CGCATAACATGCCGGT-1_1            119.0       1.380991               25.0   \n",
       "TCTATCACAAGGCTTT-1_1            183.0       2.211213                5.0   \n",
       "TAACGACAGATGACCG-1_1             94.0       1.148162                4.0   \n",
       "CACTTCGCAGTACTAC-1_1            253.0       3.139347               14.0   \n",
       "...                               ...            ...                ...   \n",
       "CGCCATTGTTTGCCGG-1_1              3.0       0.731707                0.0   \n",
       "CACTGGGGTCTACGTA-1_1              0.0       0.000000                0.0   \n",
       "CATACTTGTAGAGGAA-1_1              2.0       0.487805                0.0   \n",
       "TTTGGTTTCCACGGAC-1_1              0.0       0.000000                2.0   \n",
       "ATGCATGAGTCATGAA-1_1              0.0       0.000000                0.0   \n",
       "\n",
       "                      pct_counts_ribo  \n",
       "TAACTTCCAACCACGC-1_1         1.348674  \n",
       "CGCATAACATGCCGGT-1_1         0.290124  \n",
       "TCTATCACAAGGCTTT-1_1         0.060416  \n",
       "TAACGACAGATGACCG-1_1         0.048858  \n",
       "CACTTCGCAGTACTAC-1_1         0.173719  \n",
       "...                               ...  \n",
       "CGCCATTGTTTGCCGG-1_1         0.000000  \n",
       "CACTGGGGTCTACGTA-1_1         0.000000  \n",
       "CATACTTGTAGAGGAA-1_1         0.000000  \n",
       "TTTGGTTTCCACGGAC-1_1         0.493827  \n",
       "ATGCATGAGTCATGAA-1_1         0.000000  \n",
       "\n",
       "[5424 rows x 7 columns]"
      ]
     },
     "execution_count": 56,
     "metadata": {},
     "output_type": "execute_result"
    }
   ],
   "source": [
    "adata.obs"
   ]
  },
  {
   "cell_type": "markdown",
   "metadata": {},
   "source": [
    "total_counts_mt = mitochondrial counts\n",
    "pct_counts_mt = percent of the mitochondrial reads for that given cell\n",
    "pct_counts_ribo = percent counts of the ribosomal reads for that given cell\n",
    "n_genes_by_counts = number of genes positive in that cell\n",
    "total_counts = total number of umis "
   ]
  },
  {
   "cell_type": "code",
   "execution_count": 57,
   "metadata": {},
   "outputs": [
    {
     "data": {
      "text/html": [
       "<div>\n",
       "<style scoped>\n",
       "    .dataframe tbody tr th:only-of-type {\n",
       "        vertical-align: middle;\n",
       "    }\n",
       "\n",
       "    .dataframe tbody tr th {\n",
       "        vertical-align: top;\n",
       "    }\n",
       "\n",
       "    .dataframe thead th {\n",
       "        text-align: right;\n",
       "    }\n",
       "</style>\n",
       "<table border=\"1\" class=\"dataframe\">\n",
       "  <thead>\n",
       "    <tr style=\"text-align: right;\">\n",
       "      <th></th>\n",
       "      <th>mt</th>\n",
       "      <th>ribo</th>\n",
       "      <th>n_cells_by_counts</th>\n",
       "      <th>mean_counts</th>\n",
       "      <th>pct_dropout_by_counts</th>\n",
       "      <th>total_counts</th>\n",
       "    </tr>\n",
       "  </thead>\n",
       "  <tbody>\n",
       "    <tr>\n",
       "      <th>AL445072.1</th>\n",
       "      <td>False</td>\n",
       "      <td>False</td>\n",
       "      <td>0</td>\n",
       "      <td>0.000000</td>\n",
       "      <td>100.000000</td>\n",
       "      <td>0.0</td>\n",
       "    </tr>\n",
       "    <tr>\n",
       "      <th>CFC1</th>\n",
       "      <td>False</td>\n",
       "      <td>False</td>\n",
       "      <td>0</td>\n",
       "      <td>0.000000</td>\n",
       "      <td>100.000000</td>\n",
       "      <td>0.0</td>\n",
       "    </tr>\n",
       "    <tr>\n",
       "      <th>AMER3</th>\n",
       "      <td>False</td>\n",
       "      <td>False</td>\n",
       "      <td>0</td>\n",
       "      <td>0.000000</td>\n",
       "      <td>100.000000</td>\n",
       "      <td>0.0</td>\n",
       "    </tr>\n",
       "    <tr>\n",
       "      <th>LINC01087</th>\n",
       "      <td>False</td>\n",
       "      <td>False</td>\n",
       "      <td>0</td>\n",
       "      <td>0.000000</td>\n",
       "      <td>100.000000</td>\n",
       "      <td>0.0</td>\n",
       "    </tr>\n",
       "    <tr>\n",
       "      <th>AC062021.1</th>\n",
       "      <td>False</td>\n",
       "      <td>False</td>\n",
       "      <td>0</td>\n",
       "      <td>0.000000</td>\n",
       "      <td>100.000000</td>\n",
       "      <td>0.0</td>\n",
       "    </tr>\n",
       "    <tr>\n",
       "      <th>...</th>\n",
       "      <td>...</td>\n",
       "      <td>...</td>\n",
       "      <td>...</td>\n",
       "      <td>...</td>\n",
       "      <td>...</td>\n",
       "      <td>...</td>\n",
       "    </tr>\n",
       "    <tr>\n",
       "      <th>AKAP13</th>\n",
       "      <td>False</td>\n",
       "      <td>False</td>\n",
       "      <td>3854</td>\n",
       "      <td>2.706858</td>\n",
       "      <td>28.945428</td>\n",
       "      <td>14682.0</td>\n",
       "    </tr>\n",
       "    <tr>\n",
       "      <th>MBNL1</th>\n",
       "      <td>False</td>\n",
       "      <td>False</td>\n",
       "      <td>3936</td>\n",
       "      <td>2.567847</td>\n",
       "      <td>27.433628</td>\n",
       "      <td>13928.0</td>\n",
       "    </tr>\n",
       "    <tr>\n",
       "      <th>NEAT1</th>\n",
       "      <td>False</td>\n",
       "      <td>False</td>\n",
       "      <td>3940</td>\n",
       "      <td>4.705383</td>\n",
       "      <td>27.359882</td>\n",
       "      <td>25522.0</td>\n",
       "    </tr>\n",
       "    <tr>\n",
       "      <th>ZBTB20</th>\n",
       "      <td>False</td>\n",
       "      <td>False</td>\n",
       "      <td>4075</td>\n",
       "      <td>2.311578</td>\n",
       "      <td>24.870944</td>\n",
       "      <td>12538.0</td>\n",
       "    </tr>\n",
       "    <tr>\n",
       "      <th>MALAT1</th>\n",
       "      <td>False</td>\n",
       "      <td>False</td>\n",
       "      <td>5415</td>\n",
       "      <td>61.464417</td>\n",
       "      <td>0.165929</td>\n",
       "      <td>333383.0</td>\n",
       "    </tr>\n",
       "  </tbody>\n",
       "</table>\n",
       "<p>34546 rows × 6 columns</p>\n",
       "</div>"
      ],
      "text/plain": [
       "               mt   ribo  n_cells_by_counts  mean_counts  \\\n",
       "AL445072.1  False  False                  0     0.000000   \n",
       "CFC1        False  False                  0     0.000000   \n",
       "AMER3       False  False                  0     0.000000   \n",
       "LINC01087   False  False                  0     0.000000   \n",
       "AC062021.1  False  False                  0     0.000000   \n",
       "...           ...    ...                ...          ...   \n",
       "AKAP13      False  False               3854     2.706858   \n",
       "MBNL1       False  False               3936     2.567847   \n",
       "NEAT1       False  False               3940     4.705383   \n",
       "ZBTB20      False  False               4075     2.311578   \n",
       "MALAT1      False  False               5415    61.464417   \n",
       "\n",
       "            pct_dropout_by_counts  total_counts  \n",
       "AL445072.1             100.000000           0.0  \n",
       "CFC1                   100.000000           0.0  \n",
       "AMER3                  100.000000           0.0  \n",
       "LINC01087              100.000000           0.0  \n",
       "AC062021.1             100.000000           0.0  \n",
       "...                           ...           ...  \n",
       "AKAP13                  28.945428       14682.0  \n",
       "MBNL1                   27.433628       13928.0  \n",
       "NEAT1                   27.359882       25522.0  \n",
       "ZBTB20                  24.870944       12538.0  \n",
       "MALAT1                   0.165929      333383.0  \n",
       "\n",
       "[34546 rows x 6 columns]"
      ]
     },
     "execution_count": 57,
     "metadata": {},
     "output_type": "execute_result"
    }
   ],
   "source": [
    "adata.var.sort_values('n_cells_by_counts')"
   ]
  },
  {
   "cell_type": "markdown",
   "metadata": {},
   "source": [
    "In [n_cells_by_counts], you can see some genes like MALAT1 is found in nearly every cell, and other genes like AL445072.1 are found in no cells.\n",
    "We are gonna filter out genes that were not found in at least 3 cells."
   ]
  },
  {
   "cell_type": "code",
   "execution_count": 58,
   "metadata": {},
   "outputs": [],
   "source": [
    "sc.pp.filter_genes(adata, min_cells=3)"
   ]
  },
  {
   "cell_type": "code",
   "execution_count": 60,
   "metadata": {},
   "outputs": [
    {
     "data": {
      "text/html": [
       "<div>\n",
       "<style scoped>\n",
       "    .dataframe tbody tr th:only-of-type {\n",
       "        vertical-align: middle;\n",
       "    }\n",
       "\n",
       "    .dataframe tbody tr th {\n",
       "        vertical-align: top;\n",
       "    }\n",
       "\n",
       "    .dataframe thead th {\n",
       "        text-align: right;\n",
       "    }\n",
       "</style>\n",
       "<table border=\"1\" class=\"dataframe\">\n",
       "  <thead>\n",
       "    <tr style=\"text-align: right;\">\n",
       "      <th></th>\n",
       "      <th>mt</th>\n",
       "      <th>ribo</th>\n",
       "      <th>n_cells_by_counts</th>\n",
       "      <th>mean_counts</th>\n",
       "      <th>pct_dropout_by_counts</th>\n",
       "      <th>total_counts</th>\n",
       "      <th>n_cells</th>\n",
       "    </tr>\n",
       "  </thead>\n",
       "  <tbody>\n",
       "    <tr>\n",
       "      <th>AC006449.2</th>\n",
       "      <td>False</td>\n",
       "      <td>False</td>\n",
       "      <td>3</td>\n",
       "      <td>0.000553</td>\n",
       "      <td>99.944690</td>\n",
       "      <td>3.0</td>\n",
       "      <td>3</td>\n",
       "    </tr>\n",
       "    <tr>\n",
       "      <th>AL354733.1</th>\n",
       "      <td>False</td>\n",
       "      <td>False</td>\n",
       "      <td>3</td>\n",
       "      <td>0.000553</td>\n",
       "      <td>99.944690</td>\n",
       "      <td>3.0</td>\n",
       "      <td>3</td>\n",
       "    </tr>\n",
       "    <tr>\n",
       "      <th>LNCARSR</th>\n",
       "      <td>False</td>\n",
       "      <td>False</td>\n",
       "      <td>3</td>\n",
       "      <td>0.000553</td>\n",
       "      <td>99.944690</td>\n",
       "      <td>3.0</td>\n",
       "      <td>3</td>\n",
       "    </tr>\n",
       "    <tr>\n",
       "      <th>AC018553.3</th>\n",
       "      <td>False</td>\n",
       "      <td>False</td>\n",
       "      <td>3</td>\n",
       "      <td>0.000553</td>\n",
       "      <td>99.944690</td>\n",
       "      <td>3.0</td>\n",
       "      <td>3</td>\n",
       "    </tr>\n",
       "    <tr>\n",
       "      <th>AL445438.1</th>\n",
       "      <td>False</td>\n",
       "      <td>False</td>\n",
       "      <td>3</td>\n",
       "      <td>0.000553</td>\n",
       "      <td>99.944690</td>\n",
       "      <td>3.0</td>\n",
       "      <td>3</td>\n",
       "    </tr>\n",
       "    <tr>\n",
       "      <th>...</th>\n",
       "      <td>...</td>\n",
       "      <td>...</td>\n",
       "      <td>...</td>\n",
       "      <td>...</td>\n",
       "      <td>...</td>\n",
       "      <td>...</td>\n",
       "      <td>...</td>\n",
       "    </tr>\n",
       "    <tr>\n",
       "      <th>AKAP13</th>\n",
       "      <td>False</td>\n",
       "      <td>False</td>\n",
       "      <td>3854</td>\n",
       "      <td>2.706858</td>\n",
       "      <td>28.945428</td>\n",
       "      <td>14682.0</td>\n",
       "      <td>3854</td>\n",
       "    </tr>\n",
       "    <tr>\n",
       "      <th>MBNL1</th>\n",
       "      <td>False</td>\n",
       "      <td>False</td>\n",
       "      <td>3936</td>\n",
       "      <td>2.567847</td>\n",
       "      <td>27.433628</td>\n",
       "      <td>13928.0</td>\n",
       "      <td>3936</td>\n",
       "    </tr>\n",
       "    <tr>\n",
       "      <th>NEAT1</th>\n",
       "      <td>False</td>\n",
       "      <td>False</td>\n",
       "      <td>3940</td>\n",
       "      <td>4.705383</td>\n",
       "      <td>27.359882</td>\n",
       "      <td>25522.0</td>\n",
       "      <td>3940</td>\n",
       "    </tr>\n",
       "    <tr>\n",
       "      <th>ZBTB20</th>\n",
       "      <td>False</td>\n",
       "      <td>False</td>\n",
       "      <td>4075</td>\n",
       "      <td>2.311578</td>\n",
       "      <td>24.870944</td>\n",
       "      <td>12538.0</td>\n",
       "      <td>4075</td>\n",
       "    </tr>\n",
       "    <tr>\n",
       "      <th>MALAT1</th>\n",
       "      <td>False</td>\n",
       "      <td>False</td>\n",
       "      <td>5415</td>\n",
       "      <td>61.464417</td>\n",
       "      <td>0.165929</td>\n",
       "      <td>333383.0</td>\n",
       "      <td>5415</td>\n",
       "    </tr>\n",
       "  </tbody>\n",
       "</table>\n",
       "<p>23875 rows × 7 columns</p>\n",
       "</div>"
      ],
      "text/plain": [
       "               mt   ribo  n_cells_by_counts  mean_counts  \\\n",
       "AC006449.2  False  False                  3     0.000553   \n",
       "AL354733.1  False  False                  3     0.000553   \n",
       "LNCARSR     False  False                  3     0.000553   \n",
       "AC018553.3  False  False                  3     0.000553   \n",
       "AL445438.1  False  False                  3     0.000553   \n",
       "...           ...    ...                ...          ...   \n",
       "AKAP13      False  False               3854     2.706858   \n",
       "MBNL1       False  False               3936     2.567847   \n",
       "NEAT1       False  False               3940     4.705383   \n",
       "ZBTB20      False  False               4075     2.311578   \n",
       "MALAT1      False  False               5415    61.464417   \n",
       "\n",
       "            pct_dropout_by_counts  total_counts  n_cells  \n",
       "AC006449.2              99.944690           3.0        3  \n",
       "AL354733.1              99.944690           3.0        3  \n",
       "LNCARSR                 99.944690           3.0        3  \n",
       "AC018553.3              99.944690           3.0        3  \n",
       "AL445438.1              99.944690           3.0        3  \n",
       "...                           ...           ...      ...  \n",
       "AKAP13                  28.945428       14682.0     3854  \n",
       "MBNL1                   27.433628       13928.0     3936  \n",
       "NEAT1                   27.359882       25522.0     3940  \n",
       "ZBTB20                  24.870944       12538.0     4075  \n",
       "MALAT1                   0.165929      333383.0     5415  \n",
       "\n",
       "[23875 rows x 7 columns]"
      ]
     },
     "execution_count": 60,
     "metadata": {},
     "output_type": "execute_result"
    }
   ],
   "source": [
    "adata.var.sort_values('n_cells_by_counts')\n",
    "# now every gene listed is in at least 3 cells"
   ]
  },
  {
   "cell_type": "code",
   "execution_count": 61,
   "metadata": {},
   "outputs": [
    {
     "data": {
      "text/html": [
       "<div>\n",
       "<style scoped>\n",
       "    .dataframe tbody tr th:only-of-type {\n",
       "        vertical-align: middle;\n",
       "    }\n",
       "\n",
       "    .dataframe tbody tr th {\n",
       "        vertical-align: top;\n",
       "    }\n",
       "\n",
       "    .dataframe thead th {\n",
       "        text-align: right;\n",
       "    }\n",
       "</style>\n",
       "<table border=\"1\" class=\"dataframe\">\n",
       "  <thead>\n",
       "    <tr style=\"text-align: right;\">\n",
       "      <th></th>\n",
       "      <th>doublet</th>\n",
       "      <th>n_genes_by_counts</th>\n",
       "      <th>total_counts</th>\n",
       "      <th>total_counts_mt</th>\n",
       "      <th>pct_counts_mt</th>\n",
       "      <th>total_counts_ribo</th>\n",
       "      <th>pct_counts_ribo</th>\n",
       "    </tr>\n",
       "  </thead>\n",
       "  <tbody>\n",
       "    <tr>\n",
       "      <th>TAACTTCCAACCACGC-1_1</th>\n",
       "      <td>False</td>\n",
       "      <td>5158</td>\n",
       "      <td>15645.0</td>\n",
       "      <td>221.0</td>\n",
       "      <td>1.412592</td>\n",
       "      <td>211.0</td>\n",
       "      <td>1.348674</td>\n",
       "    </tr>\n",
       "    <tr>\n",
       "      <th>CGCATAACATGCCGGT-1_1</th>\n",
       "      <td>False</td>\n",
       "      <td>3745</td>\n",
       "      <td>8617.0</td>\n",
       "      <td>119.0</td>\n",
       "      <td>1.380991</td>\n",
       "      <td>25.0</td>\n",
       "      <td>0.290124</td>\n",
       "    </tr>\n",
       "    <tr>\n",
       "      <th>TCTATCACAAGGCTTT-1_1</th>\n",
       "      <td>False</td>\n",
       "      <td>3582</td>\n",
       "      <td>8276.0</td>\n",
       "      <td>183.0</td>\n",
       "      <td>2.211213</td>\n",
       "      <td>5.0</td>\n",
       "      <td>0.060416</td>\n",
       "    </tr>\n",
       "    <tr>\n",
       "      <th>TAACGACAGATGACCG-1_1</th>\n",
       "      <td>False</td>\n",
       "      <td>3791</td>\n",
       "      <td>8187.0</td>\n",
       "      <td>94.0</td>\n",
       "      <td>1.148162</td>\n",
       "      <td>4.0</td>\n",
       "      <td>0.048858</td>\n",
       "    </tr>\n",
       "    <tr>\n",
       "      <th>CACTTCGCAGTACTAC-1_1</th>\n",
       "      <td>False</td>\n",
       "      <td>3244</td>\n",
       "      <td>8059.0</td>\n",
       "      <td>253.0</td>\n",
       "      <td>3.139347</td>\n",
       "      <td>14.0</td>\n",
       "      <td>0.173719</td>\n",
       "    </tr>\n",
       "    <tr>\n",
       "      <th>...</th>\n",
       "      <td>...</td>\n",
       "      <td>...</td>\n",
       "      <td>...</td>\n",
       "      <td>...</td>\n",
       "      <td>...</td>\n",
       "      <td>...</td>\n",
       "      <td>...</td>\n",
       "    </tr>\n",
       "    <tr>\n",
       "      <th>CGCCATTGTTTGCCGG-1_1</th>\n",
       "      <td>False</td>\n",
       "      <td>355</td>\n",
       "      <td>410.0</td>\n",
       "      <td>3.0</td>\n",
       "      <td>0.731707</td>\n",
       "      <td>0.0</td>\n",
       "      <td>0.000000</td>\n",
       "    </tr>\n",
       "    <tr>\n",
       "      <th>CACTGGGGTCTACGTA-1_1</th>\n",
       "      <td>False</td>\n",
       "      <td>346</td>\n",
       "      <td>403.0</td>\n",
       "      <td>0.0</td>\n",
       "      <td>0.000000</td>\n",
       "      <td>0.0</td>\n",
       "      <td>0.000000</td>\n",
       "    </tr>\n",
       "    <tr>\n",
       "      <th>CATACTTGTAGAGGAA-1_1</th>\n",
       "      <td>False</td>\n",
       "      <td>360</td>\n",
       "      <td>410.0</td>\n",
       "      <td>2.0</td>\n",
       "      <td>0.487805</td>\n",
       "      <td>0.0</td>\n",
       "      <td>0.000000</td>\n",
       "    </tr>\n",
       "    <tr>\n",
       "      <th>TTTGGTTTCCACGGAC-1_1</th>\n",
       "      <td>False</td>\n",
       "      <td>299</td>\n",
       "      <td>405.0</td>\n",
       "      <td>0.0</td>\n",
       "      <td>0.000000</td>\n",
       "      <td>2.0</td>\n",
       "      <td>0.493827</td>\n",
       "    </tr>\n",
       "    <tr>\n",
       "      <th>ATGCATGAGTCATGAA-1_1</th>\n",
       "      <td>False</td>\n",
       "      <td>351</td>\n",
       "      <td>411.0</td>\n",
       "      <td>0.0</td>\n",
       "      <td>0.000000</td>\n",
       "      <td>0.0</td>\n",
       "      <td>0.000000</td>\n",
       "    </tr>\n",
       "  </tbody>\n",
       "</table>\n",
       "<p>5424 rows × 7 columns</p>\n",
       "</div>"
      ],
      "text/plain": [
       "                      doublet  n_genes_by_counts  total_counts  \\\n",
       "TAACTTCCAACCACGC-1_1    False               5158       15645.0   \n",
       "CGCATAACATGCCGGT-1_1    False               3745        8617.0   \n",
       "TCTATCACAAGGCTTT-1_1    False               3582        8276.0   \n",
       "TAACGACAGATGACCG-1_1    False               3791        8187.0   \n",
       "CACTTCGCAGTACTAC-1_1    False               3244        8059.0   \n",
       "...                       ...                ...           ...   \n",
       "CGCCATTGTTTGCCGG-1_1    False                355         410.0   \n",
       "CACTGGGGTCTACGTA-1_1    False                346         403.0   \n",
       "CATACTTGTAGAGGAA-1_1    False                360         410.0   \n",
       "TTTGGTTTCCACGGAC-1_1    False                299         405.0   \n",
       "ATGCATGAGTCATGAA-1_1    False                351         411.0   \n",
       "\n",
       "                      total_counts_mt  pct_counts_mt  total_counts_ribo  \\\n",
       "TAACTTCCAACCACGC-1_1            221.0       1.412592              211.0   \n",
       "CGCATAACATGCCGGT-1_1            119.0       1.380991               25.0   \n",
       "TCTATCACAAGGCTTT-1_1            183.0       2.211213                5.0   \n",
       "TAACGACAGATGACCG-1_1             94.0       1.148162                4.0   \n",
       "CACTTCGCAGTACTAC-1_1            253.0       3.139347               14.0   \n",
       "...                               ...            ...                ...   \n",
       "CGCCATTGTTTGCCGG-1_1              3.0       0.731707                0.0   \n",
       "CACTGGGGTCTACGTA-1_1              0.0       0.000000                0.0   \n",
       "CATACTTGTAGAGGAA-1_1              2.0       0.487805                0.0   \n",
       "TTTGGTTTCCACGGAC-1_1              0.0       0.000000                2.0   \n",
       "ATGCATGAGTCATGAA-1_1              0.0       0.000000                0.0   \n",
       "\n",
       "                      pct_counts_ribo  \n",
       "TAACTTCCAACCACGC-1_1         1.348674  \n",
       "CGCATAACATGCCGGT-1_1         0.290124  \n",
       "TCTATCACAAGGCTTT-1_1         0.060416  \n",
       "TAACGACAGATGACCG-1_1         0.048858  \n",
       "CACTTCGCAGTACTAC-1_1         0.173719  \n",
       "...                               ...  \n",
       "CGCCATTGTTTGCCGG-1_1         0.000000  \n",
       "CACTGGGGTCTACGTA-1_1         0.000000  \n",
       "CATACTTGTAGAGGAA-1_1         0.000000  \n",
       "TTTGGTTTCCACGGAC-1_1         0.493827  \n",
       "ATGCATGAGTCATGAA-1_1         0.000000  \n",
       "\n",
       "[5424 rows x 7 columns]"
      ]
     },
     "execution_count": 61,
     "metadata": {},
     "output_type": "execute_result"
    }
   ],
   "source": [
    "# lets now pre-process adata.obs\n",
    "adata.obs # look at total_counts"
   ]
  },
  {
   "cell_type": "code",
   "execution_count": 62,
   "metadata": {},
   "outputs": [
    {
     "data": {
      "text/html": [
       "<div>\n",
       "<style scoped>\n",
       "    .dataframe tbody tr th:only-of-type {\n",
       "        vertical-align: middle;\n",
       "    }\n",
       "\n",
       "    .dataframe tbody tr th {\n",
       "        vertical-align: top;\n",
       "    }\n",
       "\n",
       "    .dataframe thead th {\n",
       "        text-align: right;\n",
       "    }\n",
       "</style>\n",
       "<table border=\"1\" class=\"dataframe\">\n",
       "  <thead>\n",
       "    <tr style=\"text-align: right;\">\n",
       "      <th></th>\n",
       "      <th>doublet</th>\n",
       "      <th>n_genes_by_counts</th>\n",
       "      <th>total_counts</th>\n",
       "      <th>total_counts_mt</th>\n",
       "      <th>pct_counts_mt</th>\n",
       "      <th>total_counts_ribo</th>\n",
       "      <th>pct_counts_ribo</th>\n",
       "    </tr>\n",
       "  </thead>\n",
       "  <tbody>\n",
       "    <tr>\n",
       "      <th>TGGTACAGTTGGTGTT-1_1</th>\n",
       "      <td>False</td>\n",
       "      <td>323</td>\n",
       "      <td>401.0</td>\n",
       "      <td>0.0</td>\n",
       "      <td>0.000000</td>\n",
       "      <td>0.0</td>\n",
       "      <td>0.000000</td>\n",
       "    </tr>\n",
       "    <tr>\n",
       "      <th>CAGGGCTTCATGCGGC-1_1</th>\n",
       "      <td>False</td>\n",
       "      <td>330</td>\n",
       "      <td>401.0</td>\n",
       "      <td>7.0</td>\n",
       "      <td>1.745636</td>\n",
       "      <td>1.0</td>\n",
       "      <td>0.249377</td>\n",
       "    </tr>\n",
       "    <tr>\n",
       "      <th>CTCAACCGTTTGGGAG-1_1</th>\n",
       "      <td>False</td>\n",
       "      <td>325</td>\n",
       "      <td>401.0</td>\n",
       "      <td>0.0</td>\n",
       "      <td>0.000000</td>\n",
       "      <td>0.0</td>\n",
       "      <td>0.000000</td>\n",
       "    </tr>\n",
       "    <tr>\n",
       "      <th>CGAGAAGGTGAACTAA-1_1</th>\n",
       "      <td>False</td>\n",
       "      <td>308</td>\n",
       "      <td>401.0</td>\n",
       "      <td>0.0</td>\n",
       "      <td>0.000000</td>\n",
       "      <td>0.0</td>\n",
       "      <td>0.000000</td>\n",
       "    </tr>\n",
       "    <tr>\n",
       "      <th>AGGCATTCATCCGTTC-1_1</th>\n",
       "      <td>False</td>\n",
       "      <td>290</td>\n",
       "      <td>401.0</td>\n",
       "      <td>1.0</td>\n",
       "      <td>0.249377</td>\n",
       "      <td>0.0</td>\n",
       "      <td>0.000000</td>\n",
       "    </tr>\n",
       "    <tr>\n",
       "      <th>...</th>\n",
       "      <td>...</td>\n",
       "      <td>...</td>\n",
       "      <td>...</td>\n",
       "      <td>...</td>\n",
       "      <td>...</td>\n",
       "      <td>...</td>\n",
       "      <td>...</td>\n",
       "    </tr>\n",
       "    <tr>\n",
       "      <th>CACTTCGCAGTACTAC-1_1</th>\n",
       "      <td>False</td>\n",
       "      <td>3244</td>\n",
       "      <td>8059.0</td>\n",
       "      <td>253.0</td>\n",
       "      <td>3.139347</td>\n",
       "      <td>14.0</td>\n",
       "      <td>0.173719</td>\n",
       "    </tr>\n",
       "    <tr>\n",
       "      <th>TAACGACAGATGACCG-1_1</th>\n",
       "      <td>False</td>\n",
       "      <td>3791</td>\n",
       "      <td>8187.0</td>\n",
       "      <td>94.0</td>\n",
       "      <td>1.148162</td>\n",
       "      <td>4.0</td>\n",
       "      <td>0.048858</td>\n",
       "    </tr>\n",
       "    <tr>\n",
       "      <th>TCTATCACAAGGCTTT-1_1</th>\n",
       "      <td>False</td>\n",
       "      <td>3582</td>\n",
       "      <td>8276.0</td>\n",
       "      <td>183.0</td>\n",
       "      <td>2.211213</td>\n",
       "      <td>5.0</td>\n",
       "      <td>0.060416</td>\n",
       "    </tr>\n",
       "    <tr>\n",
       "      <th>CGCATAACATGCCGGT-1_1</th>\n",
       "      <td>False</td>\n",
       "      <td>3745</td>\n",
       "      <td>8617.0</td>\n",
       "      <td>119.0</td>\n",
       "      <td>1.380991</td>\n",
       "      <td>25.0</td>\n",
       "      <td>0.290124</td>\n",
       "    </tr>\n",
       "    <tr>\n",
       "      <th>TAACTTCCAACCACGC-1_1</th>\n",
       "      <td>False</td>\n",
       "      <td>5158</td>\n",
       "      <td>15645.0</td>\n",
       "      <td>221.0</td>\n",
       "      <td>1.412592</td>\n",
       "      <td>211.0</td>\n",
       "      <td>1.348674</td>\n",
       "    </tr>\n",
       "  </tbody>\n",
       "</table>\n",
       "<p>5424 rows × 7 columns</p>\n",
       "</div>"
      ],
      "text/plain": [
       "                      doublet  n_genes_by_counts  total_counts  \\\n",
       "TGGTACAGTTGGTGTT-1_1    False                323         401.0   \n",
       "CAGGGCTTCATGCGGC-1_1    False                330         401.0   \n",
       "CTCAACCGTTTGGGAG-1_1    False                325         401.0   \n",
       "CGAGAAGGTGAACTAA-1_1    False                308         401.0   \n",
       "AGGCATTCATCCGTTC-1_1    False                290         401.0   \n",
       "...                       ...                ...           ...   \n",
       "CACTTCGCAGTACTAC-1_1    False               3244        8059.0   \n",
       "TAACGACAGATGACCG-1_1    False               3791        8187.0   \n",
       "TCTATCACAAGGCTTT-1_1    False               3582        8276.0   \n",
       "CGCATAACATGCCGGT-1_1    False               3745        8617.0   \n",
       "TAACTTCCAACCACGC-1_1    False               5158       15645.0   \n",
       "\n",
       "                      total_counts_mt  pct_counts_mt  total_counts_ribo  \\\n",
       "TGGTACAGTTGGTGTT-1_1              0.0       0.000000                0.0   \n",
       "CAGGGCTTCATGCGGC-1_1              7.0       1.745636                1.0   \n",
       "CTCAACCGTTTGGGAG-1_1              0.0       0.000000                0.0   \n",
       "CGAGAAGGTGAACTAA-1_1              0.0       0.000000                0.0   \n",
       "AGGCATTCATCCGTTC-1_1              1.0       0.249377                0.0   \n",
       "...                               ...            ...                ...   \n",
       "CACTTCGCAGTACTAC-1_1            253.0       3.139347               14.0   \n",
       "TAACGACAGATGACCG-1_1             94.0       1.148162                4.0   \n",
       "TCTATCACAAGGCTTT-1_1            183.0       2.211213                5.0   \n",
       "CGCATAACATGCCGGT-1_1            119.0       1.380991               25.0   \n",
       "TAACTTCCAACCACGC-1_1            221.0       1.412592              211.0   \n",
       "\n",
       "                      pct_counts_ribo  \n",
       "TGGTACAGTTGGTGTT-1_1         0.000000  \n",
       "CAGGGCTTCATGCGGC-1_1         0.249377  \n",
       "CTCAACCGTTTGGGAG-1_1         0.000000  \n",
       "CGAGAAGGTGAACTAA-1_1         0.000000  \n",
       "AGGCATTCATCCGTTC-1_1         0.000000  \n",
       "...                               ...  \n",
       "CACTTCGCAGTACTAC-1_1         0.173719  \n",
       "TAACGACAGATGACCG-1_1         0.048858  \n",
       "TCTATCACAAGGCTTT-1_1         0.060416  \n",
       "CGCATAACATGCCGGT-1_1         0.290124  \n",
       "TAACTTCCAACCACGC-1_1         1.348674  \n",
       "\n",
       "[5424 rows x 7 columns]"
      ]
     },
     "execution_count": 62,
     "metadata": {},
     "output_type": "execute_result"
    }
   ],
   "source": [
    "adata.obs.sort_values('total_counts')"
   ]
  },
  {
   "cell_type": "markdown",
   "metadata": {},
   "source": [
    "Lowest total_counts is 401, it seems as if the authers who published these cell barcodes already processed the data to filter out cells that 400 count or fewer. Thus the data is already processed and will not need to filter it ourselves."
   ]
  },
  {
   "cell_type": "markdown",
   "metadata": {},
   "source": [
    "However, if the data didnt processed or filter out the cell barcodes we would do the following: sc.pp.filter_cells(adata, min_genes=401)"
   ]
  },
  {
   "cell_type": "code",
   "execution_count": 63,
   "metadata": {},
   "outputs": [
    {
     "data": {
      "image/png": "[encoded data removed]",
      "text/plain": [
       "<Figure size 2011.11x500 with 4 Axes>"
      ]
     },
     "metadata": {},
     "output_type": "display_data"
    }
   ],
   "source": [
    "sc.pl.violin(adata, ['n_genes_by_counts', 'total_counts', 'pct_counts_mt', 'pct_counts_ribo'],\n",
    "             jitter=0.4, multi_panel=True)"
   ]
  },
  {
   "cell_type": "markdown",
   "metadata": {},
   "source": [
    "We want to use these QC metrics to eliminate outliers. In 'n_genes_by_counts', if a cell has significantly higher counts of genes than the average, there's a chance that its some artifact, likewise with 'total_counts'. If there is a high mitochondrial percentage, then it could be a sequencing artifact or the cell could have been dying."
   ]
  },
  {
   "cell_type": "markdown",
   "metadata": {},
   "source": [
    "'pct_counts_mt': there is no percent counts above 10 detected.\n",
    "'pct_counts_ribo': there are most percent counts near 0, some at most percent count is 6."
   ]
  },
  {
   "cell_type": "markdown",
   "metadata": {},
   "source": [
    "We will use numpy to filter genes by the 98 percentile of 'value'."
   ]
  },
  {
   "cell_type": "code",
   "execution_count": 64,
   "metadata": {},
   "outputs": [],
   "source": [
    "upper_lim = np.quantile(adata.obs.n_genes_by_counts.values, 0.98)"
   ]
  },
  {
   "cell_type": "code",
   "execution_count": 65,
   "metadata": {},
   "outputs": [
    {
     "data": {
      "text/plain": [
       "2216.24"
      ]
     },
     "execution_count": 65,
     "metadata": {},
     "output_type": "execute_result"
    }
   ],
   "source": [
    "upper_lim # 'value' or the y-axis cutoff for filtering\n",
    "# you can also do \"upper_lim = 3000\""
   ]
  },
  {
   "cell_type": "code",
   "execution_count": 66,
   "metadata": {},
   "outputs": [],
   "source": [
    "adata = adata[adata.obs.n_genes_by_counts < upper_lim]"
   ]
  },
  {
   "cell_type": "code",
   "execution_count": 67,
   "metadata": {},
   "outputs": [
    {
     "data": {
      "text/html": [
       "<div>\n",
       "<style scoped>\n",
       "    .dataframe tbody tr th:only-of-type {\n",
       "        vertical-align: middle;\n",
       "    }\n",
       "\n",
       "    .dataframe tbody tr th {\n",
       "        vertical-align: top;\n",
       "    }\n",
       "\n",
       "    .dataframe thead th {\n",
       "        text-align: right;\n",
       "    }\n",
       "</style>\n",
       "<table border=\"1\" class=\"dataframe\">\n",
       "  <thead>\n",
       "    <tr style=\"text-align: right;\">\n",
       "      <th></th>\n",
       "      <th>doublet</th>\n",
       "      <th>n_genes_by_counts</th>\n",
       "      <th>total_counts</th>\n",
       "      <th>total_counts_mt</th>\n",
       "      <th>pct_counts_mt</th>\n",
       "      <th>total_counts_ribo</th>\n",
       "      <th>pct_counts_ribo</th>\n",
       "    </tr>\n",
       "  </thead>\n",
       "  <tbody>\n",
       "    <tr>\n",
       "      <th>ATACTTCCAAGGTCTT-1_1</th>\n",
       "      <td>False</td>\n",
       "      <td>2122</td>\n",
       "      <td>5252.0</td>\n",
       "      <td>1.0</td>\n",
       "      <td>0.019040</td>\n",
       "      <td>4.0</td>\n",
       "      <td>0.076161</td>\n",
       "    </tr>\n",
       "    <tr>\n",
       "      <th>CCACTTGCAACAGCTT-1_1</th>\n",
       "      <td>False</td>\n",
       "      <td>2213</td>\n",
       "      <td>4735.0</td>\n",
       "      <td>0.0</td>\n",
       "      <td>0.000000</td>\n",
       "      <td>0.0</td>\n",
       "      <td>0.000000</td>\n",
       "    </tr>\n",
       "    <tr>\n",
       "      <th>ATGCATGCAAACGTGG-1_1</th>\n",
       "      <td>False</td>\n",
       "      <td>2191</td>\n",
       "      <td>4747.0</td>\n",
       "      <td>0.0</td>\n",
       "      <td>0.000000</td>\n",
       "      <td>1.0</td>\n",
       "      <td>0.021066</td>\n",
       "    </tr>\n",
       "    <tr>\n",
       "      <th>AGGGCCTGTTGCTTGA-1_1</th>\n",
       "      <td>False</td>\n",
       "      <td>1876</td>\n",
       "      <td>4493.0</td>\n",
       "      <td>2.0</td>\n",
       "      <td>0.044514</td>\n",
       "      <td>2.0</td>\n",
       "      <td>0.044514</td>\n",
       "    </tr>\n",
       "    <tr>\n",
       "      <th>TCCGAAACAGGTACGA-1_1</th>\n",
       "      <td>False</td>\n",
       "      <td>2123</td>\n",
       "      <td>4481.0</td>\n",
       "      <td>18.0</td>\n",
       "      <td>0.401696</td>\n",
       "      <td>4.0</td>\n",
       "      <td>0.089266</td>\n",
       "    </tr>\n",
       "    <tr>\n",
       "      <th>...</th>\n",
       "      <td>...</td>\n",
       "      <td>...</td>\n",
       "      <td>...</td>\n",
       "      <td>...</td>\n",
       "      <td>...</td>\n",
       "      <td>...</td>\n",
       "      <td>...</td>\n",
       "    </tr>\n",
       "    <tr>\n",
       "      <th>CGCCATTGTTTGCCGG-1_1</th>\n",
       "      <td>False</td>\n",
       "      <td>355</td>\n",
       "      <td>410.0</td>\n",
       "      <td>3.0</td>\n",
       "      <td>0.731707</td>\n",
       "      <td>0.0</td>\n",
       "      <td>0.000000</td>\n",
       "    </tr>\n",
       "    <tr>\n",
       "      <th>CACTGGGGTCTACGTA-1_1</th>\n",
       "      <td>False</td>\n",
       "      <td>346</td>\n",
       "      <td>403.0</td>\n",
       "      <td>0.0</td>\n",
       "      <td>0.000000</td>\n",
       "      <td>0.0</td>\n",
       "      <td>0.000000</td>\n",
       "    </tr>\n",
       "    <tr>\n",
       "      <th>CATACTTGTAGAGGAA-1_1</th>\n",
       "      <td>False</td>\n",
       "      <td>360</td>\n",
       "      <td>410.0</td>\n",
       "      <td>2.0</td>\n",
       "      <td>0.487805</td>\n",
       "      <td>0.0</td>\n",
       "      <td>0.000000</td>\n",
       "    </tr>\n",
       "    <tr>\n",
       "      <th>TTTGGTTTCCACGGAC-1_1</th>\n",
       "      <td>False</td>\n",
       "      <td>299</td>\n",
       "      <td>405.0</td>\n",
       "      <td>0.0</td>\n",
       "      <td>0.000000</td>\n",
       "      <td>2.0</td>\n",
       "      <td>0.493827</td>\n",
       "    </tr>\n",
       "    <tr>\n",
       "      <th>ATGCATGAGTCATGAA-1_1</th>\n",
       "      <td>False</td>\n",
       "      <td>351</td>\n",
       "      <td>411.0</td>\n",
       "      <td>0.0</td>\n",
       "      <td>0.000000</td>\n",
       "      <td>0.0</td>\n",
       "      <td>0.000000</td>\n",
       "    </tr>\n",
       "  </tbody>\n",
       "</table>\n",
       "<p>5315 rows × 7 columns</p>\n",
       "</div>"
      ],
      "text/plain": [
       "                      doublet  n_genes_by_counts  total_counts  \\\n",
       "ATACTTCCAAGGTCTT-1_1    False               2122        5252.0   \n",
       "CCACTTGCAACAGCTT-1_1    False               2213        4735.0   \n",
       "ATGCATGCAAACGTGG-1_1    False               2191        4747.0   \n",
       "AGGGCCTGTTGCTTGA-1_1    False               1876        4493.0   \n",
       "TCCGAAACAGGTACGA-1_1    False               2123        4481.0   \n",
       "...                       ...                ...           ...   \n",
       "CGCCATTGTTTGCCGG-1_1    False                355         410.0   \n",
       "CACTGGGGTCTACGTA-1_1    False                346         403.0   \n",
       "CATACTTGTAGAGGAA-1_1    False                360         410.0   \n",
       "TTTGGTTTCCACGGAC-1_1    False                299         405.0   \n",
       "ATGCATGAGTCATGAA-1_1    False                351         411.0   \n",
       "\n",
       "                      total_counts_mt  pct_counts_mt  total_counts_ribo  \\\n",
       "ATACTTCCAAGGTCTT-1_1              1.0       0.019040                4.0   \n",
       "CCACTTGCAACAGCTT-1_1              0.0       0.000000                0.0   \n",
       "ATGCATGCAAACGTGG-1_1              0.0       0.000000                1.0   \n",
       "AGGGCCTGTTGCTTGA-1_1              2.0       0.044514                2.0   \n",
       "TCCGAAACAGGTACGA-1_1             18.0       0.401696                4.0   \n",
       "...                               ...            ...                ...   \n",
       "CGCCATTGTTTGCCGG-1_1              3.0       0.731707                0.0   \n",
       "CACTGGGGTCTACGTA-1_1              0.0       0.000000                0.0   \n",
       "CATACTTGTAGAGGAA-1_1              2.0       0.487805                0.0   \n",
       "TTTGGTTTCCACGGAC-1_1              0.0       0.000000                2.0   \n",
       "ATGCATGAGTCATGAA-1_1              0.0       0.000000                0.0   \n",
       "\n",
       "                      pct_counts_ribo  \n",
       "ATACTTCCAAGGTCTT-1_1         0.076161  \n",
       "CCACTTGCAACAGCTT-1_1         0.000000  \n",
       "ATGCATGCAAACGTGG-1_1         0.021066  \n",
       "AGGGCCTGTTGCTTGA-1_1         0.044514  \n",
       "TCCGAAACAGGTACGA-1_1         0.089266  \n",
       "...                               ...  \n",
       "CGCCATTGTTTGCCGG-1_1         0.000000  \n",
       "CACTGGGGTCTACGTA-1_1         0.000000  \n",
       "CATACTTGTAGAGGAA-1_1         0.000000  \n",
       "TTTGGTTTCCACGGAC-1_1         0.493827  \n",
       "ATGCATGAGTCATGAA-1_1         0.000000  \n",
       "\n",
       "[5315 rows x 7 columns]"
      ]
     },
     "execution_count": 67,
     "metadata": {},
     "output_type": "execute_result"
    }
   ],
   "source": [
    "adata.obs # n_genes_by_counts should all be less than 2216.24"
   ]
  },
  {
   "cell_type": "code",
   "execution_count": 68,
   "metadata": {},
   "outputs": [],
   "source": [
    "adata = adata[adata.obs.pct_counts_mt < 20] # 20 percent cutoff, will not get rid of any mitochondrial cells but good practice"
   ]
  },
  {
   "cell_type": "code",
   "execution_count": 69,
   "metadata": {},
   "outputs": [],
   "source": [
    "adata = adata[adata.obs.pct_counts_ribo < 2]"
   ]
  },
  {
   "cell_type": "code",
   "execution_count": 70,
   "metadata": {},
   "outputs": [
    {
     "data": {
      "text/plain": [
       "View of AnnData object with n_obs × n_vars = 5300 × 23875\n",
       "    obs: 'doublet', 'n_genes_by_counts', 'total_counts', 'total_counts_mt', 'pct_counts_mt', 'total_counts_ribo', 'pct_counts_ribo'\n",
       "    var: 'mt', 'ribo', 'n_cells_by_counts', 'mean_counts', 'pct_dropout_by_counts', 'total_counts', 'n_cells'"
      ]
     },
     "execution_count": 70,
     "metadata": {},
     "output_type": "execute_result"
    }
   ],
   "source": [
    "adata"
   ]
  },
  {
   "cell_type": "markdown",
   "metadata": {},
   "source": [
    "## Normalization"
   ]
  },
  {
   "cell_type": "markdown",
   "metadata": {},
   "source": [
    "In single-cell RNA sequencing, there is alot of variation between cells, even between the same cell type due to sequencing biases, etc. Normaliztion will help compare cells and compare genes appropriately without the wide variations."
   ]
  },
  {
   "cell_type": "code",
   "execution_count": 72,
   "metadata": {},
   "outputs": [
    {
     "data": {
      "text/plain": [
       "array([5250., 4735., 4745., ...,  410.,  405.,  410.], dtype=float32)"
      ]
     },
     "execution_count": 72,
     "metadata": {},
     "output_type": "execute_result"
    }
   ],
   "source": [
    "adata.X.sum(axis=1) #total counts of cells, we need to normalize the counts for each cells so that their total counts adds up to the same value."
   ]
  },
  {
   "cell_type": "code",
   "execution_count": 73,
   "metadata": {},
   "outputs": [
    {
     "name": "stderr",
     "output_type": "stream",
     "text": [
      "c:\\Users\\agarc\\anaconda3\\Lib\\site-packages\\scanpy\\preprocessing\\_normalization.py:207: UserWarning: Received a view of an AnnData. Making a copy.\n",
      "  view_to_actual(adata)\n"
     ]
    }
   ],
   "source": [
    "sc.pp.normalize_total(adata, target_sum=1e4) # normalize every cell to 10,000 UMI"
   ]
  },
  {
   "cell_type": "code",
   "execution_count": 74,
   "metadata": {},
   "outputs": [
    {
     "data": {
      "text/plain": [
       "array([10000.   ,  9999.999, 10000.   , ..., 10000.   , 10000.   ,\n",
       "       10000.   ], dtype=float32)"
      ]
     },
     "execution_count": 74,
     "metadata": {},
     "output_type": "execute_result"
    }
   ],
   "source": [
    "adata.X.sum(axis=1) # each value (cell) got modified based on the starting number of counts for that cell."
   ]
  },
  {
   "cell_type": "code",
   "execution_count": 75,
   "metadata": {},
   "outputs": [],
   "source": [
    "sc.pp.log1p(adata) #change to log counts"
   ]
  },
  {
   "cell_type": "code",
   "execution_count": 76,
   "metadata": {},
   "outputs": [
    {
     "data": {
      "text/plain": [
       "array([2858.1602, 3248.9336, 3184.8896, ..., 1191.2706, 1022.7511,\n",
       "       1162.8784], dtype=float32)"
      ]
     },
     "execution_count": 76,
     "metadata": {},
     "output_type": "execute_result"
    }
   ],
   "source": [
    "adata.X.sum(axis=1)"
   ]
  },
  {
   "cell_type": "markdown",
   "metadata": {},
   "source": [
    "We will now need to freeze the data as it is now before we begin filtering based on variable genes and regressing and scaling out data."
   ]
  },
  {
   "cell_type": "code",
   "execution_count": 77,
   "metadata": {},
   "outputs": [],
   "source": [
    "adata.raw = adata"
   ]
  },
  {
   "cell_type": "markdown",
   "metadata": {},
   "source": [
    "## Clustering"
   ]
  },
  {
   "cell_type": "code",
   "execution_count": 78,
   "metadata": {},
   "outputs": [],
   "source": [
    "sc.pp.highly_variable_genes(adata, n_top_genes=2000)"
   ]
  },
  {
   "cell_type": "code",
   "execution_count": 79,
   "metadata": {},
   "outputs": [
    {
     "data": {
      "text/html": [
       "<div>\n",
       "<style scoped>\n",
       "    .dataframe tbody tr th:only-of-type {\n",
       "        vertical-align: middle;\n",
       "    }\n",
       "\n",
       "    .dataframe tbody tr th {\n",
       "        vertical-align: top;\n",
       "    }\n",
       "\n",
       "    .dataframe thead th {\n",
       "        text-align: right;\n",
       "    }\n",
       "</style>\n",
       "<table border=\"1\" class=\"dataframe\">\n",
       "  <thead>\n",
       "    <tr style=\"text-align: right;\">\n",
       "      <th></th>\n",
       "      <th>mt</th>\n",
       "      <th>ribo</th>\n",
       "      <th>n_cells_by_counts</th>\n",
       "      <th>mean_counts</th>\n",
       "      <th>pct_dropout_by_counts</th>\n",
       "      <th>total_counts</th>\n",
       "      <th>n_cells</th>\n",
       "      <th>highly_variable</th>\n",
       "      <th>means</th>\n",
       "      <th>dispersions</th>\n",
       "      <th>dispersions_norm</th>\n",
       "    </tr>\n",
       "  </thead>\n",
       "  <tbody>\n",
       "    <tr>\n",
       "      <th>AL627309.1</th>\n",
       "      <td>False</td>\n",
       "      <td>False</td>\n",
       "      <td>6</td>\n",
       "      <td>0.001106</td>\n",
       "      <td>99.889381</td>\n",
       "      <td>6.0</td>\n",
       "      <td>6</td>\n",
       "      <td>True</td>\n",
       "      <td>0.011534</td>\n",
       "      <td>2.764062</td>\n",
       "      <td>1.206120</td>\n",
       "    </tr>\n",
       "    <tr>\n",
       "      <th>AL627309.5</th>\n",
       "      <td>False</td>\n",
       "      <td>False</td>\n",
       "      <td>22</td>\n",
       "      <td>0.004056</td>\n",
       "      <td>99.594395</td>\n",
       "      <td>22.0</td>\n",
       "      <td>22</td>\n",
       "      <td>False</td>\n",
       "      <td>0.028054</td>\n",
       "      <td>2.360867</td>\n",
       "      <td>-0.051543</td>\n",
       "    </tr>\n",
       "    <tr>\n",
       "      <th>LINC01409</th>\n",
       "      <td>False</td>\n",
       "      <td>False</td>\n",
       "      <td>211</td>\n",
       "      <td>0.042220</td>\n",
       "      <td>96.109882</td>\n",
       "      <td>229.0</td>\n",
       "      <td>211</td>\n",
       "      <td>False</td>\n",
       "      <td>0.263704</td>\n",
       "      <td>2.358795</td>\n",
       "      <td>-0.058007</td>\n",
       "    </tr>\n",
       "    <tr>\n",
       "      <th>FAM87B</th>\n",
       "      <td>False</td>\n",
       "      <td>False</td>\n",
       "      <td>5</td>\n",
       "      <td>0.000922</td>\n",
       "      <td>99.907817</td>\n",
       "      <td>5.0</td>\n",
       "      <td>5</td>\n",
       "      <td>False</td>\n",
       "      <td>0.006715</td>\n",
       "      <td>1.993579</td>\n",
       "      <td>-1.197202</td>\n",
       "    </tr>\n",
       "    <tr>\n",
       "      <th>LINC01128</th>\n",
       "      <td>False</td>\n",
       "      <td>False</td>\n",
       "      <td>64</td>\n",
       "      <td>0.012353</td>\n",
       "      <td>98.820059</td>\n",
       "      <td>67.0</td>\n",
       "      <td>64</td>\n",
       "      <td>False</td>\n",
       "      <td>0.110733</td>\n",
       "      <td>2.529873</td>\n",
       "      <td>0.475629</td>\n",
       "    </tr>\n",
       "    <tr>\n",
       "      <th>...</th>\n",
       "      <td>...</td>\n",
       "      <td>...</td>\n",
       "      <td>...</td>\n",
       "      <td>...</td>\n",
       "      <td>...</td>\n",
       "      <td>...</td>\n",
       "      <td>...</td>\n",
       "      <td>...</td>\n",
       "      <td>...</td>\n",
       "      <td>...</td>\n",
       "      <td>...</td>\n",
       "    </tr>\n",
       "    <tr>\n",
       "      <th>AL354822.1</th>\n",
       "      <td>False</td>\n",
       "      <td>False</td>\n",
       "      <td>114</td>\n",
       "      <td>0.021386</td>\n",
       "      <td>97.898230</td>\n",
       "      <td>116.0</td>\n",
       "      <td>114</td>\n",
       "      <td>False</td>\n",
       "      <td>0.158559</td>\n",
       "      <td>2.427595</td>\n",
       "      <td>0.156598</td>\n",
       "    </tr>\n",
       "    <tr>\n",
       "      <th>AL592183.1</th>\n",
       "      <td>False</td>\n",
       "      <td>False</td>\n",
       "      <td>800</td>\n",
       "      <td>0.172382</td>\n",
       "      <td>85.250737</td>\n",
       "      <td>935.0</td>\n",
       "      <td>800</td>\n",
       "      <td>False</td>\n",
       "      <td>0.870416</td>\n",
       "      <td>2.537493</td>\n",
       "      <td>-0.379585</td>\n",
       "    </tr>\n",
       "    <tr>\n",
       "      <th>AC240274.1</th>\n",
       "      <td>False</td>\n",
       "      <td>False</td>\n",
       "      <td>131</td>\n",
       "      <td>0.024889</td>\n",
       "      <td>97.584808</td>\n",
       "      <td>135.0</td>\n",
       "      <td>131</td>\n",
       "      <td>False</td>\n",
       "      <td>0.150559</td>\n",
       "      <td>2.332996</td>\n",
       "      <td>-0.138479</td>\n",
       "    </tr>\n",
       "    <tr>\n",
       "      <th>AC007325.4</th>\n",
       "      <td>False</td>\n",
       "      <td>False</td>\n",
       "      <td>4</td>\n",
       "      <td>0.000737</td>\n",
       "      <td>99.926254</td>\n",
       "      <td>4.0</td>\n",
       "      <td>4</td>\n",
       "      <td>False</td>\n",
       "      <td>0.002653</td>\n",
       "      <td>1.662094</td>\n",
       "      <td>-2.231182</td>\n",
       "    </tr>\n",
       "    <tr>\n",
       "      <th>AC007325.2</th>\n",
       "      <td>False</td>\n",
       "      <td>False</td>\n",
       "      <td>6</td>\n",
       "      <td>0.001106</td>\n",
       "      <td>99.889381</td>\n",
       "      <td>6.0</td>\n",
       "      <td>6</td>\n",
       "      <td>False</td>\n",
       "      <td>0.006638</td>\n",
       "      <td>1.995191</td>\n",
       "      <td>-1.192173</td>\n",
       "    </tr>\n",
       "  </tbody>\n",
       "</table>\n",
       "<p>23875 rows × 11 columns</p>\n",
       "</div>"
      ],
      "text/plain": [
       "               mt   ribo  n_cells_by_counts  mean_counts  \\\n",
       "AL627309.1  False  False                  6     0.001106   \n",
       "AL627309.5  False  False                 22     0.004056   \n",
       "LINC01409   False  False                211     0.042220   \n",
       "FAM87B      False  False                  5     0.000922   \n",
       "LINC01128   False  False                 64     0.012353   \n",
       "...           ...    ...                ...          ...   \n",
       "AL354822.1  False  False                114     0.021386   \n",
       "AL592183.1  False  False                800     0.172382   \n",
       "AC240274.1  False  False                131     0.024889   \n",
       "AC007325.4  False  False                  4     0.000737   \n",
       "AC007325.2  False  False                  6     0.001106   \n",
       "\n",
       "            pct_dropout_by_counts  total_counts  n_cells  highly_variable  \\\n",
       "AL627309.1              99.889381           6.0        6             True   \n",
       "AL627309.5              99.594395          22.0       22            False   \n",
       "LINC01409               96.109882         229.0      211            False   \n",
       "FAM87B                  99.907817           5.0        5            False   \n",
       "LINC01128               98.820059          67.0       64            False   \n",
       "...                           ...           ...      ...              ...   \n",
       "AL354822.1              97.898230         116.0      114            False   \n",
       "AL592183.1              85.250737         935.0      800            False   \n",
       "AC240274.1              97.584808         135.0      131            False   \n",
       "AC007325.4              99.926254           4.0        4            False   \n",
       "AC007325.2              99.889381           6.0        6            False   \n",
       "\n",
       "               means  dispersions  dispersions_norm  \n",
       "AL627309.1  0.011534     2.764062          1.206120  \n",
       "AL627309.5  0.028054     2.360867         -0.051543  \n",
       "LINC01409   0.263704     2.358795         -0.058007  \n",
       "FAM87B      0.006715     1.993579         -1.197202  \n",
       "LINC01128   0.110733     2.529873          0.475629  \n",
       "...              ...          ...               ...  \n",
       "AL354822.1  0.158559     2.427595          0.156598  \n",
       "AL592183.1  0.870416     2.537493         -0.379585  \n",
       "AC240274.1  0.150559     2.332996         -0.138479  \n",
       "AC007325.4  0.002653     1.662094         -2.231182  \n",
       "AC007325.2  0.006638     1.995191         -1.192173  \n",
       "\n",
       "[23875 rows x 11 columns]"
      ]
     },
     "execution_count": 79,
     "metadata": {},
     "output_type": "execute_result"
    }
   ],
   "source": [
    "adata.var"
   ]
  },
  {
   "cell_type": "code",
   "execution_count": 80,
   "metadata": {},
   "outputs": [
    {
     "data": {
      "image/png": "[encoded data removed]",
      "text/plain": [
       "<Figure size 1280x480 with 2 Axes>"
      ]
     },
     "metadata": {},
     "output_type": "display_data"
    }
   ],
   "source": [
    "sc.pl.highly_variable_genes(adata)"
   ]
  },
  {
   "cell_type": "code",
   "execution_count": 81,
   "metadata": {},
   "outputs": [],
   "source": [
    "# Filter out the non-highly variable genes\n",
    "adata = adata[:, adata.var.highly_variable]"
   ]
  },
  {
   "cell_type": "code",
   "execution_count": 82,
   "metadata": {},
   "outputs": [
    {
     "data": {
      "text/plain": [
       "View of AnnData object with n_obs × n_vars = 5300 × 2000\n",
       "    obs: 'doublet', 'n_genes_by_counts', 'total_counts', 'total_counts_mt', 'pct_counts_mt', 'total_counts_ribo', 'pct_counts_ribo'\n",
       "    var: 'mt', 'ribo', 'n_cells_by_counts', 'mean_counts', 'pct_dropout_by_counts', 'total_counts', 'n_cells', 'highly_variable', 'means', 'dispersions', 'dispersions_norm'\n",
       "    uns: 'log1p', 'hvg'"
      ]
     },
     "execution_count": 82,
     "metadata": {},
     "output_type": "execute_result"
    }
   ],
   "source": [
    "adata #we now have only the top 2000 genes that are highly variable"
   ]
  },
  {
   "cell_type": "code",
   "execution_count": 83,
   "metadata": {},
   "outputs": [
    {
     "name": "stderr",
     "output_type": "stream",
     "text": [
      "c:\\Users\\agarc\\anaconda3\\Lib\\site-packages\\scanpy\\preprocessing\\_simple.py:657: UserWarning: Received a view of an AnnData. Making a copy.\n",
      "  view_to_actual(adata)\n"
     ]
    }
   ],
   "source": [
    "# we're going to regress out the differences that arise due to the total number of counts mitochondrial counts and the ribosomal counts\n",
    "#  this will filter out some data that are due to processing and just sample quality, sequencing artifact, etc.\n",
    "sc.pp.regress_out(adata, ['total_counts', 'pct_counts_mt', 'pct_counts_ribo'])"
   ]
  },
  {
   "cell_type": "code",
   "execution_count": 84,
   "metadata": {},
   "outputs": [],
   "source": [
    "#normalize each gene to the unit variance of that gene\n",
    "sc.pp.scale(adata, max_value=10)"
   ]
  },
  {
   "cell_type": "code",
   "execution_count": 85,
   "metadata": {},
   "outputs": [],
   "source": [
    "#Run component analysis to further reduce the dimensions of the data\n",
    "sc.tl.pca(adata, svd_solver='arpack') # this calculates 50 pcs"
   ]
  },
  {
   "cell_type": "code",
   "execution_count": 86,
   "metadata": {},
   "outputs": [
    {
     "data": {
      "image/png": "[encoded data removed]",
      "text/plain": [
       "<Figure size 640x480 with 1 Axes>"
      ]
     },
     "metadata": {},
     "output_type": "display_data"
    }
   ],
   "source": [
    "sc.pl.pca_variance_ratio(adata, log=True, n_pcs=50)"
   ]
  },
  {
   "cell_type": "markdown",
   "metadata": {},
   "source": [
    "Plot of how much these pcs contribute. \n",
    "We want to look for where the data points tapers off to where values dont make a y-value difference anymore as you increase pcs value; this is at x = 30"
   ]
  },
  {
   "cell_type": "code",
   "execution_count": 87,
   "metadata": {},
   "outputs": [],
   "source": [
    "sc.pp.neighbors(adata, n_pcs= 30)"
   ]
  },
  {
   "cell_type": "code",
   "execution_count": 93,
   "metadata": {},
   "outputs": [],
   "source": [
    "sc.tl.umap(adata)"
   ]
  },
  {
   "cell_type": "code",
   "execution_count": 94,
   "metadata": {},
   "outputs": [
    {
     "data": {
      "image/png": "[encoded data removed]",
      "text/plain": [
       "<Figure size 640x480 with 1 Axes>"
      ]
     },
     "metadata": {},
     "output_type": "display_data"
    }
   ],
   "source": [
    "sc.pl.umap(adata)"
   ]
  },
  {
   "cell_type": "markdown",
   "metadata": {},
   "source": [
    "This map are single cells but they haven't been assigned clusters yet."
   ]
  },
  {
   "cell_type": "code",
   "execution_count": 95,
   "metadata": {},
   "outputs": [
    {
     "name": "stdout",
     "output_type": "stream",
     "text": [
      "Collecting leidenalg\n",
      "  Downloading leidenalg-0.10.2-cp38-abi3-win_amd64.whl.metadata (10 kB)\n",
      "Collecting igraph<0.12,>=0.10.0 (from leidenalg)\n",
      "  Downloading igraph-0.11.6-cp39-abi3-win_amd64.whl.metadata (3.9 kB)\n",
      "Collecting texttable>=1.6.2 (from igraph<0.12,>=0.10.0->leidenalg)\n",
      "  Downloading texttable-1.7.0-py2.py3-none-any.whl.metadata (9.8 kB)\n",
      "Downloading leidenalg-0.10.2-cp38-abi3-win_amd64.whl (1.6 MB)\n",
      "   ---------------------------------------- 0.0/1.6 MB ? eta -:--:--\n",
      "   - -------------------------------------- 0.0/1.6 MB 2.0 MB/s eta 0:00:01\n",
      "   ----------- ---------------------------- 0.5/1.6 MB 5.9 MB/s eta 0:00:01\n",
      "   --------------------------- ------------ 1.1/1.6 MB 8.7 MB/s eta 0:00:01\n",
      "   ---------------------------------------  1.6/1.6 MB 11.1 MB/s eta 0:00:01\n",
      "   ---------------------------------------- 1.6/1.6 MB 9.1 MB/s eta 0:00:00\n",
      "Downloading igraph-0.11.6-cp39-abi3-win_amd64.whl (2.0 MB)\n",
      "   ---------------------------------------- 0.0/2.0 MB ? eta -:--:--\n",
      "   ----------------- ---------------------- 0.9/2.0 MB 18.5 MB/s eta 0:00:01\n",
      "   ---------------------------------------  2.0/2.0 MB 20.7 MB/s eta 0:00:01\n",
      "   ---------------------------------------- 2.0/2.0 MB 15.6 MB/s eta 0:00:00\n",
      "Downloading texttable-1.7.0-py2.py3-none-any.whl (10 kB)\n",
      "Installing collected packages: texttable, igraph, leidenalg\n",
      "Successfully installed igraph-0.11.6 leidenalg-0.10.2 texttable-1.7.0\n"
     ]
    }
   ],
   "source": [
    "# leiden algorithm\n",
    "!pip install leidenalg"
   ]
  },
  {
   "cell_type": "code",
   "execution_count": 96,
   "metadata": {},
   "outputs": [
    {
     "name": "stderr",
     "output_type": "stream",
     "text": [
      "C:\\Users\\agarc\\AppData\\Local\\Temp\\ipykernel_21788\\3246266323.py:1: FutureWarning: In the future, the default backend for leiden will be igraph instead of leidenalg.\n",
      "\n",
      " To achieve the future defaults please pass: flavor=\"igraph\" and n_iterations=2.  directed must also be False to work with igraph's implementation.\n",
      "  sc.tl.leiden(adata, resolution = 0.5)\n"
     ]
    }
   ],
   "source": [
    "sc.tl.leiden(adata, resolution = 0.5)"
   ]
  },
  {
   "cell_type": "code",
   "execution_count": 97,
   "metadata": {},
   "outputs": [
    {
     "data": {
      "text/html": [
       "<div>\n",
       "<style scoped>\n",
       "    .dataframe tbody tr th:only-of-type {\n",
       "        vertical-align: middle;\n",
       "    }\n",
       "\n",
       "    .dataframe tbody tr th {\n",
       "        vertical-align: top;\n",
       "    }\n",
       "\n",
       "    .dataframe thead th {\n",
       "        text-align: right;\n",
       "    }\n",
       "</style>\n",
       "<table border=\"1\" class=\"dataframe\">\n",
       "  <thead>\n",
       "    <tr style=\"text-align: right;\">\n",
       "      <th></th>\n",
       "      <th>doublet</th>\n",
       "      <th>n_genes_by_counts</th>\n",
       "      <th>total_counts</th>\n",
       "      <th>total_counts_mt</th>\n",
       "      <th>pct_counts_mt</th>\n",
       "      <th>total_counts_ribo</th>\n",
       "      <th>pct_counts_ribo</th>\n",
       "      <th>leiden</th>\n",
       "    </tr>\n",
       "  </thead>\n",
       "  <tbody>\n",
       "    <tr>\n",
       "      <th>ATACTTCCAAGGTCTT-1_1</th>\n",
       "      <td>False</td>\n",
       "      <td>2122</td>\n",
       "      <td>5252.0</td>\n",
       "      <td>1.0</td>\n",
       "      <td>0.019040</td>\n",
       "      <td>4.0</td>\n",
       "      <td>0.076161</td>\n",
       "      <td>2</td>\n",
       "    </tr>\n",
       "    <tr>\n",
       "      <th>CCACTTGCAACAGCTT-1_1</th>\n",
       "      <td>False</td>\n",
       "      <td>2213</td>\n",
       "      <td>4735.0</td>\n",
       "      <td>0.0</td>\n",
       "      <td>0.000000</td>\n",
       "      <td>0.0</td>\n",
       "      <td>0.000000</td>\n",
       "      <td>3</td>\n",
       "    </tr>\n",
       "    <tr>\n",
       "      <th>ATGCATGCAAACGTGG-1_1</th>\n",
       "      <td>False</td>\n",
       "      <td>2191</td>\n",
       "      <td>4747.0</td>\n",
       "      <td>0.0</td>\n",
       "      <td>0.000000</td>\n",
       "      <td>1.0</td>\n",
       "      <td>0.021066</td>\n",
       "      <td>2</td>\n",
       "    </tr>\n",
       "    <tr>\n",
       "      <th>AGGGCCTGTTGCTTGA-1_1</th>\n",
       "      <td>False</td>\n",
       "      <td>1876</td>\n",
       "      <td>4493.0</td>\n",
       "      <td>2.0</td>\n",
       "      <td>0.044514</td>\n",
       "      <td>2.0</td>\n",
       "      <td>0.044514</td>\n",
       "      <td>2</td>\n",
       "    </tr>\n",
       "    <tr>\n",
       "      <th>TCCGAAACAGGTACGA-1_1</th>\n",
       "      <td>False</td>\n",
       "      <td>2123</td>\n",
       "      <td>4481.0</td>\n",
       "      <td>18.0</td>\n",
       "      <td>0.401696</td>\n",
       "      <td>4.0</td>\n",
       "      <td>0.089266</td>\n",
       "      <td>9</td>\n",
       "    </tr>\n",
       "    <tr>\n",
       "      <th>...</th>\n",
       "      <td>...</td>\n",
       "      <td>...</td>\n",
       "      <td>...</td>\n",
       "      <td>...</td>\n",
       "      <td>...</td>\n",
       "      <td>...</td>\n",
       "      <td>...</td>\n",
       "      <td>...</td>\n",
       "    </tr>\n",
       "    <tr>\n",
       "      <th>CGCCATTGTTTGCCGG-1_1</th>\n",
       "      <td>False</td>\n",
       "      <td>355</td>\n",
       "      <td>410.0</td>\n",
       "      <td>3.0</td>\n",
       "      <td>0.731707</td>\n",
       "      <td>0.0</td>\n",
       "      <td>0.000000</td>\n",
       "      <td>7</td>\n",
       "    </tr>\n",
       "    <tr>\n",
       "      <th>CACTGGGGTCTACGTA-1_1</th>\n",
       "      <td>False</td>\n",
       "      <td>346</td>\n",
       "      <td>403.0</td>\n",
       "      <td>0.0</td>\n",
       "      <td>0.000000</td>\n",
       "      <td>0.0</td>\n",
       "      <td>0.000000</td>\n",
       "      <td>1</td>\n",
       "    </tr>\n",
       "    <tr>\n",
       "      <th>CATACTTGTAGAGGAA-1_1</th>\n",
       "      <td>False</td>\n",
       "      <td>360</td>\n",
       "      <td>410.0</td>\n",
       "      <td>2.0</td>\n",
       "      <td>0.487805</td>\n",
       "      <td>0.0</td>\n",
       "      <td>0.000000</td>\n",
       "      <td>0</td>\n",
       "    </tr>\n",
       "    <tr>\n",
       "      <th>TTTGGTTTCCACGGAC-1_1</th>\n",
       "      <td>False</td>\n",
       "      <td>299</td>\n",
       "      <td>405.0</td>\n",
       "      <td>0.0</td>\n",
       "      <td>0.000000</td>\n",
       "      <td>2.0</td>\n",
       "      <td>0.493827</td>\n",
       "      <td>5</td>\n",
       "    </tr>\n",
       "    <tr>\n",
       "      <th>ATGCATGAGTCATGAA-1_1</th>\n",
       "      <td>False</td>\n",
       "      <td>351</td>\n",
       "      <td>411.0</td>\n",
       "      <td>0.0</td>\n",
       "      <td>0.000000</td>\n",
       "      <td>0.0</td>\n",
       "      <td>0.000000</td>\n",
       "      <td>1</td>\n",
       "    </tr>\n",
       "  </tbody>\n",
       "</table>\n",
       "<p>5300 rows × 8 columns</p>\n",
       "</div>"
      ],
      "text/plain": [
       "                      doublet  n_genes_by_counts  total_counts  \\\n",
       "ATACTTCCAAGGTCTT-1_1    False               2122        5252.0   \n",
       "CCACTTGCAACAGCTT-1_1    False               2213        4735.0   \n",
       "ATGCATGCAAACGTGG-1_1    False               2191        4747.0   \n",
       "AGGGCCTGTTGCTTGA-1_1    False               1876        4493.0   \n",
       "TCCGAAACAGGTACGA-1_1    False               2123        4481.0   \n",
       "...                       ...                ...           ...   \n",
       "CGCCATTGTTTGCCGG-1_1    False                355         410.0   \n",
       "CACTGGGGTCTACGTA-1_1    False                346         403.0   \n",
       "CATACTTGTAGAGGAA-1_1    False                360         410.0   \n",
       "TTTGGTTTCCACGGAC-1_1    False                299         405.0   \n",
       "ATGCATGAGTCATGAA-1_1    False                351         411.0   \n",
       "\n",
       "                      total_counts_mt  pct_counts_mt  total_counts_ribo  \\\n",
       "ATACTTCCAAGGTCTT-1_1              1.0       0.019040                4.0   \n",
       "CCACTTGCAACAGCTT-1_1              0.0       0.000000                0.0   \n",
       "ATGCATGCAAACGTGG-1_1              0.0       0.000000                1.0   \n",
       "AGGGCCTGTTGCTTGA-1_1              2.0       0.044514                2.0   \n",
       "TCCGAAACAGGTACGA-1_1             18.0       0.401696                4.0   \n",
       "...                               ...            ...                ...   \n",
       "CGCCATTGTTTGCCGG-1_1              3.0       0.731707                0.0   \n",
       "CACTGGGGTCTACGTA-1_1              0.0       0.000000                0.0   \n",
       "CATACTTGTAGAGGAA-1_1              2.0       0.487805                0.0   \n",
       "TTTGGTTTCCACGGAC-1_1              0.0       0.000000                2.0   \n",
       "ATGCATGAGTCATGAA-1_1              0.0       0.000000                0.0   \n",
       "\n",
       "                      pct_counts_ribo leiden  \n",
       "ATACTTCCAAGGTCTT-1_1         0.076161      2  \n",
       "CCACTTGCAACAGCTT-1_1         0.000000      3  \n",
       "ATGCATGCAAACGTGG-1_1         0.021066      2  \n",
       "AGGGCCTGTTGCTTGA-1_1         0.044514      2  \n",
       "TCCGAAACAGGTACGA-1_1         0.089266      9  \n",
       "...                               ...    ...  \n",
       "CGCCATTGTTTGCCGG-1_1         0.000000      7  \n",
       "CACTGGGGTCTACGTA-1_1         0.000000      1  \n",
       "CATACTTGTAGAGGAA-1_1         0.000000      0  \n",
       "TTTGGTTTCCACGGAC-1_1         0.493827      5  \n",
       "ATGCATGAGTCATGAA-1_1         0.000000      1  \n",
       "\n",
       "[5300 rows x 8 columns]"
      ]
     },
     "execution_count": 97,
     "metadata": {},
     "output_type": "execute_result"
    }
   ],
   "source": [
    "adata.obs"
   ]
  },
  {
   "cell_type": "code",
   "execution_count": 98,
   "metadata": {},
   "outputs": [
    {
     "data": {
      "image/png": "[encoded data removed]",
      "text/plain": [
       "<Figure size 640x480 with 1 Axes>"
      ]
     },
     "metadata": {},
     "output_type": "display_data"
    }
   ],
   "source": [
    "sc.pl.umap(adata, color = ['leiden'])"
   ]
  },
  {
   "cell_type": "markdown",
   "metadata": {},
   "source": [
    "We have now plotted our single cells and labeled them by their clusters using the leiden algorithm."
   ]
  },
  {
   "cell_type": "markdown",
   "metadata": {},
   "source": [
    "## Integration"
   ]
  },
  {
   "cell_type": "markdown",
   "metadata": {},
   "source": [
    "Only necessary if you are runing an analysis with multiple samples. The experiment sampled 19 COVID-19 patients and 7 control patients. There are a total of 26 samples in this analysis, thus, integration is necessary."
   ]
  },
  {
   "cell_type": "markdown",
   "metadata": {},
   "source": [
    "We are essentially gonna now do the same thing as we did for (1) loading the data, (2) doublet removal, (3) preprocessing, and (4) Clustering.\n",
    "However, we will do this for all samples, to make this more efficient, we made this into a function and have the function iterate through each sample file."
   ]
  },
  {
   "cell_type": "code",
   "execution_count": 20,
   "metadata": {},
   "outputs": [],
   "source": [
    "import scanpy as sc\n",
    "import scvi\n",
    "import pandas as pd\n",
    "import numpy as np\n",
    "\n",
    "def pp(csv_path):\n",
    "    adata = sc.read_csv(csv_path).T\n",
    "    sc.pp.filter_genes(adata, min_cells = 10)\n",
    "    sc.pp.highly_variable_genes(adata, n_top_genes = 2000, subset = True, flavor = 'seurat_v3')\n",
    "    scvi.model.SCVI.setup_anndata(adata)\n",
    "    vae = scvi.model.SCVI(adata)\n",
    "    vae.train()\n",
    "    solo = scvi.external.SOLO.from_scvi_model(vae)\n",
    "    solo.train()\n",
    "    df = solo.predict()\n",
    "    df['prediction'] = solo.predict(soft = False)\n",
    "    df.index = df.index.map(lambda x: x[:-2])\n",
    "    df['dif'] = df.doublet - df.singlet\n",
    "    doublets = df[(df.prediction == 'doublet') & (df.dif > 0.25)]\n",
    "    \n",
    "    adata = sc.read_csv(csv_path).T\n",
    "    adata.obs['Sample'] = csv_path.split('_')[2] #'raw_counts/<sample_identifier>_raw_counts.csv'\n",
    "    \n",
    "    adata.obs['doublet'] = adata.obs.index.isin(doublets.index)\n",
    "    adata = adata[~adata.obs.doublet]\n",
    "    \n",
    "    \n",
    "    sc.pp.filter_cells(adata, min_genes=200) #get rid of cells with fewer than 200 genes\n",
    "    #sc.pp.filter_genes(adata, min_cells=3) #get rid of genes that are found in fewer than 3 cells\n",
    "    adata.var['mt'] = adata.var_names.str.startswith('mt-')  # annotate the group of mitochondrial genes as 'mt'\n",
    "    \n",
    "    ribo_url = \"http://software.broadinstitute.org/gsea/msigdb/download_geneset.jsp?geneSetName=KEGG_RIBOSOME&fileType=txt\"\n",
    "    ribo_genes = pd.read_table(ribo_url, skiprows=2, header=None)\n",
    "    \n",
    "    adata.var['ribo'] = adata.var_names.isin(ribo_genes[0].values)\n",
    "    sc.pp.calculate_qc_metrics(adata, qc_vars=['mt', 'ribo'], percent_top=None, log1p=False, inplace=True)\n",
    "    upper_lim = np.quantile(adata.obs.n_genes_by_counts.values, .98)\n",
    "    adata = adata[adata.obs.n_genes_by_counts < upper_lim]\n",
    "    adata = adata[adata.obs.pct_counts_mt < 20]\n",
    "    adata = adata[adata.obs.pct_counts_ribo < 2]\n",
    "\n",
    "    return adata"
   ]
  },
  {
   "cell_type": "code",
   "execution_count": 21,
   "metadata": {},
   "outputs": [],
   "source": [
    "import os"
   ]
  },
  {
   "cell_type": "code",
   "execution_count": 22,
   "metadata": {},
   "outputs": [
    {
     "data": {
      "text/plain": [
       "['GSM5226574_C51ctr_raw_counts.csv.gz',\n",
       " 'GSM5226575_C52ctr_raw_counts.csv.gz',\n",
       " 'GSM5226576_C53ctr_raw_counts.csv.gz',\n",
       " 'GSM5226577_C54ctr_raw_counts.csv.gz',\n",
       " 'GSM5226578_C55ctr_raw_counts.csv.gz',\n",
       " 'GSM5226579_C56ctr_raw_counts.csv.gz',\n",
       " 'GSM5226580_C57ctr_raw_counts.csv.gz',\n",
       " 'GSM5226581_L01cov_raw_counts.csv.gz',\n",
       " 'GSM5226582_L03cov_raw_counts.csv.gz',\n",
       " 'GSM5226583_L04cov_raw_counts.csv.gz',\n",
       " 'GSM5226585_L05cov_raw_counts.csv.gz',\n",
       " 'GSM5226586_L06cov_raw_counts.csv.gz',\n",
       " 'GSM5226587_L07cov_raw_counts.csv.gz',\n",
       " 'GSM5226588_L08cov_raw_counts.csv.gz',\n",
       " 'GSM5226589_L09cov_raw_counts.csv.gz',\n",
       " 'GSM5226590_L10cov_raw_counts.csv.gz',\n",
       " 'GSM5226591_L11cov_raw_counts.csv.gz',\n",
       " 'GSM5226592_L12cov_raw_counts.csv.gz',\n",
       " 'GSM5226593_L13cov_raw_counts.csv.gz',\n",
       " 'GSM5226594_L15cov_raw_counts.csv.gz',\n",
       " 'GSM5226595_L16cov_raw_counts.csv.gz',\n",
       " 'GSM5226596_L17cov_raw_counts.csv.gz',\n",
       " 'GSM5226597_L18cov_raw_counts.csv.gz',\n",
       " 'GSM5226598_L19cov_raw_counts.csv.gz',\n",
       " 'GSM5226599_L21cov_raw_counts.csv.gz',\n",
       " 'GSM5226600_L22cov_raw_counts.csv.gz']"
      ]
     },
     "execution_count": 22,
     "metadata": {},
     "output_type": "execute_result"
    }
   ],
   "source": [
    "os.listdir('GSE171524_RAW/')"
   ]
  },
  {
   "cell_type": "code",
   "execution_count": 17,
   "metadata": {},
   "outputs": [
    {
     "name": "stderr",
     "output_type": "stream",
     "text": [
      "GPU available: False, used: False\n",
      "TPU available: False, using: 0 TPU cores\n",
      "IPU available: False, using: 0 IPUs\n",
      "HPU available: False, using: 0 HPUs\n",
      "c:\\Users\\agarc\\anaconda3\\envs\\bioenv\\Lib\\site-packages\\lightning\\pytorch\\trainer\\connectors\\data_connector.py:441: The 'train_dataloader' does not have many workers which may be a bottleneck. Consider increasing the value of the `num_workers` argument` to `num_workers=3` in the `DataLoader` to improve performance.\n"
     ]
    },
    {
     "name": "stdout",
     "output_type": "stream",
     "text": [
      "Epoch 400/400: 100%|██████████| 400/400 [15:11<00:00,  2.25s/it, v_num=1, train_loss_step=325, train_loss_epoch=323]"
     ]
    },
    {
     "name": "stderr",
     "output_type": "stream",
     "text": [
      "`Trainer.fit` stopped: `max_epochs=400` reached.\n"
     ]
    },
    {
     "name": "stdout",
     "output_type": "stream",
     "text": [
      "Epoch 400/400: 100%|██████████| 400/400 [15:11<00:00,  2.28s/it, v_num=1, train_loss_step=325, train_loss_epoch=323]\n",
      "\u001b[34mINFO    \u001b[0m Creating doublets, preparing SOLO model.                                                                  \n"
     ]
    },
    {
     "name": "stderr",
     "output_type": "stream",
     "text": [
      "GPU available: False, used: False\n",
      "TPU available: False, using: 0 TPU cores\n",
      "IPU available: False, using: 0 IPUs\n",
      "HPU available: False, using: 0 HPUs\n",
      "c:\\Users\\agarc\\anaconda3\\envs\\bioenv\\Lib\\site-packages\\lightning\\pytorch\\trainer\\connectors\\data_connector.py:441: The 'train_dataloader' does not have many workers which may be a bottleneck. Consider increasing the value of the `num_workers` argument` to `num_workers=3` in the `DataLoader` to improve performance.\n",
      "c:\\Users\\agarc\\anaconda3\\envs\\bioenv\\Lib\\site-packages\\lightning\\pytorch\\trainer\\connectors\\data_connector.py:441: The 'val_dataloader' does not have many workers which may be a bottleneck. Consider increasing the value of the `num_workers` argument` to `num_workers=3` in the `DataLoader` to improve performance.\n"
     ]
    },
    {
     "name": "stdout",
     "output_type": "stream",
     "text": [
      "Epoch 231/400:  58%|█████▊    | 231/400 [01:26<01:03,  2.67it/s, v_num=1, train_loss_step=0.239, train_loss_epoch=0.289]\n",
      "Monitored metric validation_loss did not improve in the last 30 records. Best score: 0.268. Signaling Trainer to stop.\n"
     ]
    },
    {
     "name": "stderr",
     "output_type": "stream",
     "text": [
      "c:\\Users\\agarc\\anaconda3\\envs\\bioenv\\Lib\\site-packages\\torch\\utils\\_contextlib.py:116: UserWarning: Prior to scvi-tools 1.1.3, `SOLO.predict` with `soft=True` (the default option) returned logits instead of probabilities. This behavior has since been corrected to return probabiltiies. The previous behavior can be replicated by passing in `return_logits=True`.\n",
      "  return func(*args, **kwargs)\n",
      "c:\\Users\\agarc\\anaconda3\\envs\\bioenv\\Lib\\site-packages\\torch\\utils\\_contextlib.py:116: UserWarning: Prior to scvi-tools 1.1.3, `SOLO.predict` with `soft=True` (the default option) returned logits instead of probabilities. This behavior has since been corrected to return probabiltiies. The previous behavior can be replicated by passing in `return_logits=True`.\n",
      "  return func(*args, **kwargs)\n",
      "c:\\Users\\agarc\\anaconda3\\envs\\bioenv\\Lib\\site-packages\\scanpy\\preprocessing\\_simple.py:166: ImplicitModificationWarning: Trying to modify attribute `.obs` of view, initializing view as actual.\n",
      "  adata.obs[\"n_genes\"] = number\n",
      "GPU available: False, used: False\n",
      "TPU available: False, using: 0 TPU cores\n",
      "IPU available: False, using: 0 IPUs\n",
      "HPU available: False, using: 0 HPUs\n",
      "c:\\Users\\agarc\\anaconda3\\envs\\bioenv\\Lib\\site-packages\\lightning\\pytorch\\trainer\\connectors\\data_connector.py:441: The 'train_dataloader' does not have many workers which may be a bottleneck. Consider increasing the value of the `num_workers` argument` to `num_workers=3` in the `DataLoader` to improve performance.\n"
     ]
    },
    {
     "name": "stdout",
     "output_type": "stream",
     "text": [
      "Epoch 400/400: 100%|██████████| 400/400 [11:28<00:00,  1.71s/it, v_num=1, train_loss_step=414, train_loss_epoch=398]"
     ]
    },
    {
     "name": "stderr",
     "output_type": "stream",
     "text": [
      "`Trainer.fit` stopped: `max_epochs=400` reached.\n"
     ]
    },
    {
     "name": "stdout",
     "output_type": "stream",
     "text": [
      "Epoch 400/400: 100%|██████████| 400/400 [11:28<00:00,  1.72s/it, v_num=1, train_loss_step=414, train_loss_epoch=398]\n",
      "\u001b[34mINFO    \u001b[0m Creating doublets, preparing SOLO model.                                                                  \n"
     ]
    },
    {
     "name": "stderr",
     "output_type": "stream",
     "text": [
      "GPU available: False, used: False\n",
      "TPU available: False, using: 0 TPU cores\n",
      "IPU available: False, using: 0 IPUs\n",
      "HPU available: False, using: 0 HPUs\n",
      "c:\\Users\\agarc\\anaconda3\\envs\\bioenv\\Lib\\site-packages\\lightning\\pytorch\\trainer\\connectors\\data_connector.py:441: The 'train_dataloader' does not have many workers which may be a bottleneck. Consider increasing the value of the `num_workers` argument` to `num_workers=3` in the `DataLoader` to improve performance.\n",
      "c:\\Users\\agarc\\anaconda3\\envs\\bioenv\\Lib\\site-packages\\lightning\\pytorch\\trainer\\connectors\\data_connector.py:441: The 'val_dataloader' does not have many workers which may be a bottleneck. Consider increasing the value of the `num_workers` argument` to `num_workers=3` in the `DataLoader` to improve performance.\n"
     ]
    },
    {
     "name": "stdout",
     "output_type": "stream",
     "text": [
      "Epoch 376/400:  94%|█████████▍| 376/400 [01:46<00:06,  3.54it/s, v_num=1, train_loss_step=0.162, train_loss_epoch=0.294] \n",
      "Monitored metric validation_loss did not improve in the last 30 records. Best score: 0.290. Signaling Trainer to stop.\n"
     ]
    },
    {
     "name": "stderr",
     "output_type": "stream",
     "text": [
      "c:\\Users\\agarc\\anaconda3\\envs\\bioenv\\Lib\\site-packages\\torch\\utils\\_contextlib.py:116: UserWarning: Prior to scvi-tools 1.1.3, `SOLO.predict` with `soft=True` (the default option) returned logits instead of probabilities. This behavior has since been corrected to return probabiltiies. The previous behavior can be replicated by passing in `return_logits=True`.\n",
      "  return func(*args, **kwargs)\n",
      "c:\\Users\\agarc\\anaconda3\\envs\\bioenv\\Lib\\site-packages\\torch\\utils\\_contextlib.py:116: UserWarning: Prior to scvi-tools 1.1.3, `SOLO.predict` with `soft=True` (the default option) returned logits instead of probabilities. This behavior has since been corrected to return probabiltiies. The previous behavior can be replicated by passing in `return_logits=True`.\n",
      "  return func(*args, **kwargs)\n",
      "c:\\Users\\agarc\\anaconda3\\envs\\bioenv\\Lib\\site-packages\\scanpy\\preprocessing\\_simple.py:166: ImplicitModificationWarning: Trying to modify attribute `.obs` of view, initializing view as actual.\n",
      "  adata.obs[\"n_genes\"] = number\n",
      "GPU available: False, used: False\n",
      "TPU available: False, using: 0 TPU cores\n",
      "IPU available: False, using: 0 IPUs\n",
      "HPU available: False, using: 0 HPUs\n",
      "c:\\Users\\agarc\\anaconda3\\envs\\bioenv\\Lib\\site-packages\\lightning\\pytorch\\trainer\\connectors\\data_connector.py:441: The 'train_dataloader' does not have many workers which may be a bottleneck. Consider increasing the value of the `num_workers` argument` to `num_workers=3` in the `DataLoader` to improve performance.\n"
     ]
    },
    {
     "name": "stdout",
     "output_type": "stream",
     "text": [
      "Epoch 400/400: 100%|██████████| 400/400 [18:03<00:00,  2.67s/it, v_num=1, train_loss_step=206, train_loss_epoch=334]"
     ]
    },
    {
     "name": "stderr",
     "output_type": "stream",
     "text": [
      "`Trainer.fit` stopped: `max_epochs=400` reached.\n"
     ]
    },
    {
     "name": "stdout",
     "output_type": "stream",
     "text": [
      "Epoch 400/400: 100%|██████████| 400/400 [18:03<00:00,  2.71s/it, v_num=1, train_loss_step=206, train_loss_epoch=334]\n",
      "\u001b[34mINFO    \u001b[0m Creating doublets, preparing SOLO model.                                                                  \n"
     ]
    },
    {
     "name": "stderr",
     "output_type": "stream",
     "text": [
      "GPU available: False, used: False\n",
      "TPU available: False, using: 0 TPU cores\n",
      "IPU available: False, using: 0 IPUs\n",
      "HPU available: False, using: 0 HPUs\n",
      "c:\\Users\\agarc\\anaconda3\\envs\\bioenv\\Lib\\site-packages\\lightning\\pytorch\\trainer\\connectors\\data_connector.py:441: The 'train_dataloader' does not have many workers which may be a bottleneck. Consider increasing the value of the `num_workers` argument` to `num_workers=3` in the `DataLoader` to improve performance.\n",
      "c:\\Users\\agarc\\anaconda3\\envs\\bioenv\\Lib\\site-packages\\lightning\\pytorch\\trainer\\connectors\\data_connector.py:441: The 'val_dataloader' does not have many workers which may be a bottleneck. Consider increasing the value of the `num_workers` argument` to `num_workers=3` in the `DataLoader` to improve performance.\n"
     ]
    },
    {
     "name": "stdout",
     "output_type": "stream",
     "text": [
      "Epoch 204/400:  51%|█████     | 204/400 [01:29<01:25,  2.28it/s, v_num=1, train_loss_step=0.612, train_loss_epoch=0.311]\n",
      "Monitored metric validation_loss did not improve in the last 30 records. Best score: 0.302. Signaling Trainer to stop.\n"
     ]
    },
    {
     "name": "stderr",
     "output_type": "stream",
     "text": [
      "c:\\Users\\agarc\\anaconda3\\envs\\bioenv\\Lib\\site-packages\\torch\\utils\\_contextlib.py:116: UserWarning: Prior to scvi-tools 1.1.3, `SOLO.predict` with `soft=True` (the default option) returned logits instead of probabilities. This behavior has since been corrected to return probabiltiies. The previous behavior can be replicated by passing in `return_logits=True`.\n",
      "  return func(*args, **kwargs)\n",
      "c:\\Users\\agarc\\anaconda3\\envs\\bioenv\\Lib\\site-packages\\torch\\utils\\_contextlib.py:116: UserWarning: Prior to scvi-tools 1.1.3, `SOLO.predict` with `soft=True` (the default option) returned logits instead of probabilities. This behavior has since been corrected to return probabiltiies. The previous behavior can be replicated by passing in `return_logits=True`.\n",
      "  return func(*args, **kwargs)\n",
      "c:\\Users\\agarc\\anaconda3\\envs\\bioenv\\Lib\\site-packages\\scanpy\\preprocessing\\_simple.py:166: ImplicitModificationWarning: Trying to modify attribute `.obs` of view, initializing view as actual.\n",
      "  adata.obs[\"n_genes\"] = number\n",
      "GPU available: False, used: False\n",
      "TPU available: False, using: 0 TPU cores\n",
      "IPU available: False, using: 0 IPUs\n",
      "HPU available: False, using: 0 HPUs\n",
      "c:\\Users\\agarc\\anaconda3\\envs\\bioenv\\Lib\\site-packages\\lightning\\pytorch\\trainer\\connectors\\data_connector.py:441: The 'train_dataloader' does not have many workers which may be a bottleneck. Consider increasing the value of the `num_workers` argument` to `num_workers=3` in the `DataLoader` to improve performance.\n"
     ]
    },
    {
     "name": "stdout",
     "output_type": "stream",
     "text": [
      "Epoch 400/400: 100%|██████████| 400/400 [10:59<00:00,  1.62s/it, v_num=1, train_loss_step=285, train_loss_epoch=308]"
     ]
    },
    {
     "name": "stderr",
     "output_type": "stream",
     "text": [
      "`Trainer.fit` stopped: `max_epochs=400` reached.\n"
     ]
    },
    {
     "name": "stdout",
     "output_type": "stream",
     "text": [
      "Epoch 400/400: 100%|██████████| 400/400 [10:59<00:00,  1.65s/it, v_num=1, train_loss_step=285, train_loss_epoch=308]\n",
      "\u001b[34mINFO    \u001b[0m Creating doublets, preparing SOLO model.                                                                  \n"
     ]
    },
    {
     "name": "stderr",
     "output_type": "stream",
     "text": [
      "GPU available: False, used: False\n",
      "TPU available: False, using: 0 TPU cores\n",
      "IPU available: False, using: 0 IPUs\n",
      "HPU available: False, using: 0 HPUs\n",
      "c:\\Users\\agarc\\anaconda3\\envs\\bioenv\\Lib\\site-packages\\lightning\\pytorch\\trainer\\connectors\\data_connector.py:441: The 'train_dataloader' does not have many workers which may be a bottleneck. Consider increasing the value of the `num_workers` argument` to `num_workers=3` in the `DataLoader` to improve performance.\n",
      "c:\\Users\\agarc\\anaconda3\\envs\\bioenv\\Lib\\site-packages\\lightning\\pytorch\\trainer\\connectors\\data_connector.py:441: The 'val_dataloader' does not have many workers which may be a bottleneck. Consider increasing the value of the `num_workers` argument` to `num_workers=3` in the `DataLoader` to improve performance.\n"
     ]
    },
    {
     "name": "stdout",
     "output_type": "stream",
     "text": [
      "Epoch 228/400:  57%|█████▋    | 228/400 [01:00<00:45,  3.79it/s, v_num=1, train_loss_step=0.178, train_loss_epoch=0.235]\n",
      "Monitored metric validation_loss did not improve in the last 30 records. Best score: 0.239. Signaling Trainer to stop.\n"
     ]
    },
    {
     "name": "stderr",
     "output_type": "stream",
     "text": [
      "c:\\Users\\agarc\\anaconda3\\envs\\bioenv\\Lib\\site-packages\\torch\\utils\\_contextlib.py:116: UserWarning: Prior to scvi-tools 1.1.3, `SOLO.predict` with `soft=True` (the default option) returned logits instead of probabilities. This behavior has since been corrected to return probabiltiies. The previous behavior can be replicated by passing in `return_logits=True`.\n",
      "  return func(*args, **kwargs)\n",
      "c:\\Users\\agarc\\anaconda3\\envs\\bioenv\\Lib\\site-packages\\torch\\utils\\_contextlib.py:116: UserWarning: Prior to scvi-tools 1.1.3, `SOLO.predict` with `soft=True` (the default option) returned logits instead of probabilities. This behavior has since been corrected to return probabiltiies. The previous behavior can be replicated by passing in `return_logits=True`.\n",
      "  return func(*args, **kwargs)\n",
      "c:\\Users\\agarc\\anaconda3\\envs\\bioenv\\Lib\\site-packages\\scanpy\\preprocessing\\_simple.py:166: ImplicitModificationWarning: Trying to modify attribute `.obs` of view, initializing view as actual.\n",
      "  adata.obs[\"n_genes\"] = number\n",
      "GPU available: False, used: False\n",
      "TPU available: False, using: 0 TPU cores\n",
      "IPU available: False, using: 0 IPUs\n",
      "HPU available: False, using: 0 HPUs\n",
      "c:\\Users\\agarc\\anaconda3\\envs\\bioenv\\Lib\\site-packages\\lightning\\pytorch\\trainer\\connectors\\data_connector.py:441: The 'train_dataloader' does not have many workers which may be a bottleneck. Consider increasing the value of the `num_workers` argument` to `num_workers=3` in the `DataLoader` to improve performance.\n"
     ]
    },
    {
     "name": "stdout",
     "output_type": "stream",
     "text": [
      "Epoch 400/400: 100%|██████████| 400/400 [13:52<00:00,  2.07s/it, v_num=1, train_loss_step=302, train_loss_epoch=306]"
     ]
    },
    {
     "name": "stderr",
     "output_type": "stream",
     "text": [
      "`Trainer.fit` stopped: `max_epochs=400` reached.\n"
     ]
    },
    {
     "name": "stdout",
     "output_type": "stream",
     "text": [
      "Epoch 400/400: 100%|██████████| 400/400 [13:52<00:00,  2.08s/it, v_num=1, train_loss_step=302, train_loss_epoch=306]\n",
      "\u001b[34mINFO    \u001b[0m Creating doublets, preparing SOLO model.                                                                  \n"
     ]
    },
    {
     "name": "stderr",
     "output_type": "stream",
     "text": [
      "GPU available: False, used: False\n",
      "TPU available: False, using: 0 TPU cores\n",
      "IPU available: False, using: 0 IPUs\n",
      "HPU available: False, using: 0 HPUs\n",
      "c:\\Users\\agarc\\anaconda3\\envs\\bioenv\\Lib\\site-packages\\lightning\\pytorch\\trainer\\connectors\\data_connector.py:441: The 'train_dataloader' does not have many workers which may be a bottleneck. Consider increasing the value of the `num_workers` argument` to `num_workers=3` in the `DataLoader` to improve performance.\n",
      "c:\\Users\\agarc\\anaconda3\\envs\\bioenv\\Lib\\site-packages\\lightning\\pytorch\\trainer\\connectors\\data_connector.py:441: The 'val_dataloader' does not have many workers which may be a bottleneck. Consider increasing the value of the `num_workers` argument` to `num_workers=3` in the `DataLoader` to improve performance.\n"
     ]
    },
    {
     "name": "stdout",
     "output_type": "stream",
     "text": [
      "Epoch 97/400:  24%|██▍       | 97/400 [00:33<01:43,  2.93it/s, v_num=1, train_loss_step=0.24, train_loss_epoch=0.238] \n",
      "Monitored metric validation_loss did not improve in the last 30 records. Best score: 0.227. Signaling Trainer to stop.\n"
     ]
    },
    {
     "name": "stderr",
     "output_type": "stream",
     "text": [
      "c:\\Users\\agarc\\anaconda3\\envs\\bioenv\\Lib\\site-packages\\torch\\utils\\_contextlib.py:116: UserWarning: Prior to scvi-tools 1.1.3, `SOLO.predict` with `soft=True` (the default option) returned logits instead of probabilities. This behavior has since been corrected to return probabiltiies. The previous behavior can be replicated by passing in `return_logits=True`.\n",
      "  return func(*args, **kwargs)\n",
      "c:\\Users\\agarc\\anaconda3\\envs\\bioenv\\Lib\\site-packages\\torch\\utils\\_contextlib.py:116: UserWarning: Prior to scvi-tools 1.1.3, `SOLO.predict` with `soft=True` (the default option) returned logits instead of probabilities. This behavior has since been corrected to return probabiltiies. The previous behavior can be replicated by passing in `return_logits=True`.\n",
      "  return func(*args, **kwargs)\n",
      "c:\\Users\\agarc\\anaconda3\\envs\\bioenv\\Lib\\site-packages\\scanpy\\preprocessing\\_simple.py:166: ImplicitModificationWarning: Trying to modify attribute `.obs` of view, initializing view as actual.\n",
      "  adata.obs[\"n_genes\"] = number\n",
      "GPU available: False, used: False\n",
      "TPU available: False, using: 0 TPU cores\n",
      "IPU available: False, using: 0 IPUs\n",
      "HPU available: False, using: 0 HPUs\n",
      "c:\\Users\\agarc\\anaconda3\\envs\\bioenv\\Lib\\site-packages\\lightning\\pytorch\\trainer\\connectors\\data_connector.py:441: The 'train_dataloader' does not have many workers which may be a bottleneck. Consider increasing the value of the `num_workers` argument` to `num_workers=3` in the `DataLoader` to improve performance.\n"
     ]
    },
    {
     "name": "stdout",
     "output_type": "stream",
     "text": [
      "Epoch 400/400: 100%|██████████| 400/400 [10:13<00:00,  1.50s/it, v_num=1, train_loss_step=333, train_loss_epoch=324]"
     ]
    },
    {
     "name": "stderr",
     "output_type": "stream",
     "text": [
      "`Trainer.fit` stopped: `max_epochs=400` reached.\n"
     ]
    },
    {
     "name": "stdout",
     "output_type": "stream",
     "text": [
      "Epoch 400/400: 100%|██████████| 400/400 [10:13<00:00,  1.53s/it, v_num=1, train_loss_step=333, train_loss_epoch=324]\n",
      "\u001b[34mINFO    \u001b[0m Creating doublets, preparing SOLO model.                                                                  \n"
     ]
    },
    {
     "name": "stderr",
     "output_type": "stream",
     "text": [
      "GPU available: False, used: False\n",
      "TPU available: False, using: 0 TPU cores\n",
      "IPU available: False, using: 0 IPUs\n",
      "HPU available: False, using: 0 HPUs\n",
      "c:\\Users\\agarc\\anaconda3\\envs\\bioenv\\Lib\\site-packages\\lightning\\pytorch\\trainer\\connectors\\data_connector.py:441: The 'train_dataloader' does not have many workers which may be a bottleneck. Consider increasing the value of the `num_workers` argument` to `num_workers=3` in the `DataLoader` to improve performance.\n",
      "c:\\Users\\agarc\\anaconda3\\envs\\bioenv\\Lib\\site-packages\\lightning\\pytorch\\trainer\\connectors\\data_connector.py:441: The 'val_dataloader' does not have many workers which may be a bottleneck. Consider increasing the value of the `num_workers` argument` to `num_workers=3` in the `DataLoader` to improve performance.\n"
     ]
    },
    {
     "name": "stdout",
     "output_type": "stream",
     "text": [
      "Epoch 232/400:  58%|█████▊    | 232/400 [00:57<00:41,  4.06it/s, v_num=1, train_loss_step=0.246, train_loss_epoch=0.255]\n",
      "Monitored metric validation_loss did not improve in the last 30 records. Best score: 0.265. Signaling Trainer to stop.\n"
     ]
    },
    {
     "name": "stderr",
     "output_type": "stream",
     "text": [
      "c:\\Users\\agarc\\anaconda3\\envs\\bioenv\\Lib\\site-packages\\torch\\utils\\_contextlib.py:116: UserWarning: Prior to scvi-tools 1.1.3, `SOLO.predict` with `soft=True` (the default option) returned logits instead of probabilities. This behavior has since been corrected to return probabiltiies. The previous behavior can be replicated by passing in `return_logits=True`.\n",
      "  return func(*args, **kwargs)\n",
      "c:\\Users\\agarc\\anaconda3\\envs\\bioenv\\Lib\\site-packages\\torch\\utils\\_contextlib.py:116: UserWarning: Prior to scvi-tools 1.1.3, `SOLO.predict` with `soft=True` (the default option) returned logits instead of probabilities. This behavior has since been corrected to return probabiltiies. The previous behavior can be replicated by passing in `return_logits=True`.\n",
      "  return func(*args, **kwargs)\n",
      "c:\\Users\\agarc\\anaconda3\\envs\\bioenv\\Lib\\site-packages\\scanpy\\preprocessing\\_simple.py:166: ImplicitModificationWarning: Trying to modify attribute `.obs` of view, initializing view as actual.\n",
      "  adata.obs[\"n_genes\"] = number\n",
      "GPU available: False, used: False\n",
      "TPU available: False, using: 0 TPU cores\n",
      "IPU available: False, using: 0 IPUs\n",
      "HPU available: False, using: 0 HPUs\n",
      "c:\\Users\\agarc\\anaconda3\\envs\\bioenv\\Lib\\site-packages\\lightning\\pytorch\\trainer\\connectors\\data_connector.py:441: The 'train_dataloader' does not have many workers which may be a bottleneck. Consider increasing the value of the `num_workers` argument` to `num_workers=3` in the `DataLoader` to improve performance.\n"
     ]
    },
    {
     "name": "stdout",
     "output_type": "stream",
     "text": [
      "Epoch 400/400: 100%|██████████| 400/400 [11:50<00:00,  1.75s/it, v_num=1, train_loss_step=269, train_loss_epoch=289]"
     ]
    },
    {
     "name": "stderr",
     "output_type": "stream",
     "text": [
      "`Trainer.fit` stopped: `max_epochs=400` reached.\n"
     ]
    },
    {
     "name": "stdout",
     "output_type": "stream",
     "text": [
      "Epoch 400/400: 100%|██████████| 400/400 [11:50<00:00,  1.78s/it, v_num=1, train_loss_step=269, train_loss_epoch=289]\n",
      "\u001b[34mINFO    \u001b[0m Creating doublets, preparing SOLO model.                                                                  \n"
     ]
    },
    {
     "name": "stderr",
     "output_type": "stream",
     "text": [
      "GPU available: False, used: False\n",
      "TPU available: False, using: 0 TPU cores\n",
      "IPU available: False, using: 0 IPUs\n",
      "HPU available: False, using: 0 HPUs\n",
      "c:\\Users\\agarc\\anaconda3\\envs\\bioenv\\Lib\\site-packages\\lightning\\pytorch\\trainer\\connectors\\data_connector.py:441: The 'train_dataloader' does not have many workers which may be a bottleneck. Consider increasing the value of the `num_workers` argument` to `num_workers=3` in the `DataLoader` to improve performance.\n",
      "c:\\Users\\agarc\\anaconda3\\envs\\bioenv\\Lib\\site-packages\\lightning\\pytorch\\trainer\\connectors\\data_connector.py:441: The 'val_dataloader' does not have many workers which may be a bottleneck. Consider increasing the value of the `num_workers` argument` to `num_workers=3` in the `DataLoader` to improve performance.\n"
     ]
    },
    {
     "name": "stdout",
     "output_type": "stream",
     "text": [
      "Epoch 309/400:  77%|███████▋  | 309/400 [01:29<00:26,  3.44it/s, v_num=1, train_loss_step=0.098, train_loss_epoch=0.24]   \n",
      "Monitored metric validation_loss did not improve in the last 30 records. Best score: 0.236. Signaling Trainer to stop.\n"
     ]
    },
    {
     "name": "stderr",
     "output_type": "stream",
     "text": [
      "c:\\Users\\agarc\\anaconda3\\envs\\bioenv\\Lib\\site-packages\\torch\\utils\\_contextlib.py:116: UserWarning: Prior to scvi-tools 1.1.3, `SOLO.predict` with `soft=True` (the default option) returned logits instead of probabilities. This behavior has since been corrected to return probabiltiies. The previous behavior can be replicated by passing in `return_logits=True`.\n",
      "  return func(*args, **kwargs)\n",
      "c:\\Users\\agarc\\anaconda3\\envs\\bioenv\\Lib\\site-packages\\torch\\utils\\_contextlib.py:116: UserWarning: Prior to scvi-tools 1.1.3, `SOLO.predict` with `soft=True` (the default option) returned logits instead of probabilities. This behavior has since been corrected to return probabiltiies. The previous behavior can be replicated by passing in `return_logits=True`.\n",
      "  return func(*args, **kwargs)\n",
      "c:\\Users\\agarc\\anaconda3\\envs\\bioenv\\Lib\\site-packages\\scanpy\\preprocessing\\_simple.py:166: ImplicitModificationWarning: Trying to modify attribute `.obs` of view, initializing view as actual.\n",
      "  adata.obs[\"n_genes\"] = number\n",
      "GPU available: False, used: False\n",
      "TPU available: False, using: 0 TPU cores\n",
      "IPU available: False, using: 0 IPUs\n",
      "HPU available: False, using: 0 HPUs\n",
      "c:\\Users\\agarc\\anaconda3\\envs\\bioenv\\Lib\\site-packages\\lightning\\pytorch\\trainer\\connectors\\data_connector.py:441: The 'train_dataloader' does not have many workers which may be a bottleneck. Consider increasing the value of the `num_workers` argument` to `num_workers=3` in the `DataLoader` to improve performance.\n"
     ]
    },
    {
     "name": "stdout",
     "output_type": "stream",
     "text": [
      "Epoch 400/400: 100%|██████████| 400/400 [07:45<00:00,  1.16s/it, v_num=1, train_loss_step=338, train_loss_epoch=332]"
     ]
    },
    {
     "name": "stderr",
     "output_type": "stream",
     "text": [
      "`Trainer.fit` stopped: `max_epochs=400` reached.\n"
     ]
    },
    {
     "name": "stdout",
     "output_type": "stream",
     "text": [
      "Epoch 400/400: 100%|██████████| 400/400 [07:45<00:00,  1.16s/it, v_num=1, train_loss_step=338, train_loss_epoch=332]\n",
      "\u001b[34mINFO    \u001b[0m Creating doublets, preparing SOLO model.                                                                  \n"
     ]
    },
    {
     "name": "stderr",
     "output_type": "stream",
     "text": [
      "GPU available: False, used: False\n",
      "TPU available: False, using: 0 TPU cores\n",
      "IPU available: False, using: 0 IPUs\n",
      "HPU available: False, using: 0 HPUs\n",
      "c:\\Users\\agarc\\anaconda3\\envs\\bioenv\\Lib\\site-packages\\lightning\\pytorch\\trainer\\connectors\\data_connector.py:441: The 'train_dataloader' does not have many workers which may be a bottleneck. Consider increasing the value of the `num_workers` argument` to `num_workers=3` in the `DataLoader` to improve performance.\n",
      "c:\\Users\\agarc\\anaconda3\\envs\\bioenv\\Lib\\site-packages\\lightning\\pytorch\\trainer\\connectors\\data_connector.py:441: The 'val_dataloader' does not have many workers which may be a bottleneck. Consider increasing the value of the `num_workers` argument` to `num_workers=3` in the `DataLoader` to improve performance.\n"
     ]
    },
    {
     "name": "stdout",
     "output_type": "stream",
     "text": [
      "Epoch 241/400:  60%|██████    | 241/400 [00:45<00:30,  5.30it/s, v_num=1, train_loss_step=0.268, train_loss_epoch=0.267] \n",
      "Monitored metric validation_loss did not improve in the last 30 records. Best score: 0.288. Signaling Trainer to stop.\n"
     ]
    },
    {
     "name": "stderr",
     "output_type": "stream",
     "text": [
      "c:\\Users\\agarc\\anaconda3\\envs\\bioenv\\Lib\\site-packages\\torch\\utils\\_contextlib.py:116: UserWarning: Prior to scvi-tools 1.1.3, `SOLO.predict` with `soft=True` (the default option) returned logits instead of probabilities. This behavior has since been corrected to return probabiltiies. The previous behavior can be replicated by passing in `return_logits=True`.\n",
      "  return func(*args, **kwargs)\n",
      "c:\\Users\\agarc\\anaconda3\\envs\\bioenv\\Lib\\site-packages\\torch\\utils\\_contextlib.py:116: UserWarning: Prior to scvi-tools 1.1.3, `SOLO.predict` with `soft=True` (the default option) returned logits instead of probabilities. This behavior has since been corrected to return probabiltiies. The previous behavior can be replicated by passing in `return_logits=True`.\n",
      "  return func(*args, **kwargs)\n",
      "c:\\Users\\agarc\\anaconda3\\envs\\bioenv\\Lib\\site-packages\\scanpy\\preprocessing\\_simple.py:166: ImplicitModificationWarning: Trying to modify attribute `.obs` of view, initializing view as actual.\n",
      "  adata.obs[\"n_genes\"] = number\n",
      "GPU available: False, used: False\n",
      "TPU available: False, using: 0 TPU cores\n",
      "IPU available: False, using: 0 IPUs\n",
      "HPU available: False, using: 0 HPUs\n",
      "c:\\Users\\agarc\\anaconda3\\envs\\bioenv\\Lib\\site-packages\\lightning\\pytorch\\trainer\\connectors\\data_connector.py:441: The 'train_dataloader' does not have many workers which may be a bottleneck. Consider increasing the value of the `num_workers` argument` to `num_workers=3` in the `DataLoader` to improve performance.\n"
     ]
    },
    {
     "name": "stdout",
     "output_type": "stream",
     "text": [
      "Epoch 400/400: 100%|██████████| 400/400 [12:32<00:00,  1.87s/it, v_num=1, train_loss_step=485, train_loss_epoch=476]"
     ]
    },
    {
     "name": "stderr",
     "output_type": "stream",
     "text": [
      "`Trainer.fit` stopped: `max_epochs=400` reached.\n"
     ]
    },
    {
     "name": "stdout",
     "output_type": "stream",
     "text": [
      "Epoch 400/400: 100%|██████████| 400/400 [12:32<00:00,  1.88s/it, v_num=1, train_loss_step=485, train_loss_epoch=476]\n",
      "\u001b[34mINFO    \u001b[0m Creating doublets, preparing SOLO model.                                                                  \n"
     ]
    },
    {
     "name": "stderr",
     "output_type": "stream",
     "text": [
      "GPU available: False, used: False\n",
      "TPU available: False, using: 0 TPU cores\n",
      "IPU available: False, using: 0 IPUs\n",
      "HPU available: False, using: 0 HPUs\n",
      "c:\\Users\\agarc\\anaconda3\\envs\\bioenv\\Lib\\site-packages\\lightning\\pytorch\\trainer\\connectors\\data_connector.py:441: The 'train_dataloader' does not have many workers which may be a bottleneck. Consider increasing the value of the `num_workers` argument` to `num_workers=3` in the `DataLoader` to improve performance.\n",
      "c:\\Users\\agarc\\anaconda3\\envs\\bioenv\\Lib\\site-packages\\lightning\\pytorch\\trainer\\connectors\\data_connector.py:441: The 'val_dataloader' does not have many workers which may be a bottleneck. Consider increasing the value of the `num_workers` argument` to `num_workers=3` in the `DataLoader` to improve performance.\n"
     ]
    },
    {
     "name": "stdout",
     "output_type": "stream",
     "text": [
      "Epoch 169/400:  42%|████▏     | 169/400 [00:50<01:09,  3.33it/s, v_num=1, train_loss_step=0.265, train_loss_epoch=0.355]\n",
      "Monitored metric validation_loss did not improve in the last 30 records. Best score: 0.340. Signaling Trainer to stop.\n"
     ]
    },
    {
     "name": "stderr",
     "output_type": "stream",
     "text": [
      "c:\\Users\\agarc\\anaconda3\\envs\\bioenv\\Lib\\site-packages\\torch\\utils\\_contextlib.py:116: UserWarning: Prior to scvi-tools 1.1.3, `SOLO.predict` with `soft=True` (the default option) returned logits instead of probabilities. This behavior has since been corrected to return probabiltiies. The previous behavior can be replicated by passing in `return_logits=True`.\n",
      "  return func(*args, **kwargs)\n",
      "c:\\Users\\agarc\\anaconda3\\envs\\bioenv\\Lib\\site-packages\\torch\\utils\\_contextlib.py:116: UserWarning: Prior to scvi-tools 1.1.3, `SOLO.predict` with `soft=True` (the default option) returned logits instead of probabilities. This behavior has since been corrected to return probabiltiies. The previous behavior can be replicated by passing in `return_logits=True`.\n",
      "  return func(*args, **kwargs)\n",
      "c:\\Users\\agarc\\anaconda3\\envs\\bioenv\\Lib\\site-packages\\scanpy\\preprocessing\\_simple.py:166: ImplicitModificationWarning: Trying to modify attribute `.obs` of view, initializing view as actual.\n",
      "  adata.obs[\"n_genes\"] = number\n",
      "GPU available: False, used: False\n",
      "TPU available: False, using: 0 TPU cores\n",
      "IPU available: False, using: 0 IPUs\n",
      "HPU available: False, using: 0 HPUs\n",
      "c:\\Users\\agarc\\anaconda3\\envs\\bioenv\\Lib\\site-packages\\lightning\\pytorch\\trainer\\connectors\\data_connector.py:441: The 'train_dataloader' does not have many workers which may be a bottleneck. Consider increasing the value of the `num_workers` argument` to `num_workers=3` in the `DataLoader` to improve performance.\n"
     ]
    },
    {
     "name": "stdout",
     "output_type": "stream",
     "text": [
      "Epoch 400/400: 100%|██████████| 400/400 [09:00<00:00,  1.37s/it, v_num=1, train_loss_step=279, train_loss_epoch=257]"
     ]
    },
    {
     "name": "stderr",
     "output_type": "stream",
     "text": [
      "`Trainer.fit` stopped: `max_epochs=400` reached.\n"
     ]
    },
    {
     "name": "stdout",
     "output_type": "stream",
     "text": [
      "Epoch 400/400: 100%|██████████| 400/400 [09:00<00:00,  1.35s/it, v_num=1, train_loss_step=279, train_loss_epoch=257]\n",
      "\u001b[34mINFO    \u001b[0m Creating doublets, preparing SOLO model.                                                                  \n"
     ]
    },
    {
     "name": "stderr",
     "output_type": "stream",
     "text": [
      "GPU available: False, used: False\n",
      "TPU available: False, using: 0 TPU cores\n",
      "IPU available: False, using: 0 IPUs\n",
      "HPU available: False, using: 0 HPUs\n",
      "c:\\Users\\agarc\\anaconda3\\envs\\bioenv\\Lib\\site-packages\\lightning\\pytorch\\trainer\\connectors\\data_connector.py:441: The 'train_dataloader' does not have many workers which may be a bottleneck. Consider increasing the value of the `num_workers` argument` to `num_workers=3` in the `DataLoader` to improve performance.\n",
      "c:\\Users\\agarc\\anaconda3\\envs\\bioenv\\Lib\\site-packages\\lightning\\pytorch\\trainer\\connectors\\data_connector.py:441: The 'val_dataloader' does not have many workers which may be a bottleneck. Consider increasing the value of the `num_workers` argument` to `num_workers=3` in the `DataLoader` to improve performance.\n"
     ]
    },
    {
     "name": "stdout",
     "output_type": "stream",
     "text": [
      "Epoch 252/400:  63%|██████▎   | 252/400 [00:55<00:32,  4.50it/s, v_num=1, train_loss_step=0.18, train_loss_epoch=0.278] \n",
      "Monitored metric validation_loss did not improve in the last 30 records. Best score: 0.269. Signaling Trainer to stop.\n"
     ]
    },
    {
     "name": "stderr",
     "output_type": "stream",
     "text": [
      "c:\\Users\\agarc\\anaconda3\\envs\\bioenv\\Lib\\site-packages\\torch\\utils\\_contextlib.py:116: UserWarning: Prior to scvi-tools 1.1.3, `SOLO.predict` with `soft=True` (the default option) returned logits instead of probabilities. This behavior has since been corrected to return probabiltiies. The previous behavior can be replicated by passing in `return_logits=True`.\n",
      "  return func(*args, **kwargs)\n",
      "c:\\Users\\agarc\\anaconda3\\envs\\bioenv\\Lib\\site-packages\\torch\\utils\\_contextlib.py:116: UserWarning: Prior to scvi-tools 1.1.3, `SOLO.predict` with `soft=True` (the default option) returned logits instead of probabilities. This behavior has since been corrected to return probabiltiies. The previous behavior can be replicated by passing in `return_logits=True`.\n",
      "  return func(*args, **kwargs)\n",
      "c:\\Users\\agarc\\anaconda3\\envs\\bioenv\\Lib\\site-packages\\scanpy\\preprocessing\\_simple.py:166: ImplicitModificationWarning: Trying to modify attribute `.obs` of view, initializing view as actual.\n",
      "  adata.obs[\"n_genes\"] = number\n",
      "GPU available: False, used: False\n",
      "TPU available: False, using: 0 TPU cores\n",
      "IPU available: False, using: 0 IPUs\n",
      "HPU available: False, using: 0 HPUs\n",
      "c:\\Users\\agarc\\anaconda3\\envs\\bioenv\\Lib\\site-packages\\lightning\\pytorch\\trainer\\connectors\\data_connector.py:441: The 'train_dataloader' does not have many workers which may be a bottleneck. Consider increasing the value of the `num_workers` argument` to `num_workers=3` in the `DataLoader` to improve performance.\n"
     ]
    },
    {
     "name": "stdout",
     "output_type": "stream",
     "text": [
      "Epoch 400/400: 100%|██████████| 400/400 [07:43<00:00,  1.15s/it, v_num=1, train_loss_step=375, train_loss_epoch=345]"
     ]
    },
    {
     "name": "stderr",
     "output_type": "stream",
     "text": [
      "`Trainer.fit` stopped: `max_epochs=400` reached.\n"
     ]
    },
    {
     "name": "stdout",
     "output_type": "stream",
     "text": [
      "Epoch 400/400: 100%|██████████| 400/400 [07:43<00:00,  1.16s/it, v_num=1, train_loss_step=375, train_loss_epoch=345]\n",
      "\u001b[34mINFO    \u001b[0m Creating doublets, preparing SOLO model.                                                                  \n"
     ]
    },
    {
     "name": "stderr",
     "output_type": "stream",
     "text": [
      "GPU available: False, used: False\n",
      "TPU available: False, using: 0 TPU cores\n",
      "IPU available: False, using: 0 IPUs\n",
      "HPU available: False, using: 0 HPUs\n",
      "c:\\Users\\agarc\\anaconda3\\envs\\bioenv\\Lib\\site-packages\\lightning\\pytorch\\trainer\\connectors\\data_connector.py:441: The 'train_dataloader' does not have many workers which may be a bottleneck. Consider increasing the value of the `num_workers` argument` to `num_workers=3` in the `DataLoader` to improve performance.\n",
      "c:\\Users\\agarc\\anaconda3\\envs\\bioenv\\Lib\\site-packages\\lightning\\pytorch\\trainer\\connectors\\data_connector.py:441: The 'val_dataloader' does not have many workers which may be a bottleneck. Consider increasing the value of the `num_workers` argument` to `num_workers=3` in the `DataLoader` to improve performance.\n"
     ]
    },
    {
     "name": "stdout",
     "output_type": "stream",
     "text": [
      "Epoch 183/400:  46%|████▌     | 183/400 [00:34<00:41,  5.28it/s, v_num=1, train_loss_step=0.365, train_loss_epoch=0.334]\n",
      "Monitored metric validation_loss did not improve in the last 30 records. Best score: 0.327. Signaling Trainer to stop.\n"
     ]
    },
    {
     "name": "stderr",
     "output_type": "stream",
     "text": [
      "c:\\Users\\agarc\\anaconda3\\envs\\bioenv\\Lib\\site-packages\\torch\\utils\\_contextlib.py:116: UserWarning: Prior to scvi-tools 1.1.3, `SOLO.predict` with `soft=True` (the default option) returned logits instead of probabilities. This behavior has since been corrected to return probabiltiies. The previous behavior can be replicated by passing in `return_logits=True`.\n",
      "  return func(*args, **kwargs)\n",
      "c:\\Users\\agarc\\anaconda3\\envs\\bioenv\\Lib\\site-packages\\torch\\utils\\_contextlib.py:116: UserWarning: Prior to scvi-tools 1.1.3, `SOLO.predict` with `soft=True` (the default option) returned logits instead of probabilities. This behavior has since been corrected to return probabiltiies. The previous behavior can be replicated by passing in `return_logits=True`.\n",
      "  return func(*args, **kwargs)\n",
      "c:\\Users\\agarc\\anaconda3\\envs\\bioenv\\Lib\\site-packages\\scanpy\\preprocessing\\_simple.py:166: ImplicitModificationWarning: Trying to modify attribute `.obs` of view, initializing view as actual.\n",
      "  adata.obs[\"n_genes\"] = number\n"
     ]
    },
    {
     "ename": "MemoryError",
     "evalue": "Unable to allocate 1.07 GiB for an array with shape (7582, 18913) and data type float64",
     "output_type": "error",
     "traceback": [
      "\u001b[1;31m---------------------------------------------------------------------------\u001b[0m",
      "\u001b[1;31mMemoryError\u001b[0m                               Traceback (most recent call last)",
      "Cell \u001b[1;32mIn[17], line 6\u001b[0m\n\u001b[0;32m      4\u001b[0m \u001b[38;5;28;01mfor\u001b[39;00m file \u001b[38;5;129;01min\u001b[39;00m os\u001b[38;5;241m.\u001b[39mlistdir(\u001b[38;5;124m'\u001b[39m\u001b[38;5;124mGSE171524_RAW/\u001b[39m\u001b[38;5;124m'\u001b[39m):\n\u001b[0;32m      5\u001b[0m     file_path \u001b[38;5;241m=\u001b[39m os\u001b[38;5;241m.\u001b[39mpath\u001b[38;5;241m.\u001b[39mjoin(\u001b[38;5;124m'\u001b[39m\u001b[38;5;124mGSE171524_RAW\u001b[39m\u001b[38;5;124m'\u001b[39m, file)  \u001b[38;5;66;03m# Construct the full file path\u001b[39;00m\n\u001b[1;32m----> 6\u001b[0m     out\u001b[38;5;241m.\u001b[39mappend(\u001b[43mpp\u001b[49m\u001b[43m(\u001b[49m\u001b[43mfile_path\u001b[49m\u001b[43m)\u001b[49m)\n",
      "Cell \u001b[1;32mIn[14], line 4\u001b[0m, in \u001b[0;36mpp\u001b[1;34m(csv_path)\u001b[0m\n\u001b[0;32m      2\u001b[0m adata \u001b[38;5;241m=\u001b[39m sc\u001b[38;5;241m.\u001b[39mread_csv(csv_path)\u001b[38;5;241m.\u001b[39mT\n\u001b[0;32m      3\u001b[0m sc\u001b[38;5;241m.\u001b[39mpp\u001b[38;5;241m.\u001b[39mfilter_genes(adata, min_cells \u001b[38;5;241m=\u001b[39m \u001b[38;5;241m10\u001b[39m)\n\u001b[1;32m----> 4\u001b[0m \u001b[43msc\u001b[49m\u001b[38;5;241;43m.\u001b[39;49m\u001b[43mpp\u001b[49m\u001b[38;5;241;43m.\u001b[39;49m\u001b[43mhighly_variable_genes\u001b[49m\u001b[43m(\u001b[49m\u001b[43madata\u001b[49m\u001b[43m,\u001b[49m\u001b[43m \u001b[49m\u001b[43mn_top_genes\u001b[49m\u001b[43m \u001b[49m\u001b[38;5;241;43m=\u001b[39;49m\u001b[43m \u001b[49m\u001b[38;5;241;43m2000\u001b[39;49m\u001b[43m,\u001b[49m\u001b[43m \u001b[49m\u001b[43msubset\u001b[49m\u001b[43m \u001b[49m\u001b[38;5;241;43m=\u001b[39;49m\u001b[43m \u001b[49m\u001b[38;5;28;43;01mTrue\u001b[39;49;00m\u001b[43m,\u001b[49m\u001b[43m \u001b[49m\u001b[43mflavor\u001b[49m\u001b[43m \u001b[49m\u001b[38;5;241;43m=\u001b[39;49m\u001b[43m \u001b[49m\u001b[38;5;124;43m'\u001b[39;49m\u001b[38;5;124;43mseurat_v3\u001b[39;49m\u001b[38;5;124;43m'\u001b[39;49m\u001b[43m)\u001b[49m\n\u001b[0;32m      5\u001b[0m scvi\u001b[38;5;241m.\u001b[39mmodel\u001b[38;5;241m.\u001b[39mSCVI\u001b[38;5;241m.\u001b[39msetup_anndata(adata)\n\u001b[0;32m      6\u001b[0m vae \u001b[38;5;241m=\u001b[39m scvi\u001b[38;5;241m.\u001b[39mmodel\u001b[38;5;241m.\u001b[39mSCVI(adata)\n",
      "File \u001b[1;32mc:\\Users\\agarc\\anaconda3\\envs\\bioenv\\Lib\\site-packages\\legacy_api_wrap\\__init__.py:80\u001b[0m, in \u001b[0;36mlegacy_api.<locals>.wrapper.<locals>.fn_compatible\u001b[1;34m(*args_all, **kw)\u001b[0m\n\u001b[0;32m     77\u001b[0m \u001b[38;5;129m@wraps\u001b[39m(fn)\n\u001b[0;32m     78\u001b[0m \u001b[38;5;28;01mdef\u001b[39;00m \u001b[38;5;21mfn_compatible\u001b[39m(\u001b[38;5;241m*\u001b[39margs_all: P\u001b[38;5;241m.\u001b[39margs, \u001b[38;5;241m*\u001b[39m\u001b[38;5;241m*\u001b[39mkw: P\u001b[38;5;241m.\u001b[39mkwargs) \u001b[38;5;241m-\u001b[39m\u001b[38;5;241m>\u001b[39m R:\n\u001b[0;32m     79\u001b[0m     \u001b[38;5;28;01mif\u001b[39;00m \u001b[38;5;28mlen\u001b[39m(args_all) \u001b[38;5;241m<\u001b[39m\u001b[38;5;241m=\u001b[39m n_positional:\n\u001b[1;32m---> 80\u001b[0m         \u001b[38;5;28;01mreturn\u001b[39;00m \u001b[43mfn\u001b[49m\u001b[43m(\u001b[49m\u001b[38;5;241;43m*\u001b[39;49m\u001b[43margs_all\u001b[49m\u001b[43m,\u001b[49m\u001b[43m \u001b[49m\u001b[38;5;241;43m*\u001b[39;49m\u001b[38;5;241;43m*\u001b[39;49m\u001b[43mkw\u001b[49m\u001b[43m)\u001b[49m\n\u001b[0;32m     82\u001b[0m     args_pos: P\u001b[38;5;241m.\u001b[39margs\n\u001b[0;32m     83\u001b[0m     args_pos, args_rest \u001b[38;5;241m=\u001b[39m args_all[:n_positional], args_all[n_positional:]\n",
      "File \u001b[1;32mc:\\Users\\agarc\\anaconda3\\envs\\bioenv\\Lib\\site-packages\\scanpy\\preprocessing\\_highly_variable_genes.py:655\u001b[0m, in \u001b[0;36mhighly_variable_genes\u001b[1;34m(adata, layer, n_top_genes, min_disp, max_disp, min_mean, max_mean, span, n_bins, flavor, subset, inplace, batch_key, check_values)\u001b[0m\n\u001b[0;32m    653\u001b[0m         sig \u001b[38;5;241m=\u001b[39m signature(_highly_variable_genes_seurat_v3)\n\u001b[0;32m    654\u001b[0m         n_top_genes \u001b[38;5;241m=\u001b[39m cast(\u001b[38;5;28mint\u001b[39m, sig\u001b[38;5;241m.\u001b[39mparameters[\u001b[38;5;124m\"\u001b[39m\u001b[38;5;124mn_top_genes\u001b[39m\u001b[38;5;124m\"\u001b[39m]\u001b[38;5;241m.\u001b[39mdefault)\n\u001b[1;32m--> 655\u001b[0m     \u001b[38;5;28;01mreturn\u001b[39;00m \u001b[43m_highly_variable_genes_seurat_v3\u001b[49m\u001b[43m(\u001b[49m\n\u001b[0;32m    656\u001b[0m \u001b[43m        \u001b[49m\u001b[43madata\u001b[49m\u001b[43m,\u001b[49m\n\u001b[0;32m    657\u001b[0m \u001b[43m        \u001b[49m\u001b[43mflavor\u001b[49m\u001b[38;5;241;43m=\u001b[39;49m\u001b[43mflavor\u001b[49m\u001b[43m,\u001b[49m\n\u001b[0;32m    658\u001b[0m \u001b[43m        \u001b[49m\u001b[43mlayer\u001b[49m\u001b[38;5;241;43m=\u001b[39;49m\u001b[43mlayer\u001b[49m\u001b[43m,\u001b[49m\n\u001b[0;32m    659\u001b[0m \u001b[43m        \u001b[49m\u001b[43mn_top_genes\u001b[49m\u001b[38;5;241;43m=\u001b[39;49m\u001b[43mn_top_genes\u001b[49m\u001b[43m,\u001b[49m\n\u001b[0;32m    660\u001b[0m \u001b[43m        \u001b[49m\u001b[43mbatch_key\u001b[49m\u001b[38;5;241;43m=\u001b[39;49m\u001b[43mbatch_key\u001b[49m\u001b[43m,\u001b[49m\n\u001b[0;32m    661\u001b[0m \u001b[43m        \u001b[49m\u001b[43mcheck_values\u001b[49m\u001b[38;5;241;43m=\u001b[39;49m\u001b[43mcheck_values\u001b[49m\u001b[43m,\u001b[49m\n\u001b[0;32m    662\u001b[0m \u001b[43m        \u001b[49m\u001b[43mspan\u001b[49m\u001b[38;5;241;43m=\u001b[39;49m\u001b[43mspan\u001b[49m\u001b[43m,\u001b[49m\n\u001b[0;32m    663\u001b[0m \u001b[43m        \u001b[49m\u001b[43msubset\u001b[49m\u001b[38;5;241;43m=\u001b[39;49m\u001b[43msubset\u001b[49m\u001b[43m,\u001b[49m\n\u001b[0;32m    664\u001b[0m \u001b[43m        \u001b[49m\u001b[43minplace\u001b[49m\u001b[38;5;241;43m=\u001b[39;49m\u001b[43minplace\u001b[49m\u001b[43m,\u001b[49m\n\u001b[0;32m    665\u001b[0m \u001b[43m    \u001b[49m\u001b[43m)\u001b[49m\n\u001b[0;32m    667\u001b[0m cutoff \u001b[38;5;241m=\u001b[39m _Cutoffs\u001b[38;5;241m.\u001b[39mvalidate(\n\u001b[0;32m    668\u001b[0m     n_top_genes\u001b[38;5;241m=\u001b[39mn_top_genes,\n\u001b[0;32m    669\u001b[0m     min_disp\u001b[38;5;241m=\u001b[39mmin_disp,\n\u001b[1;32m   (...)\u001b[0m\n\u001b[0;32m    672\u001b[0m     max_mean\u001b[38;5;241m=\u001b[39mmax_mean,\n\u001b[0;32m    673\u001b[0m )\n\u001b[0;32m    674\u001b[0m \u001b[38;5;28;01mdel\u001b[39;00m min_disp, max_disp, min_mean, max_mean, n_top_genes\n",
      "File \u001b[1;32mc:\\Users\\agarc\\anaconda3\\envs\\bioenv\\Lib\\site-packages\\scanpy\\preprocessing\\_highly_variable_genes.py:120\u001b[0m, in \u001b[0;36m_highly_variable_genes_seurat_v3\u001b[1;34m(adata, flavor, layer, n_top_genes, batch_key, check_values, span, subset, inplace)\u001b[0m\n\u001b[0;32m    112\u001b[0m     squared_batch_counts_sum, batch_counts_sum \u001b[38;5;241m=\u001b[39m _sum_and_sum_squares_clipped(\n\u001b[0;32m    113\u001b[0m         batch_counts\u001b[38;5;241m.\u001b[39mindices,\n\u001b[0;32m    114\u001b[0m         batch_counts\u001b[38;5;241m.\u001b[39mdata,\n\u001b[1;32m   (...)\u001b[0m\n\u001b[0;32m    117\u001b[0m         nnz\u001b[38;5;241m=\u001b[39mbatch_counts\u001b[38;5;241m.\u001b[39mnnz,\n\u001b[0;32m    118\u001b[0m     )\n\u001b[0;32m    119\u001b[0m \u001b[38;5;28;01melse\u001b[39;00m:\n\u001b[1;32m--> 120\u001b[0m     batch_counts \u001b[38;5;241m=\u001b[39m \u001b[43mdata_batch\u001b[49m\u001b[38;5;241;43m.\u001b[39;49m\u001b[43mastype\u001b[49m\u001b[43m(\u001b[49m\u001b[43mnp\u001b[49m\u001b[38;5;241;43m.\u001b[39;49m\u001b[43mfloat64\u001b[49m\u001b[43m)\u001b[49m\u001b[38;5;241m.\u001b[39mcopy()\n\u001b[0;32m    121\u001b[0m     clip_val_broad \u001b[38;5;241m=\u001b[39m np\u001b[38;5;241m.\u001b[39mbroadcast_to(clip_val, batch_counts\u001b[38;5;241m.\u001b[39mshape)\n\u001b[0;32m    122\u001b[0m     np\u001b[38;5;241m.\u001b[39mputmask(\n\u001b[0;32m    123\u001b[0m         batch_counts,\n\u001b[0;32m    124\u001b[0m         batch_counts \u001b[38;5;241m>\u001b[39m clip_val_broad,\n\u001b[0;32m    125\u001b[0m         clip_val_broad,\n\u001b[0;32m    126\u001b[0m     )\n",
      "\u001b[1;31mMemoryError\u001b[0m: Unable to allocate 1.07 GiB for an array with shape (7582, 18913) and data type float64"
     ]
    }
   ],
   "source": [
    "import os\n",
    "\n",
    "out = []\n",
    "for file in os.listdir('GSE171524_RAW/'):\n",
    "    file_path = os.path.join('GSE171524_RAW', file)  # Construct the full file path\n",
    "    out.append(pp(file_path))"
   ]
  },
  {
   "cell_type": "code",
   "execution_count": 23,
   "metadata": {},
   "outputs": [
    {
     "name": "stderr",
     "output_type": "stream",
     "text": [
      "GPU available: False, used: False\n",
      "TPU available: False, using: 0 TPU cores\n",
      "IPU available: False, using: 0 IPUs\n",
      "HPU available: False, using: 0 HPUs\n",
      "c:\\Users\\agarc\\anaconda3\\envs\\bioenv\\Lib\\site-packages\\lightning\\pytorch\\trainer\\connectors\\data_connector.py:441: The 'train_dataloader' does not have many workers which may be a bottleneck. Consider increasing the value of the `num_workers` argument` to `num_workers=3` in the `DataLoader` to improve performance.\n"
     ]
    },
    {
     "name": "stdout",
     "output_type": "stream",
     "text": [
      "Epoch 400/400: 100%|██████████| 400/400 [15:15<00:00,  2.27s/it, v_num=1, train_loss_step=350, train_loss_epoch=323]"
     ]
    },
    {
     "name": "stderr",
     "output_type": "stream",
     "text": [
      "`Trainer.fit` stopped: `max_epochs=400` reached.\n"
     ]
    },
    {
     "name": "stdout",
     "output_type": "stream",
     "text": [
      "Epoch 400/400: 100%|██████████| 400/400 [15:15<00:00,  2.29s/it, v_num=1, train_loss_step=350, train_loss_epoch=323]\n",
      "\u001b[34mINFO    \u001b[0m Creating doublets, preparing SOLO model.                                                                  \n"
     ]
    },
    {
     "name": "stderr",
     "output_type": "stream",
     "text": [
      "GPU available: False, used: False\n",
      "TPU available: False, using: 0 TPU cores\n",
      "IPU available: False, using: 0 IPUs\n",
      "HPU available: False, using: 0 HPUs\n",
      "c:\\Users\\agarc\\anaconda3\\envs\\bioenv\\Lib\\site-packages\\lightning\\pytorch\\trainer\\connectors\\data_connector.py:441: The 'train_dataloader' does not have many workers which may be a bottleneck. Consider increasing the value of the `num_workers` argument` to `num_workers=3` in the `DataLoader` to improve performance.\n",
      "c:\\Users\\agarc\\anaconda3\\envs\\bioenv\\Lib\\site-packages\\lightning\\pytorch\\trainer\\connectors\\data_connector.py:441: The 'val_dataloader' does not have many workers which may be a bottleneck. Consider increasing the value of the `num_workers` argument` to `num_workers=3` in the `DataLoader` to improve performance.\n"
     ]
    },
    {
     "name": "stdout",
     "output_type": "stream",
     "text": [
      "Epoch 208/400:  52%|█████▏    | 208/400 [01:17<01:11,  2.70it/s, v_num=1, train_loss_step=0.192, train_loss_epoch=0.286]\n",
      "Monitored metric validation_loss did not improve in the last 30 records. Best score: 0.283. Signaling Trainer to stop.\n"
     ]
    },
    {
     "name": "stderr",
     "output_type": "stream",
     "text": [
      "c:\\Users\\agarc\\anaconda3\\envs\\bioenv\\Lib\\site-packages\\torch\\utils\\_contextlib.py:116: UserWarning: Prior to scvi-tools 1.1.3, `SOLO.predict` with `soft=True` (the default option) returned logits instead of probabilities. This behavior has since been corrected to return probabiltiies. The previous behavior can be replicated by passing in `return_logits=True`.\n",
      "  return func(*args, **kwargs)\n",
      "c:\\Users\\agarc\\anaconda3\\envs\\bioenv\\Lib\\site-packages\\torch\\utils\\_contextlib.py:116: UserWarning: Prior to scvi-tools 1.1.3, `SOLO.predict` with `soft=True` (the default option) returned logits instead of probabilities. This behavior has since been corrected to return probabiltiies. The previous behavior can be replicated by passing in `return_logits=True`.\n",
      "  return func(*args, **kwargs)\n",
      "c:\\Users\\agarc\\anaconda3\\envs\\bioenv\\Lib\\site-packages\\scanpy\\preprocessing\\_simple.py:166: ImplicitModificationWarning: Trying to modify attribute `.obs` of view, initializing view as actual.\n",
      "  adata.obs[\"n_genes\"] = number\n",
      "GPU available: False, used: False\n",
      "TPU available: False, using: 0 TPU cores\n",
      "IPU available: False, using: 0 IPUs\n",
      "HPU available: False, using: 0 HPUs\n",
      "c:\\Users\\agarc\\anaconda3\\envs\\bioenv\\Lib\\site-packages\\lightning\\pytorch\\trainer\\connectors\\data_connector.py:441: The 'train_dataloader' does not have many workers which may be a bottleneck. Consider increasing the value of the `num_workers` argument` to `num_workers=3` in the `DataLoader` to improve performance.\n"
     ]
    },
    {
     "name": "stdout",
     "output_type": "stream",
     "text": [
      "Epoch 400/400: 100%|██████████| 400/400 [11:22<00:00,  1.69s/it, v_num=1, train_loss_step=358, train_loss_epoch=399]"
     ]
    },
    {
     "name": "stderr",
     "output_type": "stream",
     "text": [
      "`Trainer.fit` stopped: `max_epochs=400` reached.\n"
     ]
    },
    {
     "name": "stdout",
     "output_type": "stream",
     "text": [
      "Epoch 400/400: 100%|██████████| 400/400 [11:22<00:00,  1.71s/it, v_num=1, train_loss_step=358, train_loss_epoch=399]\n",
      "\u001b[34mINFO    \u001b[0m Creating doublets, preparing SOLO model.                                                                  \n"
     ]
    },
    {
     "name": "stderr",
     "output_type": "stream",
     "text": [
      "GPU available: False, used: False\n",
      "TPU available: False, using: 0 TPU cores\n",
      "IPU available: False, using: 0 IPUs\n",
      "HPU available: False, using: 0 HPUs\n",
      "c:\\Users\\agarc\\anaconda3\\envs\\bioenv\\Lib\\site-packages\\lightning\\pytorch\\trainer\\connectors\\data_connector.py:441: The 'train_dataloader' does not have many workers which may be a bottleneck. Consider increasing the value of the `num_workers` argument` to `num_workers=3` in the `DataLoader` to improve performance.\n",
      "c:\\Users\\agarc\\anaconda3\\envs\\bioenv\\Lib\\site-packages\\lightning\\pytorch\\trainer\\connectors\\data_connector.py:441: The 'val_dataloader' does not have many workers which may be a bottleneck. Consider increasing the value of the `num_workers` argument` to `num_workers=3` in the `DataLoader` to improve performance.\n"
     ]
    },
    {
     "name": "stdout",
     "output_type": "stream",
     "text": [
      "Epoch 242/400:  60%|██████    | 242/400 [01:07<00:44,  3.58it/s, v_num=1, train_loss_step=0.156, train_loss_epoch=0.291]\n",
      "Monitored metric validation_loss did not improve in the last 30 records. Best score: 0.284. Signaling Trainer to stop.\n"
     ]
    },
    {
     "name": "stderr",
     "output_type": "stream",
     "text": [
      "c:\\Users\\agarc\\anaconda3\\envs\\bioenv\\Lib\\site-packages\\torch\\utils\\_contextlib.py:116: UserWarning: Prior to scvi-tools 1.1.3, `SOLO.predict` with `soft=True` (the default option) returned logits instead of probabilities. This behavior has since been corrected to return probabiltiies. The previous behavior can be replicated by passing in `return_logits=True`.\n",
      "  return func(*args, **kwargs)\n",
      "c:\\Users\\agarc\\anaconda3\\envs\\bioenv\\Lib\\site-packages\\torch\\utils\\_contextlib.py:116: UserWarning: Prior to scvi-tools 1.1.3, `SOLO.predict` with `soft=True` (the default option) returned logits instead of probabilities. This behavior has since been corrected to return probabiltiies. The previous behavior can be replicated by passing in `return_logits=True`.\n",
      "  return func(*args, **kwargs)\n",
      "c:\\Users\\agarc\\anaconda3\\envs\\bioenv\\Lib\\site-packages\\scanpy\\preprocessing\\_simple.py:166: ImplicitModificationWarning: Trying to modify attribute `.obs` of view, initializing view as actual.\n",
      "  adata.obs[\"n_genes\"] = number\n",
      "GPU available: False, used: False\n",
      "TPU available: False, using: 0 TPU cores\n",
      "IPU available: False, using: 0 IPUs\n",
      "HPU available: False, using: 0 HPUs\n",
      "c:\\Users\\agarc\\anaconda3\\envs\\bioenv\\Lib\\site-packages\\lightning\\pytorch\\trainer\\connectors\\data_connector.py:441: The 'train_dataloader' does not have many workers which may be a bottleneck. Consider increasing the value of the `num_workers` argument` to `num_workers=3` in the `DataLoader` to improve performance.\n"
     ]
    },
    {
     "name": "stdout",
     "output_type": "stream",
     "text": [
      "Epoch 400/400: 100%|██████████| 400/400 [18:02<00:00,  2.67s/it, v_num=1, train_loss_step=361, train_loss_epoch=331]"
     ]
    },
    {
     "name": "stderr",
     "output_type": "stream",
     "text": [
      "`Trainer.fit` stopped: `max_epochs=400` reached.\n"
     ]
    },
    {
     "name": "stdout",
     "output_type": "stream",
     "text": [
      "Epoch 400/400: 100%|██████████| 400/400 [18:02<00:00,  2.71s/it, v_num=1, train_loss_step=361, train_loss_epoch=331]\n",
      "\u001b[34mINFO    \u001b[0m Creating doublets, preparing SOLO model.                                                                  \n"
     ]
    },
    {
     "name": "stderr",
     "output_type": "stream",
     "text": [
      "GPU available: False, used: False\n",
      "TPU available: False, using: 0 TPU cores\n",
      "IPU available: False, using: 0 IPUs\n",
      "HPU available: False, using: 0 HPUs\n",
      "c:\\Users\\agarc\\anaconda3\\envs\\bioenv\\Lib\\site-packages\\lightning\\pytorch\\trainer\\connectors\\data_connector.py:441: The 'train_dataloader' does not have many workers which may be a bottleneck. Consider increasing the value of the `num_workers` argument` to `num_workers=3` in the `DataLoader` to improve performance.\n",
      "c:\\Users\\agarc\\anaconda3\\envs\\bioenv\\Lib\\site-packages\\lightning\\pytorch\\trainer\\connectors\\data_connector.py:441: The 'val_dataloader' does not have many workers which may be a bottleneck. Consider increasing the value of the `num_workers` argument` to `num_workers=3` in the `DataLoader` to improve performance.\n"
     ]
    },
    {
     "name": "stdout",
     "output_type": "stream",
     "text": [
      "Epoch 156/400:  39%|███▉      | 156/400 [01:07<01:45,  2.31it/s, v_num=1, train_loss_step=0.303, train_loss_epoch=0.311]\n",
      "Monitored metric validation_loss did not improve in the last 30 records. Best score: 0.321. Signaling Trainer to stop.\n"
     ]
    },
    {
     "name": "stderr",
     "output_type": "stream",
     "text": [
      "c:\\Users\\agarc\\anaconda3\\envs\\bioenv\\Lib\\site-packages\\torch\\utils\\_contextlib.py:116: UserWarning: Prior to scvi-tools 1.1.3, `SOLO.predict` with `soft=True` (the default option) returned logits instead of probabilities. This behavior has since been corrected to return probabiltiies. The previous behavior can be replicated by passing in `return_logits=True`.\n",
      "  return func(*args, **kwargs)\n",
      "c:\\Users\\agarc\\anaconda3\\envs\\bioenv\\Lib\\site-packages\\torch\\utils\\_contextlib.py:116: UserWarning: Prior to scvi-tools 1.1.3, `SOLO.predict` with `soft=True` (the default option) returned logits instead of probabilities. This behavior has since been corrected to return probabiltiies. The previous behavior can be replicated by passing in `return_logits=True`.\n",
      "  return func(*args, **kwargs)\n",
      "c:\\Users\\agarc\\anaconda3\\envs\\bioenv\\Lib\\site-packages\\scanpy\\preprocessing\\_simple.py:166: ImplicitModificationWarning: Trying to modify attribute `.obs` of view, initializing view as actual.\n",
      "  adata.obs[\"n_genes\"] = number\n",
      "GPU available: False, used: False\n",
      "TPU available: False, using: 0 TPU cores\n",
      "IPU available: False, using: 0 IPUs\n",
      "HPU available: False, using: 0 HPUs\n",
      "c:\\Users\\agarc\\anaconda3\\envs\\bioenv\\Lib\\site-packages\\lightning\\pytorch\\trainer\\connectors\\data_connector.py:441: The 'train_dataloader' does not have many workers which may be a bottleneck. Consider increasing the value of the `num_workers` argument` to `num_workers=3` in the `DataLoader` to improve performance.\n"
     ]
    },
    {
     "name": "stdout",
     "output_type": "stream",
     "text": [
      "Epoch 400/400: 100%|██████████| 400/400 [11:12<00:00,  1.68s/it, v_num=1, train_loss_step=330, train_loss_epoch=307]"
     ]
    },
    {
     "name": "stderr",
     "output_type": "stream",
     "text": [
      "`Trainer.fit` stopped: `max_epochs=400` reached.\n"
     ]
    },
    {
     "name": "stdout",
     "output_type": "stream",
     "text": [
      "Epoch 400/400: 100%|██████████| 400/400 [11:12<00:00,  1.68s/it, v_num=1, train_loss_step=330, train_loss_epoch=307]\n",
      "\u001b[34mINFO    \u001b[0m Creating doublets, preparing SOLO model.                                                                  \n"
     ]
    },
    {
     "name": "stderr",
     "output_type": "stream",
     "text": [
      "GPU available: False, used: False\n",
      "TPU available: False, using: 0 TPU cores\n",
      "IPU available: False, using: 0 IPUs\n",
      "HPU available: False, using: 0 HPUs\n",
      "c:\\Users\\agarc\\anaconda3\\envs\\bioenv\\Lib\\site-packages\\lightning\\pytorch\\trainer\\connectors\\data_connector.py:441: The 'train_dataloader' does not have many workers which may be a bottleneck. Consider increasing the value of the `num_workers` argument` to `num_workers=3` in the `DataLoader` to improve performance.\n",
      "c:\\Users\\agarc\\anaconda3\\envs\\bioenv\\Lib\\site-packages\\lightning\\pytorch\\trainer\\connectors\\data_connector.py:441: The 'val_dataloader' does not have many workers which may be a bottleneck. Consider increasing the value of the `num_workers` argument` to `num_workers=3` in the `DataLoader` to improve performance.\n"
     ]
    },
    {
     "name": "stdout",
     "output_type": "stream",
     "text": [
      "Epoch 236/400:  59%|█████▉    | 236/400 [01:05<00:45,  3.62it/s, v_num=1, train_loss_step=0.133, train_loss_epoch=0.234]\n",
      "Monitored metric validation_loss did not improve in the last 30 records. Best score: 0.218. Signaling Trainer to stop.\n"
     ]
    },
    {
     "name": "stderr",
     "output_type": "stream",
     "text": [
      "c:\\Users\\agarc\\anaconda3\\envs\\bioenv\\Lib\\site-packages\\torch\\utils\\_contextlib.py:116: UserWarning: Prior to scvi-tools 1.1.3, `SOLO.predict` with `soft=True` (the default option) returned logits instead of probabilities. This behavior has since been corrected to return probabiltiies. The previous behavior can be replicated by passing in `return_logits=True`.\n",
      "  return func(*args, **kwargs)\n",
      "c:\\Users\\agarc\\anaconda3\\envs\\bioenv\\Lib\\site-packages\\torch\\utils\\_contextlib.py:116: UserWarning: Prior to scvi-tools 1.1.3, `SOLO.predict` with `soft=True` (the default option) returned logits instead of probabilities. This behavior has since been corrected to return probabiltiies. The previous behavior can be replicated by passing in `return_logits=True`.\n",
      "  return func(*args, **kwargs)\n",
      "c:\\Users\\agarc\\anaconda3\\envs\\bioenv\\Lib\\site-packages\\scanpy\\preprocessing\\_simple.py:166: ImplicitModificationWarning: Trying to modify attribute `.obs` of view, initializing view as actual.\n",
      "  adata.obs[\"n_genes\"] = number\n",
      "GPU available: False, used: False\n",
      "TPU available: False, using: 0 TPU cores\n",
      "IPU available: False, using: 0 IPUs\n",
      "HPU available: False, using: 0 HPUs\n",
      "c:\\Users\\agarc\\anaconda3\\envs\\bioenv\\Lib\\site-packages\\lightning\\pytorch\\trainer\\connectors\\data_connector.py:441: The 'train_dataloader' does not have many workers which may be a bottleneck. Consider increasing the value of the `num_workers` argument` to `num_workers=3` in the `DataLoader` to improve performance.\n"
     ]
    },
    {
     "name": "stdout",
     "output_type": "stream",
     "text": [
      "Epoch 400/400: 100%|██████████| 400/400 [14:14<00:00,  2.10s/it, v_num=1, train_loss_step=337, train_loss_epoch=306]"
     ]
    },
    {
     "name": "stderr",
     "output_type": "stream",
     "text": [
      "`Trainer.fit` stopped: `max_epochs=400` reached.\n"
     ]
    },
    {
     "name": "stdout",
     "output_type": "stream",
     "text": [
      "Epoch 400/400: 100%|██████████| 400/400 [14:14<00:00,  2.14s/it, v_num=1, train_loss_step=337, train_loss_epoch=306]\n",
      "\u001b[34mINFO    \u001b[0m Creating doublets, preparing SOLO model.                                                                  \n"
     ]
    },
    {
     "name": "stderr",
     "output_type": "stream",
     "text": [
      "GPU available: False, used: False\n",
      "TPU available: False, using: 0 TPU cores\n",
      "IPU available: False, using: 0 IPUs\n",
      "HPU available: False, using: 0 HPUs\n",
      "c:\\Users\\agarc\\anaconda3\\envs\\bioenv\\Lib\\site-packages\\lightning\\pytorch\\trainer\\connectors\\data_connector.py:441: The 'train_dataloader' does not have many workers which may be a bottleneck. Consider increasing the value of the `num_workers` argument` to `num_workers=3` in the `DataLoader` to improve performance.\n",
      "c:\\Users\\agarc\\anaconda3\\envs\\bioenv\\Lib\\site-packages\\lightning\\pytorch\\trainer\\connectors\\data_connector.py:441: The 'val_dataloader' does not have many workers which may be a bottleneck. Consider increasing the value of the `num_workers` argument` to `num_workers=3` in the `DataLoader` to improve performance.\n"
     ]
    },
    {
     "name": "stdout",
     "output_type": "stream",
     "text": [
      "Epoch 395/400:  99%|█████████▉| 395/400 [02:15<00:01,  2.91it/s, v_num=1, train_loss_step=0.189, train_loss_epoch=0.232]\n",
      "Monitored metric validation_loss did not improve in the last 30 records. Best score: 0.217. Signaling Trainer to stop.\n"
     ]
    },
    {
     "name": "stderr",
     "output_type": "stream",
     "text": [
      "c:\\Users\\agarc\\anaconda3\\envs\\bioenv\\Lib\\site-packages\\torch\\utils\\_contextlib.py:116: UserWarning: Prior to scvi-tools 1.1.3, `SOLO.predict` with `soft=True` (the default option) returned logits instead of probabilities. This behavior has since been corrected to return probabiltiies. The previous behavior can be replicated by passing in `return_logits=True`.\n",
      "  return func(*args, **kwargs)\n",
      "c:\\Users\\agarc\\anaconda3\\envs\\bioenv\\Lib\\site-packages\\torch\\utils\\_contextlib.py:116: UserWarning: Prior to scvi-tools 1.1.3, `SOLO.predict` with `soft=True` (the default option) returned logits instead of probabilities. This behavior has since been corrected to return probabiltiies. The previous behavior can be replicated by passing in `return_logits=True`.\n",
      "  return func(*args, **kwargs)\n",
      "c:\\Users\\agarc\\anaconda3\\envs\\bioenv\\Lib\\site-packages\\scanpy\\preprocessing\\_simple.py:166: ImplicitModificationWarning: Trying to modify attribute `.obs` of view, initializing view as actual.\n",
      "  adata.obs[\"n_genes\"] = number\n"
     ]
    },
    {
     "ename": "MemoryError",
     "evalue": "Unable to allocate 749. MiB for an array with shape (5685, 34546) and data type float32",
     "output_type": "error",
     "traceback": [
      "\u001b[1;31m---------------------------------------------------------------------------\u001b[0m",
      "\u001b[1;31mMemoryError\u001b[0m                               Traceback (most recent call last)",
      "Cell \u001b[1;32mIn[23], line 6\u001b[0m\n\u001b[0;32m      4\u001b[0m \u001b[38;5;28;01mfor\u001b[39;00m file \u001b[38;5;129;01min\u001b[39;00m os\u001b[38;5;241m.\u001b[39mlistdir(\u001b[38;5;124m'\u001b[39m\u001b[38;5;124mGSE171524_RAW_1of3/\u001b[39m\u001b[38;5;124m'\u001b[39m):\n\u001b[0;32m      5\u001b[0m     file_path \u001b[38;5;241m=\u001b[39m os\u001b[38;5;241m.\u001b[39mpath\u001b[38;5;241m.\u001b[39mjoin(\u001b[38;5;124m'\u001b[39m\u001b[38;5;124mGSE171524_RAW_1of3\u001b[39m\u001b[38;5;124m'\u001b[39m, file)  \u001b[38;5;66;03m# Construct the full file path\u001b[39;00m\n\u001b[1;32m----> 6\u001b[0m     out1\u001b[38;5;241m.\u001b[39mappend(\u001b[43mpp\u001b[49m\u001b[43m(\u001b[49m\u001b[43mfile_path\u001b[49m\u001b[43m)\u001b[49m)\n",
      "Cell \u001b[1;32mIn[20], line 28\u001b[0m, in \u001b[0;36mpp\u001b[1;34m(csv_path)\u001b[0m\n\u001b[0;32m     24\u001b[0m adata\u001b[38;5;241m.\u001b[39mobs[\u001b[38;5;124m'\u001b[39m\u001b[38;5;124mdoublet\u001b[39m\u001b[38;5;124m'\u001b[39m] \u001b[38;5;241m=\u001b[39m adata\u001b[38;5;241m.\u001b[39mobs\u001b[38;5;241m.\u001b[39mindex\u001b[38;5;241m.\u001b[39misin(doublets\u001b[38;5;241m.\u001b[39mindex)\n\u001b[0;32m     25\u001b[0m adata \u001b[38;5;241m=\u001b[39m adata[\u001b[38;5;241m~\u001b[39madata\u001b[38;5;241m.\u001b[39mobs\u001b[38;5;241m.\u001b[39mdoublet]\n\u001b[1;32m---> 28\u001b[0m \u001b[43msc\u001b[49m\u001b[38;5;241;43m.\u001b[39;49m\u001b[43mpp\u001b[49m\u001b[38;5;241;43m.\u001b[39;49m\u001b[43mfilter_cells\u001b[49m\u001b[43m(\u001b[49m\u001b[43madata\u001b[49m\u001b[43m,\u001b[49m\u001b[43m \u001b[49m\u001b[43mmin_genes\u001b[49m\u001b[38;5;241;43m=\u001b[39;49m\u001b[38;5;241;43m200\u001b[39;49m\u001b[43m)\u001b[49m \u001b[38;5;66;03m#get rid of cells with fewer than 200 genes\u001b[39;00m\n\u001b[0;32m     29\u001b[0m \u001b[38;5;66;03m#sc.pp.filter_genes(adata, min_cells=3) #get rid of genes that are found in fewer than 3 cells\u001b[39;00m\n\u001b[0;32m     30\u001b[0m adata\u001b[38;5;241m.\u001b[39mvar[\u001b[38;5;124m'\u001b[39m\u001b[38;5;124mmt\u001b[39m\u001b[38;5;124m'\u001b[39m] \u001b[38;5;241m=\u001b[39m adata\u001b[38;5;241m.\u001b[39mvar_names\u001b[38;5;241m.\u001b[39mstr\u001b[38;5;241m.\u001b[39mstartswith(\u001b[38;5;124m'\u001b[39m\u001b[38;5;124mmt-\u001b[39m\u001b[38;5;124m'\u001b[39m)  \u001b[38;5;66;03m# annotate the group of mitochondrial genes as 'mt'\u001b[39;00m\n",
      "File \u001b[1;32mc:\\Users\\agarc\\anaconda3\\envs\\bioenv\\Lib\\site-packages\\legacy_api_wrap\\__init__.py:80\u001b[0m, in \u001b[0;36mlegacy_api.<locals>.wrapper.<locals>.fn_compatible\u001b[1;34m(*args_all, **kw)\u001b[0m\n\u001b[0;32m     77\u001b[0m \u001b[38;5;129m@wraps\u001b[39m(fn)\n\u001b[0;32m     78\u001b[0m \u001b[38;5;28;01mdef\u001b[39;00m \u001b[38;5;21mfn_compatible\u001b[39m(\u001b[38;5;241m*\u001b[39margs_all: P\u001b[38;5;241m.\u001b[39margs, \u001b[38;5;241m*\u001b[39m\u001b[38;5;241m*\u001b[39mkw: P\u001b[38;5;241m.\u001b[39mkwargs) \u001b[38;5;241m-\u001b[39m\u001b[38;5;241m>\u001b[39m R:\n\u001b[0;32m     79\u001b[0m     \u001b[38;5;28;01mif\u001b[39;00m \u001b[38;5;28mlen\u001b[39m(args_all) \u001b[38;5;241m<\u001b[39m\u001b[38;5;241m=\u001b[39m n_positional:\n\u001b[1;32m---> 80\u001b[0m         \u001b[38;5;28;01mreturn\u001b[39;00m \u001b[43mfn\u001b[49m\u001b[43m(\u001b[49m\u001b[38;5;241;43m*\u001b[39;49m\u001b[43margs_all\u001b[49m\u001b[43m,\u001b[49m\u001b[43m \u001b[49m\u001b[38;5;241;43m*\u001b[39;49m\u001b[38;5;241;43m*\u001b[39;49m\u001b[43mkw\u001b[49m\u001b[43m)\u001b[49m\n\u001b[0;32m     82\u001b[0m     args_pos: P\u001b[38;5;241m.\u001b[39margs\n\u001b[0;32m     83\u001b[0m     args_pos, args_rest \u001b[38;5;241m=\u001b[39m args_all[:n_positional], args_all[n_positional:]\n",
      "File \u001b[1;32mc:\\Users\\agarc\\anaconda3\\envs\\bioenv\\Lib\\site-packages\\scanpy\\preprocessing\\_simple.py:167\u001b[0m, in \u001b[0;36mfilter_cells\u001b[1;34m(data, min_counts, min_genes, max_counts, max_genes, inplace, copy)\u001b[0m\n\u001b[0;32m    165\u001b[0m     \u001b[38;5;28;01melse\u001b[39;00m:\n\u001b[0;32m    166\u001b[0m         adata\u001b[38;5;241m.\u001b[39mobs[\u001b[38;5;124m\"\u001b[39m\u001b[38;5;124mn_genes\u001b[39m\u001b[38;5;124m\"\u001b[39m] \u001b[38;5;241m=\u001b[39m number\n\u001b[1;32m--> 167\u001b[0m     \u001b[43madata\u001b[49m\u001b[38;5;241;43m.\u001b[39;49m\u001b[43m_inplace_subset_obs\u001b[49m\u001b[43m(\u001b[49m\u001b[43mcell_subset\u001b[49m\u001b[43m)\u001b[49m\n\u001b[0;32m    168\u001b[0m     \u001b[38;5;28;01mreturn\u001b[39;00m adata \u001b[38;5;28;01mif\u001b[39;00m copy \u001b[38;5;28;01melse\u001b[39;00m \u001b[38;5;28;01mNone\u001b[39;00m\n\u001b[0;32m    169\u001b[0m X \u001b[38;5;241m=\u001b[39m data  \u001b[38;5;66;03m# proceed with processing the data matrix\u001b[39;00m\n",
      "File \u001b[1;32mc:\\Users\\agarc\\anaconda3\\envs\\bioenv\\Lib\\site-packages\\anndata\\_core\\anndata.py:1230\u001b[0m, in \u001b[0;36mAnnData._inplace_subset_obs\u001b[1;34m(self, index)\u001b[0m\n\u001b[0;32m   1224\u001b[0m \u001b[38;5;28;01mdef\u001b[39;00m \u001b[38;5;21m_inplace_subset_obs\u001b[39m(\u001b[38;5;28mself\u001b[39m, index: Index1D):\n\u001b[0;32m   1225\u001b[0m \u001b[38;5;250m    \u001b[39m\u001b[38;5;124;03m\"\"\"\\\u001b[39;00m\n\u001b[0;32m   1226\u001b[0m \u001b[38;5;124;03m    Inplace subsetting along variables dimension.\u001b[39;00m\n\u001b[0;32m   1227\u001b[0m \n\u001b[0;32m   1228\u001b[0m \u001b[38;5;124;03m    Same as `adata = adata[index, :]`, but inplace.\u001b[39;00m\n\u001b[0;32m   1229\u001b[0m \u001b[38;5;124;03m    \"\"\"\u001b[39;00m\n\u001b[1;32m-> 1230\u001b[0m     adata_subset \u001b[38;5;241m=\u001b[39m \u001b[38;5;28;43mself\u001b[39;49m\u001b[43m[\u001b[49m\u001b[43mindex\u001b[49m\u001b[43m]\u001b[49m\u001b[38;5;241;43m.\u001b[39;49m\u001b[43mcopy\u001b[49m\u001b[43m(\u001b[49m\u001b[43m)\u001b[49m\n\u001b[0;32m   1232\u001b[0m     \u001b[38;5;28mself\u001b[39m\u001b[38;5;241m.\u001b[39m_init_as_actual(adata_subset)\n",
      "File \u001b[1;32mc:\\Users\\agarc\\anaconda3\\envs\\bioenv\\Lib\\site-packages\\anndata\\_core\\anndata.py:1504\u001b[0m, in \u001b[0;36mAnnData.copy\u001b[1;34m(self, filename)\u001b[0m\n\u001b[0;32m   1497\u001b[0m \u001b[38;5;28;01mif\u001b[39;00m \u001b[38;5;129;01mnot\u001b[39;00m \u001b[38;5;28mself\u001b[39m\u001b[38;5;241m.\u001b[39misbacked:\n\u001b[0;32m   1498\u001b[0m     \u001b[38;5;28;01mif\u001b[39;00m \u001b[38;5;28mself\u001b[39m\u001b[38;5;241m.\u001b[39mis_view \u001b[38;5;129;01mand\u001b[39;00m \u001b[38;5;28mself\u001b[39m\u001b[38;5;241m.\u001b[39m_has_X():\n\u001b[0;32m   1499\u001b[0m         \u001b[38;5;66;03m# TODO: How do I unambiguously check if this is a copy?\u001b[39;00m\n\u001b[0;32m   1500\u001b[0m         \u001b[38;5;66;03m# Subsetting this way means we don’t have to have a view type\u001b[39;00m\n\u001b[0;32m   1501\u001b[0m         \u001b[38;5;66;03m# defined for the matrix, which is needed for some of the\u001b[39;00m\n\u001b[0;32m   1502\u001b[0m         \u001b[38;5;66;03m# current distributed backend. Specifically Dask.\u001b[39;00m\n\u001b[0;32m   1503\u001b[0m         \u001b[38;5;28;01mreturn\u001b[39;00m \u001b[38;5;28mself\u001b[39m\u001b[38;5;241m.\u001b[39m_mutated_copy(\n\u001b[1;32m-> 1504\u001b[0m             X\u001b[38;5;241m=\u001b[39m\u001b[43m_subset\u001b[49m\u001b[43m(\u001b[49m\u001b[38;5;28;43mself\u001b[39;49m\u001b[38;5;241;43m.\u001b[39;49m\u001b[43m_adata_ref\u001b[49m\u001b[38;5;241;43m.\u001b[39;49m\u001b[43mX\u001b[49m\u001b[43m,\u001b[49m\u001b[43m \u001b[49m\u001b[43m(\u001b[49m\u001b[38;5;28;43mself\u001b[39;49m\u001b[38;5;241;43m.\u001b[39;49m\u001b[43m_oidx\u001b[49m\u001b[43m,\u001b[49m\u001b[43m \u001b[49m\u001b[38;5;28;43mself\u001b[39;49m\u001b[38;5;241;43m.\u001b[39;49m\u001b[43m_vidx\u001b[49m\u001b[43m)\u001b[49m\u001b[43m)\u001b[49m\u001b[38;5;241;43m.\u001b[39;49m\u001b[43mcopy\u001b[49m\u001b[43m(\u001b[49m\u001b[43m)\u001b[49m\n\u001b[0;32m   1505\u001b[0m         )\n\u001b[0;32m   1506\u001b[0m     \u001b[38;5;28;01melse\u001b[39;00m:\n\u001b[0;32m   1507\u001b[0m         \u001b[38;5;28;01mreturn\u001b[39;00m \u001b[38;5;28mself\u001b[39m\u001b[38;5;241m.\u001b[39m_mutated_copy()\n",
      "\u001b[1;31mMemoryError\u001b[0m: Unable to allocate 749. MiB for an array with shape (5685, 34546) and data type float32"
     ]
    }
   ],
   "source": [
    "import os\n",
    "\n",
    "out1 = []\n",
    "for file in os.listdir('GSE171524_RAW_1of3/'):\n",
    "    file_path = os.path.join('GSE171524_RAW_1of3', file)  # Construct the full file path\n",
    "    out1.append(pp(file_path))"
   ]
  },
  {
   "cell_type": "code",
   "execution_count": null,
   "metadata": {},
   "outputs": [
    {
     "name": "stderr",
     "output_type": "stream",
     "text": [
      "GPU available: False, used: False\n",
      "TPU available: False, using: 0 TPU cores\n",
      "IPU available: False, using: 0 IPUs\n",
      "HPU available: False, using: 0 HPUs\n",
      "c:\\Users\\agarc\\anaconda3\\envs\\bioenv\\Lib\\site-packages\\lightning\\pytorch\\trainer\\connectors\\data_connector.py:441: The 'train_dataloader' does not have many workers which may be a bottleneck. Consider increasing the value of the `num_workers` argument` to `num_workers=3` in the `DataLoader` to improve performance.\n"
     ]
    },
    {
     "name": "stdout",
     "output_type": "stream",
     "text": [
      "Epoch 400/400: 100%|██████████| 400/400 [07:35<00:00,  1.13s/it, v_num=1, train_loss_step=368, train_loss_epoch=344]"
     ]
    },
    {
     "name": "stderr",
     "output_type": "stream",
     "text": [
      "`Trainer.fit` stopped: `max_epochs=400` reached.\n"
     ]
    },
    {
     "name": "stdout",
     "output_type": "stream",
     "text": [
      "Epoch 400/400: 100%|██████████| 400/400 [07:35<00:00,  1.14s/it, v_num=1, train_loss_step=368, train_loss_epoch=344]\n",
      "\u001b[34mINFO    \u001b[0m Creating doublets, preparing SOLO model.                                                                  \n"
     ]
    },
    {
     "name": "stderr",
     "output_type": "stream",
     "text": [
      "GPU available: False, used: False\n",
      "TPU available: False, using: 0 TPU cores\n",
      "IPU available: False, using: 0 IPUs\n",
      "HPU available: False, using: 0 HPUs\n",
      "c:\\Users\\agarc\\anaconda3\\envs\\bioenv\\Lib\\site-packages\\lightning\\pytorch\\trainer\\connectors\\data_connector.py:441: The 'train_dataloader' does not have many workers which may be a bottleneck. Consider increasing the value of the `num_workers` argument` to `num_workers=3` in the `DataLoader` to improve performance.\n",
      "c:\\Users\\agarc\\anaconda3\\envs\\bioenv\\Lib\\site-packages\\lightning\\pytorch\\trainer\\connectors\\data_connector.py:441: The 'val_dataloader' does not have many workers which may be a bottleneck. Consider increasing the value of the `num_workers` argument` to `num_workers=3` in the `DataLoader` to improve performance.\n"
     ]
    },
    {
     "name": "stdout",
     "output_type": "stream",
     "text": [
      "Epoch 135/400:  34%|███▍      | 135/400 [00:24<00:48,  5.45it/s, v_num=1, train_loss_step=0.503, train_loss_epoch=0.331]\n",
      "Monitored metric validation_loss did not improve in the last 30 records. Best score: 0.358. Signaling Trainer to stop.\n"
     ]
    },
    {
     "name": "stderr",
     "output_type": "stream",
     "text": [
      "c:\\Users\\agarc\\anaconda3\\envs\\bioenv\\Lib\\site-packages\\torch\\utils\\_contextlib.py:116: UserWarning: Prior to scvi-tools 1.1.3, `SOLO.predict` with `soft=True` (the default option) returned logits instead of probabilities. This behavior has since been corrected to return probabiltiies. The previous behavior can be replicated by passing in `return_logits=True`.\n",
      "  return func(*args, **kwargs)\n",
      "c:\\Users\\agarc\\anaconda3\\envs\\bioenv\\Lib\\site-packages\\torch\\utils\\_contextlib.py:116: UserWarning: Prior to scvi-tools 1.1.3, `SOLO.predict` with `soft=True` (the default option) returned logits instead of probabilities. This behavior has since been corrected to return probabiltiies. The previous behavior can be replicated by passing in `return_logits=True`.\n",
      "  return func(*args, **kwargs)\n",
      "c:\\Users\\agarc\\anaconda3\\envs\\bioenv\\Lib\\site-packages\\scanpy\\preprocessing\\_simple.py:166: ImplicitModificationWarning: Trying to modify attribute `.obs` of view, initializing view as actual.\n",
      "  adata.obs[\"n_genes\"] = number\n"
     ]
    },
    {
     "ename": "MemoryError",
     "evalue": "Unable to allocate 1.07 GiB for an array with shape (7582, 18913) and data type float64",
     "output_type": "error",
     "traceback": [
      "\u001b[1;31m---------------------------------------------------------------------------\u001b[0m",
      "\u001b[1;31mMemoryError\u001b[0m                               Traceback (most recent call last)",
      "Cell \u001b[1;32mIn[17], line 5\u001b[0m\n\u001b[0;32m      3\u001b[0m \u001b[38;5;28;01mfor\u001b[39;00m file \u001b[38;5;129;01min\u001b[39;00m os\u001b[38;5;241m.\u001b[39mlistdir(\u001b[38;5;124m'\u001b[39m\u001b[38;5;124mGSE171524_RAW_2of3/\u001b[39m\u001b[38;5;124m'\u001b[39m):\n\u001b[0;32m      4\u001b[0m     file_path \u001b[38;5;241m=\u001b[39m os\u001b[38;5;241m.\u001b[39mpath\u001b[38;5;241m.\u001b[39mjoin(\u001b[38;5;124m'\u001b[39m\u001b[38;5;124mGSE171524_RAW_2of3\u001b[39m\u001b[38;5;124m'\u001b[39m, file)  \u001b[38;5;66;03m# Construct the full file path\u001b[39;00m\n\u001b[1;32m----> 5\u001b[0m     out\u001b[38;5;241m.\u001b[39mappend(\u001b[43mpp\u001b[49m\u001b[43m(\u001b[49m\u001b[43mfile_path\u001b[49m\u001b[43m)\u001b[49m)\n",
      "Cell \u001b[1;32mIn[15], line 9\u001b[0m, in \u001b[0;36mpp\u001b[1;34m(csv_path)\u001b[0m\n\u001b[0;32m      7\u001b[0m adata \u001b[38;5;241m=\u001b[39m sc\u001b[38;5;241m.\u001b[39mread_csv(csv_path)\u001b[38;5;241m.\u001b[39mT\n\u001b[0;32m      8\u001b[0m sc\u001b[38;5;241m.\u001b[39mpp\u001b[38;5;241m.\u001b[39mfilter_genes(adata, min_cells \u001b[38;5;241m=\u001b[39m \u001b[38;5;241m10\u001b[39m)\n\u001b[1;32m----> 9\u001b[0m \u001b[43msc\u001b[49m\u001b[38;5;241;43m.\u001b[39;49m\u001b[43mpp\u001b[49m\u001b[38;5;241;43m.\u001b[39;49m\u001b[43mhighly_variable_genes\u001b[49m\u001b[43m(\u001b[49m\u001b[43madata\u001b[49m\u001b[43m,\u001b[49m\u001b[43m \u001b[49m\u001b[43mn_top_genes\u001b[49m\u001b[43m \u001b[49m\u001b[38;5;241;43m=\u001b[39;49m\u001b[43m \u001b[49m\u001b[38;5;241;43m2000\u001b[39;49m\u001b[43m,\u001b[49m\u001b[43m \u001b[49m\u001b[43msubset\u001b[49m\u001b[43m \u001b[49m\u001b[38;5;241;43m=\u001b[39;49m\u001b[43m \u001b[49m\u001b[38;5;28;43;01mTrue\u001b[39;49;00m\u001b[43m,\u001b[49m\u001b[43m \u001b[49m\u001b[43mflavor\u001b[49m\u001b[43m \u001b[49m\u001b[38;5;241;43m=\u001b[39;49m\u001b[43m \u001b[49m\u001b[38;5;124;43m'\u001b[39;49m\u001b[38;5;124;43mseurat_v3\u001b[39;49m\u001b[38;5;124;43m'\u001b[39;49m\u001b[43m)\u001b[49m\n\u001b[0;32m     10\u001b[0m scvi\u001b[38;5;241m.\u001b[39mmodel\u001b[38;5;241m.\u001b[39mSCVI\u001b[38;5;241m.\u001b[39msetup_anndata(adata)\n\u001b[0;32m     11\u001b[0m vae \u001b[38;5;241m=\u001b[39m scvi\u001b[38;5;241m.\u001b[39mmodel\u001b[38;5;241m.\u001b[39mSCVI(adata)\n",
      "File \u001b[1;32mc:\\Users\\agarc\\anaconda3\\envs\\bioenv\\Lib\\site-packages\\legacy_api_wrap\\__init__.py:80\u001b[0m, in \u001b[0;36mlegacy_api.<locals>.wrapper.<locals>.fn_compatible\u001b[1;34m(*args_all, **kw)\u001b[0m\n\u001b[0;32m     77\u001b[0m \u001b[38;5;129m@wraps\u001b[39m(fn)\n\u001b[0;32m     78\u001b[0m \u001b[38;5;28;01mdef\u001b[39;00m \u001b[38;5;21mfn_compatible\u001b[39m(\u001b[38;5;241m*\u001b[39margs_all: P\u001b[38;5;241m.\u001b[39margs, \u001b[38;5;241m*\u001b[39m\u001b[38;5;241m*\u001b[39mkw: P\u001b[38;5;241m.\u001b[39mkwargs) \u001b[38;5;241m-\u001b[39m\u001b[38;5;241m>\u001b[39m R:\n\u001b[0;32m     79\u001b[0m     \u001b[38;5;28;01mif\u001b[39;00m \u001b[38;5;28mlen\u001b[39m(args_all) \u001b[38;5;241m<\u001b[39m\u001b[38;5;241m=\u001b[39m n_positional:\n\u001b[1;32m---> 80\u001b[0m         \u001b[38;5;28;01mreturn\u001b[39;00m \u001b[43mfn\u001b[49m\u001b[43m(\u001b[49m\u001b[38;5;241;43m*\u001b[39;49m\u001b[43margs_all\u001b[49m\u001b[43m,\u001b[49m\u001b[43m \u001b[49m\u001b[38;5;241;43m*\u001b[39;49m\u001b[38;5;241;43m*\u001b[39;49m\u001b[43mkw\u001b[49m\u001b[43m)\u001b[49m\n\u001b[0;32m     82\u001b[0m     args_pos: P\u001b[38;5;241m.\u001b[39margs\n\u001b[0;32m     83\u001b[0m     args_pos, args_rest \u001b[38;5;241m=\u001b[39m args_all[:n_positional], args_all[n_positional:]\n",
      "File \u001b[1;32mc:\\Users\\agarc\\anaconda3\\envs\\bioenv\\Lib\\site-packages\\scanpy\\preprocessing\\_highly_variable_genes.py:655\u001b[0m, in \u001b[0;36mhighly_variable_genes\u001b[1;34m(adata, layer, n_top_genes, min_disp, max_disp, min_mean, max_mean, span, n_bins, flavor, subset, inplace, batch_key, check_values)\u001b[0m\n\u001b[0;32m    653\u001b[0m         sig \u001b[38;5;241m=\u001b[39m signature(_highly_variable_genes_seurat_v3)\n\u001b[0;32m    654\u001b[0m         n_top_genes \u001b[38;5;241m=\u001b[39m cast(\u001b[38;5;28mint\u001b[39m, sig\u001b[38;5;241m.\u001b[39mparameters[\u001b[38;5;124m\"\u001b[39m\u001b[38;5;124mn_top_genes\u001b[39m\u001b[38;5;124m\"\u001b[39m]\u001b[38;5;241m.\u001b[39mdefault)\n\u001b[1;32m--> 655\u001b[0m     \u001b[38;5;28;01mreturn\u001b[39;00m \u001b[43m_highly_variable_genes_seurat_v3\u001b[49m\u001b[43m(\u001b[49m\n\u001b[0;32m    656\u001b[0m \u001b[43m        \u001b[49m\u001b[43madata\u001b[49m\u001b[43m,\u001b[49m\n\u001b[0;32m    657\u001b[0m \u001b[43m        \u001b[49m\u001b[43mflavor\u001b[49m\u001b[38;5;241;43m=\u001b[39;49m\u001b[43mflavor\u001b[49m\u001b[43m,\u001b[49m\n\u001b[0;32m    658\u001b[0m \u001b[43m        \u001b[49m\u001b[43mlayer\u001b[49m\u001b[38;5;241;43m=\u001b[39;49m\u001b[43mlayer\u001b[49m\u001b[43m,\u001b[49m\n\u001b[0;32m    659\u001b[0m \u001b[43m        \u001b[49m\u001b[43mn_top_genes\u001b[49m\u001b[38;5;241;43m=\u001b[39;49m\u001b[43mn_top_genes\u001b[49m\u001b[43m,\u001b[49m\n\u001b[0;32m    660\u001b[0m \u001b[43m        \u001b[49m\u001b[43mbatch_key\u001b[49m\u001b[38;5;241;43m=\u001b[39;49m\u001b[43mbatch_key\u001b[49m\u001b[43m,\u001b[49m\n\u001b[0;32m    661\u001b[0m \u001b[43m        \u001b[49m\u001b[43mcheck_values\u001b[49m\u001b[38;5;241;43m=\u001b[39;49m\u001b[43mcheck_values\u001b[49m\u001b[43m,\u001b[49m\n\u001b[0;32m    662\u001b[0m \u001b[43m        \u001b[49m\u001b[43mspan\u001b[49m\u001b[38;5;241;43m=\u001b[39;49m\u001b[43mspan\u001b[49m\u001b[43m,\u001b[49m\n\u001b[0;32m    663\u001b[0m \u001b[43m        \u001b[49m\u001b[43msubset\u001b[49m\u001b[38;5;241;43m=\u001b[39;49m\u001b[43msubset\u001b[49m\u001b[43m,\u001b[49m\n\u001b[0;32m    664\u001b[0m \u001b[43m        \u001b[49m\u001b[43minplace\u001b[49m\u001b[38;5;241;43m=\u001b[39;49m\u001b[43minplace\u001b[49m\u001b[43m,\u001b[49m\n\u001b[0;32m    665\u001b[0m \u001b[43m    \u001b[49m\u001b[43m)\u001b[49m\n\u001b[0;32m    667\u001b[0m cutoff \u001b[38;5;241m=\u001b[39m _Cutoffs\u001b[38;5;241m.\u001b[39mvalidate(\n\u001b[0;32m    668\u001b[0m     n_top_genes\u001b[38;5;241m=\u001b[39mn_top_genes,\n\u001b[0;32m    669\u001b[0m     min_disp\u001b[38;5;241m=\u001b[39mmin_disp,\n\u001b[1;32m   (...)\u001b[0m\n\u001b[0;32m    672\u001b[0m     max_mean\u001b[38;5;241m=\u001b[39mmax_mean,\n\u001b[0;32m    673\u001b[0m )\n\u001b[0;32m    674\u001b[0m \u001b[38;5;28;01mdel\u001b[39;00m min_disp, max_disp, min_mean, max_mean, n_top_genes\n",
      "File \u001b[1;32mc:\\Users\\agarc\\anaconda3\\envs\\bioenv\\Lib\\site-packages\\scanpy\\preprocessing\\_highly_variable_genes.py:120\u001b[0m, in \u001b[0;36m_highly_variable_genes_seurat_v3\u001b[1;34m(adata, flavor, layer, n_top_genes, batch_key, check_values, span, subset, inplace)\u001b[0m\n\u001b[0;32m    112\u001b[0m     squared_batch_counts_sum, batch_counts_sum \u001b[38;5;241m=\u001b[39m _sum_and_sum_squares_clipped(\n\u001b[0;32m    113\u001b[0m         batch_counts\u001b[38;5;241m.\u001b[39mindices,\n\u001b[0;32m    114\u001b[0m         batch_counts\u001b[38;5;241m.\u001b[39mdata,\n\u001b[1;32m   (...)\u001b[0m\n\u001b[0;32m    117\u001b[0m         nnz\u001b[38;5;241m=\u001b[39mbatch_counts\u001b[38;5;241m.\u001b[39mnnz,\n\u001b[0;32m    118\u001b[0m     )\n\u001b[0;32m    119\u001b[0m \u001b[38;5;28;01melse\u001b[39;00m:\n\u001b[1;32m--> 120\u001b[0m     batch_counts \u001b[38;5;241m=\u001b[39m \u001b[43mdata_batch\u001b[49m\u001b[38;5;241;43m.\u001b[39;49m\u001b[43mastype\u001b[49m\u001b[43m(\u001b[49m\u001b[43mnp\u001b[49m\u001b[38;5;241;43m.\u001b[39;49m\u001b[43mfloat64\u001b[49m\u001b[43m)\u001b[49m\u001b[38;5;241;43m.\u001b[39;49m\u001b[43mcopy\u001b[49m\u001b[43m(\u001b[49m\u001b[43m)\u001b[49m\n\u001b[0;32m    121\u001b[0m     clip_val_broad \u001b[38;5;241m=\u001b[39m np\u001b[38;5;241m.\u001b[39mbroadcast_to(clip_val, batch_counts\u001b[38;5;241m.\u001b[39mshape)\n\u001b[0;32m    122\u001b[0m     np\u001b[38;5;241m.\u001b[39mputmask(\n\u001b[0;32m    123\u001b[0m         batch_counts,\n\u001b[0;32m    124\u001b[0m         batch_counts \u001b[38;5;241m>\u001b[39m clip_val_broad,\n\u001b[0;32m    125\u001b[0m         clip_val_broad,\n\u001b[0;32m    126\u001b[0m     )\n",
      "\u001b[1;31mMemoryError\u001b[0m: Unable to allocate 1.07 GiB for an array with shape (7582, 18913) and data type float64"
     ]
    }
   ],
   "source": [
    "import os\n",
    "\n",
    "out2 = []\n",
    "for file in os.listdir('GSE171524_RAW_2of3/'):\n",
    "    file_path = os.path.join('GSE171524_RAW_2of3', file)  # Construct the full file path\n",
    "    out2.append(pp(file_path))"
   ]
  },
  {
   "cell_type": "code",
   "execution_count": null,
   "metadata": {},
   "outputs": [],
   "source": [
    "import os\n",
    "\n",
    "out3 = []\n",
    "for file in os.listdir('GSE171524_RAW_3of3/'):\n",
    "    file_path = os.path.join('GSE171524_RAW_3of3', file)  # Construct the full file path\n",
    "    out3.append(pp(file_path))"
   ]
  }
 ],
 "metadata": {
  "kernelspec": {
   "display_name": "base",
   "language": "python",
   "name": "python3"
  },
  "language_info": {
   "codemirror_mode": {
    "name": "ipython",
    "version": 3
   },
   "file_extension": ".py",
   "mimetype": "text/x-python",
   "name": "python",
   "nbconvert_exporter": "python",
   "pygments_lexer": "ipython3",
   "version": "3.12.5"
  }
 },
 "nbformat": 4,
 "nbformat_minor": 2
}
